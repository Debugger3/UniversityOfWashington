{
 "metadata": {
  "kernelspec": {
   "display_name": "Python 2",
   "language": "python",
   "name": "python2"
  },
  "language_info": {
   "codemirror_mode": {
    "name": "ipython",
    "version": 2
   },
   "file_extension": ".py",
   "mimetype": "text/x-python",
   "name": "python",
   "nbconvert_exporter": "python",
   "pygments_lexer": "ipython2",
   "version": "2.7.11"
  },
  "name": "",
  "signature": "sha256:12cc342e8fe03092fa68b3a0336d39429c36b6e80c2a486d5a4fa1683ccbe863"
 },
 "nbformat": 3,
 "nbformat_minor": 0,
 "worksheets": [
  {
   "cells": [
    {
     "cell_type": "markdown",
     "metadata": {},
     "source": [
      "# Latent Dirichlet Allocation for Text Data\n",
      "\n",
      "In this assignment you will\n",
      "\n",
      "* apply standard preprocessing techniques on Wikipedia text data\n",
      "* use GraphLab Create to fit a Latent Dirichlet allocation (LDA) model\n",
      "* explore and interpret the results, including topic keywords and topic assignments for documents\n",
      "\n",
      "Recall that a major feature distinguishing the LDA model from our previously explored methods is the notion of *mixed membership*. Throughout the course so far, our models have assumed that each data point belongs to a single cluster. k-means determines membership simply by shortest distance to the cluster center, and Gaussian mixture models suppose that each data point is drawn from one of their component mixture distributions. In many cases, though, it is more realistic to think of data as genuinely belonging to more than one cluster or category - for example, if we have a model for text data that includes both \"Politics\" and \"World News\" categories, then an article about a recent meeting of the United Nations should have membership in both categories rather than being forced into just one.\n",
      "\n",
      "With this in mind, we will use GraphLab Create tools to fit an LDA model to a corpus of Wikipedia articles and examine the results to analyze the impact of a mixed membership approach. In particular, we want to identify the topics discovered by the model in terms of their most important words, and we want to use the model to predict the topic membership distribution for a given document. "
     ]
    },
    {
     "cell_type": "markdown",
     "metadata": {},
     "source": [
      "**Note to Amazon EC2 users**: To conserve memory, make sure to stop all the other notebooks before running this notebook."
     ]
    },
    {
     "cell_type": "markdown",
     "metadata": {},
     "source": [
      "## Text Data Preprocessing\n",
      "We'll start by importing our familiar Wikipedia dataset.\n",
      "\n",
      "The following code block will check if you have the correct version of GraphLab Create. Any version later than 1.8.5 will do. To upgrade, read [this page](https://turi.com/download/upgrade-graphlab-create.html)."
     ]
    },
    {
     "cell_type": "code",
     "collapsed": false,
     "input": [
      "import graphlab as gl\n",
      "import numpy as np\n",
      "import matplotlib.pyplot as plt \n",
      "\n",
      "%matplotlib inline\n",
      "\n",
      "'''Check GraphLab Create version'''\n",
      "from distutils.version import StrictVersion\n",
      "assert (StrictVersion(gl.version) >= StrictVersion('1.8.5')), 'GraphLab Create must be version 1.8.5 or later.'"
     ],
     "language": "python",
     "metadata": {},
     "outputs": [
      {
       "output_type": "stream",
       "stream": "stderr",
       "text": [
        "[WARNING] graphlab.product_key: Unable to write current GraphLab Create license to /home/aditi/.graphlab/config. Ensure that this user account                         has write permission to /home/aditi/.graphlab/config to save the license for offline use.\n"
       ]
      },
      {
       "output_type": "stream",
       "stream": "stderr",
       "text": [
        "WARNING:graphlab.product_key:Unable to write current GraphLab Create license to /home/aditi/.graphlab/config. Ensure that this user account                         has write permission to /home/aditi/.graphlab/config to save the license for offline use.\n"
       ]
      },
      {
       "output_type": "stream",
       "stream": "stderr",
       "text": [
        "[INFO] graphlab.cython.cy_server: GraphLab Create v2.1 started. Logging: /tmp/graphlab_server_1477647076.log\n"
       ]
      },
      {
       "output_type": "stream",
       "stream": "stderr",
       "text": [
        "INFO:graphlab.cython.cy_server:GraphLab Create v2.1 started. Logging: /tmp/graphlab_server_1477647076.log\n"
       ]
      },
      {
       "output_type": "stream",
       "stream": "stdout",
       "text": [
        "This non-commercial license of GraphLab Create for academic use is assigned to aditi.raghuvanshi@iiitb.org and will expire on April 14, 2017.\n"
       ]
      }
     ],
     "prompt_number": 1
    },
    {
     "cell_type": "code",
     "collapsed": false,
     "input": [
      "# import wiki data\n",
      "wiki = gl.SFrame('people_wiki.gl/')\n",
      "wiki"
     ],
     "language": "python",
     "metadata": {},
     "outputs": [
      {
       "html": [
        "<div style=\"max-height:1000px;max-width:1500px;overflow:auto;\"><table frame=\"box\" rules=\"cols\">\n",
        "    <tr>\n",
        "        <th style=\"padding-left: 1em; padding-right: 1em; text-align: center\">URI</th>\n",
        "        <th style=\"padding-left: 1em; padding-right: 1em; text-align: center\">name</th>\n",
        "        <th style=\"padding-left: 1em; padding-right: 1em; text-align: center\">text</th>\n",
        "    </tr>\n",
        "    <tr>\n",
        "        <td style=\"padding-left: 1em; padding-right: 1em; text-align: center; vertical-align: top\">&lt;http://dbpedia.org/resou<br>rce/Digby_Morrell&gt; ...</td>\n",
        "        <td style=\"padding-left: 1em; padding-right: 1em; text-align: center; vertical-align: top\">Digby Morrell</td>\n",
        "        <td style=\"padding-left: 1em; padding-right: 1em; text-align: center; vertical-align: top\">digby morrell born 10<br>october 1979 is a former ...</td>\n",
        "    </tr>\n",
        "    <tr>\n",
        "        <td style=\"padding-left: 1em; padding-right: 1em; text-align: center; vertical-align: top\">&lt;http://dbpedia.org/resou<br>rce/Alfred_J._Lewy&gt; ...</td>\n",
        "        <td style=\"padding-left: 1em; padding-right: 1em; text-align: center; vertical-align: top\">Alfred J. Lewy</td>\n",
        "        <td style=\"padding-left: 1em; padding-right: 1em; text-align: center; vertical-align: top\">alfred j lewy aka sandy<br>lewy graduated from ...</td>\n",
        "    </tr>\n",
        "    <tr>\n",
        "        <td style=\"padding-left: 1em; padding-right: 1em; text-align: center; vertical-align: top\">&lt;http://dbpedia.org/resou<br>rce/Harpdog_Brown&gt; ...</td>\n",
        "        <td style=\"padding-left: 1em; padding-right: 1em; text-align: center; vertical-align: top\">Harpdog Brown</td>\n",
        "        <td style=\"padding-left: 1em; padding-right: 1em; text-align: center; vertical-align: top\">harpdog brown is a singer<br>and harmonica player who ...</td>\n",
        "    </tr>\n",
        "    <tr>\n",
        "        <td style=\"padding-left: 1em; padding-right: 1em; text-align: center; vertical-align: top\">&lt;http://dbpedia.org/resou<br>rce/Franz_Rottensteiner&gt; ...</td>\n",
        "        <td style=\"padding-left: 1em; padding-right: 1em; text-align: center; vertical-align: top\">Franz Rottensteiner</td>\n",
        "        <td style=\"padding-left: 1em; padding-right: 1em; text-align: center; vertical-align: top\">franz rottensteiner born<br>in waidmannsfeld lower ...</td>\n",
        "    </tr>\n",
        "    <tr>\n",
        "        <td style=\"padding-left: 1em; padding-right: 1em; text-align: center; vertical-align: top\">&lt;http://dbpedia.org/resou<br>rce/G-Enka&gt; ...</td>\n",
        "        <td style=\"padding-left: 1em; padding-right: 1em; text-align: center; vertical-align: top\">G-Enka</td>\n",
        "        <td style=\"padding-left: 1em; padding-right: 1em; text-align: center; vertical-align: top\">henry krvits born 30<br>december 1974 in tallinn ...</td>\n",
        "    </tr>\n",
        "    <tr>\n",
        "        <td style=\"padding-left: 1em; padding-right: 1em; text-align: center; vertical-align: top\">&lt;http://dbpedia.org/resou<br>rce/Sam_Henderson&gt; ...</td>\n",
        "        <td style=\"padding-left: 1em; padding-right: 1em; text-align: center; vertical-align: top\">Sam Henderson</td>\n",
        "        <td style=\"padding-left: 1em; padding-right: 1em; text-align: center; vertical-align: top\">sam henderson born<br>october 18 1969 is an ...</td>\n",
        "    </tr>\n",
        "    <tr>\n",
        "        <td style=\"padding-left: 1em; padding-right: 1em; text-align: center; vertical-align: top\">&lt;http://dbpedia.org/resou<br>rce/Aaron_LaCrate&gt; ...</td>\n",
        "        <td style=\"padding-left: 1em; padding-right: 1em; text-align: center; vertical-align: top\">Aaron LaCrate</td>\n",
        "        <td style=\"padding-left: 1em; padding-right: 1em; text-align: center; vertical-align: top\">aaron lacrate is an<br>american music producer ...</td>\n",
        "    </tr>\n",
        "    <tr>\n",
        "        <td style=\"padding-left: 1em; padding-right: 1em; text-align: center; vertical-align: top\">&lt;http://dbpedia.org/resou<br>rce/Trevor_Ferguson&gt; ...</td>\n",
        "        <td style=\"padding-left: 1em; padding-right: 1em; text-align: center; vertical-align: top\">Trevor Ferguson</td>\n",
        "        <td style=\"padding-left: 1em; padding-right: 1em; text-align: center; vertical-align: top\">trevor ferguson aka john<br>farrow born 11 november ...</td>\n",
        "    </tr>\n",
        "    <tr>\n",
        "        <td style=\"padding-left: 1em; padding-right: 1em; text-align: center; vertical-align: top\">&lt;http://dbpedia.org/resou<br>rce/Grant_Nelson&gt; ...</td>\n",
        "        <td style=\"padding-left: 1em; padding-right: 1em; text-align: center; vertical-align: top\">Grant Nelson</td>\n",
        "        <td style=\"padding-left: 1em; padding-right: 1em; text-align: center; vertical-align: top\">grant nelson born 27<br>april 1971 in london  ...</td>\n",
        "    </tr>\n",
        "    <tr>\n",
        "        <td style=\"padding-left: 1em; padding-right: 1em; text-align: center; vertical-align: top\">&lt;http://dbpedia.org/resou<br>rce/Cathy_Caruth&gt; ...</td>\n",
        "        <td style=\"padding-left: 1em; padding-right: 1em; text-align: center; vertical-align: top\">Cathy Caruth</td>\n",
        "        <td style=\"padding-left: 1em; padding-right: 1em; text-align: center; vertical-align: top\">cathy caruth born 1955 is<br>frank h t rhodes ...</td>\n",
        "    </tr>\n",
        "</table>\n",
        "[59071 rows x 3 columns]<br/>Note: Only the head of the SFrame is printed.<br/>You can use print_rows(num_rows=m, num_columns=n) to print more rows and columns.\n",
        "</div>"
       ],
       "metadata": {},
       "output_type": "pyout",
       "prompt_number": 2,
       "text": [
        "Columns:\n",
        "\tURI\tstr\n",
        "\tname\tstr\n",
        "\ttext\tstr\n",
        "\n",
        "Rows: 59071\n",
        "\n",
        "Data:\n",
        "+-------------------------------+---------------------+\n",
        "|              URI              |         name        |\n",
        "+-------------------------------+---------------------+\n",
        "| <http://dbpedia.org/resour... |    Digby Morrell    |\n",
        "| <http://dbpedia.org/resour... |    Alfred J. Lewy   |\n",
        "| <http://dbpedia.org/resour... |    Harpdog Brown    |\n",
        "| <http://dbpedia.org/resour... | Franz Rottensteiner |\n",
        "| <http://dbpedia.org/resour... |        G-Enka       |\n",
        "| <http://dbpedia.org/resour... |    Sam Henderson    |\n",
        "| <http://dbpedia.org/resour... |    Aaron LaCrate    |\n",
        "| <http://dbpedia.org/resour... |   Trevor Ferguson   |\n",
        "| <http://dbpedia.org/resour... |     Grant Nelson    |\n",
        "| <http://dbpedia.org/resour... |     Cathy Caruth    |\n",
        "+-------------------------------+---------------------+\n",
        "+-------------------------------+\n",
        "|              text             |\n",
        "+-------------------------------+\n",
        "| digby morrell born 10 octo... |\n",
        "| alfred j lewy aka sandy le... |\n",
        "| harpdog brown is a singer ... |\n",
        "| franz rottensteiner born i... |\n",
        "| henry krvits born 30 decem... |\n",
        "| sam henderson born october... |\n",
        "| aaron lacrate is an americ... |\n",
        "| trevor ferguson aka john f... |\n",
        "| grant nelson born 27 april... |\n",
        "| cathy caruth born 1955 is ... |\n",
        "+-------------------------------+\n",
        "[59071 rows x 3 columns]\n",
        "Note: Only the head of the SFrame is printed.\n",
        "You can use print_rows(num_rows=m, num_columns=n) to print more rows and columns."
       ]
      }
     ],
     "prompt_number": 2
    },
    {
     "cell_type": "markdown",
     "metadata": {},
     "source": [
      "In the original data, each Wikipedia article is represented by a URI, a name, and a string containing the entire text of the article. Recall from the video lectures that LDA requires documents to be represented as a _bag of words_, which ignores word ordering in the document but retains information on how many times each word appears. As we have seen in our previous encounters with text data, words such as 'the', 'a', or 'and' are by far the most frequent, but they appear so commonly in the English language that they tell us almost nothing about how similar or dissimilar two documents might be. \n",
      "\n",
      "Therefore, before we train our LDA model, we will preprocess the Wikipedia data in two steps: first, we will create a bag of words representation for each article, and then we will remove the common words that don't help us to distinguish between documents. For both of these tasks we can use pre-implemented tools from GraphLab Create:"
     ]
    },
    {
     "cell_type": "code",
     "collapsed": true,
     "input": [
      "wiki_docs = gl.text_analytics.count_words(wiki['text'])\n",
      "wiki_docs = wiki_docs.dict_trim_by_keys(gl.text_analytics.stopwords(), exclude=True)"
     ],
     "language": "python",
     "metadata": {},
     "outputs": [],
     "prompt_number": 3
    },
    {
     "cell_type": "markdown",
     "metadata": {},
     "source": [
      "## Model fitting and interpretation\n",
      "In the video lectures we saw that Gibbs sampling can be used to perform inference in the LDA model. In this assignment we will use a GraphLab Create method to learn the topic model for our Wikipedia data, and our main emphasis will be on interpreting the results. We'll begin by creating the topic model using create() from GraphLab Create's topic_model module.\n",
      "\n",
      "Note: This may take several minutes to run."
     ]
    },
    {
     "cell_type": "code",
     "collapsed": false,
     "input": [
      "topic_model = gl.topic_model.create(wiki_docs, num_topics=10, num_iterations=200)"
     ],
     "language": "python",
     "metadata": {},
     "outputs": [
      {
       "output_type": "stream",
       "stream": "stdout",
       "text": [
        "Learning a topic model\n",
        "       Number of documents     59071\n",
        "           Vocabulary size    547462\n",
        "   Running collapsed Gibbs sampling\n",
        "+-----------+---------------+----------------+-----------------+\n",
        "| Iteration | Elapsed Time  | Tokens/Second  | Est. Perplexity |\n",
        "+-----------+---------------+----------------+-----------------+\n",
        "| 10        | 14.32s        | 6.12464e+06    | 0               |\n",
        "| 20        | 27.36s        | 6.04893e+06    | 0               |\n",
        "| 30        | 40.08s        | 6.25932e+06    | 0               |\n",
        "| 40        | 52.91s        | 6.41892e+06    | 0               |\n",
        "| 50        | 1m 6s         | 6.18652e+06    | 0               |\n",
        "| 60        | 1m 18s        | 6.2422e+06     | 0               |\n",
        "| 70        | 1m 31s        | 6.22133e+06    | 0               |\n",
        "| 80        | 1m 44s        | 6.38415e+06    | 0               |\n",
        "| 90        | 1m 56s        | 6.2601e+06     | 0               |\n",
        "| 100       | 2m 9s         | 6.26244e+06    | 0               |\n",
        "| 110       | 2m 22s        | 6.3354e+06     | 0               |\n",
        "| 120       | 2m 34s        | 6.27915e+06    | 0               |\n",
        "| 130       | 2m 47s        | 6.36117e+06    | 0               |\n",
        "| 140       | 3m 0s         | 6.31154e+06    | 0               |\n",
        "| 150       | 3m 12s        | 6.12765e+06    | 0               |\n",
        "| 160       | 3m 25s        | 6.27607e+06    | 0               |\n",
        "| 170       | 3m 37s        | 6.22528e+06    | 0               |\n",
        "| 180       | 3m 50s        | 6.25837e+06    | 0               |\n",
        "| 190       | 4m 3s         | 6.20113e+06    | 0               |\n",
        "| 200       | 4m 15s        | 6.1151e+06     | 0               |\n",
        "+-----------+---------------+----------------+-----------------+\n"
       ]
      }
     ],
     "prompt_number": 4
    },
    {
     "cell_type": "markdown",
     "metadata": {},
     "source": [
      "GraphLab provides a useful summary of the model we have fitted, including the hyperparameter settings for alpha, gamma (note that GraphLab Create calls this parameter beta), and K (the number of topics); the structure of the output data; and some useful methods for understanding the results."
     ]
    },
    {
     "cell_type": "code",
     "collapsed": false,
     "input": [
      "topic_model"
     ],
     "language": "python",
     "metadata": {},
     "outputs": [
      {
       "metadata": {},
       "output_type": "pyout",
       "prompt_number": 5,
       "text": [
        "Class                          : TopicModel\n",
        "\n",
        "Schema\n",
        "------\n",
        "Vocabulary Size                : 547462\n",
        "\n",
        "Settings\n",
        "--------\n",
        "Number of Topics               : 10\n",
        "alpha                          : 5.0\n",
        "beta                           : 0.1\n",
        "Iterations                     : 200\n",
        "Training time                  : 256.9832\n",
        "Verbose                        : False\n",
        "\n",
        "Accessible fields             : \n",
        "m['topics']                   : An SFrame containing the topics.\n",
        "m['vocabulary']               : An SArray containing the words in the vocabulary.\n",
        "Useful methods                : \n",
        "m.get_topics()                : Get the most probable words per topic.\n",
        "m.predict(new_docs)           : Make predictions for new documents."
       ]
      }
     ],
     "prompt_number": 5
    },
    {
     "cell_type": "markdown",
     "metadata": {},
     "source": [
      "It is certainly useful to have pre-implemented methods available for LDA, but as with our previous methods for clustering and retrieval, implementing and fitting the model gets us only halfway towards our objective. We now need to analyze the fitted model to understand what it has done with our data and whether it will be useful as a document classification system. This can be a challenging task in itself, particularly when the model that we use is complex. We will begin by outlining a sequence of objectives that will help us understand our model in detail. In particular, we will\n",
      "\n",
      "* get the top words in each topic and use these to identify topic themes\n",
      "* predict topic distributions for some example documents\n",
      "* compare the quality of LDA \"nearest neighbors\" to the NN output from the first assignment\n",
      "* understand the role of model hyperparameters alpha and gamma"
     ]
    },
    {
     "cell_type": "markdown",
     "metadata": {},
     "source": [
      "## Load a fitted topic model\n",
      "The method used to fit the LDA model is a _randomized algorithm_, which means that it involves steps that are random; in this case, the randomness comes from Gibbs sampling, as discussed in the LDA video lectures. Because of these random steps, the algorithm will be expected to yield slighty different output for different runs on the same data - note that this is different from previously seen algorithms such as k-means or EM, which will always produce the same results given the same input and initialization.\n",
      "\n",
      "It is important to understand that variation in the results is a fundamental feature of randomized methods. However, in the context of this assignment this variation makes it difficult to evaluate the correctness of your analysis, so we will load and analyze a pre-trained model. \n",
      "\n",
      "We recommend that you spend some time exploring your own fitted topic model and compare our analysis of the pre-trained model to the same analysis applied to the model you trained above."
     ]
    },
    {
     "cell_type": "code",
     "collapsed": false,
     "input": [
      "topic_model = gl.load_model('_a20552cf806c54b71b3b87cb593b9968_topic_models/lda_assignment_topic_model')"
     ],
     "language": "python",
     "metadata": {
      "scrolled": true
     },
     "outputs": [],
     "prompt_number": 11
    },
    {
     "cell_type": "markdown",
     "metadata": {},
     "source": [
      "# Identifying topic themes by top words\n",
      "\n",
      "We'll start by trying to identify the topics learned by our model with some major themes. As a preliminary check on the results of applying this method, it is reasonable to hope that the model has been able to learn topics that correspond to recognizable categories. In order to do this, we must first recall what exactly a 'topic' is in the context of LDA. \n",
      "\n",
      "In the video lectures on LDA we learned that a topic is a probability distribution over words in the vocabulary; that is, each topic assigns a particular probability to every one of the unique words that appears in our data. Different topics will assign different probabilities to the same word: for instance, a topic that ends up describing science and technology articles might place more probability on the word 'university' than a topic that describes sports or politics. Looking at the highest probability words in each topic will thus give us a sense of its major themes. Ideally we would find that each topic is identifiable with some clear theme _and_ that all the topics are relatively distinct.\n",
      "\n",
      "We can use the GraphLab Create function get_topics() to view the top words (along with their associated probabilities) from each topic.\n",
      "\n",
      "__Quiz Question:__ Identify the top 3 most probable words for the first topic. "
     ]
    },
    {
     "cell_type": "markdown",
     "metadata": {},
     "source": [
      "__ Quiz Question:__ What is the sum of the probabilities assigned to the top 50 words in the 3rd topic?"
     ]
    },
    {
     "cell_type": "markdown",
     "metadata": {},
     "source": [
      "Let's look at the top 10 words for each topic to see if we can identify any themes:"
     ]
    },
    {
     "cell_type": "code",
     "collapsed": false,
     "input": [
      "[x['words'] for x in topic_model.get_topics(output_type='topic_words', num_words=10)]"
     ],
     "language": "python",
     "metadata": {},
     "outputs": [
      {
       "metadata": {},
       "output_type": "pyout",
       "prompt_number": 12,
       "text": [
        "[['university',\n",
        "  'research',\n",
        "  'professor',\n",
        "  'international',\n",
        "  'institute',\n",
        "  'science',\n",
        "  'society',\n",
        "  'studies',\n",
        "  'director',\n",
        "  'national'],\n",
        " ['played',\n",
        "  'season',\n",
        "  'league',\n",
        "  'team',\n",
        "  'career',\n",
        "  'football',\n",
        "  'games',\n",
        "  'player',\n",
        "  'coach',\n",
        "  'game'],\n",
        " ['film',\n",
        "  'music',\n",
        "  'album',\n",
        "  'released',\n",
        "  'band',\n",
        "  'television',\n",
        "  'series',\n",
        "  'show',\n",
        "  'award',\n",
        "  'appeared'],\n",
        " ['university',\n",
        "  'school',\n",
        "  'served',\n",
        "  'college',\n",
        "  'state',\n",
        "  'american',\n",
        "  'states',\n",
        "  'united',\n",
        "  'born',\n",
        "  'law'],\n",
        " ['member',\n",
        "  'party',\n",
        "  'election',\n",
        "  'minister',\n",
        "  'government',\n",
        "  'elected',\n",
        "  'served',\n",
        "  'president',\n",
        "  'general',\n",
        "  'committee'],\n",
        " ['work',\n",
        "  'art',\n",
        "  'book',\n",
        "  'published',\n",
        "  'york',\n",
        "  'magazine',\n",
        "  'radio',\n",
        "  'books',\n",
        "  'award',\n",
        "  'arts'],\n",
        " ['company',\n",
        "  'business',\n",
        "  'years',\n",
        "  'group',\n",
        "  'time',\n",
        "  'family',\n",
        "  'people',\n",
        "  'india',\n",
        "  'million',\n",
        "  'indian'],\n",
        " ['world',\n",
        "  'won',\n",
        "  'born',\n",
        "  'time',\n",
        "  'year',\n",
        "  'team',\n",
        "  'championship',\n",
        "  'tour',\n",
        "  'championships',\n",
        "  'title'],\n",
        " ['born',\n",
        "  'british',\n",
        "  'london',\n",
        "  'australian',\n",
        "  'south',\n",
        "  'joined',\n",
        "  'years',\n",
        "  'made',\n",
        "  'england',\n",
        "  'australia'],\n",
        " ['music',\n",
        "  'de',\n",
        "  'born',\n",
        "  'international',\n",
        "  'la',\n",
        "  'orchestra',\n",
        "  'opera',\n",
        "  'studied',\n",
        "  'french',\n",
        "  'festival']]"
       ]
      }
     ],
     "prompt_number": 12
    },
    {
     "cell_type": "markdown",
     "metadata": {},
     "source": [
      "We propose the following themes for each topic:\n",
      "\n",
      "- topic 0: Science and research\n",
      "- topic 1: Team sports\n",
      "- topic 2: Music, TV, and film\n",
      "- topic 3: American college and politics\n",
      "- topic 4: General politics\n",
      "- topic 5: Art and publishing\n",
      "- topic 6: Business\n",
      "- topic 7: International athletics\n",
      "- topic 8: Great Britain and Australia\n",
      "- topic 9: International music\n",
      "\n",
      "We'll save these themes for later:"
     ]
    },
    {
     "cell_type": "code",
     "collapsed": true,
     "input": [
      "themes = ['science and research','team sports','music, TV, and film','American college and politics','general politics', \\\n",
      "         'art and publishing','Business','international athletics','Great Britain and Australia','international music']"
     ],
     "language": "python",
     "metadata": {},
     "outputs": [],
     "prompt_number": 13
    },
    {
     "cell_type": "markdown",
     "metadata": {},
     "source": [
      "### Measuring the importance of top words\n",
      "\n",
      "We can learn more about topics by exploring how they place probability mass (which we can think of as a weight) on each of their top words.\n",
      "\n",
      "We'll do this with two visualizations of the weights for the top words in each topic:\n",
      " - the weights of the top 100 words, sorted by the size\n",
      " - the total weight of the top 10 words\n"
     ]
    },
    {
     "cell_type": "markdown",
     "metadata": {},
     "source": [
      "Here's a plot for the top 100 words by weight in each topic:"
     ]
    },
    {
     "cell_type": "code",
     "collapsed": false,
     "input": [
      "for i in range(10):\n",
      "    plt.plot(range(100), topic_model.get_topics(topic_ids=[i], num_words=100)['score'])\n",
      "plt.xlabel('Word rank')\n",
      "plt.ylabel('Probability')\n",
      "plt.title('Probabilities of Top 100 Words in each Topic')"
     ],
     "language": "python",
     "metadata": {},
     "outputs": [
      {
       "metadata": {},
       "output_type": "pyout",
       "prompt_number": 14,
       "text": [
        "<matplotlib.text.Text at 0x7f71006d0790>"
       ]
      },
      {
       "metadata": {},
       "output_type": "display_data",
       "png": "[encoded data removed]",
       "text": [
        "<matplotlib.figure.Figure at 0x7f716c499f90>"
       ]
      }
     ],
     "prompt_number": 14
    },
    {
     "cell_type": "markdown",
     "metadata": {},
     "source": [
      "In the above plot, each line corresponds to one of our ten topics. Notice how for each topic, the weights drop off sharply as we move down the ranked list of most important words. This shows that the top 10-20 words in each topic are assigned a much greater weight than the remaining words - and remember from the summary of our topic model that our vocabulary has 547462 words in total!\n",
      "\n",
      "\n",
      "Next we plot the total weight assigned by each topic to its top 10 words: "
     ]
    },
    {
     "cell_type": "code",
     "collapsed": false,
     "input": [
      "top_probs = [sum(topic_model.get_topics(topic_ids=[i], num_words=10)['score']) for i in range(10)]\n",
      "\n",
      "ind = np.arange(10)\n",
      "width = 0.5\n",
      "\n",
      "fig, ax = plt.subplots()\n",
      "\n",
      "ax.bar(ind-(width/2),top_probs,width)\n",
      "ax.set_xticks(ind)\n",
      "\n",
      "plt.xlabel('Topic')\n",
      "plt.ylabel('Probability')\n",
      "plt.title('Total Probability of Top 10 Words in each Topic')\n",
      "plt.xlim(-0.5,9.5)\n",
      "plt.ylim(0,0.15)\n",
      "plt.show()"
     ],
     "language": "python",
     "metadata": {},
     "outputs": [
      {
       "metadata": {},
       "output_type": "display_data",
       "png": "[encoded data removed]",
       "text": [
        "<matplotlib.figure.Figure at 0x7f71005fb9d0>"
       ]
      }
     ],
     "prompt_number": 15
    },
    {
     "cell_type": "markdown",
     "metadata": {},
     "source": [
      "Here we see that, for our topic model, the top 10 words only account for a small fraction (in this case, between 5% and 13%) of their topic's total probability mass. So while we can use the top words to identify broad themes for each topic, we should keep in mind that in reality these topics are more complex than a simple 10-word summary.\n",
      "\n",
      "Finally, we observe that some 'junk' words appear highly rated in some topics despite our efforts to remove unhelpful words before fitting the model; for example, the word 'born' appears as a top 10 word in three different topics, but it doesn't help us describe these topics at all."
     ]
    },
    {
     "cell_type": "markdown",
     "metadata": {},
     "source": [
      "# Topic distributions for some example documents\n",
      "\n",
      "As we noted in the introduction to this assignment, LDA allows for mixed membership, which means that each document can partially belong to several different topics. For each document, topic membership is expressed as a vector of weights that sum to one; the magnitude of each weight indicates the degree to which the document represents that particular topic.\n",
      "\n",
      "We'll explore this in our fitted model by looking at the topic distributions for a few example Wikipedia articles from our data set. We should find that these articles have the highest weights on the topics whose themes are most relevant to the subject of the article - for example, we'd expect an article on a politician to place relatively high weight on topics related to government, while an article about an athlete should place higher weight on topics related to sports or competition."
     ]
    },
    {
     "cell_type": "markdown",
     "metadata": {},
     "source": [
      "Topic distributions for documents can be obtained using GraphLab Create's predict() function. GraphLab Create uses a collapsed Gibbs sampler similar to the one described in the video lectures, where only the word assignments variables are sampled.  To get a document-specific topic proportion vector post-facto, predict() draws this vector from the conditional distribution given the sampled word assignments in the document.  Notice that, since these are draws from a _distribution_ over topics that the model has learned, we will get slightly different predictions each time we call this function on a document - we can see this below, where we predict the topic distribution for the article on Barack Obama:"
     ]
    },
    {
     "cell_type": "code",
     "collapsed": false,
     "input": [
      "obama = gl.SArray([wiki_docs[int(np.where(wiki['name']=='Barack Obama')[0])]])\n",
      "pred1 = topic_model.predict(obama, output_type='probability')\n",
      "pred2 = topic_model.predict(obama, output_type='probability')\n",
      "print(gl.SFrame({'topics':themes, 'predictions (first draw)':pred1[0], 'predictions (second draw)':pred2[0]}))"
     ],
     "language": "python",
     "metadata": {},
     "outputs": [
      {
       "output_type": "stream",
       "stream": "stdout",
       "text": [
        "+--------------------------+---------------------------+\n",
        "| predictions (first draw) | predictions (second draw) |\n",
        "+--------------------------+---------------------------+\n",
        "|     0.0403225806452      |      0.0456989247312      |\n",
        "|     0.0591397849462      |      0.0430107526882      |\n",
        "|     0.0215053763441      |      0.0215053763441      |\n",
        "|      0.10752688172       |       0.153225806452      |\n",
        "|      0.604838709677      |       0.564516129032      |\n",
        "|     0.0134408602151      |      0.0215053763441      |\n",
        "|     0.0483870967742      |      0.0537634408602      |\n",
        "|     0.0510752688172      |      0.0268817204301      |\n",
        "|     0.0188172043011      |      0.0510752688172      |\n",
        "|     0.0349462365591      |      0.0188172043011      |\n",
        "+--------------------------+---------------------------+\n",
        "+-------------------------------+\n",
        "|             topics            |\n",
        "+-------------------------------+\n",
        "|      science and research     |\n",
        "|          team sports          |\n",
        "|      music, TV, and film      |\n",
        "| American college and politics |\n",
        "|        general politics       |\n",
        "|       art and publishing      |\n",
        "|            Business           |\n",
        "|    international athletics    |\n",
        "|  Great Britain and Australia  |\n",
        "|      international music      |\n",
        "+-------------------------------+\n",
        "[10 rows x 3 columns]\n",
        "\n"
       ]
      }
     ],
     "prompt_number": 16
    },
    {
     "cell_type": "markdown",
     "metadata": {},
     "source": [
      "To get a more robust estimate of the topics for each document, we can average a large number of predictions for the same document:"
     ]
    },
    {
     "cell_type": "code",
     "collapsed": false,
     "input": [
      "def average_predictions(model, test_document, num_trials=100):\n",
      "    avg_preds = np.zeros((model.num_topics))\n",
      "    for i in range(num_trials):\n",
      "        avg_preds += model.predict(test_document, output_type='probability')[0]\n",
      "    avg_preds = avg_preds/num_trials\n",
      "    result = gl.SFrame({'topics':themes, 'average predictions':avg_preds})\n",
      "    result = result.sort('average predictions', ascending=False)\n",
      "    return result"
     ],
     "language": "python",
     "metadata": {},
     "outputs": [],
     "prompt_number": 17
    },
    {
     "cell_type": "code",
     "collapsed": false,
     "input": [
      "print average_predictions(topic_model, obama, 100)"
     ],
     "language": "python",
     "metadata": {},
     "outputs": [
      {
       "output_type": "stream",
       "stream": "stdout",
       "text": [
        "+---------------------+-------------------------------+\n",
        "| average predictions |             topics            |\n",
        "+---------------------+-------------------------------+\n",
        "|    0.594865591398   |        general politics       |\n",
        "|    0.137580645161   | American college and politics |\n",
        "|   0.0523655913978   |            Business           |\n",
        "|   0.0500268817204   |          team sports          |\n",
        "|   0.0399193548387   |      science and research     |\n",
        "|   0.0340860215054   |    international athletics    |\n",
        "|    0.025376344086   |  Great Britain and Australia  |\n",
        "|   0.0231720430108   |      international music      |\n",
        "|   0.0230376344086   |       art and publishing      |\n",
        "|   0.0195698924731   |      music, TV, and film      |\n",
        "+---------------------+-------------------------------+\n",
        "[10 rows x 2 columns]\n",
        "\n"
       ]
      }
     ],
     "prompt_number": 18
    },
    {
     "cell_type": "markdown",
     "metadata": {},
     "source": [
      "__Quiz Question:__ What is the topic most closely associated with the article about former US President George W. Bush? Use the average results from 100 topic predictions."
     ]
    },
    {
     "cell_type": "markdown",
     "metadata": {},
     "source": [
      "__Quiz Question:__ What are the top 3 topics corresponding to the article about English football (soccer) player Steven Gerrard? Use the average results from 100 topic predictions."
     ]
    },
    {
     "cell_type": "markdown",
     "metadata": {},
     "source": [
      "# Comparing LDA to nearest neighbors for document retrieval\n",
      "\n",
      "So far we have found that our topic model has learned some coherent topics, we have explored these topics as probability distributions over a vocabulary, and we have seen how individual documents in our Wikipedia data set are assigned to these topics in a way that corresponds with our expectations. \n",
      "\n",
      "In this section, we will use the predicted topic distribution as a representation of each document, similar to how we have previously represented documents by word count or TF-IDF. This gives us a way of computing distances between documents, so that we can run a nearest neighbors search for a given document based on its membership in the topics that we learned from LDA. We can contrast the results with those obtained by running nearest neighbors under the usual TF-IDF representation, an approach that we explored in a previous assignment. \n",
      "\n",
      "We'll start by creating the LDA topic distribution representation for each document:"
     ]
    },
    {
     "cell_type": "code",
     "collapsed": false,
     "input": [
      "wiki['lda'] = topic_model.predict(wiki_docs, output_type='probability')"
     ],
     "language": "python",
     "metadata": {},
     "outputs": [],
     "prompt_number": 19
    },
    {
     "cell_type": "markdown",
     "metadata": {},
     "source": [
      "Next we add the TF-IDF document representations:"
     ]
    },
    {
     "cell_type": "code",
     "collapsed": false,
     "input": [
      "wiki['word_count'] = gl.text_analytics.count_words(wiki['text'])\n",
      "wiki['tf_idf'] = gl.text_analytics.tf_idf(wiki['word_count'])"
     ],
     "language": "python",
     "metadata": {},
     "outputs": [],
     "prompt_number": 20
    },
    {
     "cell_type": "markdown",
     "metadata": {},
     "source": [
      "For each of our two different document representations, we can use GraphLab Create to compute a brute-force nearest neighbors model:"
     ]
    },
    {
     "cell_type": "code",
     "collapsed": false,
     "input": [
      "model_tf_idf = gl.nearest_neighbors.create(wiki, label='name', features=['tf_idf'],\n",
      "                                           method='brute_force', distance='cosine')\n",
      "model_lda_rep = gl.nearest_neighbors.create(wiki, label='name', features=['lda'],\n",
      "                                            method='brute_force', distance='cosine')"
     ],
     "language": "python",
     "metadata": {},
     "outputs": [
      {
       "output_type": "stream",
       "stream": "stdout",
       "text": [
        "Starting brute force nearest neighbors model training.\n",
        "Starting brute force nearest neighbors model training.\n"
       ]
      }
     ],
     "prompt_number": 21
    },
    {
     "cell_type": "markdown",
     "metadata": {},
     "source": [
      "Let's compare these nearest neighbor models by finding the nearest neighbors under each representation on an example document. For this example we'll use Paul Krugman, an American economist:"
     ]
    },
    {
     "cell_type": "code",
     "collapsed": false,
     "input": [
      "model_tf_idf.query(wiki[wiki['name'] == 'Paul Krugman'], label='name', k=10)"
     ],
     "language": "python",
     "metadata": {},
     "outputs": [
      {
       "output_type": "stream",
       "stream": "stdout",
       "text": [
        "Starting pairwise querying.\n",
        "+--------------+---------+-------------+--------------+\n",
        "| Query points | # Pairs | % Complete. | Elapsed Time |\n",
        "+--------------+---------+-------------+--------------+\n",
        "| 0            | 2       | 0.00338576  | 136.091ms    |\n",
        "| Done         |         | 100         | 944.687ms    |\n",
        "+--------------+---------+-------------+--------------+\n"
       ]
      },
      {
       "html": [
        "<div style=\"max-height:1000px;max-width:1500px;overflow:auto;\"><table frame=\"box\" rules=\"cols\">\n",
        "    <tr>\n",
        "        <th style=\"padding-left: 1em; padding-right: 1em; text-align: center\">query_label</th>\n",
        "        <th style=\"padding-left: 1em; padding-right: 1em; text-align: center\">reference_label</th>\n",
        "        <th style=\"padding-left: 1em; padding-right: 1em; text-align: center\">distance</th>\n",
        "        <th style=\"padding-left: 1em; padding-right: 1em; text-align: center\">rank</th>\n",
        "    </tr>\n",
        "    <tr>\n",
        "        <td style=\"padding-left: 1em; padding-right: 1em; text-align: center; vertical-align: top\">Paul Krugman</td>\n",
        "        <td style=\"padding-left: 1em; padding-right: 1em; text-align: center; vertical-align: top\">Paul Krugman</td>\n",
        "        <td style=\"padding-left: 1em; padding-right: 1em; text-align: center; vertical-align: top\">0.0</td>\n",
        "        <td style=\"padding-left: 1em; padding-right: 1em; text-align: center; vertical-align: top\">1</td>\n",
        "    </tr>\n",
        "    <tr>\n",
        "        <td style=\"padding-left: 1em; padding-right: 1em; text-align: center; vertical-align: top\">Paul Krugman</td>\n",
        "        <td style=\"padding-left: 1em; padding-right: 1em; text-align: center; vertical-align: top\">Elise Brezis</td>\n",
        "        <td style=\"padding-left: 1em; padding-right: 1em; text-align: center; vertical-align: top\">0.744498017262</td>\n",
        "        <td style=\"padding-left: 1em; padding-right: 1em; text-align: center; vertical-align: top\">2</td>\n",
        "    </tr>\n",
        "    <tr>\n",
        "        <td style=\"padding-left: 1em; padding-right: 1em; text-align: center; vertical-align: top\">Paul Krugman</td>\n",
        "        <td style=\"padding-left: 1em; padding-right: 1em; text-align: center; vertical-align: top\">Maitreesh Ghatak</td>\n",
        "        <td style=\"padding-left: 1em; padding-right: 1em; text-align: center; vertical-align: top\">0.81564984831</td>\n",
        "        <td style=\"padding-left: 1em; padding-right: 1em; text-align: center; vertical-align: top\">3</td>\n",
        "    </tr>\n",
        "    <tr>\n",
        "        <td style=\"padding-left: 1em; padding-right: 1em; text-align: center; vertical-align: top\">Paul Krugman</td>\n",
        "        <td style=\"padding-left: 1em; padding-right: 1em; text-align: center; vertical-align: top\">Kai A. Konrad</td>\n",
        "        <td style=\"padding-left: 1em; padding-right: 1em; text-align: center; vertical-align: top\">0.823700564406</td>\n",
        "        <td style=\"padding-left: 1em; padding-right: 1em; text-align: center; vertical-align: top\">4</td>\n",
        "    </tr>\n",
        "    <tr>\n",
        "        <td style=\"padding-left: 1em; padding-right: 1em; text-align: center; vertical-align: top\">Paul Krugman</td>\n",
        "        <td style=\"padding-left: 1em; padding-right: 1em; text-align: center; vertical-align: top\">David Colander</td>\n",
        "        <td style=\"padding-left: 1em; padding-right: 1em; text-align: center; vertical-align: top\">0.834625927759</td>\n",
        "        <td style=\"padding-left: 1em; padding-right: 1em; text-align: center; vertical-align: top\">5</td>\n",
        "    </tr>\n",
        "    <tr>\n",
        "        <td style=\"padding-left: 1em; padding-right: 1em; text-align: center; vertical-align: top\">Paul Krugman</td>\n",
        "        <td style=\"padding-left: 1em; padding-right: 1em; text-align: center; vertical-align: top\">Richard Blundell</td>\n",
        "        <td style=\"padding-left: 1em; padding-right: 1em; text-align: center; vertical-align: top\">0.837934267874</td>\n",
        "        <td style=\"padding-left: 1em; padding-right: 1em; text-align: center; vertical-align: top\">6</td>\n",
        "    </tr>\n",
        "    <tr>\n",
        "        <td style=\"padding-left: 1em; padding-right: 1em; text-align: center; vertical-align: top\">Paul Krugman</td>\n",
        "        <td style=\"padding-left: 1em; padding-right: 1em; text-align: center; vertical-align: top\">Gordon Rausser</td>\n",
        "        <td style=\"padding-left: 1em; padding-right: 1em; text-align: center; vertical-align: top\">0.83941534706</td>\n",
        "        <td style=\"padding-left: 1em; padding-right: 1em; text-align: center; vertical-align: top\">7</td>\n",
        "    </tr>\n",
        "    <tr>\n",
        "        <td style=\"padding-left: 1em; padding-right: 1em; text-align: center; vertical-align: top\">Paul Krugman</td>\n",
        "        <td style=\"padding-left: 1em; padding-right: 1em; text-align: center; vertical-align: top\">Edward J. Nell</td>\n",
        "        <td style=\"padding-left: 1em; padding-right: 1em; text-align: center; vertical-align: top\">0.842178500015</td>\n",
        "        <td style=\"padding-left: 1em; padding-right: 1em; text-align: center; vertical-align: top\">8</td>\n",
        "    </tr>\n",
        "    <tr>\n",
        "        <td style=\"padding-left: 1em; padding-right: 1em; text-align: center; vertical-align: top\">Paul Krugman</td>\n",
        "        <td style=\"padding-left: 1em; padding-right: 1em; text-align: center; vertical-align: top\">Robin Boadway</td>\n",
        "        <td style=\"padding-left: 1em; padding-right: 1em; text-align: center; vertical-align: top\">0.842374260596</td>\n",
        "        <td style=\"padding-left: 1em; padding-right: 1em; text-align: center; vertical-align: top\">9</td>\n",
        "    </tr>\n",
        "    <tr>\n",
        "        <td style=\"padding-left: 1em; padding-right: 1em; text-align: center; vertical-align: top\">Paul Krugman</td>\n",
        "        <td style=\"padding-left: 1em; padding-right: 1em; text-align: center; vertical-align: top\">Tim Besley</td>\n",
        "        <td style=\"padding-left: 1em; padding-right: 1em; text-align: center; vertical-align: top\">0.843088109253</td>\n",
        "        <td style=\"padding-left: 1em; padding-right: 1em; text-align: center; vertical-align: top\">10</td>\n",
        "    </tr>\n",
        "</table>\n",
        "[10 rows x 4 columns]<br/>\n",
        "</div>"
       ],
       "metadata": {},
       "output_type": "pyout",
       "prompt_number": 22,
       "text": [
        "Columns:\n",
        "\tquery_label\tstr\n",
        "\treference_label\tstr\n",
        "\tdistance\tfloat\n",
        "\trank\tint\n",
        "\n",
        "Rows: 10\n",
        "\n",
        "Data:\n",
        "+--------------+------------------+----------------+------+\n",
        "| query_label  | reference_label  |    distance    | rank |\n",
        "+--------------+------------------+----------------+------+\n",
        "| Paul Krugman |   Paul Krugman   |      0.0       |  1   |\n",
        "| Paul Krugman |   Elise Brezis   | 0.744498017262 |  2   |\n",
        "| Paul Krugman | Maitreesh Ghatak | 0.81564984831  |  3   |\n",
        "| Paul Krugman |  Kai A. Konrad   | 0.823700564406 |  4   |\n",
        "| Paul Krugman |  David Colander  | 0.834625927759 |  5   |\n",
        "| Paul Krugman | Richard Blundell | 0.837934267874 |  6   |\n",
        "| Paul Krugman |  Gordon Rausser  | 0.83941534706  |  7   |\n",
        "| Paul Krugman |  Edward J. Nell  | 0.842178500015 |  8   |\n",
        "| Paul Krugman |  Robin Boadway   | 0.842374260596 |  9   |\n",
        "| Paul Krugman |    Tim Besley    | 0.843088109253 |  10  |\n",
        "+--------------+------------------+----------------+------+\n",
        "[10 rows x 4 columns]"
       ]
      }
     ],
     "prompt_number": 22
    },
    {
     "cell_type": "code",
     "collapsed": false,
     "input": [
      "model_lda_rep.query(wiki[wiki['name'] == 'Paul Krugman'], label='name', k=10)"
     ],
     "language": "python",
     "metadata": {},
     "outputs": [
      {
       "output_type": "stream",
       "stream": "stdout",
       "text": [
        "Starting pairwise querying.\n",
        "+--------------+---------+-------------+--------------+\n",
        "| Query points | # Pairs | % Complete. | Elapsed Time |\n",
        "+--------------+---------+-------------+--------------+\n",
        "| 0            | 1       | 0.00169288  | 16.266ms     |\n",
        "| Done         |         | 100         | 60.931ms     |\n",
        "+--------------+---------+-------------+--------------+\n"
       ]
      },
      {
       "html": [
        "<div style=\"max-height:1000px;max-width:1500px;overflow:auto;\"><table frame=\"box\" rules=\"cols\">\n",
        "    <tr>\n",
        "        <th style=\"padding-left: 1em; padding-right: 1em; text-align: center\">query_label</th>\n",
        "        <th style=\"padding-left: 1em; padding-right: 1em; text-align: center\">reference_label</th>\n",
        "        <th style=\"padding-left: 1em; padding-right: 1em; text-align: center\">distance</th>\n",
        "        <th style=\"padding-left: 1em; padding-right: 1em; text-align: center\">rank</th>\n",
        "    </tr>\n",
        "    <tr>\n",
        "        <td style=\"padding-left: 1em; padding-right: 1em; text-align: center; vertical-align: top\">Paul Krugman</td>\n",
        "        <td style=\"padding-left: 1em; padding-right: 1em; text-align: center; vertical-align: top\">Paul Krugman</td>\n",
        "        <td style=\"padding-left: 1em; padding-right: 1em; text-align: center; vertical-align: top\">0.0</td>\n",
        "        <td style=\"padding-left: 1em; padding-right: 1em; text-align: center; vertical-align: top\">1</td>\n",
        "    </tr>\n",
        "    <tr>\n",
        "        <td style=\"padding-left: 1em; padding-right: 1em; text-align: center; vertical-align: top\">Paul Krugman</td>\n",
        "        <td style=\"padding-left: 1em; padding-right: 1em; text-align: center; vertical-align: top\">Bill Tomlinson</td>\n",
        "        <td style=\"padding-left: 1em; padding-right: 1em; text-align: center; vertical-align: top\">0.00313756716386</td>\n",
        "        <td style=\"padding-left: 1em; padding-right: 1em; text-align: center; vertical-align: top\">2</td>\n",
        "    </tr>\n",
        "    <tr>\n",
        "        <td style=\"padding-left: 1em; padding-right: 1em; text-align: center; vertical-align: top\">Paul Krugman</td>\n",
        "        <td style=\"padding-left: 1em; padding-right: 1em; text-align: center; vertical-align: top\">Brian Wandell</td>\n",
        "        <td style=\"padding-left: 1em; padding-right: 1em; text-align: center; vertical-align: top\">0.00366393200702</td>\n",
        "        <td style=\"padding-left: 1em; padding-right: 1em; text-align: center; vertical-align: top\">3</td>\n",
        "    </tr>\n",
        "    <tr>\n",
        "        <td style=\"padding-left: 1em; padding-right: 1em; text-align: center; vertical-align: top\">Paul Krugman</td>\n",
        "        <td style=\"padding-left: 1em; padding-right: 1em; text-align: center; vertical-align: top\">Peter Dauvergne</td>\n",
        "        <td style=\"padding-left: 1em; padding-right: 1em; text-align: center; vertical-align: top\">0.00469566504166</td>\n",
        "        <td style=\"padding-left: 1em; padding-right: 1em; text-align: center; vertical-align: top\">4</td>\n",
        "    </tr>\n",
        "    <tr>\n",
        "        <td style=\"padding-left: 1em; padding-right: 1em; text-align: center; vertical-align: top\">Paul Krugman</td>\n",
        "        <td style=\"padding-left: 1em; padding-right: 1em; text-align: center; vertical-align: top\">Christopher Tilley</td>\n",
        "        <td style=\"padding-left: 1em; padding-right: 1em; text-align: center; vertical-align: top\">0.00518601351445</td>\n",
        "        <td style=\"padding-left: 1em; padding-right: 1em; text-align: center; vertical-align: top\">5</td>\n",
        "    </tr>\n",
        "    <tr>\n",
        "        <td style=\"padding-left: 1em; padding-right: 1em; text-align: center; vertical-align: top\">Paul Krugman</td>\n",
        "        <td style=\"padding-left: 1em; padding-right: 1em; text-align: center; vertical-align: top\">Joe Cain (historian of<br>science) ...</td>\n",
        "        <td style=\"padding-left: 1em; padding-right: 1em; text-align: center; vertical-align: top\">0.00531564824295</td>\n",
        "        <td style=\"padding-left: 1em; padding-right: 1em; text-align: center; vertical-align: top\">6</td>\n",
        "    </tr>\n",
        "    <tr>\n",
        "        <td style=\"padding-left: 1em; padding-right: 1em; text-align: center; vertical-align: top\">Paul Krugman</td>\n",
        "        <td style=\"padding-left: 1em; padding-right: 1em; text-align: center; vertical-align: top\">Isidro A. T. Savillo</td>\n",
        "        <td style=\"padding-left: 1em; padding-right: 1em; text-align: center; vertical-align: top\">0.00542263595799</td>\n",
        "        <td style=\"padding-left: 1em; padding-right: 1em; text-align: center; vertical-align: top\">7</td>\n",
        "    </tr>\n",
        "    <tr>\n",
        "        <td style=\"padding-left: 1em; padding-right: 1em; text-align: center; vertical-align: top\">Paul Krugman</td>\n",
        "        <td style=\"padding-left: 1em; padding-right: 1em; text-align: center; vertical-align: top\">Patricia Carpenter</td>\n",
        "        <td style=\"padding-left: 1em; padding-right: 1em; text-align: center; vertical-align: top\">0.00564149355924</td>\n",
        "        <td style=\"padding-left: 1em; padding-right: 1em; text-align: center; vertical-align: top\">8</td>\n",
        "    </tr>\n",
        "    <tr>\n",
        "        <td style=\"padding-left: 1em; padding-right: 1em; text-align: center; vertical-align: top\">Paul Krugman</td>\n",
        "        <td style=\"padding-left: 1em; padding-right: 1em; text-align: center; vertical-align: top\">Sigrid Close</td>\n",
        "        <td style=\"padding-left: 1em; padding-right: 1em; text-align: center; vertical-align: top\">0.00570720255473</td>\n",
        "        <td style=\"padding-left: 1em; padding-right: 1em; text-align: center; vertical-align: top\">9</td>\n",
        "    </tr>\n",
        "    <tr>\n",
        "        <td style=\"padding-left: 1em; padding-right: 1em; text-align: center; vertical-align: top\">Paul Krugman</td>\n",
        "        <td style=\"padding-left: 1em; padding-right: 1em; text-align: center; vertical-align: top\">David Perlmutter</td>\n",
        "        <td style=\"padding-left: 1em; padding-right: 1em; text-align: center; vertical-align: top\">0.00580082819747</td>\n",
        "        <td style=\"padding-left: 1em; padding-right: 1em; text-align: center; vertical-align: top\">10</td>\n",
        "    </tr>\n",
        "</table>\n",
        "[10 rows x 4 columns]<br/>\n",
        "</div>"
       ],
       "metadata": {},
       "output_type": "pyout",
       "prompt_number": 23,
       "text": [
        "Columns:\n",
        "\tquery_label\tstr\n",
        "\treference_label\tstr\n",
        "\tdistance\tfloat\n",
        "\trank\tint\n",
        "\n",
        "Rows: 10\n",
        "\n",
        "Data:\n",
        "+--------------+-------------------------------+------------------+------+\n",
        "| query_label  |        reference_label        |     distance     | rank |\n",
        "+--------------+-------------------------------+------------------+------+\n",
        "| Paul Krugman |          Paul Krugman         |       0.0        |  1   |\n",
        "| Paul Krugman |         Bill Tomlinson        | 0.00313756716386 |  2   |\n",
        "| Paul Krugman |         Brian Wandell         | 0.00366393200702 |  3   |\n",
        "| Paul Krugman |        Peter Dauvergne        | 0.00469566504166 |  4   |\n",
        "| Paul Krugman |       Christopher Tilley      | 0.00518601351445 |  5   |\n",
        "| Paul Krugman | Joe Cain (historian of sci... | 0.00531564824295 |  6   |\n",
        "| Paul Krugman |      Isidro A. T. Savillo     | 0.00542263595799 |  7   |\n",
        "| Paul Krugman |       Patricia Carpenter      | 0.00564149355924 |  8   |\n",
        "| Paul Krugman |          Sigrid Close         | 0.00570720255473 |  9   |\n",
        "| Paul Krugman |        David Perlmutter       | 0.00580082819747 |  10  |\n",
        "+--------------+-------------------------------+------------------+------+\n",
        "[10 rows x 4 columns]"
       ]
      }
     ],
     "prompt_number": 23
    },
    {
     "cell_type": "markdown",
     "metadata": {},
     "source": [
      "Notice that that there is no overlap between the two sets of top 10 nearest neighbors. This doesn't necessarily mean that one representation is better or worse than the other, but rather that they are picking out different features of the documents. \n",
      "\n",
      "With TF-IDF, documents are distinguished by the frequency of uncommon words. Since similarity is defined based on the specific words used in the document, documents that are \"close\" under TF-IDF tend to be similar in terms of specific details. This is what we see in the example: the top 10 nearest neighbors are all economists from the US, UK, or Canada. \n",
      "\n",
      "Our LDA representation, on the other hand, defines similarity between documents in terms of their topic distributions. This means that documents can be \"close\" if they share similar themes, even though they may not share many of the same keywords. For the article on Paul Krugman, we expect the most important topics to be 'American college and politics' and 'science and research'. As a result, we see that the top 10 nearest neighbors are academics from a wide variety of fields, including literature, anthropology, and religious studies.\n",
      "\n",
      "\n",
      "__Quiz Question:__ Using the TF-IDF representation, compute the 5000 nearest neighbors for American baseball player Alex Rodriguez. For what value of k is Mariano Rivera the k-th nearest neighbor to Alex Rodriguez? (Hint: Once you have a list of the nearest neighbors, you can use `mylist.index(value)` to find the index of the first instance of `value` in `mylist`.)\n",
      "\n",
      "__Quiz Question:__ Using the LDA representation, compute the 5000 nearest neighbors for American baseball player Alex Rodriguez. For what value of k is Mariano Rivera the k-th nearest neighbor to Alex Rodriguez? (Hint: Once you have a list of the nearest neighbors, you can use `mylist.index(value)` to find the index of the first instance of `value` in `mylist`.)"
     ]
    },
    {
     "cell_type": "markdown",
     "metadata": {},
     "source": [
      "# Understanding the role of LDA model hyperparameters\n",
      "\n",
      "Finally, we'll take a look at the effect of the LDA model hyperparameters alpha and gamma on the characteristics of our fitted model. Recall that alpha is a parameter of the prior distribution over topic weights in each document, while gamma is a parameter of the prior distribution over word weights in each topic. \n",
      "\n",
      "In the video lectures, we saw that alpha and gamma can be thought of as smoothing parameters when we compute how much each document \"likes\" a topic (in the case of alpha) or how much each topic \"likes\" a word (in the case of gamma). In both cases, these parameters serve to reduce the differences across topics or words in terms of these calculated preferences; alpha makes the document preferences \"smoother\" over topics, and gamma makes the topic preferences \"smoother\" over words.\n",
      "\n",
      "Our goal in this section will be to understand how changing these parameter values affects the characteristics of the resulting topic model.\n",
      "\n",
      "__Quiz Question:__ What was the value of alpha used to fit our original topic model? "
     ]
    },
    {
     "cell_type": "markdown",
     "metadata": {},
     "source": [
      "__Quiz Question:__ What was the value of gamma used to fit our original topic model? Remember that GraphLab Create uses \"beta\" instead of \"gamma\" to refer to the hyperparameter that influences topic distributions over words."
     ]
    },
    {
     "cell_type": "markdown",
     "metadata": {},
     "source": [
      "We'll start by loading some topic models that have been trained using different settings of alpha and gamma. Specifically, we will start by comparing the following two models to our original topic model:\n",
      " - tpm_low_alpha, a model trained with alpha = 1 and default gamma\n",
      " - tpm_high_alpha, a model trained with alpha = 50 and default gamma"
     ]
    },
    {
     "cell_type": "code",
     "collapsed": true,
     "input": [
      "tpm_low_alpha = gl.load_model('_a20552cf806c54b71b3b87cb593b9968_topic_models/lda_low_alpha')\n",
      "tpm_high_alpha = gl.load_model('_a20552cf806c54b71b3b87cb593b9968_topic_models/lda_high_alpha')"
     ],
     "language": "python",
     "metadata": {},
     "outputs": [],
     "prompt_number": 28
    },
    {
     "cell_type": "markdown",
     "metadata": {},
     "source": [
      "### Changing the hyperparameter alpha\n",
      "\n",
      "Since alpha is responsible for smoothing document preferences over topics, the impact of changing its value should be visible when we plot the distribution of topic weights for the same document under models fit with different alpha values. In the code below, we plot the (sorted) topic weights for the Wikipedia article on Barack Obama under models fit with high, original, and low settings of alpha."
     ]
    },
    {
     "cell_type": "code",
     "collapsed": false,
     "input": [
      "a = np.sort(tpm_low_alpha.predict(obama,output_type='probability')[0])[::-1]\n",
      "b = np.sort(topic_model.predict(obama,output_type='probability')[0])[::-1]\n",
      "c = np.sort(tpm_high_alpha.predict(obama,output_type='probability')[0])[::-1]\n",
      "ind = np.arange(len(a))\n",
      "width = 0.3\n",
      "\n",
      "def param_bar_plot(a,b,c,ind,width,ylim,param,xlab,ylab):\n",
      "    fig = plt.figure()\n",
      "    ax = fig.add_subplot(111)\n",
      "\n",
      "    b1 = ax.bar(ind, a, width, color='lightskyblue')\n",
      "    b2 = ax.bar(ind+width, b, width, color='lightcoral')\n",
      "    b3 = ax.bar(ind+(2*width), c, width, color='gold')\n",
      "\n",
      "    ax.set_xticks(ind+width)\n",
      "    ax.set_xticklabels(range(10))\n",
      "    ax.set_ylabel(ylab)\n",
      "    ax.set_xlabel(xlab)\n",
      "    ax.set_ylim(0,ylim)\n",
      "    ax.legend(handles = [b1,b2,b3],labels=['low '+param,'original model','high '+param])\n",
      "\n",
      "    plt.tight_layout()\n",
      "    \n",
      "param_bar_plot(a,b,c,ind,width,ylim=1.0,param='alpha',\n",
      "               xlab='Topics (sorted by weight of top 100 words)',ylab='Topic Probability for Obama Article')"
     ],
     "language": "python",
     "metadata": {},
     "outputs": [
      {
       "metadata": {},
       "output_type": "display_data",
       "png": "[encoded data removed]",
       "text": [
        "<matplotlib.figure.Figure at 0x7f716dd089d0>"
       ]
      }
     ],
     "prompt_number": 29
    },
    {
     "cell_type": "markdown",
     "metadata": {},
     "source": [
      "Here we can clearly see the smoothing enforced by the alpha parameter - notice that when alpha is low most of the weight in the topic distribution for this article goes to a single topic, but when alpha is high the weight is much more evenly distributed across the topics.\n",
      "\n",
      "__Quiz Question:__ How many topics are assigned a weight greater than 0.3 or less than 0.05 for the article on Paul Krugman in the **low alpha** model?  Use the average results from 100 topic predictions."
     ]
    },
    {
     "cell_type": "markdown",
     "metadata": {},
     "source": [
      "__Quiz Question:__ How many topics are assigned a weight greater than 0.3 or less than 0.05 for the article on Paul Krugman in the **high alpha** model? Use the average results from 100 topic predictions."
     ]
    },
    {
     "cell_type": "markdown",
     "metadata": {},
     "source": [
      "### Changing the hyperparameter gamma\n",
      "\n",
      "Just as we were able to see the effect of alpha by plotting topic weights for a document, we expect to be able to visualize the impact of changing gamma by plotting word weights for each topic. In this case, however, there are far too many words in our vocabulary to do this effectively. Instead, we'll plot the total weight of the top 100 words and bottom 1000 words for each topic. Below, we plot the (sorted) total weights of the top 100 words and bottom 1000 from each topic in the high, original, and low gamma models."
     ]
    },
    {
     "cell_type": "markdown",
     "metadata": {},
     "source": [
      "Now we will consider the following two models:\n",
      " - tpm_low_gamma, a model trained with gamma = 0.02 and default alpha\n",
      " - tpm_high_gamma, a model trained with gamma = 0.5 and default alpha"
     ]
    },
    {
     "cell_type": "code",
     "collapsed": true,
     "input": [
      "del tpm_low_alpha\n",
      "del tpm_high_alpha\n",
      "tpm_low_gamma = gl.load_model('_a20552cf806c54b71b3b87cb593b9968_topic_models/lda_low_gamma')\n",
      "tpm_high_gamma = gl.load_model('_a20552cf806c54b71b3b87cb593b9968_topic_models/lda_high_gamma')"
     ],
     "language": "python",
     "metadata": {},
     "outputs": [],
     "prompt_number": 30
    },
    {
     "cell_type": "code",
     "collapsed": false,
     "input": [
      "a_top = np.sort([sum(tpm_low_gamma.get_topics(topic_ids=[i], num_words=100)['score']) for i in range(10)])[::-1]\n",
      "b_top = np.sort([sum(topic_model.get_topics(topic_ids=[i], num_words=100)['score']) for i in range(10)])[::-1]\n",
      "c_top = np.sort([sum(tpm_high_gamma.get_topics(topic_ids=[i], num_words=100)['score']) for i in range(10)])[::-1]\n",
      "\n",
      "a_bot = np.sort([sum(tpm_low_gamma.get_topics(topic_ids=[i], num_words=547462)[-1000:]['score']) for i in range(10)])[::-1]\n",
      "b_bot = np.sort([sum(topic_model.get_topics(topic_ids=[i], num_words=547462)[-1000:]['score']) for i in range(10)])[::-1]\n",
      "c_bot = np.sort([sum(tpm_high_gamma.get_topics(topic_ids=[i], num_words=547462)[-1000:]['score']) for i in range(10)])[::-1]\n",
      "\n",
      "ind = np.arange(len(a))\n",
      "width = 0.3\n",
      "    \n",
      "param_bar_plot(a_top, b_top, c_top, ind, width, ylim=0.6, param='gamma',\n",
      "               xlab='Topics (sorted by weight of top 100 words)', \n",
      "               ylab='Total Probability of Top 100 Words')\n",
      "\n",
      "param_bar_plot(a_bot, b_bot, c_bot, ind, width, ylim=0.0002, param='gamma',\n",
      "               xlab='Topics (sorted by weight of bottom 1000 words)',\n",
      "               ylab='Total Probability of Bottom 1000 Words')"
     ],
     "language": "python",
     "metadata": {},
     "outputs": [
      {
       "metadata": {},
       "output_type": "display_data",
       "png": "[encoded data removed]",
       "text": [
        "<matplotlib.figure.Figure at 0x7f71005c55d0>"
       ]
      },
      {
       "metadata": {},
       "output_type": "display_data",
       "png": "[encoded data removed]",
       "text": [
        "<matplotlib.figure.Figure at 0x7f70c80c2e90>"
       ]
      }
     ],
     "prompt_number": 31
    },
    {
     "cell_type": "markdown",
     "metadata": {
      "collapsed": true
     },
     "source": [
      "From these two plots we can see that the low gamma model results in higher weight placed on the top words and lower weight placed on the bottom words for each topic, while the high gamma model places relatively less weight on the top words and more weight on the bottom words. Thus increasing gamma results in topics that have a smoother distribution of weight across all the words in the vocabulary."
     ]
    },
    {
     "cell_type": "markdown",
     "metadata": {},
     "source": [
      "__Quiz Question:__ For each topic of the **low gamma model**, compute the number of words required to make a list with total probability 0.5. What is the average number of words required across all topics? (HINT: use the get\\_topics() function from GraphLab Create with the cdf\\_cutoff argument)."
     ]
    },
    {
     "cell_type": "markdown",
     "metadata": {},
     "source": [
      "__Quiz Question:__ For each topic of the **high gamma model**, compute the number of words required to make a list with total probability 0.5. What is the average number of words required across all topics? (HINT: use the get\\_topics() function from GraphLab Create with the cdf\\_cutoff argument)."
     ]
    },
    {
     "cell_type": "markdown",
     "metadata": {},
     "source": [
      "We have now seen how the hyperparameters alpha and gamma influence the characteristics of our LDA topic model, but we haven't said anything about what settings of alpha or gamma are best. We know that these parameters are responsible for controlling the smoothness of the topic distributions for documents and word distributions for topics, but there's no simple conversion between smoothness of these distributions and quality of the topic model. In reality, there is no universally \"best\" choice for these parameters. Instead, finding a good topic model requires that we be able to both explore the output (as we did by looking at the topics and checking some topic predictions for documents) and understand the impact of hyperparameter settings (as we have in this section)."
     ]
    }
   ],
   "metadata": {}
  }
 ]
}