{
 "metadata": {
  "kernelspec": {
   "display_name": "Python 2",
   "language": "python",
   "name": "python2"
  },
  "language_info": {
   "codemirror_mode": {
    "name": "ipython",
    "version": 2
   },
   "file_extension": ".py",
   "mimetype": "text/x-python",
   "name": "python",
   "nbconvert_exporter": "python",
   "pygments_lexer": "ipython2",
   "version": "2.7.11"
  },
  "name": "",
  "signature": "sha256:ca4494292ed54515ba87888e6bfc9b0a3a16bc5cda152cbf89f041339af1391b"
 },
 "nbformat": 3,
 "nbformat_minor": 0,
 "worksheets": [
  {
   "cells": [
    {
     "cell_type": "heading",
     "level": 1,
     "metadata": {},
     "source": [
      "k-means with text data"
     ]
    },
    {
     "cell_type": "markdown",
     "metadata": {},
     "source": [
      "In this assignment you will\n",
      "* Cluster Wikipedia documents using k-means\n",
      "* Explore the role of random initialization on the quality of the clustering\n",
      "* Explore how results differ after changing the number of clusters\n",
      "* Evaluate clustering, both quantitatively and qualitatively\n",
      "\n",
      "When properly executed, clustering uncovers valuable insights from a set of unlabeled documents."
     ]
    },
    {
     "cell_type": "markdown",
     "metadata": {},
     "source": [
      "**Note to Amazon EC2 users**: To conserve memory, make sure to stop all the other notebooks before running this notebook."
     ]
    },
    {
     "cell_type": "heading",
     "level": 2,
     "metadata": {},
     "source": [
      "Import necessary packages"
     ]
    },
    {
     "cell_type": "markdown",
     "metadata": {},
     "source": [
      "The following code block will check if you have the correct version of GraphLab Create. Any version later than 1.8.5 will do. To upgrade, read [this page](https://turi.com/download/upgrade-graphlab-create.html)."
     ]
    },
    {
     "cell_type": "code",
     "collapsed": false,
     "input": [
      "import graphlab\n",
      "import matplotlib.pyplot as plt\n",
      "import numpy as np\n",
      "import sys\n",
      "import os\n",
      "from scipy.sparse import csr_matrix\n",
      "\n",
      "%matplotlib inline\n",
      "\n",
      "'''Check GraphLab Create version'''\n",
      "from distutils.version import StrictVersion\n",
      "assert (StrictVersion(graphlab.version) >= StrictVersion('1.8.5')), 'GraphLab Create must be version 1.8.5 or later.'"
     ],
     "language": "python",
     "metadata": {},
     "outputs": [],
     "prompt_number": 49
    },
    {
     "cell_type": "heading",
     "level": 2,
     "metadata": {},
     "source": [
      "Load data, extract features"
     ]
    },
    {
     "cell_type": "markdown",
     "metadata": {},
     "source": [
      "To work with text data, we must first convert the documents into numerical features. As in the first assignment, let's extract TF-IDF features for each article."
     ]
    },
    {
     "cell_type": "code",
     "collapsed": false,
     "input": [
      "wiki = graphlab.SFrame('people_wiki.gl/')"
     ],
     "language": "python",
     "metadata": {},
     "outputs": [],
     "prompt_number": 50
    },
    {
     "cell_type": "code",
     "collapsed": false,
     "input": [
      "wiki['tf_idf'] = graphlab.text_analytics.tf_idf(wiki['text']) \n",
      "wiki"
     ],
     "language": "python",
     "metadata": {},
     "outputs": [
      {
       "html": [
        "<div style=\"max-height:1000px;max-width:1500px;overflow:auto;\"><table frame=\"box\" rules=\"cols\">\n",
        "    <tr>\n",
        "        <th style=\"padding-left: 1em; padding-right: 1em; text-align: center\">URI</th>\n",
        "        <th style=\"padding-left: 1em; padding-right: 1em; text-align: center\">name</th>\n",
        "        <th style=\"padding-left: 1em; padding-right: 1em; text-align: center\">text</th>\n",
        "        <th style=\"padding-left: 1em; padding-right: 1em; text-align: center\">tf_idf</th>\n",
        "    </tr>\n",
        "    <tr>\n",
        "        <td style=\"padding-left: 1em; padding-right: 1em; text-align: center; vertical-align: top\">&lt;http://dbpedia.org/resou<br>rce/Digby_Morrell&gt; ...</td>\n",
        "        <td style=\"padding-left: 1em; padding-right: 1em; text-align: center; vertical-align: top\">Digby Morrell</td>\n",
        "        <td style=\"padding-left: 1em; padding-right: 1em; text-align: center; vertical-align: top\">digby morrell born 10<br>october 1979 is a former ...</td>\n",
        "        <td style=\"padding-left: 1em; padding-right: 1em; text-align: center; vertical-align: top\">{'selection':<br>3.836578553093086, ...</td>\n",
        "    </tr>\n",
        "    <tr>\n",
        "        <td style=\"padding-left: 1em; padding-right: 1em; text-align: center; vertical-align: top\">&lt;http://dbpedia.org/resou<br>rce/Alfred_J._Lewy&gt; ...</td>\n",
        "        <td style=\"padding-left: 1em; padding-right: 1em; text-align: center; vertical-align: top\">Alfred J. Lewy</td>\n",
        "        <td style=\"padding-left: 1em; padding-right: 1em; text-align: center; vertical-align: top\">alfred j lewy aka sandy<br>lewy graduated from ...</td>\n",
        "        <td style=\"padding-left: 1em; padding-right: 1em; text-align: center; vertical-align: top\">{'precise':<br>6.44320060695519, ...</td>\n",
        "    </tr>\n",
        "    <tr>\n",
        "        <td style=\"padding-left: 1em; padding-right: 1em; text-align: center; vertical-align: top\">&lt;http://dbpedia.org/resou<br>rce/Harpdog_Brown&gt; ...</td>\n",
        "        <td style=\"padding-left: 1em; padding-right: 1em; text-align: center; vertical-align: top\">Harpdog Brown</td>\n",
        "        <td style=\"padding-left: 1em; padding-right: 1em; text-align: center; vertical-align: top\">harpdog brown is a singer<br>and harmonica player who ...</td>\n",
        "        <td style=\"padding-left: 1em; padding-right: 1em; text-align: center; vertical-align: top\">{'just':<br>2.7007299687108643, ...</td>\n",
        "    </tr>\n",
        "    <tr>\n",
        "        <td style=\"padding-left: 1em; padding-right: 1em; text-align: center; vertical-align: top\">&lt;http://dbpedia.org/resou<br>rce/Franz_Rottensteiner&gt; ...</td>\n",
        "        <td style=\"padding-left: 1em; padding-right: 1em; text-align: center; vertical-align: top\">Franz Rottensteiner</td>\n",
        "        <td style=\"padding-left: 1em; padding-right: 1em; text-align: center; vertical-align: top\">franz rottensteiner born<br>in waidmannsfeld lower ...</td>\n",
        "        <td style=\"padding-left: 1em; padding-right: 1em; text-align: center; vertical-align: top\">{'all':<br>1.6431112434912472, ...</td>\n",
        "    </tr>\n",
        "    <tr>\n",
        "        <td style=\"padding-left: 1em; padding-right: 1em; text-align: center; vertical-align: top\">&lt;http://dbpedia.org/resou<br>rce/G-Enka&gt; ...</td>\n",
        "        <td style=\"padding-left: 1em; padding-right: 1em; text-align: center; vertical-align: top\">G-Enka</td>\n",
        "        <td style=\"padding-left: 1em; padding-right: 1em; text-align: center; vertical-align: top\">henry krvits born 30<br>december 1974 in tallinn ...</td>\n",
        "        <td style=\"padding-left: 1em; padding-right: 1em; text-align: center; vertical-align: top\">{'they':<br>1.8993401178193898, ...</td>\n",
        "    </tr>\n",
        "    <tr>\n",
        "        <td style=\"padding-left: 1em; padding-right: 1em; text-align: center; vertical-align: top\">&lt;http://dbpedia.org/resou<br>rce/Sam_Henderson&gt; ...</td>\n",
        "        <td style=\"padding-left: 1em; padding-right: 1em; text-align: center; vertical-align: top\">Sam Henderson</td>\n",
        "        <td style=\"padding-left: 1em; padding-right: 1em; text-align: center; vertical-align: top\">sam henderson born<br>october 18 1969 is an ...</td>\n",
        "        <td style=\"padding-left: 1em; padding-right: 1em; text-align: center; vertical-align: top\">{'currently':<br>1.637088969126014, ...</td>\n",
        "    </tr>\n",
        "    <tr>\n",
        "        <td style=\"padding-left: 1em; padding-right: 1em; text-align: center; vertical-align: top\">&lt;http://dbpedia.org/resou<br>rce/Aaron_LaCrate&gt; ...</td>\n",
        "        <td style=\"padding-left: 1em; padding-right: 1em; text-align: center; vertical-align: top\">Aaron LaCrate</td>\n",
        "        <td style=\"padding-left: 1em; padding-right: 1em; text-align: center; vertical-align: top\">aaron lacrate is an<br>american music producer ...</td>\n",
        "        <td style=\"padding-left: 1em; padding-right: 1em; text-align: center; vertical-align: top\">{'exclusive':<br>10.455187230695827, ...</td>\n",
        "    </tr>\n",
        "    <tr>\n",
        "        <td style=\"padding-left: 1em; padding-right: 1em; text-align: center; vertical-align: top\">&lt;http://dbpedia.org/resou<br>rce/Trevor_Ferguson&gt; ...</td>\n",
        "        <td style=\"padding-left: 1em; padding-right: 1em; text-align: center; vertical-align: top\">Trevor Ferguson</td>\n",
        "        <td style=\"padding-left: 1em; padding-right: 1em; text-align: center; vertical-align: top\">trevor ferguson aka john<br>farrow born 11 november ...</td>\n",
        "        <td style=\"padding-left: 1em; padding-right: 1em; text-align: center; vertical-align: top\">{'taxi':<br>6.0520214560945025, ...</td>\n",
        "    </tr>\n",
        "    <tr>\n",
        "        <td style=\"padding-left: 1em; padding-right: 1em; text-align: center; vertical-align: top\">&lt;http://dbpedia.org/resou<br>rce/Grant_Nelson&gt; ...</td>\n",
        "        <td style=\"padding-left: 1em; padding-right: 1em; text-align: center; vertical-align: top\">Grant Nelson</td>\n",
        "        <td style=\"padding-left: 1em; padding-right: 1em; text-align: center; vertical-align: top\">grant nelson born 27<br>april 1971 in london  ...</td>\n",
        "        <td style=\"padding-left: 1em; padding-right: 1em; text-align: center; vertical-align: top\">{'houston':<br>3.935505942157149, ...</td>\n",
        "    </tr>\n",
        "    <tr>\n",
        "        <td style=\"padding-left: 1em; padding-right: 1em; text-align: center; vertical-align: top\">&lt;http://dbpedia.org/resou<br>rce/Cathy_Caruth&gt; ...</td>\n",
        "        <td style=\"padding-left: 1em; padding-right: 1em; text-align: center; vertical-align: top\">Cathy Caruth</td>\n",
        "        <td style=\"padding-left: 1em; padding-right: 1em; text-align: center; vertical-align: top\">cathy caruth born 1955 is<br>frank h t rhodes ...</td>\n",
        "        <td style=\"padding-left: 1em; padding-right: 1em; text-align: center; vertical-align: top\">{'phenomenon':<br>5.750053426395245, ...</td>\n",
        "    </tr>\n",
        "</table>\n",
        "[59071 rows x 4 columns]<br/>Note: Only the head of the SFrame is printed.<br/>You can use print_rows(num_rows=m, num_columns=n) to print more rows and columns.\n",
        "</div>"
       ],
       "metadata": {},
       "output_type": "pyout",
       "prompt_number": 51,
       "text": [
        "Columns:\n",
        "\tURI\tstr\n",
        "\tname\tstr\n",
        "\ttext\tstr\n",
        "\ttf_idf\tdict\n",
        "\n",
        "Rows: 59071\n",
        "\n",
        "Data:\n",
        "+-------------------------------+---------------------+\n",
        "|              URI              |         name        |\n",
        "+-------------------------------+---------------------+\n",
        "| <http://dbpedia.org/resour... |    Digby Morrell    |\n",
        "| <http://dbpedia.org/resour... |    Alfred J. Lewy   |\n",
        "| <http://dbpedia.org/resour... |    Harpdog Brown    |\n",
        "| <http://dbpedia.org/resour... | Franz Rottensteiner |\n",
        "| <http://dbpedia.org/resour... |        G-Enka       |\n",
        "| <http://dbpedia.org/resour... |    Sam Henderson    |\n",
        "| <http://dbpedia.org/resour... |    Aaron LaCrate    |\n",
        "| <http://dbpedia.org/resour... |   Trevor Ferguson   |\n",
        "| <http://dbpedia.org/resour... |     Grant Nelson    |\n",
        "| <http://dbpedia.org/resour... |     Cathy Caruth    |\n",
        "+-------------------------------+---------------------+\n",
        "+-------------------------------+-------------------------------+\n",
        "|              text             |             tf_idf            |\n",
        "+-------------------------------+-------------------------------+\n",
        "| digby morrell born 10 octo... | {'selection': 3.8365785530... |\n",
        "| alfred j lewy aka sandy le... | {'precise': 6.443200606955... |\n",
        "| harpdog brown is a singer ... | {'just': 2.700729968710864... |\n",
        "| franz rottensteiner born i... | {'all': 1.6431112434912472... |\n",
        "| henry krvits born 30 decem... | {'they': 1.899340117819389... |\n",
        "| sam henderson born october... | {'currently': 1.6370889691... |\n",
        "| aaron lacrate is an americ... | {'exclusive': 10.455187230... |\n",
        "| trevor ferguson aka john f... | {'taxi': 6.052021456094502... |\n",
        "| grant nelson born 27 april... | {'houston': 3.935505942157... |\n",
        "| cathy caruth born 1955 is ... | {'phenomenon': 5.750053426... |\n",
        "+-------------------------------+-------------------------------+\n",
        "[59071 rows x 4 columns]\n",
        "Note: Only the head of the SFrame is printed.\n",
        "You can use print_rows(num_rows=m, num_columns=n) to print more rows and columns."
       ]
      }
     ],
     "prompt_number": 51
    },
    {
     "cell_type": "markdown",
     "metadata": {},
     "source": [
      "For the remainder of the assignment, we will use sparse matrices. Sparse matrices are matrices that have a small number of nonzero entries. A good data structure for sparse matrices would only store the nonzero entries to save space and speed up computation. SciPy provides a highly-optimized library for sparse matrices. Many matrix operations available for NumPy arrays are also available for SciPy sparse matrices.\n",
      "\n",
      "We first convert the TF-IDF column (in dictionary format) into the SciPy sparse matrix format. We included plenty of comments for the curious; if you'd like, you may skip the next block and treat the function as a black box."
     ]
    },
    {
     "cell_type": "code",
     "collapsed": false,
     "input": [
      "def sframe_to_scipy(x, column_name):\n",
      "    '''\n",
      "    Convert a dictionary column of an SFrame into a sparse matrix format where\n",
      "    each (row_id, column_id, value) triple corresponds to the value of\n",
      "    x[row_id][column_id], where column_id is a key in the dictionary.\n",
      "       \n",
      "    Example\n",
      "    >>> sparse_matrix, map_key_to_index = sframe_to_scipy(sframe, column_name)\n",
      "    '''\n",
      "    assert x[column_name].dtype() == dict, \\\n",
      "        'The chosen column must be dict type, representing sparse data.'\n",
      "        \n",
      "    # Create triples of (row_id, feature_id, count).\n",
      "    # 1. Add a row number.\n",
      "    x = x.add_row_number()\n",
      "    print \"before->\",x\n",
      "    # 2. Stack will transform x to have a row for each unique (row, key) pair.\n",
      "    x = x.stack(column_name, ['feature', 'value'])\n",
      "    print \"after-->\",x\n",
      "    # Map words into integers using a OneHotEncoder feature transformation.\n",
      "    f = graphlab.feature_engineering.OneHotEncoder(features=['feature'])\n",
      "    # 1. Fit the transformer using the above data.\n",
      "    f.fit(x)\n",
      "    # 2. The transform takes 'feature' column and adds a new column 'feature_encoding'.\n",
      "    x = f.transform(x)\n",
      "    # 3. Get the feature mapping.\n",
      "    mapping = f['feature_encoding']\n",
      "    # 4. Get the feature id to use for each key.\n",
      "    x['feature_id'] = x['encoded_features'].dict_keys().apply(lambda x: x[0])\n",
      "\n",
      "    # Create numpy arrays that contain the data for the sparse matrix.\n",
      "    i = np.array(x['id'])\n",
      "    j = np.array(x['feature_id'])\n",
      "    v = np.array(x['value'])\n",
      "    width = x['id'].max() + 1\n",
      "    height = x['feature_id'].max() + 1\n",
      "    print \"at the end--- >\",x\n",
      "\n",
      "    # Create a sparse matrix.\n",
      "    mat = csr_matrix((v, (i, j)), shape=(width, height))\n",
      "\n",
      "    return mat, mapping"
     ],
     "language": "python",
     "metadata": {},
     "outputs": [],
     "prompt_number": 52
    },
    {
     "cell_type": "code",
     "collapsed": false,
     "input": [
      "# The conversion will take about a minute or two.\n",
      "tf_idf, map_index_to_word = sframe_to_scipy(wiki, 'tf_idf')"
     ],
     "language": "python",
     "metadata": {},
     "outputs": [
      {
       "output_type": "stream",
       "stream": "stdout",
       "text": [
        "before-> +----+-------------------------------+---------------------+\n",
        "| id |              URI              |         name        |\n",
        "+----+-------------------------------+---------------------+\n",
        "| 0  | <http://dbpedia.org/resour... |    Digby Morrell    |\n",
        "| 1  | <http://dbpedia.org/resour... |    Alfred J. Lewy   |\n",
        "| 2  | <http://dbpedia.org/resour... |    Harpdog Brown    |\n",
        "| 3  | <http://dbpedia.org/resour... | Franz Rottensteiner |\n",
        "| 4  | <http://dbpedia.org/resour... |        G-Enka       |\n",
        "| 5  | <http://dbpedia.org/resour... |    Sam Henderson    |\n",
        "| 6  | <http://dbpedia.org/resour... |    Aaron LaCrate    |\n",
        "| 7  | <http://dbpedia.org/resour... |   Trevor Ferguson   |\n",
        "| 8  | <http://dbpedia.org/resour... |     Grant Nelson    |\n",
        "| 9  | <http://dbpedia.org/resour... |     Cathy Caruth    |\n",
        "+----+-------------------------------+---------------------+\n",
        "+-------------------------------+-------------------------------+\n",
        "|              text             |             tf_idf            |\n",
        "+-------------------------------+-------------------------------+\n",
        "| digby morrell born 10 octo... | {'selection': 3.8365785530... |\n",
        "| alfred j lewy aka sandy le... | {'precise': 6.443200606955... |\n",
        "| harpdog brown is a singer ... | {'just': 2.700729968710864... |\n",
        "| franz rottensteiner born i... | {'all': 1.6431112434912472... |\n",
        "| henry krvits born 30 decem... | {'they': 1.899340117819389... |\n",
        "| sam henderson born october... | {'currently': 1.6370889691... |\n",
        "| aaron lacrate is an americ... | {'exclusive': 10.455187230... |\n",
        "| trevor ferguson aka john f... | {'taxi': 6.052021456094502... |\n",
        "| grant nelson born 27 april... | {'houston': 3.935505942157... |\n",
        "| cathy caruth born 1955 is ... | {'phenomenon': 5.750053426... |\n",
        "+-------------------------------+-------------------------------+\n",
        "[59071 rows x 5 columns]\n",
        "Note: Only the head of the SFrame is printed.\n",
        "You can use print_rows(num_rows=m, num_columns=n) to print more rows and columns."
       ]
      },
      {
       "output_type": "stream",
       "stream": "stdout",
       "text": [
        "\n",
        "after-->"
       ]
      },
      {
       "output_type": "stream",
       "stream": "stdout",
       "text": [
        " +----+-------------------------------+---------------+\n",
        "| id |              URI              |      name     |\n",
        "+----+-------------------------------+---------------+\n",
        "| 0  | <http://dbpedia.org/resour... | Digby Morrell |\n",
        "| 0  | <http://dbpedia.org/resour... | Digby Morrell |\n",
        "| 0  | <http://dbpedia.org/resour... | Digby Morrell |\n",
        "| 0  | <http://dbpedia.org/resour... | Digby Morrell |\n",
        "| 0  | <http://dbpedia.org/resour... | Digby Morrell |\n",
        "| 0  | <http://dbpedia.org/resour... | Digby Morrell |\n",
        "| 0  | <http://dbpedia.org/resour... | Digby Morrell |\n",
        "| 0  | <http://dbpedia.org/resour... | Digby Morrell |\n",
        "| 0  | <http://dbpedia.org/resour... | Digby Morrell |\n",
        "| 0  | <http://dbpedia.org/resour... | Digby Morrell |\n",
        "+----+-------------------------------+---------------+\n",
        "+-------------------------------+-----------+----------------+\n",
        "|              text             |  feature  |     value      |\n",
        "+-------------------------------+-----------+----------------+\n",
        "| digby morrell born 10 octo... | melbourne | 3.89143101194  |\n",
        "| digby morrell born 10 octo... |  college  | 1.56136627032  |\n",
        "| digby morrell born 10 octo... |   parade  | 5.51003183729  |\n",
        "| digby morrell born 10 octo... | education |  2.4487155642  |\n",
        "| digby morrell born 10 octo... |  teaches  |  3.7712554105  |\n",
        "| digby morrell born 10 octo... | currently | 1.63708896913  |\n",
        "| digby morrell born 10 octo... |   edflhe  | 10.9864953892  |\n",
        "| digby morrell born 10 octo... |    also   | 0.462727091616 |\n",
        "| digby morrell born 10 octo... |   coburg  |  7.8510011733  |\n",
        "| digby morrell born 10 octo... |  coached  |  3.992562414   |\n",
        "+-------------------------------+-----------+----------------+\n",
        "[10379283 rows x 6 columns]\n",
        "Note: Only the head of the SFrame is printed.\n",
        "You can use print_rows(num_rows=m, num_columns=n) to print more rows and columns."
       ]
      },
      {
       "output_type": "stream",
       "stream": "stdout",
       "text": [
        "\n",
        "at the end--- >"
       ]
      },
      {
       "output_type": "stream",
       "stream": "stdout",
       "text": [
        " +----+-------------------------------+---------------+\n",
        "| id |              URI              |      name     |\n",
        "+----+-------------------------------+---------------+\n",
        "| 0  | <http://dbpedia.org/resour... | Digby Morrell |\n",
        "| 0  | <http://dbpedia.org/resour... | Digby Morrell |\n",
        "| 0  | <http://dbpedia.org/resour... | Digby Morrell |\n",
        "| 0  | <http://dbpedia.org/resour... | Digby Morrell |\n",
        "| 0  | <http://dbpedia.org/resour... | Digby Morrell |\n",
        "| 0  | <http://dbpedia.org/resour... | Digby Morrell |\n",
        "| 0  | <http://dbpedia.org/resour... | Digby Morrell |\n",
        "| 0  | <http://dbpedia.org/resour... | Digby Morrell |\n",
        "| 0  | <http://dbpedia.org/resour... | Digby Morrell |\n",
        "| 0  | <http://dbpedia.org/resour... | Digby Morrell |\n",
        "+----+-------------------------------+---------------+\n",
        "+-------------------------------+----------------+------------------+------------+\n",
        "|              text             |     value      | encoded_features | feature_id |\n",
        "+-------------------------------+----------------+------------------+------------+\n",
        "| digby morrell born 10 octo... | 3.89143101194  |   {546634: 1}    |   546634   |\n",
        "| digby morrell born 10 octo... | 1.56136627032  |   {547901: 1}    |   547901   |\n",
        "| digby morrell born 10 octo... | 5.51003183729  |   {542919: 1}    |   542919   |\n",
        "| digby morrell born 10 octo... |  2.4487155642  |   {547689: 1}    |   547689   |\n",
        "| digby morrell born 10 octo... |  3.7712554105  |   {546778: 1}    |   546778   |\n",
        "| digby morrell born 10 octo... | 1.63708896913  |   {547889: 1}    |   547889   |\n",
        "| digby morrell born 10 octo... | 10.9864953892  |    {92219: 1}    |   92219    |\n",
        "| digby morrell born 10 octo... | 0.462727091616 |   {547958: 1}    |   547958   |\n",
        "| digby morrell born 10 octo... |  7.8510011733  |   {523996: 1}    |   523996   |\n",
        "| digby morrell born 10 octo... |  3.992562414   |   {546518: 1}    |   546518   |\n",
        "+-------------------------------+----------------+------------------+------------+\n",
        "[10379283 rows x 7 columns]\n",
        "Note: Only the head of the SFrame is printed.\n",
        "You can use print_rows(num_rows=m, num_columns=n) to print more rows and columns."
       ]
      },
      {
       "output_type": "stream",
       "stream": "stdout",
       "text": [
        "\n"
       ]
      }
     ],
     "prompt_number": 53
    },
    {
     "cell_type": "code",
     "collapsed": false,
     "input": [
      "tf_idf"
     ],
     "language": "python",
     "metadata": {},
     "outputs": [
      {
       "metadata": {},
       "output_type": "pyout",
       "prompt_number": 54,
       "text": [
        "<59071x547979 sparse matrix of type '<type 'numpy.float64'>'\n",
        "\twith 10379283 stored elements in Compressed Sparse Row format>"
       ]
      }
     ],
     "prompt_number": 54
    },
    {
     "cell_type": "markdown",
     "metadata": {},
     "source": [
      "The above matrix contains a TF-IDF score for each of the 59071 pages in the data set and each of the 547979 unique words."
     ]
    },
    {
     "cell_type": "heading",
     "level": 2,
     "metadata": {},
     "source": [
      "Normalize all vectors"
     ]
    },
    {
     "cell_type": "markdown",
     "metadata": {},
     "source": [
      "As discussed in the previous assignment, Euclidean distance can be a poor metric of similarity between documents, as it unfairly penalizes long articles. For a reasonable assessment of similarity, we should disregard the length information and use length-agnostic metrics, such as cosine distance.\n",
      "\n",
      "The k-means algorithm does not directly work with cosine distance, so we take an alternative route to remove length information: we normalize all vectors to be unit length. It turns out that Euclidean distance closely mimics cosine distance when all vectors are unit length. In particular, the squared Euclidean distance between any two vectors of length one is directly proportional to their cosine distance.\n",
      "\n",
      "We can prove this as follows. Let $\\mathbf{x}$ and $\\mathbf{y}$ be normalized vectors, i.e. unit vectors, so that $\\|\\mathbf{x}\\|=\\|\\mathbf{y}\\|=1$. Write the squared Euclidean distance as the dot product of $(\\mathbf{x} - \\mathbf{y})$ to itself:\n",
      "\\begin{align*}\n",
      "\\|\\mathbf{x} - \\mathbf{y}\\|^2 &= (\\mathbf{x} - \\mathbf{y})^T(\\mathbf{x} - \\mathbf{y})\\\\\n",
      "                              &= (\\mathbf{x}^T \\mathbf{x}) - 2(\\mathbf{x}^T \\mathbf{y}) + (\\mathbf{y}^T \\mathbf{y})\\\\\n",
      "                              &= \\|\\mathbf{x}\\|^2 - 2(\\mathbf{x}^T \\mathbf{y}) + \\|\\mathbf{y}\\|^2\\\\\n",
      "                              &= 2 - 2(\\mathbf{x}^T \\mathbf{y})\\\\\n",
      "                              &= 2(1 - (\\mathbf{x}^T \\mathbf{y}))\\\\\n",
      "                              &= 2\\left(1 - \\frac{\\mathbf{x}^T \\mathbf{y}}{\\|\\mathbf{x}\\|\\|\\mathbf{y}\\|}\\right)\\\\\n",
      "                              &= 2\\left[\\text{cosine distance}\\right]\n",
      "\\end{align*}\n",
      "\n",
      "This tells us that two **unit vectors** that are close in Euclidean distance are also close in cosine distance. Thus, the k-means algorithm (which naturally uses Euclidean distances) on normalized vectors will produce the same results as clustering using cosine distance as a distance metric.\n",
      "\n",
      "We import the [`normalize()` function](http://scikit-learn.org/stable/modules/generated/sklearn.preprocessing.normalize.html) from scikit-learn to normalize all vectors to unit length."
     ]
    },
    {
     "cell_type": "code",
     "collapsed": true,
     "input": [
      "from sklearn.preprocessing import normalize\n",
      "tf_idf = normalize(tf_idf)"
     ],
     "language": "python",
     "metadata": {},
     "outputs": [],
     "prompt_number": 55
    },
    {
     "cell_type": "heading",
     "level": 2,
     "metadata": {},
     "source": [
      "Implement k-means"
     ]
    },
    {
     "cell_type": "markdown",
     "metadata": {},
     "source": [
      "Let us implement the k-means algorithm. First, we choose an initial set of centroids. A common practice is to choose randomly from the data points.\n",
      "\n",
      "**Note:** We specify a seed here, so that everyone gets the same answer. In practice, we highly recommend to use different seeds every time (for instance, by using the current timestamp)."
     ]
    },
    {
     "cell_type": "code",
     "collapsed": true,
     "input": [
      "def get_initial_centroids(data, k, seed=None):\n",
      "    '''Randomly choose k data points as initial centroids'''\n",
      "    if seed is not None: # useful for obtaining consistent results\n",
      "        np.random.seed(seed)\n",
      "    n = data.shape[0] # number of data points\n",
      "        \n",
      "    # Pick K indices from range [0, N).\n",
      "    rand_indices = np.random.randint(0, n, k)\n",
      "    \n",
      "    # Keep centroids as dense format, as many entries will be nonzero due to averaging.\n",
      "    # As long as at least one document in a cluster contains a word,\n",
      "    # it will carry a nonzero weight in the TF-IDF vector of the centroid.\n",
      "    centroids = data[rand_indices,:].toarray()\n",
      "    \n",
      "    return centroids"
     ],
     "language": "python",
     "metadata": {},
     "outputs": [],
     "prompt_number": 56
    },
    {
     "cell_type": "markdown",
     "metadata": {},
     "source": [
      "After initialization, the k-means algorithm iterates between the following two steps:\n",
      "1. Assign each data point to the closest centroid.\n",
      "$$\n",
      "z_i \\gets \\mathrm{argmin}_j \\|\\mu_j - \\mathbf{x}_i\\|^2\n",
      "$$\n",
      "2. Revise centroids as the mean of the assigned data points.\n",
      "$$\n",
      "\\mu_j \\gets \\frac{1}{n_j}\\sum_{i:z_i=j} \\mathbf{x}_i\n",
      "$$"
     ]
    },
    {
     "cell_type": "markdown",
     "metadata": {},
     "source": [
      "In pseudocode, we iteratively do the following:\n",
      "```\n",
      "cluster_assignment = assign_clusters(data, centroids)\n",
      "centroids = revise_centroids(data, k, cluster_assignment)\n",
      "```"
     ]
    },
    {
     "cell_type": "heading",
     "level": 3,
     "metadata": {},
     "source": [
      "Assigning clusters"
     ]
    },
    {
     "cell_type": "markdown",
     "metadata": {},
     "source": [
      "How do we implement Step 1 of the main k-means loop above? First import `pairwise_distances` function from scikit-learn, which calculates Euclidean distances between rows of given arrays. See [this documentation](http://scikit-learn.org/stable/modules/generated/sklearn.metrics.pairwise.pairwise_distances.html) for more information.\n",
      "\n",
      "For the sake of demonstration, let's look at documents 100 through 102 as query documents and compute the distances between each of these documents and every other document in the corpus. In the k-means algorithm, we will have to compute pairwise distances between the set of centroids and the set of documents."
     ]
    },
    {
     "cell_type": "code",
     "collapsed": false,
     "input": [
      "from sklearn.metrics import pairwise_distances\n",
      "\n",
      "# Get the TF-IDF vectors for documents 100 through 102.\n",
      "queries = tf_idf[100:102,:]\n",
      "\n",
      "# Compute pairwise distances from every data point to each query vector.\n",
      "dist = pairwise_distances(tf_idf, queries, metric='euclidean')\n",
      "\n",
      "print dist"
     ],
     "language": "python",
     "metadata": {},
     "outputs": [
      {
       "output_type": "stream",
       "stream": "stdout",
       "text": [
        "[[ 1.41000789  1.36894636]\n",
        " [ 1.40935215  1.41023886]\n",
        " [ 1.39855967  1.40890299]\n",
        " ..., \n",
        " [ 1.41108296  1.39123646]\n",
        " [ 1.41022804  1.31468652]\n",
        " [ 1.39899784  1.41072448]]\n"
       ]
      }
     ],
     "prompt_number": 57
    },
    {
     "cell_type": "markdown",
     "metadata": {},
     "source": [
      "More formally, `dist[i,j]` is assigned the distance between the `i`th row of `X` (i.e., `X[i,:]`) and the `j`th row of `Y` (i.e., `Y[j,:]`)."
     ]
    },
    {
     "cell_type": "markdown",
     "metadata": {},
     "source": [
      "**Checkpoint:** For a moment, suppose that we initialize three centroids with the first 3 rows of `tf_idf`. Write code to compute distances from each of the centroids to all data points in `tf_idf`. Then find the distance between row 430 of `tf_idf` and the second centroid and save it to `dist`."
     ]
    },
    {
     "cell_type": "code",
     "collapsed": true,
     "input": [
      "# Students should write code here\n",
      "first_3_centroids = tf_idf[:3,:]\n",
      "dist3 = pairwise_distances(tf_idf, first_3_centroids, metric='euclidean')\n",
      "dist = dist3[430, 1]\n",
      "print dist"
     ],
     "language": "python",
     "metadata": {},
     "outputs": [
      {
       "output_type": "stream",
       "stream": "stdout",
       "text": [
        "1.40713106585\n"
       ]
      }
     ],
     "prompt_number": 58
    },
    {
     "cell_type": "code",
     "collapsed": false,
     "input": [
      "'''Test cell'''\n",
      "if np.allclose(dist, pairwise_distances(tf_idf[430,:], tf_idf[1,:])):\n",
      "    print('Pass')\n",
      "else:\n",
      "    print('Check your code again')"
     ],
     "language": "python",
     "metadata": {},
     "outputs": [
      {
       "output_type": "stream",
       "stream": "stdout",
       "text": [
        "Pass\n"
       ]
      }
     ],
     "prompt_number": 59
    },
    {
     "cell_type": "markdown",
     "metadata": {},
     "source": [
      "**Checkpoint:** Next, given the pairwise distances, we take the minimum of the distances for each data point. Fittingly, NumPy provides an `argmin` function. See [this documentation](http://docs.scipy.org/doc/numpy-1.10.1/reference/generated/numpy.argmin.html) for details.\n",
      "\n",
      "Read the documentation and write code to produce a 1D array whose i-th entry indicates the centroid that is the closest to the i-th data point. Use the list of distances from the previous checkpoint and save them as `distances`. The value 0 indicates closeness to the first centroid, 1 indicates closeness to the second centroid, and so forth. Save this array as `closest_cluster`.\n",
      "\n",
      "**Hint:** the resulting array should be as long as the number of data points."
     ]
    },
    {
     "cell_type": "code",
     "collapsed": true,
     "input": [
      "# Students should write code here\n",
      "distances=dist3\n",
      "closest_cluster=np.argmin(distances,axis=1)\n",
      "len(closest_cluster)\n",
      "len(wiki)"
     ],
     "language": "python",
     "metadata": {},
     "outputs": [
      {
       "metadata": {},
       "output_type": "pyout",
       "prompt_number": 60,
       "text": [
        "59071"
       ]
      }
     ],
     "prompt_number": 60
    },
    {
     "cell_type": "code",
     "collapsed": false,
     "input": [
      "'''Test cell'''\n",
      "reference = [list(row).index(min(row)) for row in distances]\n",
      "if np.allclose(closest_cluster, reference):\n",
      "    print('Pass')\n",
      "else:\n",
      "    print('Check your code again')"
     ],
     "language": "python",
     "metadata": {},
     "outputs": [
      {
       "output_type": "stream",
       "stream": "stdout",
       "text": [
        "Pass\n"
       ]
      }
     ],
     "prompt_number": 61
    },
    {
     "cell_type": "markdown",
     "metadata": {},
     "source": [
      "**Checkpoint:** Let's put these steps together.  First, initialize three centroids with the first 3 rows of `tf_idf`. Then, compute distances from each of the centroids to all data points in `tf_idf`. Finally, use these distance calculations to compute cluster assignments and assign them to `cluster_assignment`."
     ]
    },
    {
     "cell_type": "code",
     "collapsed": true,
     "input": [
      "first_3_centroids = tf_idf[:3,:]\n",
      "distances = pairwise_distances(tf_idf, first_3_centroids, metric='euclidean')\n",
      "cluster_assignment = np.argmin(distances, axis=1)"
     ],
     "language": "python",
     "metadata": {},
     "outputs": [],
     "prompt_number": 62
    },
    {
     "cell_type": "code",
     "collapsed": false,
     "input": [
      "if len(cluster_assignment)==59071 and \\\n",
      "   np.array_equal(np.bincount(cluster_assignment), np.array([23061, 10086, 25924])):\n",
      "    print('Pass') # count number of data points for each cluster\n",
      "else:\n",
      "    print('Check your code again.')"
     ],
     "language": "python",
     "metadata": {},
     "outputs": [
      {
       "output_type": "stream",
       "stream": "stdout",
       "text": [
        "Pass\n"
       ]
      }
     ],
     "prompt_number": 63
    },
    {
     "cell_type": "markdown",
     "metadata": {},
     "source": [
      "Now we are ready to fill in the blanks in this function:"
     ]
    },
    {
     "cell_type": "code",
     "collapsed": true,
     "input": [
      "def assign_clusters(data, centroids):\n",
      "    \n",
      "    # Compute distances between each data point and the set of centroids:\n",
      "    # Fill in the blank (RHS only)\n",
      "    distances_from_centroids = pairwise_distances(data, centroids, metric='euclidean')\n",
      "    \n",
      "    # Compute cluster assignments for each data point:\n",
      "    # Fill in the blank (RHS only)\n",
      "    cluster_assignment = np.argmin(distances_from_centroids, axis=1)\n",
      "    \n",
      "    return cluster_assignment"
     ],
     "language": "python",
     "metadata": {},
     "outputs": [],
     "prompt_number": 64
    },
    {
     "cell_type": "markdown",
     "metadata": {},
     "source": [
      "**Checkpoint**. For the last time, let us check if Step 1 was implemented correctly. With rows 0, 2, 4, and 6 of `tf_idf` as an initial set of centroids, we assign cluster labels to rows 0, 10, 20, ..., and 90 of `tf_idf`. The resulting cluster labels should be `[0, 1, 1, 0, 0, 2, 0, 2, 2, 1]`."
     ]
    },
    {
     "cell_type": "code",
     "collapsed": false,
     "input": [
      "if np.allclose(assign_clusters(tf_idf[0:100:10], tf_idf[0:8:2]), np.array([0, 1, 1, 0, 0, 2, 0, 2, 2, 1])):\n",
      "    print('Pass')\n",
      "else:\n",
      "    print('Check your code again.')"
     ],
     "language": "python",
     "metadata": {},
     "outputs": [
      {
       "output_type": "stream",
       "stream": "stdout",
       "text": [
        "Pass\n"
       ]
      }
     ],
     "prompt_number": 65
    },
    {
     "cell_type": "heading",
     "level": 3,
     "metadata": {},
     "source": [
      "Revising clusters"
     ]
    },
    {
     "cell_type": "markdown",
     "metadata": {},
     "source": [
      "Let's turn to Step 2, where we compute the new centroids given the cluster assignments. "
     ]
    },
    {
     "cell_type": "markdown",
     "metadata": {},
     "source": [
      "SciPy and NumPy arrays allow for filtering via Boolean masks. For instance, we filter all data points that are assigned to cluster 0 by writing\n",
      "```\n",
      "data[cluster_assignment==0,:]\n",
      "```"
     ]
    },
    {
     "cell_type": "markdown",
     "metadata": {},
     "source": [
      "To develop intuition about filtering, let's look at a toy example consisting of 3 data points and 2 clusters."
     ]
    },
    {
     "cell_type": "code",
     "collapsed": false,
     "input": [
      "data = np.array([[1., 2., 0.],\n",
      "                 [0., 0., 0.],\n",
      "                 [2., 2., 0.]])\n",
      "centroids = np.array([[0.5, 0.5, 0.],\n",
      "                      [0., -0.5, 0.]])"
     ],
     "language": "python",
     "metadata": {},
     "outputs": [],
     "prompt_number": 66
    },
    {
     "cell_type": "markdown",
     "metadata": {},
     "source": [
      "Let's assign these data points to the closest centroid."
     ]
    },
    {
     "cell_type": "code",
     "collapsed": false,
     "input": [
      "cluster_assignment = assign_clusters(data, centroids)\n",
      "print cluster_assignment"
     ],
     "language": "python",
     "metadata": {},
     "outputs": [
      {
       "output_type": "stream",
       "stream": "stdout",
       "text": [
        "[0 1 0]\n"
       ]
      }
     ],
     "prompt_number": 67
    },
    {
     "cell_type": "markdown",
     "metadata": {},
     "source": [
      "The expression `cluster_assignment==1` gives a list of Booleans that says whether each data point is assigned to cluster 1 or not:"
     ]
    },
    {
     "cell_type": "code",
     "collapsed": false,
     "input": [
      "cluster_assignment==1"
     ],
     "language": "python",
     "metadata": {},
     "outputs": [
      {
       "metadata": {},
       "output_type": "pyout",
       "prompt_number": 68,
       "text": [
        "array([False,  True, False], dtype=bool)"
       ]
      }
     ],
     "prompt_number": 68
    },
    {
     "cell_type": "markdown",
     "metadata": {},
     "source": [
      "Likewise for cluster 0:"
     ]
    },
    {
     "cell_type": "code",
     "collapsed": false,
     "input": [
      "cluster_assignment==0"
     ],
     "language": "python",
     "metadata": {},
     "outputs": [
      {
       "metadata": {},
       "output_type": "pyout",
       "prompt_number": 69,
       "text": [
        "array([ True, False,  True], dtype=bool)"
       ]
      }
     ],
     "prompt_number": 69
    },
    {
     "cell_type": "markdown",
     "metadata": {},
     "source": [
      "In lieu of indices, we can put in the list of Booleans to pick and choose rows. Only the rows that correspond to a `True` entry will be retained.\n",
      "\n",
      "First, let's look at the data points (i.e., their values) assigned to cluster 1:"
     ]
    },
    {
     "cell_type": "code",
     "collapsed": false,
     "input": [
      "data[cluster_assignment==1]"
     ],
     "language": "python",
     "metadata": {},
     "outputs": [
      {
       "metadata": {},
       "output_type": "pyout",
       "prompt_number": 70,
       "text": [
        "array([[ 0.,  0.,  0.]])"
       ]
      }
     ],
     "prompt_number": 70
    },
    {
     "cell_type": "markdown",
     "metadata": {},
     "source": [
      "This makes sense since [0 0 0] is closer to [0 -0.5 0] than to [0.5 0.5 0].\n",
      "\n",
      "Now let's look at the data points assigned to cluster 0:"
     ]
    },
    {
     "cell_type": "code",
     "collapsed": false,
     "input": [
      "data[cluster_assignment==0]"
     ],
     "language": "python",
     "metadata": {},
     "outputs": [
      {
       "metadata": {},
       "output_type": "pyout",
       "prompt_number": 71,
       "text": [
        "array([[ 1.,  2.,  0.],\n",
        "       [ 2.,  2.,  0.]])"
       ]
      }
     ],
     "prompt_number": 71
    },
    {
     "cell_type": "markdown",
     "metadata": {},
     "source": [
      "Again, this makes sense since these values are each closer to [0.5 0.5 0] than to [0 -0.5 0].\n",
      "\n",
      "Given all the data points in a cluster, it only remains to compute the mean. Use [np.mean()](http://docs.scipy.org/doc/numpy-1.10.0/reference/generated/numpy.mean.html). By default, the function averages all elements in a 2D array. To compute row-wise or column-wise means, add the `axis` argument. See the linked documentation for details. \n",
      "\n",
      "Use this function to average the data points in cluster 0:"
     ]
    },
    {
     "cell_type": "code",
     "collapsed": false,
     "input": [
      "data[cluster_assignment==0].mean(axis=0)"
     ],
     "language": "python",
     "metadata": {},
     "outputs": [
      {
       "metadata": {},
       "output_type": "pyout",
       "prompt_number": 72,
       "text": [
        "array([ 1.5,  2. ,  0. ])"
       ]
      }
     ],
     "prompt_number": 72
    },
    {
     "cell_type": "markdown",
     "metadata": {},
     "source": [
      "We are now ready to complete this function:"
     ]
    },
    {
     "cell_type": "code",
     "collapsed": true,
     "input": [
      "def revise_centroids(data, k, cluster_assignment):\n",
      "    new_centroids = []\n",
      "    for i in xrange(k):\n",
      "        # Select all data points that belong to cluster i. Fill in the blank (RHS only)\n",
      "        member_data_points = data[cluster_assignment==i]\n",
      "        # Compute the mean of the data points. Fill in the blank (RHS only)\n",
      "        centroid = member_data_points.mean(axis=0)\n",
      "        \n",
      "        # Convert numpy.matrix type to numpy.ndarray type\n",
      "        centroid = centroid.A1\n",
      "        new_centroids.append(centroid)\n",
      "    new_centroids = np.array(new_centroids)\n",
      "    \n",
      "    return new_centroids"
     ],
     "language": "python",
     "metadata": {},
     "outputs": [],
     "prompt_number": 73
    },
    {
     "cell_type": "markdown",
     "metadata": {},
     "source": [
      "**Checkpoint**. Let's check our Step 2 implementation. Letting rows 0, 10, ..., 90 of `tf_idf` as the data points and the cluster labels `[0, 1, 1, 0, 0, 2, 0, 2, 2, 1]`, we compute the next set of centroids. Each centroid is given by the average of all member data points in corresponding cluster."
     ]
    },
    {
     "cell_type": "code",
     "collapsed": false,
     "input": [
      "result = revise_centroids(tf_idf[0:100:10], 3, np.array([0, 1, 1, 0, 0, 2, 0, 2, 2, 1]))\n",
      "if np.allclose(result[0], np.mean(tf_idf[[0,30,40,60]].toarray(), axis=0)) and \\\n",
      "   np.allclose(result[1], np.mean(tf_idf[[10,20,90]].toarray(), axis=0))   and \\\n",
      "   np.allclose(result[2], np.mean(tf_idf[[50,70,80]].toarray(), axis=0)):\n",
      "    print('Pass')\n",
      "else:\n",
      "    print('Check your code')"
     ],
     "language": "python",
     "metadata": {},
     "outputs": [
      {
       "output_type": "stream",
       "stream": "stdout",
       "text": [
        "Pass\n"
       ]
      }
     ],
     "prompt_number": 74
    },
    {
     "cell_type": "heading",
     "level": 3,
     "metadata": {},
     "source": [
      "Assessing convergence"
     ]
    },
    {
     "cell_type": "markdown",
     "metadata": {},
     "source": [
      "How can we tell if the k-means algorithm is converging? We can look at the cluster assignments and see if they stabilize over time. In fact, we'll be running the algorithm until the cluster assignments stop changing at all. To be extra safe, and to assess the clustering performance, we'll be looking at an additional criteria: the sum of all squared distances between data points and centroids. This is defined as\n",
      "$$\n",
      "J(\\mathcal{Z},\\mu) = \\sum_{j=1}^k \\sum_{i:z_i = j} \\|\\mathbf{x}_i - \\mu_j\\|^2.\n",
      "$$\n",
      "The smaller the distances, the more homogeneous the clusters are. In other words, we'd like to have \"tight\" clusters."
     ]
    },
    {
     "cell_type": "code",
     "collapsed": true,
     "input": [
      "def compute_heterogeneity(data, k, centroids, cluster_assignment):\n",
      "    \n",
      "    heterogeneity = 0.0\n",
      "    for i in xrange(k):\n",
      "        \n",
      "        # Select all data points that belong to cluster i. Fill in the blank (RHS only)\n",
      "        member_data_points = data[cluster_assignment==i, :]\n",
      "        \n",
      "        if member_data_points.shape[0] > 0: # check if i-th cluster is non-empty\n",
      "            # Compute distances from centroid to data points (RHS only)\n",
      "            distances = pairwise_distances(member_data_points, [centroids[i]], metric='euclidean')\n",
      "            squared_distances = distances**2\n",
      "            heterogeneity += np.sum(squared_distances)\n",
      "        \n",
      "    return heterogeneity"
     ],
     "language": "python",
     "metadata": {},
     "outputs": [],
     "prompt_number": 75
    },
    {
     "cell_type": "markdown",
     "metadata": {},
     "source": [
      "Let's compute the cluster heterogeneity for the 2-cluster example we've been considering based on our current cluster assignments and centroids."
     ]
    },
    {
     "cell_type": "code",
     "collapsed": false,
     "input": [
      "compute_heterogeneity(data, 2, centroids, cluster_assignment)"
     ],
     "language": "python",
     "metadata": {},
     "outputs": [
      {
       "metadata": {},
       "output_type": "pyout",
       "prompt_number": 76,
       "text": [
        "7.25"
       ]
      }
     ],
     "prompt_number": 76
    },
    {
     "cell_type": "heading",
     "level": 3,
     "metadata": {},
     "source": [
      "Combining into a single function"
     ]
    },
    {
     "cell_type": "markdown",
     "metadata": {},
     "source": [
      "Once the two k-means steps have been implemented, as well as our heterogeneity metric we wish to monitor, it is only a matter of putting these functions together to write a k-means algorithm that\n",
      "\n",
      "* Repeatedly performs Steps 1 and 2\n",
      "* Tracks convergence metrics\n",
      "* Stops if either no assignment changed or we reach a certain number of iterations."
     ]
    },
    {
     "cell_type": "code",
     "collapsed": true,
     "input": [
      "# Fill in the blanks\n",
      "def kmeans(data, k, initial_centroids, maxiter, record_heterogeneity=None, verbose=False):\n",
      "    '''This function runs k-means on given data and initial set of centroids.\n",
      "       maxiter: maximum number of iterations to run.\n",
      "       record_heterogeneity: (optional) a list, to store the history of heterogeneity as function of iterations\n",
      "                             if None, do not store the history.\n",
      "       verbose: if True, print how many data points changed their cluster labels in each iteration'''\n",
      "    centroids = initial_centroids[:]\n",
      "    prev_cluster_assignment = None\n",
      "    \n",
      "    for itr in xrange(maxiter):        \n",
      "        if verbose:\n",
      "            print(itr)\n",
      "        \n",
      "        # 1. Make cluster assignments using nearest centroids\n",
      "        # YOUR CODE HERE\n",
      "        cluster_assignment = assign_clusters(data, centroids)\n",
      "            \n",
      "        # 2. Compute a new centroid for each of the k clusters, averaging all data points assigned to that cluster.\n",
      "        # YOUR CODE HERE\n",
      "        centroids = revise_centroids(data, k, cluster_assignment)\n",
      "            \n",
      "        # Check for convergence: if none of the assignments changed, stop\n",
      "        if prev_cluster_assignment is not None and \\\n",
      "          (prev_cluster_assignment==cluster_assignment).all():\n",
      "            break\n",
      "        \n",
      "        # Print number of new assignments \n",
      "        if prev_cluster_assignment is not None:\n",
      "            num_changed = np.sum(prev_cluster_assignment!=cluster_assignment)\n",
      "            if verbose:\n",
      "                print('    {0:5d} elements changed their cluster assignment.'.format(num_changed))   \n",
      "        \n",
      "        # Record heterogeneity convergence metric\n",
      "        if record_heterogeneity is not None:\n",
      "            # YOUR CODE HERE\n",
      "            score = compute_heterogeneity(data, k, centroids, cluster_assignment)\n",
      "            record_heterogeneity.append(score)\n",
      "        \n",
      "        prev_cluster_assignment = cluster_assignment[:]\n",
      "        \n",
      "    return centroids, cluster_assignment"
     ],
     "language": "python",
     "metadata": {},
     "outputs": [],
     "prompt_number": 77
    },
    {
     "cell_type": "heading",
     "level": 2,
     "metadata": {},
     "source": [
      "Plotting convergence metric"
     ]
    },
    {
     "cell_type": "markdown",
     "metadata": {},
     "source": [
      "We can use the above function to plot the convergence metric across iterations."
     ]
    },
    {
     "cell_type": "code",
     "collapsed": false,
     "input": [
      "def plot_heterogeneity(heterogeneity, k):\n",
      "    plt.figure(figsize=(7,4))\n",
      "    plt.plot(heterogeneity, linewidth=4)\n",
      "    plt.xlabel('# Iterations')\n",
      "    plt.ylabel('Heterogeneity')\n",
      "    plt.title('Heterogeneity of clustering over time, K={0:d}'.format(k))\n",
      "    plt.rcParams.update({'font.size': 16})\n",
      "    plt.tight_layout()"
     ],
     "language": "python",
     "metadata": {},
     "outputs": [],
     "prompt_number": 78
    },
    {
     "cell_type": "markdown",
     "metadata": {},
     "source": [
      "Let's consider running k-means with K=3 clusters for a maximum of 400 iterations, recording cluster heterogeneity at every step.  Then, let's plot the heterogeneity over iterations using the plotting function above."
     ]
    },
    {
     "cell_type": "code",
     "collapsed": false,
     "input": [
      "k = 3\n",
      "heterogeneity = []\n",
      "initial_centroids = get_initial_centroids(tf_idf, k, seed=0)\n",
      "centroids, cluster_assignment = kmeans(tf_idf, k, initial_centroids, maxiter=400,\n",
      "                                       record_heterogeneity=heterogeneity, verbose=True)\n",
      "plot_heterogeneity(heterogeneity, k)"
     ],
     "language": "python",
     "metadata": {
      "scrolled": true
     },
     "outputs": [
      {
       "output_type": "stream",
       "stream": "stdout",
       "text": [
        "0\n",
        "1"
       ]
      },
      {
       "output_type": "stream",
       "stream": "stdout",
       "text": [
        "\n",
        "    19157 elements changed their cluster assignment."
       ]
      },
      {
       "output_type": "stream",
       "stream": "stdout",
       "text": [
        "\n",
        "2"
       ]
      },
      {
       "output_type": "stream",
       "stream": "stdout",
       "text": [
        "\n",
        "     7739 elements changed their cluster assignment."
       ]
      },
      {
       "output_type": "stream",
       "stream": "stdout",
       "text": [
        "\n",
        "3"
       ]
      },
      {
       "output_type": "stream",
       "stream": "stdout",
       "text": [
        "\n",
        "     5119 elements changed their cluster assignment."
       ]
      },
      {
       "output_type": "stream",
       "stream": "stdout",
       "text": [
        "\n",
        "4"
       ]
      },
      {
       "output_type": "stream",
       "stream": "stdout",
       "text": [
        "\n",
        "     3370 elements changed their cluster assignment."
       ]
      },
      {
       "output_type": "stream",
       "stream": "stdout",
       "text": [
        "\n",
        "5"
       ]
      },
      {
       "output_type": "stream",
       "stream": "stdout",
       "text": [
        "\n",
        "     2811 elements changed their cluster assignment."
       ]
      },
      {
       "output_type": "stream",
       "stream": "stdout",
       "text": [
        "\n",
        "6"
       ]
      },
      {
       "output_type": "stream",
       "stream": "stdout",
       "text": [
        "\n",
        "     3233 elements changed their cluster assignment."
       ]
      },
      {
       "output_type": "stream",
       "stream": "stdout",
       "text": [
        "\n",
        "7"
       ]
      },
      {
       "output_type": "stream",
       "stream": "stdout",
       "text": [
        "\n",
        "     3815 elements changed their cluster assignment."
       ]
      },
      {
       "output_type": "stream",
       "stream": "stdout",
       "text": [
        "\n",
        "8"
       ]
      },
      {
       "output_type": "stream",
       "stream": "stdout",
       "text": [
        "\n",
        "     3172 elements changed their cluster assignment."
       ]
      },
      {
       "output_type": "stream",
       "stream": "stdout",
       "text": [
        "\n",
        "9"
       ]
      },
      {
       "output_type": "stream",
       "stream": "stdout",
       "text": [
        "\n",
        "     1149 elements changed their cluster assignment."
       ]
      },
      {
       "output_type": "stream",
       "stream": "stdout",
       "text": [
        "\n",
        "10"
       ]
      },
      {
       "output_type": "stream",
       "stream": "stdout",
       "text": [
        "\n",
        "      498 elements changed their cluster assignment."
       ]
      },
      {
       "output_type": "stream",
       "stream": "stdout",
       "text": [
        "\n",
        "11"
       ]
      },
      {
       "output_type": "stream",
       "stream": "stdout",
       "text": [
        "\n",
        "      265 elements changed their cluster assignment."
       ]
      },
      {
       "output_type": "stream",
       "stream": "stdout",
       "text": [
        "\n",
        "12"
       ]
      },
      {
       "output_type": "stream",
       "stream": "stdout",
       "text": [
        "\n",
        "      149 elements changed their cluster assignment."
       ]
      },
      {
       "output_type": "stream",
       "stream": "stdout",
       "text": [
        "\n",
        "13"
       ]
      },
      {
       "output_type": "stream",
       "stream": "stdout",
       "text": [
        "\n",
        "      100 elements changed their cluster assignment."
       ]
      },
      {
       "output_type": "stream",
       "stream": "stdout",
       "text": [
        "\n",
        "14"
       ]
      },
      {
       "output_type": "stream",
       "stream": "stdout",
       "text": [
        "\n",
        "       76 elements changed their cluster assignment."
       ]
      },
      {
       "output_type": "stream",
       "stream": "stdout",
       "text": [
        "\n",
        "15"
       ]
      },
      {
       "output_type": "stream",
       "stream": "stdout",
       "text": [
        "\n",
        "       67 elements changed their cluster assignment."
       ]
      },
      {
       "output_type": "stream",
       "stream": "stdout",
       "text": [
        "\n",
        "16"
       ]
      },
      {
       "output_type": "stream",
       "stream": "stdout",
       "text": [
        "\n",
        "       51 elements changed their cluster assignment."
       ]
      },
      {
       "output_type": "stream",
       "stream": "stdout",
       "text": [
        "\n",
        "17"
       ]
      },
      {
       "output_type": "stream",
       "stream": "stdout",
       "text": [
        "\n",
        "       47 elements changed their cluster assignment."
       ]
      },
      {
       "output_type": "stream",
       "stream": "stdout",
       "text": [
        "\n",
        "18"
       ]
      },
      {
       "output_type": "stream",
       "stream": "stdout",
       "text": [
        "\n",
        "       40 elements changed their cluster assignment."
       ]
      },
      {
       "output_type": "stream",
       "stream": "stdout",
       "text": [
        "\n",
        "19"
       ]
      },
      {
       "output_type": "stream",
       "stream": "stdout",
       "text": [
        "\n",
        "       34 elements changed their cluster assignment."
       ]
      },
      {
       "output_type": "stream",
       "stream": "stdout",
       "text": [
        "\n",
        "20"
       ]
      },
      {
       "output_type": "stream",
       "stream": "stdout",
       "text": [
        "\n",
        "       35 elements changed their cluster assignment."
       ]
      },
      {
       "output_type": "stream",
       "stream": "stdout",
       "text": [
        "\n",
        "21"
       ]
      },
      {
       "output_type": "stream",
       "stream": "stdout",
       "text": [
        "\n",
        "       39 elements changed their cluster assignment."
       ]
      },
      {
       "output_type": "stream",
       "stream": "stdout",
       "text": [
        "\n",
        "22"
       ]
      },
      {
       "output_type": "stream",
       "stream": "stdout",
       "text": [
        "\n",
        "       24 elements changed their cluster assignment."
       ]
      },
      {
       "output_type": "stream",
       "stream": "stdout",
       "text": [
        "\n",
        "23"
       ]
      },
      {
       "output_type": "stream",
       "stream": "stdout",
       "text": [
        "\n",
        "       16 elements changed their cluster assignment."
       ]
      },
      {
       "output_type": "stream",
       "stream": "stdout",
       "text": [
        "\n",
        "24"
       ]
      },
      {
       "output_type": "stream",
       "stream": "stdout",
       "text": [
        "\n",
        "       12 elements changed their cluster assignment."
       ]
      },
      {
       "output_type": "stream",
       "stream": "stdout",
       "text": [
        "\n",
        "25"
       ]
      },
      {
       "output_type": "stream",
       "stream": "stdout",
       "text": [
        "\n",
        "       14 elements changed their cluster assignment."
       ]
      },
      {
       "output_type": "stream",
       "stream": "stdout",
       "text": [
        "\n",
        "26"
       ]
      },
      {
       "output_type": "stream",
       "stream": "stdout",
       "text": [
        "\n",
        "       17 elements changed their cluster assignment."
       ]
      },
      {
       "output_type": "stream",
       "stream": "stdout",
       "text": [
        "\n",
        "27"
       ]
      },
      {
       "output_type": "stream",
       "stream": "stdout",
       "text": [
        "\n",
        "       15 elements changed their cluster assignment."
       ]
      },
      {
       "output_type": "stream",
       "stream": "stdout",
       "text": [
        "\n",
        "28"
       ]
      },
      {
       "output_type": "stream",
       "stream": "stdout",
       "text": [
        "\n",
        "       14 elements changed their cluster assignment."
       ]
      },
      {
       "output_type": "stream",
       "stream": "stdout",
       "text": [
        "\n",
        "29"
       ]
      },
      {
       "output_type": "stream",
       "stream": "stdout",
       "text": [
        "\n",
        "       16 elements changed their cluster assignment."
       ]
      },
      {
       "output_type": "stream",
       "stream": "stdout",
       "text": [
        "\n",
        "30"
       ]
      },
      {
       "output_type": "stream",
       "stream": "stdout",
       "text": [
        "\n",
        "       21 elements changed their cluster assignment."
       ]
      },
      {
       "output_type": "stream",
       "stream": "stdout",
       "text": [
        "\n",
        "31"
       ]
      },
      {
       "output_type": "stream",
       "stream": "stdout",
       "text": [
        "\n",
        "       22 elements changed their cluster assignment."
       ]
      },
      {
       "output_type": "stream",
       "stream": "stdout",
       "text": [
        "\n",
        "32"
       ]
      },
      {
       "output_type": "stream",
       "stream": "stdout",
       "text": [
        "\n",
        "       33 elements changed their cluster assignment."
       ]
      },
      {
       "output_type": "stream",
       "stream": "stdout",
       "text": [
        "\n",
        "33"
       ]
      },
      {
       "output_type": "stream",
       "stream": "stdout",
       "text": [
        "\n",
        "       35 elements changed their cluster assignment."
       ]
      },
      {
       "output_type": "stream",
       "stream": "stdout",
       "text": [
        "\n",
        "34"
       ]
      },
      {
       "output_type": "stream",
       "stream": "stdout",
       "text": [
        "\n",
        "       39 elements changed their cluster assignment."
       ]
      },
      {
       "output_type": "stream",
       "stream": "stdout",
       "text": [
        "\n",
        "35"
       ]
      },
      {
       "output_type": "stream",
       "stream": "stdout",
       "text": [
        "\n",
        "       36 elements changed their cluster assignment."
       ]
      },
      {
       "output_type": "stream",
       "stream": "stdout",
       "text": [
        "\n",
        "36"
       ]
      },
      {
       "output_type": "stream",
       "stream": "stdout",
       "text": [
        "\n",
        "       36 elements changed their cluster assignment."
       ]
      },
      {
       "output_type": "stream",
       "stream": "stdout",
       "text": [
        "\n",
        "37"
       ]
      },
      {
       "output_type": "stream",
       "stream": "stdout",
       "text": [
        "\n",
        "       25 elements changed their cluster assignment."
       ]
      },
      {
       "output_type": "stream",
       "stream": "stdout",
       "text": [
        "\n",
        "38"
       ]
      },
      {
       "output_type": "stream",
       "stream": "stdout",
       "text": [
        "\n",
        "       27 elements changed their cluster assignment."
       ]
      },
      {
       "output_type": "stream",
       "stream": "stdout",
       "text": [
        "\n",
        "39"
       ]
      },
      {
       "output_type": "stream",
       "stream": "stdout",
       "text": [
        "\n",
        "       25 elements changed their cluster assignment."
       ]
      },
      {
       "output_type": "stream",
       "stream": "stdout",
       "text": [
        "\n",
        "40"
       ]
      },
      {
       "output_type": "stream",
       "stream": "stdout",
       "text": [
        "\n",
        "       28 elements changed their cluster assignment."
       ]
      },
      {
       "output_type": "stream",
       "stream": "stdout",
       "text": [
        "\n",
        "41"
       ]
      },
      {
       "output_type": "stream",
       "stream": "stdout",
       "text": [
        "\n",
        "       35 elements changed their cluster assignment."
       ]
      },
      {
       "output_type": "stream",
       "stream": "stdout",
       "text": [
        "\n",
        "42"
       ]
      },
      {
       "output_type": "stream",
       "stream": "stdout",
       "text": [
        "\n",
        "       31 elements changed their cluster assignment."
       ]
      },
      {
       "output_type": "stream",
       "stream": "stdout",
       "text": [
        "\n",
        "43"
       ]
      },
      {
       "output_type": "stream",
       "stream": "stdout",
       "text": [
        "\n",
        "       25 elements changed their cluster assignment."
       ]
      },
      {
       "output_type": "stream",
       "stream": "stdout",
       "text": [
        "\n",
        "44"
       ]
      },
      {
       "output_type": "stream",
       "stream": "stdout",
       "text": [
        "\n",
        "       18 elements changed their cluster assignment."
       ]
      },
      {
       "output_type": "stream",
       "stream": "stdout",
       "text": [
        "\n",
        "45"
       ]
      },
      {
       "output_type": "stream",
       "stream": "stdout",
       "text": [
        "\n",
        "       15 elements changed their cluster assignment."
       ]
      },
      {
       "output_type": "stream",
       "stream": "stdout",
       "text": [
        "\n",
        "46"
       ]
      },
      {
       "output_type": "stream",
       "stream": "stdout",
       "text": [
        "\n",
        "       10 elements changed their cluster assignment."
       ]
      },
      {
       "output_type": "stream",
       "stream": "stdout",
       "text": [
        "\n",
        "47"
       ]
      },
      {
       "output_type": "stream",
       "stream": "stdout",
       "text": [
        "\n",
        "        8 elements changed their cluster assignment."
       ]
      },
      {
       "output_type": "stream",
       "stream": "stdout",
       "text": [
        "\n",
        "48"
       ]
      },
      {
       "output_type": "stream",
       "stream": "stdout",
       "text": [
        "\n",
        "        8 elements changed their cluster assignment."
       ]
      },
      {
       "output_type": "stream",
       "stream": "stdout",
       "text": [
        "\n",
        "49"
       ]
      },
      {
       "output_type": "stream",
       "stream": "stdout",
       "text": [
        "\n",
        "        8 elements changed their cluster assignment."
       ]
      },
      {
       "output_type": "stream",
       "stream": "stdout",
       "text": [
        "\n",
        "50"
       ]
      },
      {
       "output_type": "stream",
       "stream": "stdout",
       "text": [
        "\n",
        "        7 elements changed their cluster assignment."
       ]
      },
      {
       "output_type": "stream",
       "stream": "stdout",
       "text": [
        "\n",
        "51"
       ]
      },
      {
       "output_type": "stream",
       "stream": "stdout",
       "text": [
        "\n",
        "        8 elements changed their cluster assignment."
       ]
      },
      {
       "output_type": "stream",
       "stream": "stdout",
       "text": [
        "\n",
        "52"
       ]
      },
      {
       "output_type": "stream",
       "stream": "stdout",
       "text": [
        "\n",
        "        3 elements changed their cluster assignment."
       ]
      },
      {
       "output_type": "stream",
       "stream": "stdout",
       "text": [
        "\n",
        "53"
       ]
      },
      {
       "output_type": "stream",
       "stream": "stdout",
       "text": [
        "\n",
        "        3 elements changed their cluster assignment."
       ]
      },
      {
       "output_type": "stream",
       "stream": "stdout",
       "text": [
        "\n",
        "54"
       ]
      },
      {
       "output_type": "stream",
       "stream": "stdout",
       "text": [
        "\n",
        "        4 elements changed their cluster assignment."
       ]
      },
      {
       "output_type": "stream",
       "stream": "stdout",
       "text": [
        "\n",
        "55"
       ]
      },
      {
       "output_type": "stream",
       "stream": "stdout",
       "text": [
        "\n",
        "        2 elements changed their cluster assignment."
       ]
      },
      {
       "output_type": "stream",
       "stream": "stdout",
       "text": [
        "\n",
        "56"
       ]
      },
      {
       "output_type": "stream",
       "stream": "stdout",
       "text": [
        "\n",
        "        3 elements changed their cluster assignment."
       ]
      },
      {
       "output_type": "stream",
       "stream": "stdout",
       "text": [
        "\n",
        "57"
       ]
      },
      {
       "output_type": "stream",
       "stream": "stdout",
       "text": [
        "\n",
        "        3 elements changed their cluster assignment."
       ]
      },
      {
       "output_type": "stream",
       "stream": "stdout",
       "text": [
        "\n",
        "58"
       ]
      },
      {
       "output_type": "stream",
       "stream": "stdout",
       "text": [
        "\n",
        "        1 elements changed their cluster assignment."
       ]
      },
      {
       "output_type": "stream",
       "stream": "stdout",
       "text": [
        "\n",
        "59"
       ]
      },
      {
       "output_type": "stream",
       "stream": "stdout",
       "text": [
        "\n",
        "        1 elements changed their cluster assignment."
       ]
      },
      {
       "output_type": "stream",
       "stream": "stdout",
       "text": [
        "\n",
        "60"
       ]
      },
      {
       "output_type": "stream",
       "stream": "stdout",
       "text": [
        "\n"
       ]
      },
      {
       "metadata": {},
       "output_type": "display_data",
       "png": "[encoded data removed]",
       "text": [
        "<matplotlib.figure.Figure at 0x7fbd2c556cd0>"
       ]
      }
     ],
     "prompt_number": 86
    },
    {
     "cell_type": "code",
     "collapsed": false,
     "input": [
      " np.bincount(cluster_assignment) "
     ],
     "language": "python",
     "metadata": {},
     "outputs": [
      {
       "metadata": {},
       "output_type": "pyout",
       "prompt_number": 87,
       "text": [
        "array([19595, 10427, 29049])"
       ]
      }
     ],
     "prompt_number": 87
    },
    {
     "cell_type": "markdown",
     "metadata": {},
     "source": [
      "**Quiz Question**. (True/False) The clustering objective (heterogeneity) is non-increasing for this example."
     ]
    },
    {
     "cell_type": "markdown",
     "metadata": {},
     "source": [
      "**Quiz Question**. Let's step back from this particular example. If the clustering objective (heterogeneity) would ever increase when running k-means, that would indicate: (choose one)\n",
      "\n",
      "1. k-means algorithm got stuck in a bad local minimum\n",
      "2. There is a bug in the k-means code\n",
      "3. All data points consist of exact duplicates\n",
      "4. Nothing is wrong. The objective should generally go down sooner or later."
     ]
    },
    {
     "cell_type": "markdown",
     "metadata": {},
     "source": [
      "**Quiz Question**. Which of the cluster contains the greatest number of data points in the end? Hint: Use [`np.bincount()`](http://docs.scipy.org/doc/numpy-1.11.0/reference/generated/numpy.bincount.html) to count occurrences of each cluster label.\n",
      " 1. Cluster #0\n",
      " 2. Cluster #1\n",
      " 3. Cluster #2"
     ]
    },
    {
     "cell_type": "heading",
     "level": 2,
     "metadata": {},
     "source": [
      "Beware of local maxima"
     ]
    },
    {
     "cell_type": "markdown",
     "metadata": {},
     "source": [
      "One weakness of k-means is that it tends to get stuck in a local minimum. To see this, let us run k-means multiple times, with different initial centroids created using different random seeds.\n",
      "\n",
      "**Note:** Again, in practice, you should set different seeds for every run. We give you a list of seeds for this assignment so that everyone gets the same answer.\n",
      "\n",
      "This may take several minutes to run."
     ]
    },
    {
     "cell_type": "code",
     "collapsed": false,
     "input": [
      "k = 10\n",
      "heterogeneity = {}\n",
      "import time\n",
      "start = time.time()\n",
      "cluster_assignment_dict = {}\n",
      "max1=0\n",
      "for seed in [0, 20000, 40000, 60000, 80000, 100000, 120000]:\n",
      "    initial_centroids = get_initial_centroids(tf_idf, k, seed)\n",
      "    centroids, cluster_assignment = kmeans(tf_idf, k, initial_centroids, maxiter=400,\n",
      "                                           record_heterogeneity=None, verbose=False)\n",
      "    # To save time, compute heterogeneity only once in the end\n",
      "    heterogeneity[seed] = compute_heterogeneity(tf_idf, k, centroids, cluster_assignment)\n",
      "    cluster_assignment_dict[seed] = np.bincount(cluster_assignment)\n",
      "    print('seed={0:06d}, heterogeneity={1:.5f}, cluster_distribution={2}'.format(seed, heterogeneity[seed], \n",
      "                                           cluster_assignment_dict[seed]))\n",
      "    sys.stdout.flush()\n",
      "    print (sum(cluster_assignment_dict[seed]))\n",
      "    \n",
      "end = time.time()\n",
      "print(end-start)\n",
      "print max"
     ],
     "language": "python",
     "metadata": {
      "scrolled": false
     },
     "outputs": [
      {
       "output_type": "stream",
       "stream": "stdout",
       "text": [
        "seed=000000, heterogeneity=57457.52442, cluster_distribution=[18047  3824  5671  6983  1492  1730  3882  3449  7139  6854]\n"
       ]
      },
      {
       "output_type": "stream",
       "stream": "stdout",
       "text": [
        "59071\n",
        "seed=020000, heterogeneity=57533.20100, cluster_distribution=[ 3142   768  3566  2277 15779  7278  6146  7964  6666  5485]"
       ]
      },
      {
       "output_type": "stream",
       "stream": "stdout",
       "text": [
        "\n"
       ]
      },
      {
       "output_type": "stream",
       "stream": "stdout",
       "text": [
        "59071\n",
        "seed=040000, heterogeneity=57512.69257, cluster_distribution=[ 5551  6623   186  2999  8487  3893  6807  2921  3472 18132]"
       ]
      },
      {
       "output_type": "stream",
       "stream": "stdout",
       "text": [
        "\n"
       ]
      },
      {
       "output_type": "stream",
       "stream": "stdout",
       "text": [
        "59071\n",
        "seed=060000, heterogeneity=57466.97925, cluster_distribution=[ 3014  3089  6681  3856  8080  7222  3424   424  5381 17900]"
       ]
      },
      {
       "output_type": "stream",
       "stream": "stdout",
       "text": [
        "\n"
       ]
      },
      {
       "output_type": "stream",
       "stream": "stdout",
       "text": [
        "59071\n",
        "seed=080000, heterogeneity=57494.92990, cluster_distribution=[17582  1785  7215  3314  6285   809  5930  6791  5536  3824]"
       ]
      },
      {
       "output_type": "stream",
       "stream": "stdout",
       "text": [
        "\n"
       ]
      },
      {
       "output_type": "stream",
       "stream": "stdout",
       "text": [
        "59071\n",
        "seed=100000, heterogeneity=57484.42210, cluster_distribution=[ 6618  1337  6191  2890 16969  4983  5242  3892  5562  5387]"
       ]
      },
      {
       "output_type": "stream",
       "stream": "stdout",
       "text": [
        "\n"
       ]
      },
      {
       "output_type": "stream",
       "stream": "stdout",
       "text": [
        "59071\n",
        "seed=120000, heterogeneity=57554.62410, cluster_distribution=[ 6118  5841  4964  8423  4302  3183 16481  1608  5524  2627]"
       ]
      },
      {
       "output_type": "stream",
       "stream": "stdout",
       "text": [
        "\n"
       ]
      },
      {
       "output_type": "stream",
       "stream": "stdout",
       "text": [
        "59071\n",
        "375.876085997\n",
        "<built-in function max>\n"
       ]
      }
     ],
     "prompt_number": 111
    },
    {
     "cell_type": "markdown",
     "metadata": {},
     "source": [
      "Notice the variation in heterogeneity for different initializations. This indicates that k-means sometimes gets stuck at a bad local minimum."
     ]
    },
    {
     "cell_type": "markdown",
     "metadata": {},
     "source": [
      "**Quiz Question**. Another way to capture the effect of changing initialization is to look at the distribution of cluster assignments. Add a line to the code above to compute the size (# of member data points) of clusters for each run of k-means. Look at the size of the largest cluster (most # of member data points) across multiple runs, with seeds 0, 20000, ..., 120000. How much does this measure vary across the runs? What is the minimum and maximum values this quantity takes?"
     ]
    },
    {
     "cell_type": "markdown",
     "metadata": {},
     "source": [
      "One effective way to counter this tendency is to use **k-means++** to provide a smart initialization. This method tries to spread out the initial set of centroids so that they are not too close together. It is known to improve the quality of local optima and lower average runtime."
     ]
    },
    {
     "cell_type": "code",
     "collapsed": true,
     "input": [
      "def smart_initialize(data, k, seed=None):\n",
      "    '''Use k-means++ to initialize a good set of centroids'''\n",
      "    if seed is not None: # useful for obtaining consistent results\n",
      "        np.random.seed(seed)\n",
      "    centroids = np.zeros((k, data.shape[1]))\n",
      "    \n",
      "    # Randomly choose the first centroid.\n",
      "    # Since we have no prior knowledge, choose uniformly at random\n",
      "    idx = np.random.randint(data.shape[0])\n",
      "    centroids[0] = data[idx,:].toarray()\n",
      "    # Compute distances from the first centroid chosen to all the other data points\n",
      "    squared_distances = pairwise_distances(data, centroids[0:1], metric='euclidean').flatten()**2\n",
      "    \n",
      "    for i in xrange(1, k):\n",
      "        # Choose the next centroid randomly, so that the probability for each data point to be chosen\n",
      "        # is directly proportional to its squared distance from the nearest centroid.\n",
      "        # Roughtly speaking, a new centroid should be as far as from ohter centroids as possible.\n",
      "        idx = np.random.choice(data.shape[0], 1, p=squared_distances/sum(squared_distances))\n",
      "        centroids[i] = data[idx,:].toarray()\n",
      "        # Now compute distances from the centroids to all data points\n",
      "        squared_distances = np.min(pairwise_distances(data, centroids[0:i+1], metric='euclidean')**2,axis=1)\n",
      "    \n",
      "    return centroids"
     ],
     "language": "python",
     "metadata": {},
     "outputs": [],
     "prompt_number": 90
    },
    {
     "cell_type": "markdown",
     "metadata": {},
     "source": [
      "Let's now rerun k-means with 10 clusters using the same set of seeds, but always using k-means++ to initialize the algorithm.\n",
      "\n",
      "This may take several minutes to run."
     ]
    },
    {
     "cell_type": "code",
     "collapsed": false,
     "input": [
      "k = 10\n",
      "heterogeneity_smart = {}\n",
      "start = time.time()\n",
      "for seed in [0, 20000, 40000, 60000, 80000, 100000, 120000]:\n",
      "    initial_centroids = smart_initialize(tf_idf, k, seed)\n",
      "    centroids, cluster_assignment = kmeans(tf_idf, k, initial_centroids, maxiter=400,\n",
      "                                           record_heterogeneity=None, verbose=False)\n",
      "    # To save time, compute heterogeneity only once in the end\n",
      "    heterogeneity_smart[seed] = compute_heterogeneity(tf_idf, k, centroids, cluster_assignment)\n",
      "    print('seed={0:06d}, heterogeneity={1:.5f}'.format(seed, heterogeneity_smart[seed]))\n",
      "    sys.stdout.flush()\n",
      "end = time.time()\n",
      "print(end-start)"
     ],
     "language": "python",
     "metadata": {},
     "outputs": [
      {
       "output_type": "stream",
       "stream": "stdout",
       "text": [
        "seed=000000, heterogeneity=57468.63808\n"
       ]
      },
      {
       "output_type": "stream",
       "stream": "stdout",
       "text": [
        "seed=020000, heterogeneity=57486.94263\n"
       ]
      },
      {
       "output_type": "stream",
       "stream": "stdout",
       "text": [
        "seed=040000, heterogeneity=57454.35926\n"
       ]
      },
      {
       "output_type": "stream",
       "stream": "stdout",
       "text": [
        "seed=060000, heterogeneity=57530.43659\n"
       ]
      },
      {
       "output_type": "stream",
       "stream": "stdout",
       "text": [
        "seed=080000, heterogeneity=57454.51852\n"
       ]
      },
      {
       "output_type": "stream",
       "stream": "stdout",
       "text": [
        "seed=100000, heterogeneity=57471.56674\n"
       ]
      },
      {
       "output_type": "stream",
       "stream": "stdout",
       "text": [
        "seed=120000, heterogeneity=57523.28839\n"
       ]
      },
      {
       "output_type": "stream",
       "stream": "stdout",
       "text": [
        "451.793773174\n"
       ]
      }
     ],
     "prompt_number": 91
    },
    {
     "cell_type": "markdown",
     "metadata": {},
     "source": [
      "Let's compare the set of cluster heterogeneities we got from our 7 restarts of k-means using random initialization compared to the 7 restarts of k-means using k-means++ as a smart initialization.\n",
      "\n",
      "The following code produces a [box plot](http://matplotlib.org/api/pyplot_api.html) for each of these methods, indicating the spread of values produced by each method."
     ]
    },
    {
     "cell_type": "code",
     "collapsed": false,
     "input": [
      "plt.figure(figsize=(8,5))\n",
      "plt.boxplot([heterogeneity.values(), heterogeneity_smart.values()], vert=False)\n",
      "plt.yticks([1, 2], ['k-means', 'k-means++'])\n",
      "plt.rcParams.update({'font.size': 16})\n",
      "plt.tight_layout()"
     ],
     "language": "python",
     "metadata": {},
     "outputs": [
      {
       "metadata": {},
       "output_type": "display_data",
       "png": "[encoded data removed]",
       "text": [
        "<matplotlib.figure.Figure at 0x7fbd2c4c3290>"
       ]
      }
     ],
     "prompt_number": 92
    },
    {
     "cell_type": "markdown",
     "metadata": {},
     "source": [
      "A few things to notice from the box plot:\n",
      "* On average, k-means++ produces a better clustering than Random initialization.\n",
      "* Variation in clustering quality is smaller for k-means++."
     ]
    },
    {
     "cell_type": "markdown",
     "metadata": {},
     "source": [
      "**In general, you should run k-means at least a few times with different initializations and then return the run resulting in the lowest heterogeneity.** Let us write a function that runs k-means multiple times and picks the best run that minimizes heterogeneity. The function accepts an optional list of seed values to be used for the multiple runs; if no such list is provided, the current UTC time is used as seed values."
     ]
    },
    {
     "cell_type": "code",
     "collapsed": true,
     "input": [
      "def kmeans_multiple_runs(data, k, maxiter, num_runs, seed_list=None, verbose=False):\n",
      "    heterogeneity = {}\n",
      "    \n",
      "    min_heterogeneity_achieved = float('inf')\n",
      "    best_seed = None\n",
      "    final_centroids = None\n",
      "    final_cluster_assignment = None\n",
      "    \n",
      "    for i in xrange(num_runs):\n",
      "        \n",
      "        # Use UTC time if no seeds are provided \n",
      "        if seed_list is not None: \n",
      "            seed = seed_list[i]\n",
      "            np.random.seed(seed)\n",
      "        else: \n",
      "            seed = int(time.time())\n",
      "            np.random.seed(seed)\n",
      "        \n",
      "        # Use k-means++ initialization\n",
      "        # YOUR CODE HERE\n",
      "        initial_centroids = smart_initialize(data, k, seed)\n",
      "        \n",
      "        # Run k-means\n",
      "        # YOUR CODE HERE\n",
      "        centroids, cluster_assignment = kmeans(data, k, initial_centroids, num_runs,\n",
      "                                           heterogeneity, verbose)\n",
      "        \n",
      "        # To save time, compute heterogeneity only once in the end\n",
      "        # YOUR CODE HERE\n",
      "        heterogeneity[seed] = compute_heterogeneity(data, k, centroids, cluster_assignment)\n",
      "        \n",
      "        if verbose:\n",
      "            print('seed={0:06d}, heterogeneity={1:.5f}'.format(seed, heterogeneity[seed]))\n",
      "            sys.stdout.flush()\n",
      "        \n",
      "        # if current measurement of heterogeneity is lower than previously seen,\n",
      "        # update the minimum record of heterogeneity.\n",
      "        if heterogeneity[seed] < min_heterogeneity_achieved:\n",
      "            min_heterogeneity_achieved = heterogeneity[seed]\n",
      "            best_seed = seed\n",
      "            final_centroids = centroids\n",
      "            final_cluster_assignment = cluster_assignment\n",
      "    \n",
      "    # Return the centroids and cluster assignments that minimize heterogeneity.\n",
      "    return final_centroids, final_cluster_assignment"
     ],
     "language": "python",
     "metadata": {},
     "outputs": [],
     "prompt_number": 94
    },
    {
     "cell_type": "heading",
     "level": 2,
     "metadata": {},
     "source": [
      "How to choose K"
     ]
    },
    {
     "cell_type": "markdown",
     "metadata": {},
     "source": [
      "Since we are measuring the tightness of the clusters, a higher value of K reduces the possible heterogeneity metric by definition.  For example, if we have N data points and set K=N clusters, then we could have 0 cluster heterogeneity by setting the N centroids equal to the values of the N data points. (Note: Not all runs for larger K will result in lower heterogeneity than a single run with smaller K due to local optima.)  Let's explore this general trend for ourselves by performing the following analysis."
     ]
    },
    {
     "cell_type": "markdown",
     "metadata": {},
     "source": [
      "Use the `kmeans_multiple_runs` function to run k-means with five different values of K.  For each K, use k-means++ and multiple runs to pick the best solution.  In what follows, we consider K=2,10,25,50,100 and 7 restarts for each setting.\n",
      "\n",
      "**IMPORTANT: The code block below will take about one hour to finish. We highly suggest that you use the arrays that we have computed for you.**\n",
      "\n",
      "Side note: In practice, a good implementation of k-means would utilize parallelism to run multiple runs of k-means at once. For an example, see [scikit-learn's KMeans](http://scikit-learn.org/stable/modules/generated/sklearn.cluster.KMeans.html)."
     ]
    },
    {
     "cell_type": "code",
     "collapsed": false,
     "input": [
      "#def plot_k_vs_heterogeneity(k_values, heterogeneity_values):\n",
      "#    plt.figure(figsize=(7,4))\n",
      "#    plt.plot(k_values, heterogeneity_values, linewidth=4)\n",
      "#    plt.xlabel('K')\n",
      "#    plt.ylabel('Heterogeneity')\n",
      "#    plt.title('K vs. Heterogeneity')\n",
      "#    plt.rcParams.update({'font.size': 16})\n",
      "#    plt.tight_layout()\n",
      "\n",
      "#start = time.time()\n",
      "#centroids = {}\n",
      "#cluster_assignment = {}\n",
      "#heterogeneity_values = []\n",
      "#k_list = [2, 10, 25, 50, 100]\n",
      "#seed_list = [0, 20000, 40000, 60000, 80000, 100000, 120000]\n",
      "\n",
      "#for k in k_list:\n",
      "#    heterogeneity = []\n",
      "#    centroids[k], cluster_assignment[k] = kmeans_multiple_runs(tf_idf, k, maxiter=400,\n",
      "#                                                               num_runs=len(seed_list),\n",
      "#                                                               seed_list=seed_list,\n",
      "#                                                               verbose=True)\n",
      "#    score = compute_heterogeneity(tf_idf, k, centroids[k], cluster_assignment[k])\n",
      "#    heterogeneity_values.append(score)\n",
      "\n",
      "#plot_k_vs_heterogeneity(k_list, heterogeneity_values)\n",
      "\n",
      "#end = time.time()\n",
      "#print(end-start)"
     ],
     "language": "python",
     "metadata": {
      "scrolled": false
     },
     "outputs": [],
     "prompt_number": null
    },
    {
     "cell_type": "markdown",
     "metadata": {},
     "source": [
      "To use the pre-computed NumPy arrays, first download kmeans-arrays.npz as mentioned in the reading for this assignment and load them with the following code.  Make sure the downloaded file is in the same directory as this notebook."
     ]
    },
    {
     "cell_type": "code",
     "collapsed": false,
     "input": [
      "def plot_k_vs_heterogeneity(k_values, heterogeneity_values):\n",
      "    plt.figure(figsize=(7,4))\n",
      "    plt.plot(k_values, heterogeneity_values, linewidth=4)\n",
      "    plt.xlabel('K')\n",
      "    plt.ylabel('Heterogeneity')\n",
      "    plt.title('K vs. Heterogeneity')\n",
      "    plt.rcParams.update({'font.size': 16})\n",
      "    plt.tight_layout()\n",
      "\n",
      "filename = 'kmeans-arrays.npz'\n",
      "\n",
      "heterogeneity_values = []\n",
      "k_list = [2, 10, 25, 50, 100]\n",
      "\n",
      "if os.path.exists(filename):\n",
      "    arrays = np.load(filename)\n",
      "    centroids = {}\n",
      "    cluster_assignment = {}\n",
      "    for k in k_list:\n",
      "        print k\n",
      "        sys.stdout.flush()\n",
      "        '''To save memory space, do not load the arrays from the file right away. We use\n",
      "           a technique known as lazy evaluation, where some expressions are not evaluated\n",
      "           until later. Any expression appearing inside a lambda function doesn't get\n",
      "           evaluated until the function is called.\n",
      "           Lazy evaluation is extremely important in memory-constrained setting, such as\n",
      "           an Amazon EC2 t2.micro instance.'''\n",
      "        centroids[k] = lambda k=k: arrays['centroids_{0:d}'.format(k)]\n",
      "        cluster_assignment[k] = lambda k=k: arrays['cluster_assignment_{0:d}'.format(k)]\n",
      "        score = compute_heterogeneity(tf_idf, k, centroids[k](), cluster_assignment[k]())\n",
      "        heterogeneity_values.append(score)\n",
      "    \n",
      "    plot_k_vs_heterogeneity(k_list, heterogeneity_values)\n",
      "\n",
      "else:\n",
      "    print('File not found. Skipping.')"
     ],
     "language": "python",
     "metadata": {},
     "outputs": [
      {
       "output_type": "stream",
       "stream": "stdout",
       "text": [
        "2\n"
       ]
      },
      {
       "output_type": "stream",
       "stream": "stdout",
       "text": [
        "10\n"
       ]
      },
      {
       "output_type": "stream",
       "stream": "stdout",
       "text": [
        "25\n"
       ]
      },
      {
       "output_type": "stream",
       "stream": "stdout",
       "text": [
        "50\n"
       ]
      },
      {
       "output_type": "stream",
       "stream": "stdout",
       "text": [
        "100\n"
       ]
      },
      {
       "metadata": {},
       "output_type": "display_data",
       "png": "[encoded data removed]",
       "text": [
        "<matplotlib.figure.Figure at 0x7fbd2c384710>"
       ]
      }
     ],
     "prompt_number": 115
    },
    {
     "cell_type": "markdown",
     "metadata": {},
     "source": [
      "In the above plot we show that heterogeneity goes down as we increase the number of clusters. Does this mean we should always favor a higher K? **Not at all!** As we will see in the following section, setting K too high may end up separating data points that are actually pretty alike. At the extreme, we can set individual data points to be their own clusters (K=N) and achieve zero heterogeneity, but separating each data point into its own cluster is hardly a desirable outcome. In the following section, we will learn how to detect a K set \"too large\"."
     ]
    },
    {
     "cell_type": "heading",
     "level": 2,
     "metadata": {},
     "source": [
      "Visualize clusters of documents"
     ]
    },
    {
     "cell_type": "markdown",
     "metadata": {},
     "source": [
      "Let's start visualizing some clustering results to see if we think the clustering makes sense.  We can use such visualizations to help us assess whether we have set K too large or too small for a given application.  Following the theme of this course, we will judge whether the clustering makes sense in the context of document analysis.\n",
      "\n",
      "What are we looking for in a good clustering of documents?\n",
      "* Documents in the same cluster should be similar.\n",
      "* Documents from different clusters should be less similar.\n",
      "\n",
      "So a bad clustering exhibits either of two symptoms:\n",
      "* Documents in a cluster have mixed content.\n",
      "* Documents with similar content are divided up and put into different clusters.\n",
      "\n",
      "To help visualize the clustering, we do the following:\n",
      "* Fetch nearest neighbors of each centroid from the set of documents assigned to that cluster. We will consider these documents as being representative of the cluster.\n",
      "* Print titles and first sentences of those nearest neighbors.\n",
      "* Print top 5 words that have highest tf-idf weights in each centroid."
     ]
    },
    {
     "cell_type": "code",
     "collapsed": true,
     "input": [
      "def visualize_document_clusters(wiki, tf_idf, centroids, cluster_assignment, k, map_index_to_word, display_content=True):\n",
      "    '''wiki: original dataframe\n",
      "       tf_idf: data matrix, sparse matrix format\n",
      "       map_index_to_word: SFrame specifying the mapping betweeen words and column indices\n",
      "       display_content: if True, display 8 nearest neighbors of each centroid'''\n",
      "    \n",
      "    print('==========================================================')\n",
      "\n",
      "    # Visualize each cluster c\n",
      "    for c in xrange(k):\n",
      "        # Cluster heading\n",
      "        print('Cluster {0:d}    '.format(c)),\n",
      "        # Print top 5 words with largest TF-IDF weights in the cluster\n",
      "        idx = centroids[c].argsort()[::-1]\n",
      "        for i in xrange(5): # Print each word along with the TF-IDF weight\n",
      "            print('{0:s}:{1:.3f}'.format(map_index_to_word['category'][idx[i]], centroids[c,idx[i]])),\n",
      "        print('')\n",
      "        \n",
      "        if display_content:\n",
      "            # Compute distances from the centroid to all data points in the cluster,\n",
      "            # and compute nearest neighbors of the centroids within the cluster.\n",
      "            distances = pairwise_distances(tf_idf, centroids[c].reshape(1, -1), metric='euclidean').flatten()\n",
      "            distances[cluster_assignment!=c] = float('inf') # remove non-members from consideration\n",
      "            nearest_neighbors = distances.argsort()\n",
      "            # For 8 nearest neighbors, print the title as well as first 180 characters of text.\n",
      "            # Wrap the text at 80-character mark.\n",
      "            for i in xrange(8):\n",
      "                text = ' '.join(wiki[nearest_neighbors[i]]['text'].split(None, 25)[0:25])\n",
      "                print('\\n* {0:50s} {1:.5f}\\n  {2:s}\\n  {3:s}'.format(wiki[nearest_neighbors[i]]['name'],\n",
      "                    distances[nearest_neighbors[i]], text[:90], text[90:180] if len(text) > 90 else ''))\n",
      "        print('==========================================================')"
     ],
     "language": "python",
     "metadata": {},
     "outputs": [],
     "prompt_number": 113
    },
    {
     "cell_type": "markdown",
     "metadata": {},
     "source": [
      "Let us first look at the 2 cluster case (K=2)."
     ]
    },
    {
     "cell_type": "code",
     "collapsed": false,
     "input": [
      "'''Notice the extra pairs of parentheses for centroids and cluster_assignment.\n",
      "   The centroid and cluster_assignment are still inside the npz file,\n",
      "   and we need to explicitly indicate when to load them into memory.'''\n",
      "visualize_document_clusters(wiki, tf_idf, centroids[2](), cluster_assignment[2](), 2, map_index_to_word)"
     ],
     "language": "python",
     "metadata": {},
     "outputs": [
      {
       "output_type": "stream",
       "stream": "stdout",
       "text": [
        "==========================================================\n",
        "Cluster 0     "
       ]
      },
      {
       "output_type": "stream",
       "stream": "stdout",
       "text": [
        "she:0.025 "
       ]
      },
      {
       "output_type": "stream",
       "stream": "stdout",
       "text": [
        "her:0.017 "
       ]
      },
      {
       "output_type": "stream",
       "stream": "stdout",
       "text": [
        "music:0.012 he:0.011 "
       ]
      },
      {
       "output_type": "stream",
       "stream": "stdout",
       "text": [
        "university:0.011 \n",
        "\n",
        "* Anita Kunz                                         0.97401\n",
        "  anita e kunz oc born 1956 is a canadianborn artist and illustratorkunz has lived in london\n",
        "   new york and toronto contributing to magazines and working"
       ]
      },
      {
       "output_type": "stream",
       "stream": "stdout",
       "text": [
        "\n",
        "\n",
        "* Janet Jackson                                      0.97472\n",
        "  janet damita jo jackson born may 16 1966 is an american singer songwriter and actress know\n",
        "  n for a series of sonically innovative socially conscious and"
       ]
      },
      {
       "output_type": "stream",
       "stream": "stdout",
       "text": [
        "\n",
        "\n",
        "* Madonna (entertainer)                              0.97475\n",
        "  madonna louise ciccone tkoni born august 16 1958 is an american singer songwriter actress \n",
        "  and businesswoman she achieved popularity by pushing the boundaries of lyrical"
       ]
      },
      {
       "output_type": "stream",
       "stream": "stdout",
       "text": [
        "\n",
        "\n",
        "* %C3%81ine Hyland                                   0.97536\n",
        "  ine hyland ne donlon is emeritus professor of education and former vicepresident of univer\n",
        "  sity college cork ireland she was born in 1942 in athboy co"
       ]
      },
      {
       "output_type": "stream",
       "stream": "stdout",
       "text": [
        "\n",
        "\n",
        "* Jane Fonda                                         0.97621\n",
        "  jane fonda born lady jayne seymour fonda december 21 1937 is an american actress writer po\n",
        "  litical activist former fashion model and fitness guru she is"
       ]
      },
      {
       "output_type": "stream",
       "stream": "stdout",
       "text": [
        "\n",
        "\n",
        "* Christine Robertson                                0.97643\n",
        "  christine mary robertson born 5 october 1948 is an australian politician and former austra\n",
        "  lian labor party member of the new south wales legislative council serving"
       ]
      },
      {
       "output_type": "stream",
       "stream": "stdout",
       "text": [
        "\n",
        "\n",
        "* Pat Studdy-Clift                                   0.97643\n",
        "  pat studdyclift is an australian author specialising in historical fiction and nonfictionb\n",
        "  orn in 1925 she lived in gunnedah until she was sent to a boarding"
       ]
      },
      {
       "output_type": "stream",
       "stream": "stdout",
       "text": [
        "\n",
        "\n",
        "* Alexandra Potter                                   0.97646\n",
        "  alexandra potter born 1970 is a british author of romantic comediesborn in bradford yorksh\n",
        "  ire england and educated at liverpool university gaining an honors degree in"
       ]
      },
      {
       "output_type": "stream",
       "stream": "stdout",
       "text": [
        "\n",
        "==========================================================\n",
        "Cluster 1     "
       ]
      },
      {
       "output_type": "stream",
       "stream": "stdout",
       "text": [
        "league:0.040 season:0.036 "
       ]
      },
      {
       "output_type": "stream",
       "stream": "stdout",
       "text": [
        "team:0.029 football:0.029 "
       ]
      },
      {
       "output_type": "stream",
       "stream": "stdout",
       "text": [
        "played:0.028 \n",
        "\n",
        "* Todd Williams                                      0.95468\n",
        "  todd michael williams born february 13 1971 in syracuse new york is a former major league \n",
        "  baseball relief pitcher he attended east syracuseminoa high school"
       ]
      },
      {
       "output_type": "stream",
       "stream": "stdout",
       "text": [
        "\n",
        "\n",
        "* Gord Sherven                                       0.95622\n",
        "  gordon r sherven born august 21 1963 in gravelbourg saskatchewan and raised in mankota sas\n",
        "  katchewan is a retired canadian professional ice hockey forward who played"
       ]
      },
      {
       "output_type": "stream",
       "stream": "stdout",
       "text": [
        "\n",
        "\n",
        "* Justin Knoedler                                    0.95639\n",
        "  justin joseph knoedler born july 17 1980 in springfield illinois is a former major league \n",
        "  baseball catcherknoedler was originally drafted by the st louis cardinals"
       ]
      },
      {
       "output_type": "stream",
       "stream": "stdout",
       "text": [
        "\n",
        "\n",
        "* Chris Day                                          0.95648\n",
        "  christopher nicholas chris day born 28 july 1975 is an english professional footballer who\n",
        "   plays as a goalkeeper for stevenageday started his career at tottenham"
       ]
      },
      {
       "output_type": "stream",
       "stream": "stdout",
       "text": [
        "\n",
        "\n",
        "* Tony Smith (footballer, born 1957)                 0.95653\n",
        "  anthony tony smith born 20 february 1957 is a former footballer who played as a central de\n",
        "  fender in the football league in the 1970s and"
       ]
      },
      {
       "output_type": "stream",
       "stream": "stdout",
       "text": [
        "\n",
        "\n",
        "* Ashley Prescott                                    0.95761\n",
        "  ashley prescott born 11 september 1972 is a former australian rules footballer he played w\n",
        "  ith the richmond and fremantle football clubs in the afl between"
       ]
      },
      {
       "output_type": "stream",
       "stream": "stdout",
       "text": [
        "\n",
        "\n",
        "* Leslie Lea                                         0.95802\n",
        "  leslie lea born 5 october 1942 in manchester is an english former professional footballer \n",
        "  he played as a midfielderlea began his professional career with blackpool"
       ]
      },
      {
       "output_type": "stream",
       "stream": "stdout",
       "text": [
        "\n",
        "\n",
        "* Tommy Anderson (footballer)                        0.95818\n",
        "  thomas cowan tommy anderson born 24 september 1934 in haddington is a scottish former prof\n",
        "  essional footballer he played as a forward and was noted for"
       ]
      },
      {
       "output_type": "stream",
       "stream": "stdout",
       "text": [
        "\n",
        "==========================================================\n"
       ]
      }
     ],
     "prompt_number": 98
    },
    {
     "cell_type": "markdown",
     "metadata": {},
     "source": [
      "Both clusters have mixed content, although cluster 1 is much purer than cluster 0:\n",
      "* Cluster 0: artists, songwriters, professors, politicians, writers, etc.\n",
      "* Cluster 1: baseball players, hockey players, soccer (association football) players, etc.\n",
      "\n",
      "Top words of cluster 1 are all related to sports, whereas top words of cluster 0 show no clear pattern.\n",
      "\n",
      "Roughly speaking, the entire dataset was divided into athletes and non-athletes. It would be better if we sub-divided non-atheletes into more categories. So let us use more clusters. How about `K=10`?"
     ]
    },
    {
     "cell_type": "code",
     "collapsed": false,
     "input": [
      "k = 10\n",
      "visualize_document_clusters(wiki, tf_idf, centroids[k](), cluster_assignment[k](), k, map_index_to_word)"
     ],
     "language": "python",
     "metadata": {
      "scrolled": true
     },
     "outputs": [
      {
       "output_type": "stream",
       "stream": "stdout",
       "text": [
        "==========================================================\n",
        "Cluster 0     "
       ]
      },
      {
       "output_type": "stream",
       "stream": "stdout",
       "text": [
        "film:0.020 art:0.014 "
       ]
      },
      {
       "output_type": "stream",
       "stream": "stdout",
       "text": [
        "he:0.011 book:0.010 television:0.010 \n",
        "\n",
        "* Wilson McLean                                      0.97479\n",
        "  wilson mclean born 1937 is a scottish illustrator and artist he has illustrated primarily \n",
        "  in the field of advertising but has also provided cover art"
       ]
      },
      {
       "output_type": "stream",
       "stream": "stdout",
       "text": [
        "\n",
        "\n",
        "* Anton Hecht                                        0.97748\n",
        "  anton hecht is an english artist born in london in 2007 he asked musicians from around the\n",
        "   durham area to contribute to a soundtrack for"
       ]
      },
      {
       "output_type": "stream",
       "stream": "stdout",
       "text": [
        "\n",
        "\n",
        "* David Salle                                        0.97800\n",
        "  david salle born 1952 is an american painter printmaker and stage designer who helped defi\n",
        "  ne postmodern sensibility salle was born in norman oklahoma he earned"
       ]
      },
      {
       "output_type": "stream",
       "stream": "stdout",
       "text": [
        "\n",
        "\n",
        "* Vipin Sharma                                       0.97805\n",
        "  vipin sharma is an indian actor born in new delhi he is a graduate of national school of d\n",
        "  rama new delhi india and the canadian"
       ]
      },
      {
       "output_type": "stream",
       "stream": "stdout",
       "text": [
        "\n",
        "\n",
        "* Paul Swadel                                        0.97823\n",
        "  paul swadel is a new zealand film director and producerhe has directed and produced many s\n",
        "  uccessful short films which have screened in competition at cannes"
       ]
      },
      {
       "output_type": "stream",
       "stream": "stdout",
       "text": [
        "\n",
        "\n",
        "* Allan Stratton                                     0.97834\n",
        "  allan stratton born 1951 is a canadian playwright and novelistborn in stratford ontario st\n",
        "  ratton began his professional arts career while he was still in high"
       ]
      },
      {
       "output_type": "stream",
       "stream": "stdout",
       "text": [
        "\n",
        "\n",
        "* Bill Bennett (director)                            0.97848\n",
        "  bill bennett born 1953 is an australian film director producer and screenwriterhe dropped \n",
        "  out of medicine at queensland university in 1972 and joined the australian"
       ]
      },
      {
       "output_type": "stream",
       "stream": "stdout",
       "text": [
        "\n",
        "\n",
        "* Rafal Zielinski                                    0.97850\n",
        "  rafal zielinski born 1957 montreal is an independent filmmaker he is best known for direct\n",
        "  ing films such as fun sundance film festival special jury award"
       ]
      },
      {
       "output_type": "stream",
       "stream": "stdout",
       "text": [
        "\n",
        "==========================================================\n",
        "Cluster 1     "
       ]
      },
      {
       "output_type": "stream",
       "stream": "stdout",
       "text": [
        "league:0.052 rugby:0.044 club:0.042 cup:0.042 "
       ]
      },
      {
       "output_type": "stream",
       "stream": "stdout",
       "text": [
        "season:0.041 \n",
        "\n",
        "* Chris Day                                          0.93220\n",
        "  christopher nicholas chris day born 28 july 1975 is an english professional footballer who\n",
        "   plays as a goalkeeper for stevenageday started his career at tottenham"
       ]
      },
      {
       "output_type": "stream",
       "stream": "stdout",
       "text": [
        "\n",
        "\n",
        "* Gary Hooper                                        0.93481\n",
        "  gary hooper born 26 january 1988 is an english professional footballer who plays as a forw\n",
        "  ard for norwich cityhooper started his career at nonleague grays"
       ]
      },
      {
       "output_type": "stream",
       "stream": "stdout",
       "text": [
        "\n",
        "\n",
        "* Tony Smith (footballer, born 1957)                 0.93504\n",
        "  anthony tony smith born 20 february 1957 is a former footballer who played as a central de\n",
        "  fender in the football league in the 1970s and"
       ]
      },
      {
       "output_type": "stream",
       "stream": "stdout",
       "text": [
        "\n",
        "\n",
        "* Jason Roberts (footballer)                         0.93527\n",
        "  jason andre davis roberts mbe born 25 january 1978 is a former professional footballer and\n",
        "   now a football punditborn in park royal london roberts was"
       ]
      },
      {
       "output_type": "stream",
       "stream": "stdout",
       "text": [
        "\n",
        "\n",
        "* Paul Robinson (footballer, born 1979)              0.93587\n",
        "  paul william robinson born 15 october 1979 is an english professional footballer who plays\n",
        "   for blackburn rovers as a goalkeeper he is a former england"
       ]
      },
      {
       "output_type": "stream",
       "stream": "stdout",
       "text": [
        "\n",
        "\n",
        "* Alex Lawless                                       0.93732\n",
        "  alexander graham alex lawless born 26 march 1985 is a welsh professional footballer who pl\n",
        "  ays for luton town as a midfielderlawless began his career with"
       ]
      },
      {
       "output_type": "stream",
       "stream": "stdout",
       "text": [
        "\n",
        "\n",
        "* Neil Grayson                                       0.93748\n",
        "  neil grayson born 1 november 1964 in york is an english footballer who last played as a st\n",
        "  riker for sutton towngraysons first club was local"
       ]
      },
      {
       "output_type": "stream",
       "stream": "stdout",
       "text": [
        "\n",
        "\n",
        "* Sol Campbell                                       0.93759\n",
        "  sulzeer jeremiah sol campbell born 18 september 1974 is a former england international foo\n",
        "  tballer a central defender he had a 19year career playing in the"
       ]
      },
      {
       "output_type": "stream",
       "stream": "stdout",
       "text": [
        "\n",
        "==========================================================\n",
        "Cluster 2     "
       ]
      },
      {
       "output_type": "stream",
       "stream": "stdout",
       "text": [
        "championships:0.040 tour:0.037 championship:0.032 "
       ]
      },
      {
       "output_type": "stream",
       "stream": "stdout",
       "text": [
        "world:0.029 won:0.029 \n",
        "\n",
        "* Alessandra Aguilar                                 0.94505\n",
        "  alessandra aguilar born 1 july 1978 in lugo is a spanish longdistance runner who specialis\n",
        "  es in marathon running she represented her country in the event"
       ]
      },
      {
       "output_type": "stream",
       "stream": "stdout",
       "text": [
        "\n",
        "\n",
        "* Heather Samuel                                     0.94529\n",
        "  heather barbara samuel born 6 july 1970 is a retired sprinter from antigua and barbuda who\n",
        "   specialized in the 100 and 200 metres in 1990"
       ]
      },
      {
       "output_type": "stream",
       "stream": "stdout",
       "text": [
        "\n",
        "\n",
        "* Viola Kibiwot                                      0.94617\n",
        "  viola jelagat kibiwot born december 22 1983 in keiyo district is a runner from kenya who s\n",
        "  pecialises in the 1500 metres kibiwot won her first"
       ]
      },
      {
       "output_type": "stream",
       "stream": "stdout",
       "text": [
        "\n",
        "\n",
        "* Ayelech Worku                                      0.94636\n",
        "  ayelech worku born june 12 1979 is an ethiopian longdistance runner most known for winning\n",
        "   two world championships bronze medals on the 5000 metres she"
       ]
      },
      {
       "output_type": "stream",
       "stream": "stdout",
       "text": [
        "\n",
        "\n",
        "* Morhad Amdouni                                     0.94763\n",
        "  morhad amdouni born 21 january 1988 in portovecchio is a french middle and longdistance ru\n",
        "  nner he was european junior champion in track and cross country"
       ]
      },
      {
       "output_type": "stream",
       "stream": "stdout",
       "text": [
        "\n",
        "\n",
        "* Krisztina Papp                                     0.94776\n",
        "  krisztina papp born 17 december 1982 in eger is a hungarian long distance runner she is th\n",
        "  e national indoor record holder over 5000 mpapp began"
       ]
      },
      {
       "output_type": "stream",
       "stream": "stdout",
       "text": [
        "\n",
        "\n",
        "* Petra Lammert                                      0.94869\n",
        "  petra lammert born 3 march 1984 in freudenstadt badenwrttemberg is a former german shot pu\n",
        "  tter and current bobsledder she was the 2009 european indoor champion"
       ]
      },
      {
       "output_type": "stream",
       "stream": "stdout",
       "text": [
        "\n",
        "\n",
        "* Hasan Mahboob                                      0.94880\n",
        "  hasan mahboob ali born silas kirui on 31 december 1981 in kapsabet is a bahraini longdista\n",
        "  nce runner he became naturalized in bahrain and switched from"
       ]
      },
      {
       "output_type": "stream",
       "stream": "stdout",
       "text": [
        "\n",
        "==========================================================\n",
        "Cluster 3     baseball:0.110 "
       ]
      },
      {
       "output_type": "stream",
       "stream": "stdout",
       "text": [
        "league:0.103 major:0.052 games:0.047 "
       ]
      },
      {
       "output_type": "stream",
       "stream": "stdout",
       "text": [
        "season:0.045 \n",
        "\n",
        "* Steve Springer                                     0.89300\n",
        "  steven michael springer born february 11 1961 is an american former professional baseball \n",
        "  player who appeared in major league baseball as a third baseman and"
       ]
      },
      {
       "output_type": "stream",
       "stream": "stdout",
       "text": [
        "\n",
        "\n",
        "* Dave Ford                                          0.89547\n",
        "  david alan ford born december 29 1956 is a former major league baseball pitcher for the ba\n",
        "  ltimore orioles born in cleveland ohio ford attended lincolnwest"
       ]
      },
      {
       "output_type": "stream",
       "stream": "stdout",
       "text": [
        "\n",
        "\n",
        "* Todd Williams                                      0.89820\n",
        "  todd michael williams born february 13 1971 in syracuse new york is a former major league \n",
        "  baseball relief pitcher he attended east syracuseminoa high school"
       ]
      },
      {
       "output_type": "stream",
       "stream": "stdout",
       "text": [
        "\n",
        "\n",
        "* Justin Knoedler                                    0.90035\n",
        "  justin joseph knoedler born july 17 1980 in springfield illinois is a former major league \n",
        "  baseball catcherknoedler was originally drafted by the st louis cardinals"
       ]
      },
      {
       "output_type": "stream",
       "stream": "stdout",
       "text": [
        "\n",
        "\n",
        "* Kevin Nicholson (baseball)                         0.90643\n",
        "  kevin ronald nicholson born march 29 1976 is a canadian baseball shortstop he played part \n",
        "  of the 2000 season for the san diego padres of"
       ]
      },
      {
       "output_type": "stream",
       "stream": "stdout",
       "text": [
        "\n",
        "\n",
        "* James Baldwin (baseball)                           0.90648\n",
        "  james j baldwin jr born july 15 1971 is a former major league baseball pitcher he batted a\n",
        "  nd threw righthanded in his 11season career he"
       ]
      },
      {
       "output_type": "stream",
       "stream": "stdout",
       "text": [
        "\n",
        "\n",
        "* Joe Strong                                         0.90655\n",
        "  joseph benjamin strong born september 9 1962 in fairfield california is a former major lea\n",
        "  gue baseball pitcher who played for the florida marlins from 2000"
       ]
      },
      {
       "output_type": "stream",
       "stream": "stdout",
       "text": [
        "\n",
        "\n",
        "* Javier L%C3%B3pez (baseball)                       0.90691\n",
        "  javier alfonso lpez born july 11 1977 is a puerto rican professional baseball pitcher for \n",
        "  the san francisco giants of major league baseball he is"
       ]
      },
      {
       "output_type": "stream",
       "stream": "stdout",
       "text": [
        "\n",
        "==========================================================\n",
        "Cluster 4     "
       ]
      },
      {
       "output_type": "stream",
       "stream": "stdout",
       "text": [
        "research:0.038 university:0.035 professor:0.032 "
       ]
      },
      {
       "output_type": "stream",
       "stream": "stdout",
       "text": [
        "science:0.023 institute:0.019 \n",
        "\n",
        "* Lawrence W. Green                                  0.95957\n",
        "  lawrence w green is best known by health education researchers as the originator of the pr\n",
        "  ecede model and codeveloper of the precedeproceed model which has"
       ]
      },
      {
       "output_type": "stream",
       "stream": "stdout",
       "text": [
        "\n",
        "\n",
        "* Timothy Luke                                       0.96057\n",
        "  timothy w luke is university distinguished professor of political science in the college o\n",
        "  f liberal arts and human sciences as well as program chair of"
       ]
      },
      {
       "output_type": "stream",
       "stream": "stdout",
       "text": [
        "\n",
        "\n",
        "* Ren%C3%A9e Fox                                     0.96100\n",
        "  rene c fox a summa cum laude graduate of smith college in 1949 earned her phd in sociology\n",
        "   in 1954 from radcliffe college harvard university"
       ]
      },
      {
       "output_type": "stream",
       "stream": "stdout",
       "text": [
        "\n",
        "\n",
        "* Francis Gavin                                      0.96323\n",
        "  francis j gavin is first frank stanton chair in nuclear security policy studies and profes\n",
        "  sor of political science at mit before joining mit he was"
       ]
      },
      {
       "output_type": "stream",
       "stream": "stdout",
       "text": [
        "\n",
        "\n",
        "* Catherine Hakim                                    0.96374\n",
        "  catherine hakim born 30 may 1948 is a british sociologist who specialises in womens employ\n",
        "  ment and womens issues she is currently a professorial research fellow"
       ]
      },
      {
       "output_type": "stream",
       "stream": "stdout",
       "text": [
        "\n",
        "\n",
        "* Stephen Park Turner                                0.96405\n",
        "  stephen turner is a researcher in social practice social and political theory and the phil\n",
        "  osophy of the social sciences he is graduate research professor in"
       ]
      },
      {
       "output_type": "stream",
       "stream": "stdout",
       "text": [
        "\n",
        "\n",
        "* Robert Bates (political scientist)                 0.96489\n",
        "  robert hinrichs bates born 1942 is an american political scientist he is eaton professor o\n",
        "  f the science of government in the departments of government and"
       ]
      },
      {
       "output_type": "stream",
       "stream": "stdout",
       "text": [
        "\n",
        "\n",
        "* Georg von Krogh                                    0.96505\n",
        "  georg von krogh was born in oslo norway he is a professor at eth zurich and holds the chai\n",
        "  r of strategic management and innovation he"
       ]
      },
      {
       "output_type": "stream",
       "stream": "stdout",
       "text": [
        "\n",
        "==========================================================\n",
        "Cluster 5     football:0.076 "
       ]
      },
      {
       "output_type": "stream",
       "stream": "stdout",
       "text": [
        "coach:0.060 basketball:0.056 season:0.044 played:0.037 \n",
        "\n",
        "* Todd Curley                                        0.92731\n",
        "  todd curley born 14 january 1973 is a former australian rules footballer who played for co\n",
        "  llingwood and the western bulldogs in the australian football league"
       ]
      },
      {
       "output_type": "stream",
       "stream": "stdout",
       "text": [
        "\n",
        "\n",
        "* Ashley Prescott                                    0.92992\n",
        "  ashley prescott born 11 september 1972 is a former australian rules footballer he played w\n",
        "  ith the richmond and fremantle football clubs in the afl between"
       ]
      },
      {
       "output_type": "stream",
       "stream": "stdout",
       "text": [
        "\n",
        "\n",
        "* Pete Richardson                                    0.93204\n",
        "  pete richardson born october 17 1946 in youngstown ohio is a former american football defe\n",
        "  nsive back in the national football league and former college head"
       ]
      },
      {
       "output_type": "stream",
       "stream": "stdout",
       "text": [
        "\n",
        "\n",
        "* Nathan Brown (Australian footballer born 1976)     0.93561\n",
        "  nathan daniel brown born 14 august 1976 is an australian rules footballer who played for t\n",
        "  he melbourne demons in the australian football leaguehe was drafted"
       ]
      },
      {
       "output_type": "stream",
       "stream": "stdout",
       "text": [
        "\n",
        "\n",
        "* Earl Spalding                                      0.93654\n",
        "  earl spalding born 11 march 1965 in south perth is a former australian rules footballer wh\n",
        "  o played for melbourne and carlton in the victorian football"
       ]
      },
      {
       "output_type": "stream",
       "stream": "stdout",
       "text": [
        "\n",
        "\n",
        "* Bud Grant                                          0.93766\n",
        "  harry peter bud grant jr born may 20 1927 is a former american football and canadian footb\n",
        "  all head coach grant served as the head coach"
       ]
      },
      {
       "output_type": "stream",
       "stream": "stdout",
       "text": [
        "\n",
        "\n",
        "* Tyrone Wheatley                                    0.93885\n",
        "  tyrone anthony wheatley born january 19 1972 is the running backs coach of michigan and a \n",
        "  former professional american football player who played 10 seasons"
       ]
      },
      {
       "output_type": "stream",
       "stream": "stdout",
       "text": [
        "\n",
        "\n",
        "* Nick Salter                                        0.93916\n",
        "  nick salter born 30 july 1987 is an australian rules footballer who played for port adelai\n",
        "  de football club in the australian football league aflhe was"
       ]
      },
      {
       "output_type": "stream",
       "stream": "stdout",
       "text": [
        "\n",
        "==========================================================\n",
        "Cluster 6     "
       ]
      },
      {
       "output_type": "stream",
       "stream": "stdout",
       "text": [
        "she:0.138 her:0.089 actress:0.014 film:0.013 "
       ]
      },
      {
       "output_type": "stream",
       "stream": "stdout",
       "text": [
        "miss:0.012 \n",
        "\n",
        "* Lauren Royal                                       0.93445\n",
        "  lauren royal born march 3 circa 1965 is a book writer from california royal has written bo\n",
        "  th historic and novelistic booksa selfproclaimed angels baseball fan"
       ]
      },
      {
       "output_type": "stream",
       "stream": "stdout",
       "text": [
        "\n",
        "\n",
        "* Barbara Hershey                                    0.93496\n",
        "  barbara hershey born barbara lynn herzstein february 5 1948 once known as barbara seagull \n",
        "  is an american actress in a career spanning nearly 50 years"
       ]
      },
      {
       "output_type": "stream",
       "stream": "stdout",
       "text": [
        "\n",
        "\n",
        "* Janet Jackson                                      0.93559\n",
        "  janet damita jo jackson born may 16 1966 is an american singer songwriter and actress know\n",
        "  n for a series of sonically innovative socially conscious and"
       ]
      },
      {
       "output_type": "stream",
       "stream": "stdout",
       "text": [
        "\n",
        "\n",
        "* Jane Fonda                                         0.93759\n",
        "  jane fonda born lady jayne seymour fonda december 21 1937 is an american actress writer po\n",
        "  litical activist former fashion model and fitness guru she is"
       ]
      },
      {
       "output_type": "stream",
       "stream": "stdout",
       "text": [
        "\n",
        "\n",
        "* Janine Shepherd                                    0.93833\n",
        "  janine lee shepherd am born 1962 is an australian pilot and former crosscountry skier shep\n",
        "  herds career as an athlete ended when she suffered major injuries"
       ]
      },
      {
       "output_type": "stream",
       "stream": "stdout",
       "text": [
        "\n",
        "\n",
        "* Ellina Graypel                                     0.93847\n",
        "  ellina graypel born july 19 1972 is an awardwinning russian singersongwriter she was born \n",
        "  near the volga river in the heart of russia she spent"
       ]
      },
      {
       "output_type": "stream",
       "stream": "stdout",
       "text": [
        "\n",
        "\n",
        "* Alexandra Potter                                   0.93858\n",
        "  alexandra potter born 1970 is a british author of romantic comediesborn in bradford yorksh\n",
        "  ire england and educated at liverpool university gaining an honors degree in"
       ]
      },
      {
       "output_type": "stream",
       "stream": "stdout",
       "text": [
        "\n",
        "\n",
        "* Melissa Hart (actress)                             0.93913\n",
        "  melissa hart is an american actress singer and teacher she made her broadway debut in 1966\n",
        "   as an ensemble member in jerry bocks the apple"
       ]
      },
      {
       "output_type": "stream",
       "stream": "stdout",
       "text": [
        "\n",
        "==========================================================\n",
        "Cluster 7     "
       ]
      },
      {
       "output_type": "stream",
       "stream": "stdout",
       "text": [
        "music:0.057 album:0.040 band:0.035 "
       ]
      },
      {
       "output_type": "stream",
       "stream": "stdout",
       "text": [
        "orchestra:0.023 released:0.022 \n",
        "\n",
        "* Brenton Broadstock                                 0.95722\n",
        "  brenton broadstock ao born 1952 is an australian composerbroadstock was born in melbourne \n",
        "  he studied history politics and music at monash university and later composition"
       ]
      },
      {
       "output_type": "stream",
       "stream": "stdout",
       "text": [
        "\n",
        "\n",
        "* Prince (musician)                                  0.96057\n",
        "  prince rogers nelson born june 7 1958 known by his mononym prince is an american singerson\n",
        "  gwriter multiinstrumentalist and actor he has produced ten platinum albums"
       ]
      },
      {
       "output_type": "stream",
       "stream": "stdout",
       "text": [
        "\n",
        "\n",
        "* Will.i.am                                          0.96066\n",
        "  william adams born march 15 1975 known by his stage name william pronounced will i am is a\n",
        "  n american rapper songwriter entrepreneur actor dj record"
       ]
      },
      {
       "output_type": "stream",
       "stream": "stdout",
       "text": [
        "\n",
        "\n",
        "* Tom Bancroft                                       0.96117\n",
        "  tom bancroft born 1967 london is a british jazz drummer and composer he began drumming age\n",
        "  d seven and started off playing jazz with his father"
       ]
      },
      {
       "output_type": "stream",
       "stream": "stdout",
       "text": [
        "\n",
        "\n",
        "* Julian Knowles                                     0.96152\n",
        "  julian knowles is an australian composer and performer specialising in new and emerging te\n",
        "  chnologies his creative work spans the fields of composition for theatre dance"
       ]
      },
      {
       "output_type": "stream",
       "stream": "stdout",
       "text": [
        "\n",
        "\n",
        "* Dan Siegel (musician)                              0.96223\n",
        "  dan siegel born in seattle washington is a pianist composer and record producer his earlie\n",
        "  r music has been described as new age while his more"
       ]
      },
      {
       "output_type": "stream",
       "stream": "stdout",
       "text": [
        "\n",
        "\n",
        "* Tony Mills (musician)                              0.96238\n",
        "  tony mills born 7 july 1962 in solihull england is an english rock singer best known for h\n",
        "  is work with shy and tnthailing from birmingham"
       ]
      },
      {
       "output_type": "stream",
       "stream": "stdout",
       "text": [
        "\n",
        "\n",
        "* Don Robertson (composer)                           0.96249\n",
        "  don robertson born 1942 is an american composerdon robertson was born in 1942 in denver co\n",
        "  lorado and began studying music with conductor and pianist antonia"
       ]
      },
      {
       "output_type": "stream",
       "stream": "stdout",
       "text": [
        "\n",
        "==========================================================\n",
        "Cluster 8     "
       ]
      },
      {
       "output_type": "stream",
       "stream": "stdout",
       "text": [
        "hockey:0.216 nhl:0.134 ice:0.065 "
       ]
      },
      {
       "output_type": "stream",
       "stream": "stdout",
       "text": [
        "season:0.053 league:0.047 \n",
        "\n",
        "* Gord Sherven                                       0.83598\n",
        "  gordon r sherven born august 21 1963 in gravelbourg saskatchewan and raised in mankota sas\n",
        "  katchewan is a retired canadian professional ice hockey forward who played"
       ]
      },
      {
       "output_type": "stream",
       "stream": "stdout",
       "text": [
        "\n",
        "\n",
        "* Eric Brewer                                        0.83765\n",
        "  eric peter brewer born april 17 1979 is a canadian professional ice hockey defenceman for \n",
        "  the anaheim ducks of the national hockey league nhl he"
       ]
      },
      {
       "output_type": "stream",
       "stream": "stdout",
       "text": [
        "\n",
        "\n",
        "* Stephen Johns (ice hockey)                         0.84580\n",
        "  stephen johns born april 18 1992 is an american professional ice hockey defenceman he is c\n",
        "  urrently playing with the rockford icehogs of the american hockey"
       ]
      },
      {
       "output_type": "stream",
       "stream": "stdout",
       "text": [
        "\n",
        "\n",
        "* Mike Stevens (ice hockey, born 1965)               0.85320\n",
        "  mike stevens born december 30 1965 in kitchener ontario is a retired professional ice hock\n",
        "  ey player who played 23 games in the national hockey league"
       ]
      },
      {
       "output_type": "stream",
       "stream": "stdout",
       "text": [
        "\n",
        "\n",
        "* Tanner Glass                                       0.85484\n",
        "  tanner glass born november 29 1983 is a canadian professional ice hockey winger who plays \n",
        "  for the new york rangers of the national hockey league"
       ]
      },
      {
       "output_type": "stream",
       "stream": "stdout",
       "text": [
        "\n",
        "\n",
        "* Todd Strueby                                       0.86053\n",
        "  todd kenneth strueby born june 15 1963 in lanigan saskatchewan and raised in humboldt sask\n",
        "  atchewan is a retired canadian professional ice hockey centre who played"
       ]
      },
      {
       "output_type": "stream",
       "stream": "stdout",
       "text": [
        "\n",
        "\n",
        "* Steven King (ice hockey)                           0.86129\n",
        "  steven andrew king born july 22 1969 in east greenwich rhode island is a former ice hockey\n",
        "   forward who played professionally from 1991 to 2000"
       ]
      },
      {
       "output_type": "stream",
       "stream": "stdout",
       "text": [
        "\n",
        "\n",
        "* Don Jackson (ice hockey)                           0.86661\n",
        "  donald clinton jackson born september 2 1956 in minneapolis minnesota and bloomington minn\n",
        "  esota is an ice hockey coach and a retired professional ice hockey player"
       ]
      },
      {
       "output_type": "stream",
       "stream": "stdout",
       "text": [
        "\n",
        "==========================================================\n",
        "Cluster 9     "
       ]
      },
      {
       "output_type": "stream",
       "stream": "stdout",
       "text": [
        "party:0.028 election:0.025 minister:0.025 served:0.021 "
       ]
      },
      {
       "output_type": "stream",
       "stream": "stdout",
       "text": [
        "law:0.019 \n",
        "\n",
        "* Doug Lewis                                         0.96516\n",
        "  douglas grinslade doug lewis pc qc born april 17 1938 is a former canadian politician a ch\n",
        "  artered accountant and lawyer by training lewis entered the"
       ]
      },
      {
       "output_type": "stream",
       "stream": "stdout",
       "text": [
        "\n",
        "\n",
        "* David Anderson (British Columbia politician)       0.96530\n",
        "  david a anderson pc oc born august 16 1937 in victoria british columbia is a former canadi\n",
        "  an cabinet minister educated at victoria college in victoria"
       ]
      },
      {
       "output_type": "stream",
       "stream": "stdout",
       "text": [
        "\n",
        "\n",
        "* Lucienne Robillard                                 0.96679\n",
        "  lucienne robillard pc born june 16 1945 is a canadian politician and a member of the liber\n",
        "  al party of canada she sat in the house"
       ]
      },
      {
       "output_type": "stream",
       "stream": "stdout",
       "text": [
        "\n",
        "\n",
        "* Bob Menendez                                       0.96686\n",
        "  robert bob menendez born january 1 1954 is the senior united states senator from new jerse\n",
        "  y he is a member of the democratic party first"
       ]
      },
      {
       "output_type": "stream",
       "stream": "stdout",
       "text": [
        "\n",
        "\n",
        "* Mal Sandon                                         0.96706\n",
        "  malcolm john mal sandon born 16 september 1945 is an australian politician he was an austr\n",
        "  alian labor party member of the victorian legislative council from"
       ]
      },
      {
       "output_type": "stream",
       "stream": "stdout",
       "text": [
        "\n",
        "\n",
        "* Roger Price (Australian politician)                0.96717\n",
        "  leo roger spurway price born 26 november 1945 is a former australian politician he was ele\n",
        "  cted as a member of the australian house of representatives"
       ]
      },
      {
       "output_type": "stream",
       "stream": "stdout",
       "text": [
        "\n",
        "\n",
        "* Maureen Lyster                                     0.96734\n",
        "  maureen anne lyster born 10 september 1943 is an australian politician she was an australi\n",
        "  an labor party member of the victorian legislative assembly from 1985"
       ]
      },
      {
       "output_type": "stream",
       "stream": "stdout",
       "text": [
        "\n",
        "\n",
        "* Don Bell                                           0.96739\n",
        "  donald h bell born march 10 1942 in new westminster british columbia is a canadian politic\n",
        "  ian he is currently serving as a councillor for the"
       ]
      },
      {
       "output_type": "stream",
       "stream": "stdout",
       "text": [
        "\n",
        "==========================================================\n"
       ]
      }
     ],
     "prompt_number": 99
    },
    {
     "cell_type": "markdown",
     "metadata": {},
     "source": [
      "Clusters 0, 1, and 5 appear to be still mixed, but others are quite consistent in content.\n",
      "* Cluster 0: artists, actors, film directors, playwrights\n",
      "* Cluster 1: soccer (association football) players, rugby players\n",
      "* Cluster 2: track and field athletes\n",
      "* Cluster 3: baseball players\n",
      "* Cluster 4: professors, researchers, scholars\n",
      "* Cluster 5: Austrailian rules football players, American football players\n",
      "* Cluster 6: female figures from various fields\n",
      "* Cluster 7: composers, songwriters, singers, music producers\n",
      "* Cluster 8: ice hockey players\n",
      "* Cluster 9: politicians\n",
      "\n",
      "Clusters are now more pure, but some are qualitatively \"bigger\" than others. For instance, the category of scholars is more general than the category of baseball players. Increasing the number of clusters may split larger clusters. Another way to look at the size of the clusters is to count the number of articles in each cluster."
     ]
    },
    {
     "cell_type": "code",
     "collapsed": false,
     "input": [
      "np.bincount(cluster_assignment[10]())"
     ],
     "language": "python",
     "metadata": {},
     "outputs": [
      {
       "metadata": {},
       "output_type": "pyout",
       "prompt_number": 100,
       "text": [
        "array([17602,  3415,  3535,  1736,  6445,  2552,  7106,  7155,   599,  8926])"
       ]
      }
     ],
     "prompt_number": 100
    },
    {
     "cell_type": "markdown",
     "metadata": {},
     "source": [
      "**Quiz Question**. Which of the 10 clusters above contains the greatest number of articles?\n",
      "\n",
      "1. Cluster 0: artists, actors, film directors, playwrights\n",
      "2. Cluster 4: professors, researchers, scholars\n",
      "3. Cluster 5: Austrailian rules football players, American football players\n",
      "4. Cluster 7: composers, songwriters, singers, music producers\n",
      "5. Cluster 9: politicians"
     ]
    },
    {
     "cell_type": "markdown",
     "metadata": {},
     "source": [
      "**Quiz Question**. Which of the 10 clusters contains the least number of articles?\n",
      "\n",
      "1. Cluster 1: soccer (association football) players, rugby players\n",
      "2. Cluster 3: baseball players\n",
      "3. Cluster 6: female figures from various fields\n",
      "4. Cluster 7: composers, songwriters, singers, music producers\n",
      "5. Cluster 8: ice hockey players"
     ]
    },
    {
     "cell_type": "markdown",
     "metadata": {},
     "source": [
      "There appears to be at least some connection between the topical consistency of a cluster and the number of its member data points."
     ]
    },
    {
     "cell_type": "markdown",
     "metadata": {},
     "source": [
      "Let us visualize the case for K=25. For the sake of brevity, we do not print the content of documents. It turns out that the top words with highest TF-IDF weights in each cluster are representative of the cluster."
     ]
    },
    {
     "cell_type": "code",
     "collapsed": false,
     "input": [
      "visualize_document_clusters(wiki, tf_idf, centroids[25](), cluster_assignment[25](), 25,\n",
      "                            map_index_to_word, display_content=False) # turn off text for brevity"
     ],
     "language": "python",
     "metadata": {
      "scrolled": false
     },
     "outputs": [
      {
       "output_type": "stream",
       "stream": "stdout",
       "text": [
        "==========================================================\n",
        "Cluster 0     "
       ]
      },
      {
       "output_type": "stream",
       "stream": "stdout",
       "text": [
        "law:0.077 district:0.048 court:0.046 "
       ]
      },
      {
       "output_type": "stream",
       "stream": "stdout",
       "text": [
        "republican:0.038 senate:0.038 \n",
        "==========================================================\n",
        "Cluster 1     "
       ]
      },
      {
       "output_type": "stream",
       "stream": "stdout",
       "text": [
        "research:0.054 professor:0.033 science:0.032 "
       ]
      },
      {
       "output_type": "stream",
       "stream": "stdout",
       "text": [
        "university:0.031 physics:0.029 \n",
        "==========================================================\n",
        "Cluster 2     "
       ]
      },
      {
       "output_type": "stream",
       "stream": "stdout",
       "text": [
        "hockey:0.216 nhl:0.134 "
       ]
      },
      {
       "output_type": "stream",
       "stream": "stdout",
       "text": [
        "ice:0.065 season:0.052 "
       ]
      },
      {
       "output_type": "stream",
       "stream": "stdout",
       "text": [
        "league:0.047 \n",
        "==========================================================\n",
        "Cluster 3     party:0.065 "
       ]
      },
      {
       "output_type": "stream",
       "stream": "stdout",
       "text": [
        "election:0.042 elected:0.031 parliament:0.027 "
       ]
      },
      {
       "output_type": "stream",
       "stream": "stdout",
       "text": [
        "member:0.023 \n",
        "==========================================================\n",
        "Cluster 4     "
       ]
      },
      {
       "output_type": "stream",
       "stream": "stdout",
       "text": [
        "board:0.025 president:0.023 chairman:0.022 "
       ]
      },
      {
       "output_type": "stream",
       "stream": "stdout",
       "text": [
        "business:0.022 executive:0.020 \n",
        "==========================================================\n",
        "Cluster 5     "
       ]
      },
      {
       "output_type": "stream",
       "stream": "stdout",
       "text": [
        "minister:0.160 prime:0.056 cabinet:0.044 "
       ]
      },
      {
       "output_type": "stream",
       "stream": "stdout",
       "text": [
        "party:0.043 election:0.042 \n",
        "==========================================================\n",
        "Cluster 6     "
       ]
      },
      {
       "output_type": "stream",
       "stream": "stdout",
       "text": [
        "university:0.044 professor:0.037 studies:0.035 history:0.034 "
       ]
      },
      {
       "output_type": "stream",
       "stream": "stdout",
       "text": [
        "philosophy:0.031 \n",
        "==========================================================\n",
        "Cluster 7     election:0.066 "
       ]
      },
      {
       "output_type": "stream",
       "stream": "stdout",
       "text": [
        "manitoba:0.058 "
       ]
      },
      {
       "output_type": "stream",
       "stream": "stdout",
       "text": [
        "liberal:0.051 party:0.045 riding:0.043 \n",
        "==========================================================\n",
        "Cluster 8     "
       ]
      },
      {
       "output_type": "stream",
       "stream": "stdout",
       "text": [
        "racing:0.095 formula:0.056 championship:0.054 "
       ]
      },
      {
       "output_type": "stream",
       "stream": "stdout",
       "text": [
        "race:0.052 poker:0.051 \n",
        "==========================================================\n",
        "Cluster 9     "
       ]
      },
      {
       "output_type": "stream",
       "stream": "stdout",
       "text": [
        "economics:0.146 economic:0.096 economist:0.053 "
       ]
      },
      {
       "output_type": "stream",
       "stream": "stdout",
       "text": [
        "policy:0.048 research:0.043 \n",
        "==========================================================\n",
        "Cluster 10     "
       ]
      },
      {
       "output_type": "stream",
       "stream": "stdout",
       "text": [
        "championships:0.075 olympics:0.050 marathon:0.048 "
       ]
      },
      {
       "output_type": "stream",
       "stream": "stdout",
       "text": [
        "metres:0.048 she:0.048 \n",
        "==========================================================\n",
        "Cluster 11     "
       ]
      },
      {
       "output_type": "stream",
       "stream": "stdout",
       "text": [
        "she:0.144 her:0.092 miss:0.016 "
       ]
      },
      {
       "output_type": "stream",
       "stream": "stdout",
       "text": [
        "actress:0.015 television:0.012 \n",
        "==========================================================\n",
        "Cluster 12     "
       ]
      },
      {
       "output_type": "stream",
       "stream": "stdout",
       "text": [
        "he:0.011 radio:0.009 show:0.009 that:0.009 "
       ]
      },
      {
       "output_type": "stream",
       "stream": "stdout",
       "text": [
        "his:0.009 \n",
        "==========================================================\n",
        "Cluster 13     "
       ]
      },
      {
       "output_type": "stream",
       "stream": "stdout",
       "text": [
        "baseball:0.109 league:0.104 major:0.052 "
       ]
      },
      {
       "output_type": "stream",
       "stream": "stdout",
       "text": [
        "games:0.047 season:0.045 \n",
        "==========================================================\n",
        "Cluster 14     "
       ]
      },
      {
       "output_type": "stream",
       "stream": "stdout",
       "text": [
        "art:0.144 museum:0.076 gallery:0.056 "
       ]
      },
      {
       "output_type": "stream",
       "stream": "stdout",
       "text": [
        "artist:0.033 arts:0.031 \n",
        "==========================================================\n",
        "Cluster 15     "
       ]
      },
      {
       "output_type": "stream",
       "stream": "stdout",
       "text": [
        "football:0.125 afl:0.060 nfl:0.051 season:0.049 "
       ]
      },
      {
       "output_type": "stream",
       "stream": "stdout",
       "text": [
        "played:0.045 \n",
        "==========================================================\n",
        "Cluster 16     "
       ]
      },
      {
       "output_type": "stream",
       "stream": "stdout",
       "text": [
        "music:0.097 jazz:0.061 piano:0.033 "
       ]
      },
      {
       "output_type": "stream",
       "stream": "stdout",
       "text": [
        "composer:0.029 orchestra:0.028 \n",
        "==========================================================\n",
        "Cluster 17     "
       ]
      },
      {
       "output_type": "stream",
       "stream": "stdout",
       "text": [
        "league:0.052 rugby:0.044 club:0.043 "
       ]
      },
      {
       "output_type": "stream",
       "stream": "stdout",
       "text": [
        "cup:0.042 season:0.042 \n",
        "==========================================================\n",
        "Cluster 18     "
       ]
      },
      {
       "output_type": "stream",
       "stream": "stdout",
       "text": [
        "poetry:0.055 novel:0.045 book:0.042 published:0.039 "
       ]
      },
      {
       "output_type": "stream",
       "stream": "stdout",
       "text": [
        "fiction:0.035 \n",
        "==========================================================\n",
        "Cluster 19     film:0.095 "
       ]
      },
      {
       "output_type": "stream",
       "stream": "stdout",
       "text": [
        "theatre:0.038 films:0.035 directed:0.029 "
       ]
      },
      {
       "output_type": "stream",
       "stream": "stdout",
       "text": [
        "television:0.028 \n",
        "==========================================================\n",
        "Cluster 20     "
       ]
      },
      {
       "output_type": "stream",
       "stream": "stdout",
       "text": [
        "album:0.064 band:0.049 music:0.037 "
       ]
      },
      {
       "output_type": "stream",
       "stream": "stdout",
       "text": [
        "released:0.033 song:0.025 \n",
        "==========================================================\n",
        "Cluster 21     "
       ]
      },
      {
       "output_type": "stream",
       "stream": "stdout",
       "text": [
        "bishop:0.075 air:0.066 force:0.048 church:0.047 "
       ]
      },
      {
       "output_type": "stream",
       "stream": "stdout",
       "text": [
        "command:0.045 \n",
        "==========================================================\n",
        "Cluster 22     "
       ]
      },
      {
       "output_type": "stream",
       "stream": "stdout",
       "text": [
        "orchestra:0.146 opera:0.116 symphony:0.106 "
       ]
      },
      {
       "output_type": "stream",
       "stream": "stdout",
       "text": [
        "conductor:0.077 music:0.064 \n",
        "==========================================================\n",
        "Cluster 23     "
       ]
      },
      {
       "output_type": "stream",
       "stream": "stdout",
       "text": [
        "basketball:0.120 coach:0.105 nba:0.065 "
       ]
      },
      {
       "output_type": "stream",
       "stream": "stdout",
       "text": [
        "head:0.042 season:0.040 \n",
        "==========================================================\n",
        "Cluster 24     "
       ]
      },
      {
       "output_type": "stream",
       "stream": "stdout",
       "text": [
        "tour:0.256 pga:0.213 "
       ]
      },
      {
       "output_type": "stream",
       "stream": "stdout",
       "text": [
        "golf:0.142 open:0.073 golfer:0.062 \n",
        "==========================================================\n"
       ]
      }
     ],
     "prompt_number": 116
    },
    {
     "cell_type": "markdown",
     "metadata": {
      "collapsed": true
     },
     "source": [
      "Looking at the representative examples and top words, we classify each cluster as follows. Notice the bolded items, which indicate the appearance of a new theme.\n",
      "* Cluster 0: **lawyers, judges, legal scholars**\n",
      "* Cluster 1: **professors, researchers, scholars (natural and health sciences)**\n",
      "* Cluster 2: ice hockey players\n",
      "* Cluster 3: politicans\n",
      "* Cluster 4: **government officials**\n",
      "* Cluster 5: politicans\n",
      "* Cluster 6: **professors, researchers, scholars (social sciences and humanities)**\n",
      "* Cluster 7: Canadian politicians\n",
      "* Cluster 8: **car racers**\n",
      "* Cluster 9: **economists**\n",
      "* Cluster 10: track and field athletes\n",
      "* Cluster 11: females from various fields\n",
      "* Cluster 12: (mixed; no clear theme)\n",
      "* Cluster 13: baseball players\n",
      "* Cluster 14: **painters, sculptors, artists**\n",
      "* Cluster 15: Austrailian rules football players, American football players\n",
      "* Cluster 16: **musicians, composers**\n",
      "* Cluster 17: soccer (association football) players, rugby players\n",
      "* Cluster 18: **poets**\n",
      "* Cluster 19: **film directors, playwrights**\n",
      "* Cluster 20: **songwriters, singers, music producers**\n",
      "* Cluster 21: **generals of U.S. Air Force**\n",
      "* Cluster 22: **music directors, conductors**\n",
      "* Cluster 23: **basketball players**\n",
      "* Cluster 24: **golf players**\n",
      "\n",
      "Indeed, increasing K achieved the desired effect of breaking up large clusters.  Depending on the application, this may or may not be preferable to the K=10 analysis.\n",
      "\n",
      "Let's take it to the extreme and set K=100. We have a suspicion that this value is too large. Let us look at the top words from each cluster:"
     ]
    },
    {
     "cell_type": "code",
     "collapsed": false,
     "input": [
      "k=100\n",
      "visualize_document_clusters(wiki, tf_idf, centroids[k](), cluster_assignment[k](), k,\n",
      "                            map_index_to_word, display_content=False)\n",
      "# turn off text for brevity -- turn it on if you are curious ;)"
     ],
     "language": "python",
     "metadata": {
      "scrolled": false
     },
     "outputs": [
      {
       "output_type": "stream",
       "stream": "stdout",
       "text": [
        "==========================================================\n",
        "Cluster 0     "
       ]
      },
      {
       "output_type": "stream",
       "stream": "stdout",
       "text": [
        "brazilian:0.137 brazil:0.082 de:0.056 "
       ]
      },
      {
       "output_type": "stream",
       "stream": "stdout",
       "text": [
        "rio:0.053 paulo:0.050 \n",
        "==========================================================\n",
        "Cluster 1     "
       ]
      },
      {
       "output_type": "stream",
       "stream": "stdout",
       "text": [
        "bishop:0.170 diocese:0.085 archbishop:0.083 "
       ]
      },
      {
       "output_type": "stream",
       "stream": "stdout",
       "text": [
        "church:0.072 ordained:0.058 \n",
        "==========================================================\n",
        "Cluster 2     "
       ]
      },
      {
       "output_type": "stream",
       "stream": "stdout",
       "text": [
        "zealand:0.247 new:0.069 auckland:0.056 "
       ]
      },
      {
       "output_type": "stream",
       "stream": "stdout",
       "text": [
        "wellington:0.031 zealands:0.029 \n",
        "==========================================================\n",
        "Cluster 3     "
       ]
      },
      {
       "output_type": "stream",
       "stream": "stdout",
       "text": [
        "comics:0.181 comic:0.121 strip:0.042 "
       ]
      },
      {
       "output_type": "stream",
       "stream": "stdout",
       "text": [
        "graphic:0.036 book:0.034 \n",
        "==========================================================\n",
        "Cluster 4     "
       ]
      },
      {
       "output_type": "stream",
       "stream": "stdout",
       "text": [
        "puerto:0.309 rico:0.220 "
       ]
      },
      {
       "output_type": "stream",
       "stream": "stdout",
       "text": [
        "rican:0.066 juan:0.041 ricos:0.031 \n",
        "==========================================================\n",
        "Cluster 5     "
       ]
      },
      {
       "output_type": "stream",
       "stream": "stdout",
       "text": [
        "bbc:0.192 radio:0.127 "
       ]
      },
      {
       "output_type": "stream",
       "stream": "stdout",
       "text": [
        "presenter:0.054 show:0.046 news:0.042 \n",
        "==========================================================\n",
        "Cluster 6     "
       ]
      },
      {
       "output_type": "stream",
       "stream": "stdout",
       "text": [
        "senate:0.059 district:0.053 county:0.051 "
       ]
      },
      {
       "output_type": "stream",
       "stream": "stdout",
       "text": [
        "committee:0.049 state:0.044 \n",
        "==========================================================\n",
        "Cluster 7     "
       ]
      },
      {
       "output_type": "stream",
       "stream": "stdout",
       "text": [
        "labor:0.105 australian:0.099 liberal:0.071 "
       ]
      },
      {
       "output_type": "stream",
       "stream": "stdout",
       "text": [
        "election:0.067 seat:0.061 \n",
        "==========================================================\n",
        "Cluster 8     "
       ]
      },
      {
       "output_type": "stream",
       "stream": "stdout",
       "text": [
        "economics:0.065 university:0.048 research:0.045 "
       ]
      },
      {
       "output_type": "stream",
       "stream": "stdout",
       "text": [
        "professor:0.043 economic:0.043 \n",
        "==========================================================\n",
        "Cluster 9     "
       ]
      },
      {
       "output_type": "stream",
       "stream": "stdout",
       "text": [
        "foreign:0.086 ambassador:0.076 affairs:0.061 "
       ]
      },
      {
       "output_type": "stream",
       "stream": "stdout",
       "text": [
        "nations:0.053 united:0.040 \n",
        "==========================================================\n",
        "Cluster 10     "
       ]
      },
      {
       "output_type": "stream",
       "stream": "stdout",
       "text": [
        "she:0.188 her:0.052 women:0.026 "
       ]
      },
      {
       "output_type": "stream",
       "stream": "stdout",
       "text": [
        "womens:0.020 council:0.019 \n",
        "==========================================================\n",
        "Cluster 11     "
       ]
      },
      {
       "output_type": "stream",
       "stream": "stdout",
       "text": [
        "rowing:0.246 sculls:0.097 rower:0.081 "
       ]
      },
      {
       "output_type": "stream",
       "stream": "stdout",
       "text": [
        "olympics:0.073 championships:0.068 \n",
        "==========================================================\n",
        "Cluster 12     "
       ]
      },
      {
       "output_type": "stream",
       "stream": "stdout",
       "text": [
        "fashion:0.086 photography:0.085 photographer:0.057 "
       ]
      },
      {
       "output_type": "stream",
       "stream": "stdout",
       "text": [
        "photographs:0.038 art:0.025 \n",
        "==========================================================\n",
        "Cluster 13     "
       ]
      },
      {
       "output_type": "stream",
       "stream": "stdout",
       "text": [
        "republican:0.098 governor:0.051 district:0.044 "
       ]
      },
      {
       "output_type": "stream",
       "stream": "stdout",
       "text": [
        "election:0.043 senate:0.043 \n",
        "==========================================================\n",
        "Cluster 14     "
       ]
      },
      {
       "output_type": "stream",
       "stream": "stdout",
       "text": [
        "orchestra:0.227 symphony:0.177 philharmonic:0.084 "
       ]
      },
      {
       "output_type": "stream",
       "stream": "stdout",
       "text": [
        "music:0.080 conductor:0.057 \n",
        "==========================================================\n",
        "Cluster 15     "
       ]
      },
      {
       "output_type": "stream",
       "stream": "stdout",
       "text": [
        "air:0.375 force:0.242 command:0.106 "
       ]
      },
      {
       "output_type": "stream",
       "stream": "stdout",
       "text": [
        "commander:0.094 base:0.080 \n",
        "==========================================================\n",
        "Cluster 16     "
       ]
      },
      {
       "output_type": "stream",
       "stream": "stdout",
       "text": [
        "baseball:0.098 league:0.097 era:0.083 "
       ]
      },
      {
       "output_type": "stream",
       "stream": "stdout",
       "text": [
        "pitcher:0.083 pitched:0.075 \n",
        "==========================================================\n",
        "Cluster 17     "
       ]
      },
      {
       "output_type": "stream",
       "stream": "stdout",
       "text": [
        "church:0.114 theology:0.072 theological:0.066 seminary:0.047 "
       ]
      },
      {
       "output_type": "stream",
       "stream": "stdout",
       "text": [
        "christian:0.037 \n",
        "==========================================================\n",
        "Cluster 18     "
       ]
      },
      {
       "output_type": "stream",
       "stream": "stdout",
       "text": [
        "song:0.071 songs:0.043 music:0.041 "
       ]
      },
      {
       "output_type": "stream",
       "stream": "stdout",
       "text": [
        "album:0.030 singer:0.025 \n",
        "==========================================================\n",
        "Cluster 19     "
       ]
      },
      {
       "output_type": "stream",
       "stream": "stdout",
       "text": [
        "basketball:0.165 nba:0.113 points:0.067 "
       ]
      },
      {
       "output_type": "stream",
       "stream": "stdout",
       "text": [
        "season:0.044 rebounds:0.044 \n",
        "==========================================================\n",
        "Cluster 20     "
       ]
      },
      {
       "output_type": "stream",
       "stream": "stdout",
       "text": [
        "art:0.209 museum:0.186 gallery:0.082 arts:0.046 "
       ]
      },
      {
       "output_type": "stream",
       "stream": "stdout",
       "text": [
        "contemporary:0.044 \n",
        "==========================================================\n",
        "Cluster 21     poetry:0.213 "
       ]
      },
      {
       "output_type": "stream",
       "stream": "stdout",
       "text": [
        "poems:0.083 poet:0.069 poets:0.044 "
       ]
      },
      {
       "output_type": "stream",
       "stream": "stdout",
       "text": [
        "literary:0.040 \n",
        "==========================================================\n",
        "Cluster 22     guitar:0.215 "
       ]
      },
      {
       "output_type": "stream",
       "stream": "stdout",
       "text": [
        "guitarist:0.045 music:0.045 guitars:0.037 "
       ]
      },
      {
       "output_type": "stream",
       "stream": "stdout",
       "text": [
        "classical:0.028 \n",
        "==========================================================\n",
        "Cluster 23     novel:0.127 "
       ]
      },
      {
       "output_type": "stream",
       "stream": "stdout",
       "text": [
        "published:0.045 novels:0.044 book:0.039 fiction:0.030 \n",
        "==========================================================\n",
        "Cluster 24     "
       ]
      },
      {
       "output_type": "stream",
       "stream": "stdout",
       "text": [
        "jazz:0.205 music:0.048 band:0.034 "
       ]
      },
      {
       "output_type": "stream",
       "stream": "stdout",
       "text": [
        "pianist:0.025 recorded:0.023 \n",
        "==========================================================\n",
        "Cluster 25     "
       ]
      },
      {
       "output_type": "stream",
       "stream": "stdout",
       "text": [
        "polish:0.211 "
       ]
      },
      {
       "output_type": "stream",
       "stream": "stdout",
       "text": [
        "poland:0.097 warsaw:0.091 sejm:0.039 she:0.023 \n",
        "==========================================================\n",
        "Cluster 26     "
       ]
      },
      {
       "output_type": "stream",
       "stream": "stdout",
       "text": [
        "trinidad:0.259 tobago:0.178 calypso:0.058 "
       ]
      },
      {
       "output_type": "stream",
       "stream": "stdout",
       "text": [
        "caribbean:0.033 soca:0.027 \n",
        "==========================================================\n",
        "Cluster 27     "
       ]
      },
      {
       "output_type": "stream",
       "stream": "stdout",
       "text": [
        "tour:0.261 pga:0.220 golf:0.140 "
       ]
      },
      {
       "output_type": "stream",
       "stream": "stdout",
       "text": [
        "open:0.073 golfer:0.063 \n",
        "==========================================================\n",
        "Cluster 28     "
       ]
      },
      {
       "output_type": "stream",
       "stream": "stdout",
       "text": [
        "afl:0.177 football:0.128 australian:0.092 "
       ]
      },
      {
       "output_type": "stream",
       "stream": "stdout",
       "text": [
        "adelaide:0.064 season:0.062 \n",
        "==========================================================\n",
        "Cluster 29     "
       ]
      },
      {
       "output_type": "stream",
       "stream": "stdout",
       "text": [
        "skating:0.263 skater:0.107 speed:0.095 "
       ]
      },
      {
       "output_type": "stream",
       "stream": "stdout",
       "text": [
        "she:0.066 ice:0.060 \n",
        "==========================================================\n",
        "Cluster 30     "
       ]
      },
      {
       "output_type": "stream",
       "stream": "stdout",
       "text": [
        "party:0.073 election:0.035 elected:0.029 "
       ]
      },
      {
       "output_type": "stream",
       "stream": "stdout",
       "text": [
        "candidate:0.022 parliament:0.021 \n",
        "==========================================================\n",
        "Cluster 31     "
       ]
      },
      {
       "output_type": "stream",
       "stream": "stdout",
       "text": [
        "rugby:0.198 cup:0.049 against:0.046 "
       ]
      },
      {
       "output_type": "stream",
       "stream": "stdout",
       "text": [
        "played:0.045 wales:0.040 \n",
        "==========================================================\n",
        "Cluster 32     "
       ]
      },
      {
       "output_type": "stream",
       "stream": "stdout",
       "text": [
        "book:0.039 books:0.029 published:0.026 "
       ]
      },
      {
       "output_type": "stream",
       "stream": "stdout",
       "text": [
        "editor:0.021 author:0.017 \n",
        "==========================================================\n",
        "Cluster 33     "
       ]
      },
      {
       "output_type": "stream",
       "stream": "stdout",
       "text": [
        "piano:0.150 music:0.071 orchestra:0.056 competition:0.053 "
       ]
      },
      {
       "output_type": "stream",
       "stream": "stdout",
       "text": [
        "pianist:0.051 \n",
        "==========================================================\n",
        "Cluster 34     "
       ]
      },
      {
       "output_type": "stream",
       "stream": "stdout",
       "text": [
        "wrestling:0.299 wwe:0.163 wrestler:0.092 "
       ]
      },
      {
       "output_type": "stream",
       "stream": "stdout",
       "text": [
        "championship:0.079 tag:0.078 \n",
        "==========================================================\n",
        "Cluster 35     "
       ]
      },
      {
       "output_type": "stream",
       "stream": "stdout",
       "text": [
        "opera:0.269 she:0.067 la:0.041 sang:0.040 "
       ]
      },
      {
       "output_type": "stream",
       "stream": "stdout",
       "text": [
        "operatic:0.036 \n",
        "==========================================================\n",
        "Cluster 36     radio:0.080 "
       ]
      },
      {
       "output_type": "stream",
       "stream": "stdout",
       "text": [
        "show:0.069 host:0.038 sports:0.030 "
       ]
      },
      {
       "output_type": "stream",
       "stream": "stdout",
       "text": [
        "television:0.028 \n",
        "==========================================================\n",
        "Cluster 37     "
       ]
      },
      {
       "output_type": "stream",
       "stream": "stdout",
       "text": [
        "music:0.131 composition:0.038 composer:0.037 orchestra:0.026 "
       ]
      },
      {
       "output_type": "stream",
       "stream": "stdout",
       "text": [
        "ensemble:0.023 \n",
        "==========================================================\n",
        "Cluster 38     "
       ]
      },
      {
       "output_type": "stream",
       "stream": "stdout",
       "text": [
        "drummer:0.099 band:0.092 album:0.040 drums:0.039 "
       ]
      },
      {
       "output_type": "stream",
       "stream": "stdout",
       "text": [
        "rock:0.034 \n",
        "==========================================================\n",
        "Cluster 39     moore:0.306 "
       ]
      },
      {
       "output_type": "stream",
       "stream": "stdout",
       "text": [
        "moores:0.034 her:0.021 she:0.020 "
       ]
      },
      {
       "output_type": "stream",
       "stream": "stdout",
       "text": [
        "sports:0.012 \n",
        "==========================================================\n",
        "Cluster 40     "
       ]
      },
      {
       "output_type": "stream",
       "stream": "stdout",
       "text": [
        "computer:0.086 engineering:0.072 research:0.045 science:0.044 "
       ]
      },
      {
       "output_type": "stream",
       "stream": "stdout",
       "text": [
        "technology:0.042 \n",
        "==========================================================\n",
        "Cluster 41     minister:0.164 prime:0.068 "
       ]
      },
      {
       "output_type": "stream",
       "stream": "stdout",
       "text": [
        "cabinet:0.043 party:0.039 government:0.038 \n",
        "==========================================================\n",
        "Cluster 42     "
       ]
      },
      {
       "output_type": "stream",
       "stream": "stdout",
       "text": [
        "research:0.062 professor:0.035 university:0.034 "
       ]
      },
      {
       "output_type": "stream",
       "stream": "stdout",
       "text": [
        "science:0.031 psychology:0.030 \n",
        "==========================================================\n",
        "Cluster 43     "
       ]
      },
      {
       "output_type": "stream",
       "stream": "stdout",
       "text": [
        "news:0.127 anchor:0.062 reporter:0.059 "
       ]
      },
      {
       "output_type": "stream",
       "stream": "stdout",
       "text": [
        "she:0.045 correspondent:0.045 \n",
        "==========================================================\n",
        "Cluster 44     "
       ]
      },
      {
       "output_type": "stream",
       "stream": "stdout",
       "text": [
        "league:0.088 town:0.060 season:0.060 club:0.059 "
       ]
      },
      {
       "output_type": "stream",
       "stream": "stdout",
       "text": [
        "football:0.055 \n",
        "==========================================================\n",
        "Cluster 45     "
       ]
      },
      {
       "output_type": "stream",
       "stream": "stdout",
       "text": [
        "football:0.046 cup:0.044 club:0.042 "
       ]
      },
      {
       "output_type": "stream",
       "stream": "stdout",
       "text": [
        "team:0.041 league:0.033 \n",
        "==========================================================\n",
        "Cluster 46     "
       ]
      },
      {
       "output_type": "stream",
       "stream": "stdout",
       "text": [
        "football:0.108 vfl:0.099 australian:0.068 "
       ]
      },
      {
       "output_type": "stream",
       "stream": "stdout",
       "text": [
        "melbourne:0.067 goals:0.064 \n",
        "==========================================================\n",
        "Cluster 47     "
       ]
      },
      {
       "output_type": "stream",
       "stream": "stdout",
       "text": [
        "design:0.166 architecture:0.119 architectural:0.058 "
       ]
      },
      {
       "output_type": "stream",
       "stream": "stdout",
       "text": [
        "architects:0.038 architect:0.037 \n",
        "==========================================================\n",
        "Cluster 48     "
       ]
      },
      {
       "output_type": "stream",
       "stream": "stdout",
       "text": [
        "philosophy:0.227 philosophical:0.045 university:0.044 "
       ]
      },
      {
       "output_type": "stream",
       "stream": "stdout",
       "text": [
        "professor:0.041 philosopher:0.041 \n",
        "==========================================================\n",
        "Cluster 49     "
       ]
      },
      {
       "output_type": "stream",
       "stream": "stdout",
       "text": [
        "physics:0.121 mathematics:0.072 mathematical:0.060 "
       ]
      },
      {
       "output_type": "stream",
       "stream": "stdout",
       "text": [
        "theory:0.053 professor:0.043 \n",
        "==========================================================\n",
        "Cluster 50     "
       ]
      },
      {
       "output_type": "stream",
       "stream": "stdout",
       "text": [
        "baron:0.070 lord:0.060 lords:0.054 "
       ]
      },
      {
       "output_type": "stream",
       "stream": "stdout",
       "text": [
        "chairman:0.035 british:0.034 \n",
        "==========================================================\n",
        "Cluster 51     "
       ]
      },
      {
       "output_type": "stream",
       "stream": "stdout",
       "text": [
        "chef:0.143 food:0.136 restaurant:0.095 "
       ]
      },
      {
       "output_type": "stream",
       "stream": "stdout",
       "text": [
        "wine:0.086 cooking:0.064 \n",
        "==========================================================\n",
        "Cluster 52     "
       ]
      },
      {
       "output_type": "stream",
       "stream": "stdout",
       "text": [
        "fiction:0.138 stories:0.069 short:0.054 "
       ]
      },
      {
       "output_type": "stream",
       "stream": "stdout",
       "text": [
        "fantasy:0.048 writers:0.043 \n",
        "==========================================================\n",
        "Cluster 53     "
       ]
      },
      {
       "output_type": "stream",
       "stream": "stdout",
       "text": [
        "poker:0.477 wsop:0.121 event:0.091 limit:0.078 "
       ]
      },
      {
       "output_type": "stream",
       "stream": "stdout",
       "text": [
        "winnings:0.072 \n",
        "==========================================================\n",
        "Cluster 54     canadian:0.122 "
       ]
      },
      {
       "output_type": "stream",
       "stream": "stdout",
       "text": [
        "canada:0.068 toronto:0.053 ontario:0.049 "
       ]
      },
      {
       "output_type": "stream",
       "stream": "stdout",
       "text": [
        "curling:0.028 \n",
        "==========================================================\n",
        "Cluster 55     "
       ]
      },
      {
       "output_type": "stream",
       "stream": "stdout",
       "text": [
        "sri:0.282 lanka:0.183 lankan:0.094 "
       ]
      },
      {
       "output_type": "stream",
       "stream": "stdout",
       "text": [
        "colombo:0.046 ceylon:0.027 \n",
        "==========================================================\n",
        "Cluster 56     "
       ]
      },
      {
       "output_type": "stream",
       "stream": "stdout",
       "text": [
        "conductor:0.207 orchestra:0.136 conducting:0.087 "
       ]
      },
      {
       "output_type": "stream",
       "stream": "stdout",
       "text": [
        "music:0.080 symphony:0.073 \n",
        "==========================================================\n",
        "Cluster 57     "
       ]
      },
      {
       "output_type": "stream",
       "stream": "stdout",
       "text": [
        "prison:0.035 police:0.027 sentenced:0.026 "
       ]
      },
      {
       "output_type": "stream",
       "stream": "stdout",
       "text": [
        "court:0.025 convicted:0.023 \n",
        "==========================================================\n",
        "Cluster 58     "
       ]
      },
      {
       "output_type": "stream",
       "stream": "stdout",
       "text": [
        "blues:0.234 band:0.047 music:0.039 "
       ]
      },
      {
       "output_type": "stream",
       "stream": "stdout",
       "text": [
        "album:0.037 guitar:0.035 \n",
        "==========================================================\n",
        "Cluster 59     "
       ]
      },
      {
       "output_type": "stream",
       "stream": "stdout",
       "text": [
        "dj:0.093 hop:0.052 hip:0.051 music:0.048 "
       ]
      },
      {
       "output_type": "stream",
       "stream": "stdout",
       "text": [
        "album:0.037 \n",
        "==========================================================\n",
        "Cluster 60     "
       ]
      },
      {
       "output_type": "stream",
       "stream": "stdout",
       "text": [
        "de:0.127 la:0.059 el:0.035 mexico:0.026 "
       ]
      },
      {
       "output_type": "stream",
       "stream": "stdout",
       "text": [
        "y:0.025 \n",
        "==========================================================\n",
        "Cluster 61     "
       ]
      },
      {
       "output_type": "stream",
       "stream": "stdout",
       "text": [
        "jewish:0.193 rabbi:0.132 israel:0.052 "
       ]
      },
      {
       "output_type": "stream",
       "stream": "stdout",
       "text": [
        "hebrew:0.038 jews:0.032 \n",
        "==========================================================\n",
        "Cluster 62     "
       ]
      },
      {
       "output_type": "stream",
       "stream": "stdout",
       "text": [
        "ballet:0.362 dance:0.109 dancer:0.084 "
       ]
      },
      {
       "output_type": "stream",
       "stream": "stdout",
       "text": [
        "she:0.057 danced:0.044 \n",
        "==========================================================\n",
        "Cluster 63     "
       ]
      },
      {
       "output_type": "stream",
       "stream": "stdout",
       "text": [
        "hockey:0.220 nhl:0.138 ice:0.067 season:0.053 "
       ]
      },
      {
       "output_type": "stream",
       "stream": "stdout",
       "text": [
        "league:0.048 \n",
        "==========================================================\n",
        "Cluster 64     law:0.148 "
       ]
      },
      {
       "output_type": "stream",
       "stream": "stdout",
       "text": [
        "court:0.093 judge:0.071 district:0.051 "
       ]
      },
      {
       "output_type": "stream",
       "stream": "stdout",
       "text": [
        "justice:0.043 \n",
        "==========================================================\n",
        "Cluster 65     coach:0.205 "
       ]
      },
      {
       "output_type": "stream",
       "stream": "stdout",
       "text": [
        "head:0.086 basketball:0.059 coaching:0.052 "
       ]
      },
      {
       "output_type": "stream",
       "stream": "stdout",
       "text": [
        "football:0.046 \n",
        "==========================================================\n",
        "Cluster 66     "
       ]
      },
      {
       "output_type": "stream",
       "stream": "stdout",
       "text": [
        "armenian:0.278 armenia:0.168 yerevan:0.100 "
       ]
      },
      {
       "output_type": "stream",
       "stream": "stdout",
       "text": [
        "sargsyan:0.055 genocide:0.031 \n",
        "==========================================================\n",
        "Cluster 67     "
       ]
      },
      {
       "output_type": "stream",
       "stream": "stdout",
       "text": [
        "album:0.088 released:0.044 music:0.040 "
       ]
      },
      {
       "output_type": "stream",
       "stream": "stdout",
       "text": [
        "records:0.033 albums:0.027 \n",
        "==========================================================\n",
        "Cluster 68     "
       ]
      },
      {
       "output_type": "stream",
       "stream": "stdout",
       "text": [
        "she:0.158 her:0.152 music:0.020 album:0.016 "
       ]
      },
      {
       "output_type": "stream",
       "stream": "stdout",
       "text": [
        "singer:0.013 \n",
        "==========================================================\n",
        "Cluster 69     theatre:0.194 "
       ]
      },
      {
       "output_type": "stream",
       "stream": "stdout",
       "text": [
        "directed:0.034 production:0.031 play:0.029 "
       ]
      },
      {
       "output_type": "stream",
       "stream": "stdout",
       "text": [
        "actor:0.027 \n",
        "==========================================================\n",
        "Cluster 70     "
       ]
      },
      {
       "output_type": "stream",
       "stream": "stdout",
       "text": [
        "health:0.099 medical:0.089 medicine:0.086 research:0.039 "
       ]
      },
      {
       "output_type": "stream",
       "stream": "stdout",
       "text": [
        "clinical:0.039 \n",
        "==========================================================\n",
        "Cluster 71     european:0.145 "
       ]
      },
      {
       "output_type": "stream",
       "stream": "stdout",
       "text": [
        "parliament:0.115 party:0.053 member:0.049 "
       ]
      },
      {
       "output_type": "stream",
       "stream": "stdout",
       "text": [
        "committee:0.048 \n",
        "==========================================================\n",
        "Cluster 72     "
       ]
      },
      {
       "output_type": "stream",
       "stream": "stdout",
       "text": [
        "marathon:0.459 half:0.087 she:0.082 "
       ]
      },
      {
       "output_type": "stream",
       "stream": "stdout",
       "text": [
        "hours:0.063 championships:0.062 \n",
        "==========================================================\n",
        "Cluster 73     "
       ]
      },
      {
       "output_type": "stream",
       "stream": "stdout",
       "text": [
        "she:0.147 her:0.105 actress:0.098 film:0.063 "
       ]
      },
      {
       "output_type": "stream",
       "stream": "stdout",
       "text": [
        "role:0.054 \n",
        "==========================================================\n",
        "Cluster 74     she:0.101 "
       ]
      },
      {
       "output_type": "stream",
       "stream": "stdout",
       "text": [
        "her:0.065 women:0.012 show:0.010 television:0.009 \n",
        "==========================================================\n",
        "Cluster 75     "
       ]
      },
      {
       "output_type": "stream",
       "stream": "stdout",
       "text": [
        "lds:0.196 church:0.177 churchs:0.099 "
       ]
      },
      {
       "output_type": "stream",
       "stream": "stdout",
       "text": [
        "latterday:0.074 byu:0.073 \n",
        "==========================================================\n",
        "Cluster 76     "
       ]
      },
      {
       "output_type": "stream",
       "stream": "stdout",
       "text": [
        "quebec:0.242 qubcois:0.064 universit:0.061 "
       ]
      },
      {
       "output_type": "stream",
       "stream": "stdout",
       "text": [
        "minister:0.059 parti:0.051 \n",
        "==========================================================\n",
        "Cluster 77     "
       ]
      },
      {
       "output_type": "stream",
       "stream": "stdout",
       "text": [
        "film:0.233 festival:0.085 films:0.048 "
       ]
      },
      {
       "output_type": "stream",
       "stream": "stdout",
       "text": [
        "documentary:0.048 feature:0.045 \n",
        "==========================================================\n",
        "Cluster 78     "
       ]
      },
      {
       "output_type": "stream",
       "stream": "stdout",
       "text": [
        "hong:0.288 kong:0.268 chinese:0.068 "
       ]
      },
      {
       "output_type": "stream",
       "stream": "stdout",
       "text": [
        "china:0.037 wong:0.035 \n",
        "==========================================================\n",
        "Cluster 79     "
       ]
      },
      {
       "output_type": "stream",
       "stream": "stdout",
       "text": [
        "soccer:0.296 league:0.072 indoor:0.065 "
       ]
      },
      {
       "output_type": "stream",
       "stream": "stdout",
       "text": [
        "team:0.053 season:0.052 \n",
        "==========================================================\n",
        "Cluster 80     "
       ]
      },
      {
       "output_type": "stream",
       "stream": "stdout",
       "text": [
        "he:0.011 that:0.009 his:0.009 "
       ]
      },
      {
       "output_type": "stream",
       "stream": "stdout",
       "text": [
        "world:0.008 it:0.007 \n",
        "==========================================================\n",
        "Cluster 81     "
       ]
      },
      {
       "output_type": "stream",
       "stream": "stdout",
       "text": [
        "ireland:0.092 northern:0.072 election:0.072 "
       ]
      },
      {
       "output_type": "stream",
       "stream": "stdout",
       "text": [
        "irish:0.066 gael:0.054 \n",
        "==========================================================\n",
        "Cluster 82     "
       ]
      },
      {
       "output_type": "stream",
       "stream": "stdout",
       "text": [
        "comedy:0.048 series:0.047 actor:0.043 "
       ]
      },
      {
       "output_type": "stream",
       "stream": "stdout",
       "text": [
        "television:0.038 role:0.037 \n",
        "==========================================================\n",
        "Cluster 83     "
       ]
      },
      {
       "output_type": "stream",
       "stream": "stdout",
       "text": [
        "racing:0.128 formula:0.080 race:0.066 "
       ]
      },
      {
       "output_type": "stream",
       "stream": "stdout",
       "text": [
        "car:0.061 driver:0.055 \n",
        "==========================================================\n",
        "Cluster 84     "
       ]
      },
      {
       "output_type": "stream",
       "stream": "stdout",
       "text": [
        "election:0.096 manitoba:0.086 liberal:0.071 "
       ]
      },
      {
       "output_type": "stream",
       "stream": "stdout",
       "text": [
        "party:0.067 conservative:0.060 \n",
        "==========================================================\n",
        "Cluster 85     "
       ]
      },
      {
       "output_type": "stream",
       "stream": "stdout",
       "text": [
        "business:0.038 company:0.031 "
       ]
      },
      {
       "output_type": "stream",
       "stream": "stdout",
       "text": [
        "chairman:0.027 ceo:0.025 management:0.023 \n",
        "==========================================================\n",
        "Cluster 86     "
       ]
      },
      {
       "output_type": "stream",
       "stream": "stdout",
       "text": [
        "chess:0.414 grandmaster:0.085 "
       ]
      },
      {
       "output_type": "stream",
       "stream": "stdout",
       "text": [
        "olympiad:0.066 championship:0.064 fide:0.059 \n",
        "==========================================================\n",
        "Cluster 87     "
       ]
      },
      {
       "output_type": "stream",
       "stream": "stdout",
       "text": [
        "tennis:0.077 doubles:0.068 boxing:0.057 "
       ]
      },
      {
       "output_type": "stream",
       "stream": "stdout",
       "text": [
        "title:0.048 open:0.047 \n",
        "==========================================================\n",
        "Cluster 88     "
       ]
      },
      {
       "output_type": "stream",
       "stream": "stdout",
       "text": [
        "president:0.038 served:0.028 board:0.028 "
       ]
      },
      {
       "output_type": "stream",
       "stream": "stdout",
       "text": [
        "university:0.026 education:0.022 \n",
        "==========================================================\n",
        "Cluster 89     "
       ]
      },
      {
       "output_type": "stream",
       "stream": "stdout",
       "text": [
        "campaign:0.061 presidential:0.054 political:0.047 "
       ]
      },
      {
       "output_type": "stream",
       "stream": "stdout",
       "text": [
        "republican:0.037 bush:0.037 \n",
        "==========================================================\n",
        "Cluster 90     "
       ]
      },
      {
       "output_type": "stream",
       "stream": "stdout",
       "text": [
        "football:0.120 nfl:0.106 yards:0.081 "
       ]
      },
      {
       "output_type": "stream",
       "stream": "stdout",
       "text": [
        "bowl:0.052 quarterback:0.041 \n",
        "==========================================================\n",
        "Cluster 91     "
       ]
      },
      {
       "output_type": "stream",
       "stream": "stdout",
       "text": [
        "baseball:0.117 league:0.108 runs:0.061 "
       ]
      },
      {
       "output_type": "stream",
       "stream": "stdout",
       "text": [
        "major:0.052 batted:0.044 \n",
        "==========================================================\n",
        "Cluster 92     "
       ]
      },
      {
       "output_type": "stream",
       "stream": "stdout",
       "text": [
        "album:0.115 her:0.073 billboard:0.066 "
       ]
      },
      {
       "output_type": "stream",
       "stream": "stdout",
       "text": [
        "chart:0.064 singles:0.064 \n",
        "==========================================================\n",
        "Cluster 93     "
       ]
      },
      {
       "output_type": "stream",
       "stream": "stdout",
       "text": [
        "film:0.087 films:0.050 directed:0.029 television:0.024 "
       ]
      },
      {
       "output_type": "stream",
       "stream": "stdout",
       "text": [
        "actor:0.022 \n",
        "==========================================================\n",
        "Cluster 94     championships:0.106 metres:0.086 "
       ]
      },
      {
       "output_type": "stream",
       "stream": "stdout",
       "text": [
        "she:0.059 m:0.059 athletics:0.054 \n",
        "==========================================================\n",
        "Cluster 95     "
       ]
      },
      {
       "output_type": "stream",
       "stream": "stdout",
       "text": [
        "art:0.109 gallery:0.040 artist:0.036 paintings:0.032 "
       ]
      },
      {
       "output_type": "stream",
       "stream": "stdout",
       "text": [
        "painting:0.032 \n",
        "==========================================================\n",
        "Cluster 96     band:0.120 "
       ]
      },
      {
       "output_type": "stream",
       "stream": "stdout",
       "text": [
        "album:0.040 bands:0.035 bass:0.031 "
       ]
      },
      {
       "output_type": "stream",
       "stream": "stdout",
       "text": [
        "rock:0.030 \n",
        "==========================================================\n",
        "Cluster 97     miss:0.361 "
       ]
      },
      {
       "output_type": "stream",
       "stream": "stdout",
       "text": [
        "pageant:0.209 usa:0.127 she:0.110 teen:0.063 \n",
        "==========================================================\n",
        "Cluster 98     "
       ]
      },
      {
       "output_type": "stream",
       "stream": "stdout",
       "text": [
        "freestyle:0.155 swimming:0.120 m:0.119 swimmer:0.090 "
       ]
      },
      {
       "output_type": "stream",
       "stream": "stdout",
       "text": [
        "heat:0.075 \n",
        "==========================================================\n",
        "Cluster 99     army:0.081 "
       ]
      },
      {
       "output_type": "stream",
       "stream": "stdout",
       "text": [
        "commander:0.080 command:0.076 military:0.076 staff:0.058 \n",
        "==========================================================\n"
       ]
      }
     ],
     "prompt_number": 117
    },
    {
     "cell_type": "code",
     "collapsed": false,
     "input": [
      "(np.bincount(cluster_assignment[100]())<=236).sum()"
     ],
     "language": "python",
     "metadata": {},
     "outputs": [
      {
       "metadata": {},
       "output_type": "pyout",
       "prompt_number": 118,
       "text": [
        "29"
       ]
      }
     ],
     "prompt_number": 118
    },
    {
     "cell_type": "markdown",
     "metadata": {},
     "source": [
      "The class of soccer (association football) players has been broken into two clusters (44 and 45). Same goes for Austrialian rules football players (clusters 26 and 48). The class of baseball players have been also broken into two clusters (16 and 91).\n",
      "\n",
      "**A high value of K encourages pure clusters, but we cannot keep increasing K. For large enough K, related documents end up going to different clusters.**\n",
      "\n",
      "That said, the result for K=100 is not entirely bad. After all, it gives us separate clusters for such categories as Brazil, wrestling, computer science and the Mormon Church. If we set K somewhere between 25 and 100, we should be able to avoid breaking up clusters while discovering new ones.\n",
      "\n",
      "Also, we should ask ourselves how much **granularity** we want in our clustering. If we wanted a rough sketch of Wikipedia, we don't want too detailed clusters. On the other hand, having many clusters can be valuable when we are zooming into a certain part of Wikipedia.\n",
      "\n",
      "**There is no golden rule for choosing K. It all depends on the particular application and domain we are in.**\n",
      "\n",
      "Another heuristic people use that does not rely on so much visualization, which can be hard in many applications (including here!) is as follows.  Track heterogeneity versus K and look for the \"elbow\" of the curve where the heterogeneity decrease rapidly before this value of K, but then only gradually for larger values of K.  This naturally trades off between trying to minimize heterogeneity, but reduce model complexity.  In the heterogeneity versus K plot made above, we did not yet really see a flattening out of the heterogeneity, which might indicate that indeed K=100 is \"reasonable\" and we only see real overfitting for larger values of K (which are even harder to visualize using the methods we attempted above.)"
     ]
    },
    {
     "cell_type": "markdown",
     "metadata": {
      "collapsed": true
     },
     "source": [
      "**Quiz Question**. Another sign of too large K is having lots of small clusters. Look at the distribution of cluster sizes (by number of member data points). How many of the 100 clusters have fewer than 236 articles, i.e. 0.4% of the dataset?\n",
      "\n",
      "Hint: Use `cluster_assignment[100]()`, with the extra pair of parentheses for delayed loading."
     ]
    },
    {
     "cell_type": "markdown",
     "metadata": {},
     "source": [
      "### Takeaway\n",
      "\n",
      "Keep in mind though that tiny clusters aren't necessarily bad. A tiny cluster of documents that really look like each others is definitely preferable to a medium-sized cluster of documents with mixed content. However, having too few articles in a cluster may cause overfitting by reading too much into a limited pool of training data."
     ]
    }
   ],
   "metadata": {}
  }
 ]
}