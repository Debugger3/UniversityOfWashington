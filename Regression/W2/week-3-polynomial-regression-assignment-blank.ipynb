{
 "metadata": {
  "kernelspec": {
   "display_name": "Python 2",
   "language": "python",
   "name": "python2"
  },
  "language_info": {
   "codemirror_mode": {
    "name": "ipython",
    "version": 2
   },
   "file_extension": ".py",
   "mimetype": "text/x-python",
   "name": "python",
   "nbconvert_exporter": "python",
   "pygments_lexer": "ipython2",
   "version": "2.7.11"
  },
  "name": "",
  "signature": "sha256:43de42fd71d9004f30931a964414803ebdba60f9c0bb1fcb6a921dc0d3fbaa1f"
 },
 "nbformat": 3,
 "nbformat_minor": 0,
 "worksheets": [
  {
   "cells": [
    {
     "cell_type": "heading",
     "level": 1,
     "metadata": {},
     "source": [
      "Regression Week 3: Assessing Fit (polynomial regression)"
     ]
    },
    {
     "cell_type": "markdown",
     "metadata": {},
     "source": [
      "In this notebook you will compare different regression models in order to assess which model fits best. We will be using polynomial regression as a means to examine this topic. In particular you will:\n",
      "* Write a function to take an SArray and a degree and return an SFrame where each column is the SArray to a polynomial value up to the total degree e.g. degree = 3 then column 1 is the SArray column 2 is the SArray squared and column 3 is the SArray cubed\n",
      "* Use matplotlib to visualize polynomial regressions\n",
      "* Use matplotlib to visualize the same polynomial degree on different subsets of the data\n",
      "* Use a validation set to select a polynomial degree\n",
      "* Assess the final fit using test data\n",
      "\n",
      "We will continue to use the House data from previous notebooks."
     ]
    },
    {
     "cell_type": "heading",
     "level": 1,
     "metadata": {},
     "source": [
      "Fire up graphlab create"
     ]
    },
    {
     "cell_type": "code",
     "collapsed": true,
     "input": [
      "import graphlab"
     ],
     "language": "python",
     "metadata": {},
     "outputs": [],
     "prompt_number": 34
    },
    {
     "cell_type": "markdown",
     "metadata": {},
     "source": [
      "Next we're going to write a polynomial function that takes an SArray and a maximal degree and returns an SFrame with columns containing the SArray to all the powers up to the maximal degree.\n",
      "\n",
      "The easiest way to apply a power to an SArray is to use the .apply() and lambda x: functions. \n",
      "For example to take the example array and compute the third power we can do as follows: (note running this cell the first time may take longer than expected since it loads graphlab)"
     ]
    },
    {
     "cell_type": "code",
     "collapsed": false,
     "input": [
      "tmp = graphlab.SArray([1., 2., 3.])\n",
      "tmp_cubed = tmp.apply(lambda x: x**3)\n",
      "print tmp\n",
      "print tmp_cubed"
     ],
     "language": "python",
     "metadata": {},
     "outputs": [
      {
       "output_type": "stream",
       "stream": "stdout",
       "text": [
        "[1.0, 2.0, 3.0]\n",
        "[1.0, 8.0, 27.0]\n"
       ]
      }
     ],
     "prompt_number": 35
    },
    {
     "cell_type": "markdown",
     "metadata": {},
     "source": [
      "We can create an empty SFrame using graphlab.SFrame() and then add any columns to it with ex_sframe['column_name'] = value. For example we create an empty SFrame and make the column 'power_1' to be the first power of tmp (i.e. tmp itself)."
     ]
    },
    {
     "cell_type": "code",
     "collapsed": false,
     "input": [
      "ex_sframe = graphlab.SFrame()\n",
      "ex_sframe['power_1'] = tmp\n",
      "print ex_sframe"
     ],
     "language": "python",
     "metadata": {},
     "outputs": [
      {
       "output_type": "stream",
       "stream": "stdout",
       "text": [
        "+---------+\n",
        "| power_1 |\n",
        "+---------+\n",
        "|   1.0   |\n",
        "|   2.0   |\n",
        "|   3.0   |\n",
        "+---------+\n",
        "[3 rows x 1 columns]\n",
        "\n"
       ]
      }
     ],
     "prompt_number": 36
    },
    {
     "cell_type": "heading",
     "level": 1,
     "metadata": {},
     "source": [
      "Polynomial_sframe function"
     ]
    },
    {
     "cell_type": "markdown",
     "metadata": {},
     "source": [
      "Using the hints above complete the following function to create an SFrame consisting of the powers of an SArray up to a specific degree:"
     ]
    },
    {
     "cell_type": "code",
     "collapsed": true,
     "input": [
      "def polynomial_sframe(feature, degree):\n",
      "    # assume that degree >= 1\n",
      "    # initialize the SFrame:\n",
      "    poly_sframe = graphlab.SFrame()\n",
      "    # and set poly_sframe['power_1'] equal to the passed feature\n",
      "    poly_sframe['power_1']=feature\n",
      "    # first check if degree > 1\n",
      "    if degree > 1:\n",
      "        # then loop over the remaining degrees:\n",
      "        # range usually starts at 0 and stops at the endpoint-1. We want it to start at 2 and stop at degree\n",
      "        for power in range(2, degree+1): \n",
      "            # first we'll give the column a name:\n",
      "            name = 'power_' + str(power)\n",
      "            # then assign poly_sframe[name] to the appropriate power of feature\n",
      "            poly_sframe[name]=poly_sframe['power_1'].apply(lambda x: x**power)\n",
      "            \n",
      "\n",
      "    return poly_sframe"
     ],
     "language": "python",
     "metadata": {},
     "outputs": [],
     "prompt_number": 37
    },
    {
     "cell_type": "markdown",
     "metadata": {},
     "source": [
      "To test your function consider the smaller tmp variable and what you would expect the outcome of the following call:"
     ]
    },
    {
     "cell_type": "code",
     "collapsed": false,
     "input": [
      "print polynomial_sframe(tmp, 3)"
     ],
     "language": "python",
     "metadata": {},
     "outputs": [
      {
       "output_type": "stream",
       "stream": "stdout",
       "text": [
        "+---------+---------+---------+\n",
        "| power_1 | power_2 | power_3 |\n",
        "+---------+---------+---------+\n",
        "|   1.0   |   1.0   |   1.0   |\n",
        "|   2.0   |   4.0   |   8.0   |\n",
        "|   3.0   |   9.0   |   27.0  |\n",
        "+---------+---------+---------+\n",
        "[3 rows x 3 columns]\n",
        "\n"
       ]
      }
     ],
     "prompt_number": 38
    },
    {
     "cell_type": "heading",
     "level": 1,
     "metadata": {},
     "source": [
      "Visualizing polynomial regression"
     ]
    },
    {
     "cell_type": "markdown",
     "metadata": {},
     "source": [
      "Let's use matplotlib to visualize what a polynomial regression looks like on some real data."
     ]
    },
    {
     "cell_type": "code",
     "collapsed": true,
     "input": [
      "sales = graphlab.SFrame('kc_house_data.gl/')"
     ],
     "language": "python",
     "metadata": {},
     "outputs": [],
     "prompt_number": 39
    },
    {
     "cell_type": "markdown",
     "metadata": {},
     "source": [
      "As in Week 3, we will use the sqft_living variable. For plotting purposes (connecting the dots), you'll need to sort by the values of sqft_living. For houses with identical square footage, we break the tie by their prices."
     ]
    },
    {
     "cell_type": "code",
     "collapsed": false,
     "input": [
      "sales = sales.sort(['sqft_living', 'price'])"
     ],
     "language": "python",
     "metadata": {},
     "outputs": [],
     "prompt_number": 40
    },
    {
     "cell_type": "markdown",
     "metadata": {},
     "source": [
      "Let's start with a degree 1 polynomial using 'sqft_living' (i.e. a line) to predict 'price' and plot what it looks like."
     ]
    },
    {
     "cell_type": "code",
     "collapsed": false,
     "input": [
      "poly1_data = polynomial_sframe(sales['sqft_living'], 1)\n",
      "poly1_data['price'] = sales['price'] # add price to the data since it's the target"
     ],
     "language": "python",
     "metadata": {},
     "outputs": [],
     "prompt_number": 41
    },
    {
     "cell_type": "markdown",
     "metadata": {},
     "source": [
      "NOTE: for all the models in this notebook use validation_set = None to ensure that all results are consistent across users."
     ]
    },
    {
     "cell_type": "code",
     "collapsed": false,
     "input": [
      "model1 = graphlab.linear_regression.create(poly1_data, target = 'price', features = ['power_1'], validation_set = None)"
     ],
     "language": "python",
     "metadata": {},
     "outputs": [
      {
       "output_type": "stream",
       "stream": "stdout",
       "text": [
        "Linear regression:\n",
        "--------------------------------------------------------\n",
        "Number of examples          : 21613\n",
        "Number of features          : 1\n",
        "Number of unpacked features : 1\n",
        "Number of coefficients    : 2\n",
        "Starting Newton Method\n",
        "--------------------------------------------------------\n",
        "+-----------+----------+--------------+--------------------+---------------+\n",
        "| Iteration | Passes   | Elapsed Time | Training-max_error | Training-rmse |\n",
        "+-----------+----------+--------------+--------------------+---------------+\n",
        "| 1         | 2        | 0.033610     | 4362074.696077     | 261440.790724 |\n",
        "+-----------+----------+--------------+--------------------+---------------+\n",
        "SUCCESS: Optimal solution found.\n",
        "\n"
       ]
      }
     ],
     "prompt_number": 42
    },
    {
     "cell_type": "code",
     "collapsed": false,
     "input": [
      "#let's take a look at the weights before we plot\n",
      "model1.get(\"coefficients\")"
     ],
     "language": "python",
     "metadata": {},
     "outputs": [
      {
       "html": [
        "<div style=\"max-height:1000px;max-width:1500px;overflow:auto;\"><table frame=\"box\" rules=\"cols\">\n",
        "    <tr>\n",
        "        <th style=\"padding-left: 1em; padding-right: 1em; text-align: center\">name</th>\n",
        "        <th style=\"padding-left: 1em; padding-right: 1em; text-align: center\">index</th>\n",
        "        <th style=\"padding-left: 1em; padding-right: 1em; text-align: center\">value</th>\n",
        "        <th style=\"padding-left: 1em; padding-right: 1em; text-align: center\">stderr</th>\n",
        "    </tr>\n",
        "    <tr>\n",
        "        <td style=\"padding-left: 1em; padding-right: 1em; text-align: center; vertical-align: top\">(intercept)</td>\n",
        "        <td style=\"padding-left: 1em; padding-right: 1em; text-align: center; vertical-align: top\">None</td>\n",
        "        <td style=\"padding-left: 1em; padding-right: 1em; text-align: center; vertical-align: top\">-43579.0852515</td>\n",
        "        <td style=\"padding-left: 1em; padding-right: 1em; text-align: center; vertical-align: top\">4402.68969743</td>\n",
        "    </tr>\n",
        "    <tr>\n",
        "        <td style=\"padding-left: 1em; padding-right: 1em; text-align: center; vertical-align: top\">power_1</td>\n",
        "        <td style=\"padding-left: 1em; padding-right: 1em; text-align: center; vertical-align: top\">None</td>\n",
        "        <td style=\"padding-left: 1em; padding-right: 1em; text-align: center; vertical-align: top\">280.622770886</td>\n",
        "        <td style=\"padding-left: 1em; padding-right: 1em; text-align: center; vertical-align: top\">1.93639855513</td>\n",
        "    </tr>\n",
        "</table>\n",
        "[2 rows x 4 columns]<br/>\n",
        "</div>"
       ],
       "metadata": {},
       "output_type": "pyout",
       "prompt_number": 43,
       "text": [
        "Columns:\n",
        "\tname\tstr\n",
        "\tindex\tstr\n",
        "\tvalue\tfloat\n",
        "\tstderr\tfloat\n",
        "\n",
        "Rows: 2\n",
        "\n",
        "Data:\n",
        "+-------------+-------+----------------+---------------+\n",
        "|     name    | index |     value      |     stderr    |\n",
        "+-------------+-------+----------------+---------------+\n",
        "| (intercept) |  None | -43579.0852515 | 4402.68969743 |\n",
        "|   power_1   |  None | 280.622770886  | 1.93639855513 |\n",
        "+-------------+-------+----------------+---------------+\n",
        "[2 rows x 4 columns]"
       ]
      }
     ],
     "prompt_number": 43
    },
    {
     "cell_type": "code",
     "collapsed": true,
     "input": [
      "import matplotlib.pyplot as plt\n",
      "%matplotlib inline"
     ],
     "language": "python",
     "metadata": {},
     "outputs": [],
     "prompt_number": 44
    },
    {
     "cell_type": "code",
     "collapsed": false,
     "input": [
      "plt.plot(poly1_data['power_1'],poly1_data['price'],'.',\n",
      "        poly1_data['power_1'], model1.predict(poly1_data),'-')"
     ],
     "language": "python",
     "metadata": {},
     "outputs": [
      {
       "metadata": {},
       "output_type": "pyout",
       "prompt_number": 45,
       "text": [
        "[<matplotlib.lines.Line2D at 0x7f5565a83890>,\n",
        " <matplotlib.lines.Line2D at 0x7f5565a83950>]"
       ]
      },
      {
       "metadata": {},
       "output_type": "display_data",
       "png": "[encoded data removed]",
       "text": [
        "<matplotlib.figure.Figure at 0x7f5565b6c910>"
       ]
      }
     ],
     "prompt_number": 45
    },
    {
     "cell_type": "markdown",
     "metadata": {},
     "source": [
      "Let's unpack that plt.plot() command. The first pair of SArrays we passed are the 1st power of sqft and the actual price we then ask it to print these as dots '.'. The next pair we pass is the 1st power of sqft and the predicted values from the linear model. We ask these to be plotted as a line '-'. \n",
      "\n",
      "We can see, not surprisingly, that the predicted values all fall on a line, specifically the one with slope 280 and intercept -43579. What if we wanted to plot a second degree polynomial?"
     ]
    },
    {
     "cell_type": "code",
     "collapsed": false,
     "input": [
      "poly2_data = polynomial_sframe(sales['sqft_living'], 2)\n",
      "my_features2 = poly2_data.column_names() # get the name of the features\n",
      "poly2_data['price'] = sales['price'] # add price to the data since it's the target\n",
      "model2 = graphlab.linear_regression.create(poly2_data, target = 'price', features = my_features2, validation_set = None)"
     ],
     "language": "python",
     "metadata": {},
     "outputs": [
      {
       "output_type": "stream",
       "stream": "stdout",
       "text": [
        "Linear regression:\n",
        "--------------------------------------------------------\n",
        "Number of examples          : 21613\n",
        "Number of features          : 2\n",
        "Number of unpacked features : 2\n",
        "Number of coefficients    : 3\n",
        "Starting Newton Method\n",
        "--------------------------------------------------------\n",
        "+-----------+----------+--------------+--------------------+---------------+\n",
        "| Iteration | Passes   | Elapsed Time | Training-max_error | Training-rmse |\n",
        "+-----------+----------+--------------+--------------------+---------------+\n",
        "| 1         | 2        | 0.031191     | 5913020.984255     | 250948.368758 |\n",
        "+-----------+----------+--------------+--------------------+---------------+\n",
        "SUCCESS: Optimal solution found.\n",
        "\n"
       ]
      }
     ],
     "prompt_number": 46
    },
    {
     "cell_type": "code",
     "collapsed": false,
     "input": [
      "print my_features\n",
      "model2.get(\"coefficients\")"
     ],
     "language": "python",
     "metadata": {},
     "outputs": [
      {
       "output_type": "stream",
       "stream": "stdout",
       "text": [
        "['power_1', 'power_2']\n"
       ]
      },
      {
       "html": [
        "<div style=\"max-height:1000px;max-width:1500px;overflow:auto;\"><table frame=\"box\" rules=\"cols\">\n",
        "    <tr>\n",
        "        <th style=\"padding-left: 1em; padding-right: 1em; text-align: center\">name</th>\n",
        "        <th style=\"padding-left: 1em; padding-right: 1em; text-align: center\">index</th>\n",
        "        <th style=\"padding-left: 1em; padding-right: 1em; text-align: center\">value</th>\n",
        "        <th style=\"padding-left: 1em; padding-right: 1em; text-align: center\">stderr</th>\n",
        "    </tr>\n",
        "    <tr>\n",
        "        <td style=\"padding-left: 1em; padding-right: 1em; text-align: center; vertical-align: top\">(intercept)</td>\n",
        "        <td style=\"padding-left: 1em; padding-right: 1em; text-align: center; vertical-align: top\">None</td>\n",
        "        <td style=\"padding-left: 1em; padding-right: 1em; text-align: center; vertical-align: top\">199222.496445</td>\n",
        "        <td style=\"padding-left: 1em; padding-right: 1em; text-align: center; vertical-align: top\">7058.00483552</td>\n",
        "    </tr>\n",
        "    <tr>\n",
        "        <td style=\"padding-left: 1em; padding-right: 1em; text-align: center; vertical-align: top\">power_1</td>\n",
        "        <td style=\"padding-left: 1em; padding-right: 1em; text-align: center; vertical-align: top\">None</td>\n",
        "        <td style=\"padding-left: 1em; padding-right: 1em; text-align: center; vertical-align: top\">67.9940640677</td>\n",
        "        <td style=\"padding-left: 1em; padding-right: 1em; text-align: center; vertical-align: top\">5.28787201316</td>\n",
        "    </tr>\n",
        "    <tr>\n",
        "        <td style=\"padding-left: 1em; padding-right: 1em; text-align: center; vertical-align: top\">power_2</td>\n",
        "        <td style=\"padding-left: 1em; padding-right: 1em; text-align: center; vertical-align: top\">None</td>\n",
        "        <td style=\"padding-left: 1em; padding-right: 1em; text-align: center; vertical-align: top\">0.0385812312789</td>\n",
        "        <td style=\"padding-left: 1em; padding-right: 1em; text-align: center; vertical-align: top\">0.000898246547032</td>\n",
        "    </tr>\n",
        "</table>\n",
        "[3 rows x 4 columns]<br/>\n",
        "</div>"
       ],
       "metadata": {},
       "output_type": "pyout",
       "prompt_number": 47,
       "text": [
        "Columns:\n",
        "\tname\tstr\n",
        "\tindex\tstr\n",
        "\tvalue\tfloat\n",
        "\tstderr\tfloat\n",
        "\n",
        "Rows: 3\n",
        "\n",
        "Data:\n",
        "+-------------+-------+-----------------+-------------------+\n",
        "|     name    | index |      value      |       stderr      |\n",
        "+-------------+-------+-----------------+-------------------+\n",
        "| (intercept) |  None |  199222.496445  |   7058.00483552   |\n",
        "|   power_1   |  None |  67.9940640677  |   5.28787201316   |\n",
        "|   power_2   |  None | 0.0385812312789 | 0.000898246547032 |\n",
        "+-------------+-------+-----------------+-------------------+\n",
        "[3 rows x 4 columns]"
       ]
      }
     ],
     "prompt_number": 47
    },
    {
     "cell_type": "code",
     "collapsed": false,
     "input": [
      "plt.plot(poly2_data['power_1'],poly2_data['price'],'.',\n",
      "        poly2_data['power_1'], model2.predict(poly2_data),'-')"
     ],
     "language": "python",
     "metadata": {},
     "outputs": [
      {
       "metadata": {},
       "output_type": "pyout",
       "prompt_number": 48,
       "text": [
        "[<matplotlib.lines.Line2D at 0x7f55659c89d0>,\n",
        " <matplotlib.lines.Line2D at 0x7f55659c8a90>]"
       ]
      },
      {
       "metadata": {},
       "output_type": "display_data",
       "png": "[encoded data removed]",
       "text": [
        "<matplotlib.figure.Figure at 0x7f5565a9b0d0>"
       ]
      }
     ],
     "prompt_number": 48
    },
    {
     "cell_type": "markdown",
     "metadata": {},
     "source": [
      "The resulting model looks like half a parabola. Try on your own to see what the cubic looks like:"
     ]
    },
    {
     "cell_type": "code",
     "collapsed": false,
     "input": [
      "poly3_data = polynomial_sframe(sales['sqft_living'], 3)\n",
      "my_features3 = poly3_data.column_names() # get the name of the features\n",
      "poly3_data['price'] = sales['price'] # add price to the data since it's the target\n",
      "model3 = graphlab.linear_regression.create(poly3_data, target = 'price', features = my_features3, \n",
      "                                           validation_set = None)"
     ],
     "language": "python",
     "metadata": {},
     "outputs": [
      {
       "output_type": "stream",
       "stream": "stdout",
       "text": [
        "Linear regression:\n",
        "--------------------------------------------------------\n",
        "Number of examples          : 21613\n",
        "Number of features          : 3\n",
        "Number of unpacked features : 3\n",
        "Number of coefficients    : 4\n",
        "Starting Newton Method\n",
        "--------------------------------------------------------\n",
        "+-----------+----------+--------------+--------------------+---------------+\n",
        "| Iteration | Passes   | Elapsed Time | Training-max_error | Training-rmse |\n",
        "+-----------+----------+--------------+--------------------+---------------+\n",
        "| 1         | 2        | 0.057579     | 3261066.736007     | 249261.286346 |\n",
        "+-----------+----------+--------------+--------------------+---------------+\n",
        "SUCCESS: Optimal solution found.\n",
        "\n"
       ]
      }
     ],
     "prompt_number": 49
    },
    {
     "cell_type": "code",
     "collapsed": false,
     "input": [
      "plt.plot(poly3_data['power_1'],poly3_data['price'],'.',\n",
      "        poly3_data['power_1'], model3.predict(poly3_data),'-')"
     ],
     "language": "python",
     "metadata": {},
     "outputs": [
      {
       "metadata": {},
       "output_type": "pyout",
       "prompt_number": 51,
       "text": [
        "[<matplotlib.lines.Line2D at 0x7f5565863350>,\n",
        " <matplotlib.lines.Line2D at 0x7f5565863410>]"
       ]
      },
      {
       "metadata": {},
       "output_type": "display_data",
       "png": "[encoded data removed]",
       "text": [
        "<matplotlib.figure.Figure at 0x7f55659344d0>"
       ]
      }
     ],
     "prompt_number": 51
    },
    {
     "cell_type": "markdown",
     "metadata": {},
     "source": [
      "Now try a 15th degree polynomial:"
     ]
    },
    {
     "cell_type": "code",
     "collapsed": false,
     "input": [
      "poly15_data = polynomial_sframe(sales['sqft_living'], 15)\n",
      "my_features15 = poly15_data.column_names() # get the name of the features\n",
      "poly15_data['price'] = sales['price'] # add price to the data since it's the target\n",
      "model15 = graphlab.linear_regression.create(poly15_data, target = 'price', features = my_features15, \n",
      "                                           validation_set = None)"
     ],
     "language": "python",
     "metadata": {},
     "outputs": [
      {
       "output_type": "stream",
       "stream": "stdout",
       "text": [
        "Linear regression:\n",
        "--------------------------------------------------------\n",
        "Number of examples          : 21613\n",
        "Number of features          : 15\n",
        "Number of unpacked features : 15\n",
        "Number of coefficients    : 16\n",
        "Starting Newton Method\n",
        "--------------------------------------------------------\n",
        "+-----------+----------+--------------+--------------------+---------------+\n",
        "| Iteration | Passes   | Elapsed Time | Training-max_error | Training-rmse |\n",
        "+-----------+----------+--------------+--------------------+---------------+\n",
        "| 1         | 2        | 0.058574     | 2662308.584337     | 245690.511190 |\n",
        "+-----------+----------+--------------+--------------------+---------------+\n",
        "SUCCESS: Optimal solution found.\n",
        "\n"
       ]
      }
     ],
     "prompt_number": 52
    },
    {
     "cell_type": "code",
     "collapsed": false,
     "input": [
      "print model15.get(\"coefficients\")\n",
      "plt.plot(poly15_data['power_1'],poly15_data['price'],'.',\n",
      "        poly15_data['power_1'], model15.predict(poly15_data),'-')"
     ],
     "language": "python",
     "metadata": {},
     "outputs": [
      {
       "output_type": "stream",
       "stream": "stdout",
       "text": [
        "+-------------+-------+--------------------+-------------------+\n",
        "|     name    | index |       value        |       stderr      |\n",
        "+-------------+-------+--------------------+-------------------+\n",
        "| (intercept) |  None |   73619.7521128    |   932386.423529   |\n",
        "|   power_1   |  None |   410.287462535    |   4736.29685183   |\n",
        "|   power_2   |  None |  -0.230450714428   |   9.86053264076   |\n",
        "|   power_3   |  None | 7.58840542453e-05  |  0.0111697433406  |\n",
        "|   power_4   |  None | -5.65701802662e-09 | 7.69719606122e-06 |\n",
        "|   power_5   |  None | -4.57028130577e-13 |  3.404224608e-09  |\n",
        "|   power_6   |  None |  2.6636020643e-17  | 9.86624558935e-13 |\n",
        "|   power_7   |  None |  3.3858476929e-21  | 1.85621322144e-16 |\n",
        "|   power_8   |  None | 1.14723104085e-25  | 2.13709634069e-20 |\n",
        "|   power_9   |  None | -4.65293586092e-30 | 1.22655026064e-24 |\n",
        "+-------------+-------+--------------------+-------------------+\n",
        "[16 rows x 4 columns]\n",
        "Note: Only the head of the SFrame is printed.\n",
        "You can use print_rows(num_rows=m, num_columns=n) to print more rows and columns.\n"
       ]
      },
      {
       "metadata": {},
       "output_type": "pyout",
       "prompt_number": 53,
       "text": [
        "[<matplotlib.lines.Line2D at 0x7f55657a8510>,\n",
        " <matplotlib.lines.Line2D at 0x7f55657a85d0>]"
       ]
      },
      {
       "metadata": {},
       "output_type": "display_data",
       "png": "[encoded data removed]",
       "text": [
        "<matplotlib.figure.Figure at 0x7f556599d0d0>"
       ]
      }
     ],
     "prompt_number": 53
    },
    {
     "cell_type": "markdown",
     "metadata": {},
     "source": [
      "What do you think of the 15th degree polynomial? Do you think this is appropriate? If we were to change the data do you think you'd get pretty much the same curve? Let's take a look."
     ]
    },
    {
     "cell_type": "heading",
     "level": 1,
     "metadata": {},
     "source": [
      "Changing the data and re-learning"
     ]
    },
    {
     "cell_type": "markdown",
     "metadata": {},
     "source": [
      "We're going to split the sales data into four subsets of roughly equal size. Then you will estimate a 15th degree polynomial model on all four subsets of the data. Print the coefficients (you should use .print_rows(num_rows = 16) to view all of them) and plot the resulting fit (as we did above). The quiz will ask you some questions about these results.\n",
      "\n",
      "To split the sales data into four subsets, we perform the following steps:\n",
      "* First split sales into 2 subsets with `.random_split(0.5, seed=0)`. \n",
      "* Next split the resulting subsets into 2 more subsets each. Use `.random_split(0.5, seed=0)`.\n",
      "\n",
      "We set `seed=0` in these steps so that different users get consistent results.\n",
      "You should end up with 4 subsets (`set_1`, `set_2`, `set_3`, `set_4`) of approximately equal size. "
     ]
    },
    {
     "cell_type": "code",
     "collapsed": true,
     "input": [
      "set_1,set_3=poly15_data.random_split(0.5, seed=0)\n",
      "set_1,set_2=set_1.random_split(0.5, seed=0)\n",
      "set_3,set_4=set_3.random_split(0.5, seed=0)"
     ],
     "language": "python",
     "metadata": {},
     "outputs": [],
     "prompt_number": 54
    },
    {
     "cell_type": "markdown",
     "metadata": {},
     "source": [
      "Fit a 15th degree polynomial on set_1, set_2, set_3, and set_4 using sqft_living to predict prices. Print the coefficients and make a plot of the resulting model."
     ]
    },
    {
     "cell_type": "code",
     "collapsed": false,
     "input": [
      "def coefficient(set_data):\n",
      "    model_set=graphlab.linear_regression.create(set_data, target = 'price', features = my_features15, \n",
      "                                           validation_set = None)\n",
      "    print model_set.get(\"coefficients\")\n",
      "    plotGraph(set_data,model_set)\n",
      "def plotGraph(set_data,model_set):\n",
      "    plt.plot(set_data['power_1'],set_data['price'],'.',\n",
      "        set_data['power_1'], model_set.predict(set_data),'-')\n"
     ],
     "language": "python",
     "metadata": {},
     "outputs": [],
     "prompt_number": 56
    },
    {
     "cell_type": "code",
     "collapsed": false,
     "input": [
      "coefficient(set_1)"
     ],
     "language": "python",
     "metadata": {},
     "outputs": [
      {
       "output_type": "stream",
       "stream": "stdout",
       "text": [
        "Linear regression:\n",
        "--------------------------------------------------------\n",
        "Number of examples          : 5404\n",
        "Number of features          : 15\n",
        "Number of unpacked features : 15\n",
        "Number of coefficients    : 16\n",
        "Starting Newton Method\n",
        "--------------------------------------------------------\n",
        "+-----------+----------+--------------+--------------------+---------------+\n",
        "| Iteration | Passes   | Elapsed Time | Training-max_error | Training-rmse |\n",
        "+-----------+----------+--------------+--------------------+---------------+\n",
        "| 1         | 2        | 0.060854     | 2195218.932304     | 248858.822200 |\n",
        "+-----------+----------+--------------+--------------------+---------------+\n",
        "SUCCESS: Optimal solution found.\n",
        "\n",
        "+-------------+-------+--------------------+-------------------+\n",
        "|     name    | index |       value        |       stderr      |\n",
        "+-------------+-------+--------------------+-------------------+\n",
        "| (intercept) |  None |   223312.750249    |   1256782.60077   |\n",
        "|   power_1   |  None |   118.086127587    |   6007.14384425   |\n",
        "|   power_2   |  None |  -0.0473482011344  |    11.969007003   |\n",
        "|   power_3   |  None | 3.25310342469e-05  |  0.0131429551736  |\n",
        "|   power_4   |  None | -3.32372152561e-09 | 8.85414511316e-06 |\n",
        "|   power_5   |  None | -9.75830457761e-14 | 3.83982596813e-09 |\n",
        "|   power_6   |  None | 1.15440303426e-17  |  1.0847728091e-12 |\n",
        "|   power_7   |  None | 1.05145869404e-21  | 1.93625236102e-16 |\n",
        "|   power_8   |  None | 3.46049616546e-26  |  1.8950619488e-20 |\n",
        "|   power_9   |  None | -1.09654454168e-30 |        nan        |\n",
        "+-------------+-------+--------------------+-------------------+\n",
        "[16 rows x 4 columns]\n",
        "Note: Only the head of the SFrame is printed.\n",
        "You can use print_rows(num_rows=m, num_columns=n) to print more rows and columns."
       ]
      },
      {
       "output_type": "stream",
       "stream": "stdout",
       "text": [
        "\n"
       ]
      },
      {
       "metadata": {},
       "output_type": "display_data",
       "png": "[encoded data removed]",
       "text": [
        "<matplotlib.figure.Figure at 0x7f558825d090>"
       ]
      }
     ],
     "prompt_number": 57
    },
    {
     "cell_type": "code",
     "collapsed": false,
     "input": [
      "coefficient(set_2)"
     ],
     "language": "python",
     "metadata": {},
     "outputs": [
      {
       "output_type": "stream",
       "stream": "stdout",
       "text": [
        "Linear regression:\n",
        "--------------------------------------------------------\n",
        "Number of examples          : 5398\n",
        "Number of features          : 15\n",
        "Number of unpacked features : 15\n",
        "Number of coefficients    : 16\n",
        "Starting Newton Method\n",
        "--------------------------------------------------------\n",
        "+-----------+----------+--------------+--------------------+---------------+\n",
        "| Iteration | Passes   | Elapsed Time | Training-max_error | Training-rmse |\n",
        "+-----------+----------+--------------+--------------------+---------------+\n",
        "| 1         | 2        | 0.040807     | 2069212.978547     | 234840.067186 |\n",
        "+-----------+----------+--------------+--------------------+---------------+\n",
        "SUCCESS: Optimal solution found.\n",
        "\n",
        "+-------------+-------+--------------------+-------------------+\n",
        "|     name    | index |       value        |       stderr      |\n",
        "+-------------+-------+--------------------+-------------------+\n",
        "| (intercept) |  None |   89836.5077327    |   1575072.52605   |\n",
        "|   power_1   |  None |   319.806946764    |   9306.12882948   |\n",
        "|   power_2   |  None |  -0.103315397042   |   23.4277359048   |\n",
        "|   power_3   |  None | 1.06682476069e-05  |  0.0331642866136  |\n",
        "|   power_4   |  None | 5.75577097718e-09  |  2.9410878859e-05 |\n",
        "|   power_5   |  None | -2.5466346476e-13  | 1.72262411743e-08 |\n",
        "|   power_6   |  None | -1.09641345061e-16 |  6.8337583788e-12 |\n",
        "|   power_7   |  None | -6.36458441713e-21 | 1.84750094523e-15 |\n",
        "|   power_8   |  None | 5.52560416991e-25  | 3.35734055021e-19 |\n",
        "|   power_9   |  None | 1.35082038963e-28  | 3.79203635463e-23 |\n",
        "+-------------+-------+--------------------+-------------------+\n",
        "[16 rows x 4 columns]\n",
        "Note: Only the head of the SFrame is printed.\n",
        "You can use print_rows(num_rows=m, num_columns=n) to print more rows and columns."
       ]
      },
      {
       "output_type": "stream",
       "stream": "stdout",
       "text": [
        "\n"
       ]
      },
      {
       "metadata": {},
       "output_type": "display_data",
       "png": "[encoded data removed]",
       "text": [
        "<matplotlib.figure.Figure at 0x7f55658db6d0>"
       ]
      }
     ],
     "prompt_number": 58
    },
    {
     "cell_type": "code",
     "collapsed": false,
     "input": [
      "coefficient(set_3)"
     ],
     "language": "python",
     "metadata": {},
     "outputs": [
      {
       "output_type": "stream",
       "stream": "stdout",
       "text": [
        "Linear regression:\n",
        "--------------------------------------------------------\n",
        "Number of examples          : 5409\n",
        "Number of features          : 15\n",
        "Number of unpacked features : 15\n",
        "Number of coefficients    : 16\n",
        "Starting Newton Method\n",
        "--------------------------------------------------------\n",
        "+-----------+----------+--------------+--------------------+---------------+\n",
        "| Iteration | Passes   | Elapsed Time | Training-max_error | Training-rmse |\n",
        "+-----------+----------+--------------+--------------------+---------------+\n",
        "| 1         | 2        | 0.055039     | 2269769.506521     | 251460.072754 |\n",
        "+-----------+----------+--------------+--------------------+---------------+\n",
        "SUCCESS: Optimal solution found.\n",
        "\n",
        "+-------------+-------+--------------------+--------+\n",
        "|     name    | index |       value        | stderr |\n",
        "+-------------+-------+--------------------+--------+\n",
        "| (intercept) |  None |   87317.9795547    |  nan   |\n",
        "|   power_1   |  None |   356.304911045    |  nan   |\n",
        "|   power_2   |  None |  -0.164817442809   |  nan   |\n",
        "|   power_3   |  None | 4.40424992697e-05  |  nan   |\n",
        "|   power_4   |  None | 6.48234876179e-10  |  nan   |\n",
        "|   power_5   |  None | -6.75253226587e-13 |  nan   |\n",
        "|   power_6   |  None | -3.36842592661e-17 |  nan   |\n",
        "|   power_7   |  None | 3.60999704242e-21  |  nan   |\n",
        "|   power_8   |  None | 6.46999725625e-25  |  nan   |\n",
        "|   power_9   |  None | 4.23639388865e-29  |  nan   |\n",
        "+-------------+-------+--------------------+--------+\n",
        "[16 rows x 4 columns]\n",
        "Note: Only the head of the SFrame is printed.\n",
        "You can use print_rows(num_rows=m, num_columns=n) to print more rows and columns."
       ]
      },
      {
       "output_type": "stream",
       "stream": "stdout",
       "text": [
        "\n"
       ]
      },
      {
       "metadata": {},
       "output_type": "display_data",
       "png": "[encoded data removed]",
       "text": [
        "<matplotlib.figure.Figure at 0x7f5565604090>"
       ]
      }
     ],
     "prompt_number": 59
    },
    {
     "cell_type": "code",
     "collapsed": false,
     "input": [
      "coefficient(set_4)"
     ],
     "language": "python",
     "metadata": {},
     "outputs": [
      {
       "output_type": "stream",
       "stream": "stdout",
       "text": [
        "Linear regression:\n",
        "--------------------------------------------------------\n",
        "Number of examples          : 5402\n",
        "Number of features          : 15\n",
        "Number of unpacked features : 15\n",
        "Number of coefficients    : 16\n",
        "Starting Newton Method\n",
        "--------------------------------------------------------\n",
        "+-----------+----------+--------------+--------------------+---------------+\n",
        "| Iteration | Passes   | Elapsed Time | Training-max_error | Training-rmse |\n",
        "+-----------+----------+--------------+--------------------+---------------+\n",
        "| 1         | 2        | 0.054579     | 2314893.173827     | 244563.136754 |\n",
        "+-----------+----------+--------------+--------------------+---------------+\n",
        "SUCCESS: Optimal solution found.\n",
        "\n",
        "+-------------+-------+--------------------+-------------------+\n",
        "|     name    | index |       value        |       stderr      |\n",
        "+-------------+-------+--------------------+-------------------+\n",
        "| (intercept) |  None |   259020.879454    |   1545198.28029   |\n",
        "|   power_1   |  None |   -31.7277162076   |    9987.4875763   |\n",
        "|   power_2   |  None |   0.109702769619   |    26.738101963   |\n",
        "|   power_3   |  None | -1.58383847337e-05 |  0.0392428614089  |\n",
        "|   power_4   |  None | -4.47660623786e-09 |  3.515833293e-05  |\n",
        "|   power_5   |  None | 1.13976573482e-12  | 2.00754862175e-08 |\n",
        "|   power_6   |  None | 1.97669120547e-16  | 7.24105980967e-12 |\n",
        "|   power_7   |  None | -6.15783678661e-21 | 1.43187601549e-15 |\n",
        "|   power_8   |  None | -4.88012304074e-24 |        nan        |\n",
        "|   power_9   |  None | -6.62186781351e-28 |        nan        |\n",
        "+-------------+-------+--------------------+-------------------+\n",
        "[16 rows x 4 columns]\n",
        "Note: Only the head of the SFrame is printed.\n",
        "You can use print_rows(num_rows=m, num_columns=n) to print more rows and columns."
       ]
      },
      {
       "output_type": "stream",
       "stream": "stdout",
       "text": [
        "\n"
       ]
      },
      {
       "metadata": {},
       "output_type": "display_data",
       "png": "[encoded data removed]",
       "text": [
        "<matplotlib.figure.Figure at 0x7f55655200d0>"
       ]
      }
     ],
     "prompt_number": 60
    },
    {
     "cell_type": "markdown",
     "metadata": {},
     "source": [
      "Some questions you will be asked on your quiz:\n",
      "\n",
      "**Quiz Question: Is the sign (positive or negative) for power_15 the same in all four models?**\n",
      "\n",
      "**Quiz Question: (True/False) the plotted fitted lines look the same in all four plots**"
     ]
    },
    {
     "cell_type": "heading",
     "level": 1,
     "metadata": {},
     "source": [
      "Selecting a Polynomial Degree"
     ]
    },
    {
     "cell_type": "markdown",
     "metadata": {},
     "source": [
      "Whenever we have a \"magic\" parameter like the degree of the polynomial there is one well-known way to select these parameters: validation set. (We will explore another approach in week 4).\n",
      "\n",
      "We split the sales dataset 3-way into training set, test set, and validation set as follows:\n",
      "\n",
      "* Split our sales data into 2 sets: `training_and_validation` and `testing`. Use `random_split(0.9, seed=1)`.\n",
      "* Further split our training data into two sets: `training` and `validation`. Use `random_split(0.5, seed=1)`.\n",
      "\n",
      "Again, we set `seed=1` to obtain consistent results for different users."
     ]
    },
    {
     "cell_type": "code",
     "collapsed": true,
     "input": [
      "training_and_validation,testing=sales.random_split(0.9, seed=1)\n",
      "training,validation=training_and_validation.random_split(0.5, seed=1)"
     ],
     "language": "python",
     "metadata": {},
     "outputs": [],
     "prompt_number": 61
    },
    {
     "cell_type": "markdown",
     "metadata": {},
     "source": [
      "Next you should write a loop that does the following:\n",
      "* For degree in [1, 2, 3, 4, 5, 6, 7, 8, 9, 10, 11, 12, 13, 14, 15] (to get this in python type range(1, 15+1))\n",
      "    * Build an SFrame of polynomial data of train_data['sqft_living'] at the current degree\n",
      "    * hint: my_features = poly_data.column_names() gives you a list e.g. ['power_1', 'power_2', 'power_3'] which you might find useful for graphlab.linear_regression.create( features = my_features)\n",
      "    * Add train_data['price'] to the polynomial SFrame\n",
      "    * Learn a polynomial regression model to sqft vs price with that degree on TRAIN data\n",
      "    * Compute the RSS on VALIDATION data (here you will want to use .predict()) for that degree and you will need to make a polynmial SFrame using validation data.\n",
      "* Report which degree had the lowest RSS on validation data (remember python indexes from 0)\n",
      "\n",
      "(Note you can turn off the print out of linear_regression.create() with verbose = False)"
     ]
    },
    {
     "cell_type": "code",
     "collapsed": false,
     "input": [
      "arr=[]\n",
      "for degree in range(1,16):\n",
      "    data = polynomial_sframe(training['sqft_living'], degree)\n",
      "    my_features = data.column_names() # get the name of the features\n",
      "    data['price'] = training['price'] # add price to the data since it's the target\n",
      "    model = graphlab.linear_regression.create(data, target = 'price', features = my_features, \n",
      "                                           validation_set = None)\n",
      "    validation_data=polynomial_sframe(validation['sqft_living'], degree)\n",
      "    prediction=model.predict(validation_data)\n",
      "    error=prediction-validation['price']\n",
      "    rss=sum(error**2)\n",
      "    #print rss,\" in \",degree,\" model \"\n",
      "    arr.append(rss)\n",
      "print arr.index(min(arr)),\" min value is \",min(arr)"
     ],
     "language": "python",
     "metadata": {},
     "outputs": [
      {
       "output_type": "stream",
       "stream": "stdout",
       "text": [
        "Linear regression:\n",
        "--------------------------------------------------------\n",
        "Number of examples          : 9761\n",
        "Number of features          : 1\n",
        "Number of unpacked features : 1\n",
        "Number of coefficients    : 2\n",
        "Starting Newton Method\n",
        "--------------------------------------------------------\n",
        "+-----------+----------+--------------+--------------------+---------------+\n",
        "| Iteration | Passes   | Elapsed Time | Training-max_error | Training-rmse |\n",
        "+-----------+----------+--------------+--------------------+---------------+\n",
        "| 1         | 2        | 0.014840     | 4274505.747987     | 262315.114947 |\n",
        "+-----------+----------+--------------+--------------------+---------------+\n",
        "SUCCESS: Optimal solution found.\n",
        "\n",
        "Linear regression:\n",
        "--------------------------------------------------------\n",
        "Number of examples          : 9761\n",
        "Number of features          : 2\n",
        "Number of unpacked features : 2\n",
        "Number of coefficients    : 3\n",
        "Starting Newton Method\n",
        "--------------------------------------------------------\n",
        "+-----------+----------+--------------+--------------------+---------------+\n",
        "| Iteration | Passes   | Elapsed Time | Training-max_error | Training-rmse |\n",
        "+-----------+----------+--------------+--------------------+---------------+\n",
        "| 1         | 2        | 0.023064     | 4869005.244131     | 255076.149120 |\n",
        "+-----------+----------+--------------+--------------------+---------------+\n",
        "SUCCESS: Optimal solution found.\n",
        "\n",
        "Linear regression:\n",
        "--------------------------------------------------------\n",
        "Number of examples          : 9761\n",
        "Number of features          : 3\n",
        "Number of unpacked features : 3\n",
        "Number of coefficients    : 4\n",
        "Starting Newton Method\n",
        "--------------------------------------------------------\n",
        "+-----------+----------+--------------+--------------------+---------------+\n",
        "| Iteration | Passes   | Elapsed Time | Training-max_error | Training-rmse |\n",
        "+-----------+----------+--------------+--------------------+---------------+\n",
        "| 1         | 2        | 0.026217     | 3271232.649557     | 249640.623557 |\n",
        "+-----------+----------+--------------+--------------------+---------------+\n",
        "SUCCESS: Optimal solution found.\n",
        "\n",
        "Linear regression:\n",
        "--------------------------------------------------------\n",
        "Number of examples          : 9761\n",
        "Number of features          : 4\n",
        "Number of unpacked features : 4\n",
        "Number of coefficients    : 5\n",
        "Starting Newton Method\n",
        "--------------------------------------------------------\n",
        "+-----------+----------+--------------+--------------------+---------------+\n",
        "| Iteration | Passes   | Elapsed Time | Training-max_error | Training-rmse |\n",
        "+-----------+----------+--------------+--------------------+---------------+\n",
        "| 1         | 2        | 0.045921     | 2676547.198434     | 248689.572032 |\n",
        "+-----------+----------+--------------+--------------------+---------------+\n",
        "SUCCESS: Optimal solution found.\n",
        "\n",
        "Linear regression:\n",
        "--------------------------------------------------------\n",
        "Number of examples          : 9761\n",
        "Number of features          : 5\n",
        "Number of unpacked features : 5\n",
        "Number of coefficients    : 6\n",
        "Starting Newton Method\n",
        "--------------------------------------------------------\n",
        "+-----------+----------+--------------+--------------------+---------------+\n",
        "| Iteration | Passes   | Elapsed Time | Training-max_error | Training-rmse |\n",
        "+-----------+----------+--------------+--------------------+---------------+\n",
        "| 1         | 2        | 0.059629     | 2330678.377343     | 248281.665797 |\n",
        "+-----------+----------+--------------+--------------------+---------------+\n",
        "SUCCESS: Optimal solution found.\n",
        "\n",
        "Linear regression:\n",
        "--------------------------------------------------------\n",
        "Number of examples          : 9761\n",
        "Number of features          : 6\n",
        "Number of unpacked features : 6\n",
        "Number of coefficients    : 7\n",
        "Starting Newton Method\n",
        "--------------------------------------------------------\n",
        "+-----------+----------+--------------+--------------------+---------------+\n",
        "| Iteration | Passes   | Elapsed Time | Training-max_error | Training-rmse |\n",
        "+-----------+----------+--------------+--------------------+---------------+\n",
        "| 1         | 2        | 0.075091     | 2344070.143295     | 247280.891725 |\n",
        "+-----------+----------+--------------+--------------------+---------------+\n",
        "SUCCESS: Optimal solution found.\n",
        "\n",
        "Linear regression:\n",
        "--------------------------------------------------------\n",
        "Number of examples          : 9761\n",
        "Number of features          : 7\n",
        "Number of unpacked features : 7\n",
        "Number of coefficients    : 8\n",
        "Starting Newton Method\n",
        "--------------------------------------------------------\n",
        "+-----------+----------+--------------+--------------------+---------------+\n",
        "| Iteration | Passes   | Elapsed Time | Training-max_error | Training-rmse |\n",
        "+-----------+----------+--------------+--------------------+---------------+\n",
        "| 1         | 2        | 0.067983     | 2452711.310604     | 246772.313122 |\n",
        "+-----------+----------+--------------+--------------------+---------------+\n",
        "SUCCESS: Optimal solution found.\n",
        "\n",
        "Linear regression:\n",
        "--------------------------------------------------------\n",
        "Number of examples          : 9761\n",
        "Number of features          : 8\n",
        "Number of unpacked features : 8\n",
        "Number of coefficients    : 9\n",
        "Starting Newton Method\n",
        "--------------------------------------------------------\n",
        "+-----------+----------+--------------+--------------------+---------------+\n",
        "| Iteration | Passes   | Elapsed Time | Training-max_error | Training-rmse |\n",
        "+-----------+----------+--------------+--------------------+---------------+\n",
        "| 1         | 2        | 0.069657     | 2504989.234013     | 246671.859042 |\n",
        "+-----------+----------+--------------+--------------------+---------------+\n",
        "SUCCESS: Optimal solution found.\n",
        "\n",
        "Linear regression:\n",
        "--------------------------------------------------------\n",
        "Number of examples          : 9761\n",
        "Number of features          : 9\n",
        "Number of unpacked features : 9\n",
        "Number of coefficients    : 10\n",
        "Starting Newton Method\n",
        "--------------------------------------------------------\n",
        "+-----------+----------+--------------+--------------------+---------------+\n",
        "| Iteration | Passes   | Elapsed Time | Training-max_error | Training-rmse |\n",
        "+-----------+----------+--------------+--------------------+---------------+\n",
        "| 1         | 2        | 0.056946     | 2525802.177260     | 246663.399621 |\n",
        "+-----------+----------+--------------+--------------------+---------------+\n",
        "SUCCESS: Optimal solution found.\n",
        "\n",
        "Linear regression:\n",
        "--------------------------------------------------------\n",
        "Number of examples          : 9761\n",
        "Number of features          : 10\n",
        "Number of unpacked features : 10\n",
        "Number of coefficients    : 11\n",
        "Starting Newton Method\n",
        "--------------------------------------------------------\n",
        "+-----------+----------+--------------+--------------------+---------------+\n",
        "| Iteration | Passes   | Elapsed Time | Training-max_error | Training-rmse |\n",
        "+-----------+----------+--------------+--------------------+---------------+\n",
        "| 1         | 2        | 0.074113     | 2532693.511976     | 246670.636994 |\n",
        "+-----------+----------+--------------+--------------------+---------------+\n",
        "SUCCESS: Optimal solution found.\n",
        "\n",
        "Linear regression:\n",
        "--------------------------------------------------------\n",
        "Number of examples          : 9761\n",
        "Number of features          : 11\n",
        "Number of unpacked features : 11\n",
        "Number of coefficients    : 12\n",
        "Starting Newton Method\n",
        "--------------------------------------------------------\n",
        "+-----------+----------+--------------+--------------------+---------------+\n",
        "| Iteration | Passes   | Elapsed Time | Training-max_error | Training-rmse |\n",
        "+-----------+----------+--------------+--------------------+---------------+\n",
        "| 1         | 2        | 0.061821     | 2534201.088398     | 246675.476971 |\n",
        "+-----------+----------+--------------+--------------------+---------------+\n",
        "SUCCESS: Optimal solution found.\n",
        "\n",
        "Linear regression:\n",
        "--------------------------------------------------------\n",
        "Number of examples          : 9761\n",
        "Number of features          : 12\n",
        "Number of unpacked features : 12\n",
        "Number of coefficients    : 13\n",
        "Starting Newton Method\n",
        "--------------------------------------------------------\n",
        "+-----------+----------+--------------+--------------------+---------------+\n",
        "| Iteration | Passes   | Elapsed Time | Training-max_error | Training-rmse |\n",
        "+-----------+----------+--------------+--------------------+---------------+\n",
        "| 1         | 2        | 0.071488     | 2534257.195240     | 246676.033273 |\n",
        "+-----------+----------+--------------+--------------------+---------------+\n",
        "SUCCESS: Optimal solution found.\n",
        "\n",
        "Linear regression:\n",
        "--------------------------------------------------------\n",
        "Number of examples          : 9761\n",
        "Number of features          : 13\n",
        "Number of unpacked features : 13\n",
        "Number of coefficients    : 14\n",
        "Starting Newton Method\n",
        "--------------------------------------------------------\n",
        "+-----------+----------+--------------+--------------------+---------------+\n",
        "| Iteration | Passes   | Elapsed Time | Training-max_error | Training-rmse |\n",
        "+-----------+----------+--------------+--------------------+---------------+\n",
        "| 1         | 2        | 0.074011     | 2534342.869094     | 246674.389430 |\n",
        "+-----------+----------+--------------+--------------------+---------------+\n",
        "SUCCESS: Optimal solution found.\n",
        "\n",
        "Linear regression:\n",
        "--------------------------------------------------------\n",
        "Number of examples          : 9761\n",
        "Number of features          : 14\n",
        "Number of unpacked features : 14\n",
        "Number of coefficients    : 15\n",
        "Starting Newton Method\n",
        "--------------------------------------------------------\n",
        "+-----------+----------+--------------+--------------------+---------------+\n",
        "| Iteration | Passes   | Elapsed Time | Training-max_error | Training-rmse |\n",
        "+-----------+----------+--------------+--------------------+---------------+\n",
        "| 1         | 2        | 0.083043     | 2534786.244127     | 246672.360649 |\n",
        "+-----------+----------+--------------+--------------------+---------------+\n",
        "SUCCESS: Optimal solution found.\n",
        "\n",
        "Linear regression:\n",
        "--------------------------------------------------------\n",
        "Number of examples          : 9761\n",
        "Number of features          : 15\n",
        "Number of unpacked features : 15\n",
        "Number of coefficients    : 16\n",
        "Starting Newton Method\n",
        "--------------------------------------------------------\n",
        "+-----------+----------+--------------+--------------------+---------------+\n",
        "| Iteration | Passes   | Elapsed Time | Training-max_error | Training-rmse |\n",
        "+-----------+----------+--------------+--------------------+---------------+\n",
        "| 1         | 2        | 0.081645     | 2535496.382161     | 246670.782977 |\n",
        "+-----------+----------+--------------+--------------------+---------------+\n",
        "SUCCESS: Optimal solution found.\n",
        "\n",
        "5"
       ]
      },
      {
       "output_type": "stream",
       "stream": "stdout",
       "text": [
        "  min value is  5.89182477809e+14\n"
       ]
      }
     ],
     "prompt_number": 65
    },
    {
     "cell_type": "markdown",
     "metadata": {},
     "source": [
      "**Quiz Question: Which degree (1, 2, \u2026, 15) had the lowest RSS on Validation data?**"
     ]
    },
    {
     "cell_type": "markdown",
     "metadata": {},
     "source": [
      "Now that you have chosen the degree of your polynomial using validation data, compute the RSS of this model on TEST data. Report the RSS on your quiz."
     ]
    },
    {
     "cell_type": "code",
     "collapsed": false,
     "input": [
      "arr2=[]\n",
      "for degree in range(1,16):\n",
      "    data = polynomial_sframe(training['sqft_living'], degree)\n",
      "    my_features = data.column_names() # get the name of the features\n",
      "    data['price'] = training['price'] # add price to the data since it's the target\n",
      "    model = graphlab.linear_regression.create(data, target = 'price', features = my_features, \n",
      "                                           validation_set = None)\n",
      "    test_data=polynomial_sframe(testing['sqft_living'], degree)\n",
      "    prediction=model.predict(test_data)\n",
      "    error=prediction-testing['price']\n",
      "    rss=sum(error**2)\n",
      "    #print rss,\" in \",degree,\" model \"\n",
      "    arr2.append(rss)\n",
      "print arr2.index(min(arr2)),\" min value is \",min(arr2)"
     ],
     "language": "python",
     "metadata": {},
     "outputs": [
      {
       "output_type": "stream",
       "stream": "stdout",
       "text": [
        "Linear regression:\n",
        "--------------------------------------------------------\n",
        "Number of examples          : 9761\n",
        "Number of features          : 1\n",
        "Number of unpacked features : 1\n",
        "Number of coefficients    : 2\n",
        "Starting Newton Method\n",
        "--------------------------------------------------------\n",
        "+-----------+----------+--------------+--------------------+---------------+\n",
        "| Iteration | Passes   | Elapsed Time | Training-max_error | Training-rmse |\n",
        "+-----------+----------+--------------+--------------------+---------------+\n",
        "| 1         | 2        | 0.014114     | 4274505.747987     | 262315.114947 |\n",
        "+-----------+----------+--------------+--------------------+---------------+\n",
        "SUCCESS: Optimal solution found.\n",
        "\n",
        "Linear regression:\n",
        "--------------------------------------------------------\n",
        "Number of examples          : 9761\n",
        "Number of features          : 2\n",
        "Number of unpacked features : 2\n",
        "Number of coefficients    : 3\n",
        "Starting Newton Method\n",
        "--------------------------------------------------------\n",
        "+-----------+----------+--------------+--------------------+---------------+\n",
        "| Iteration | Passes   | Elapsed Time | Training-max_error | Training-rmse |\n",
        "+-----------+----------+--------------+--------------------+---------------+\n",
        "| 1         | 2        | 0.027709     | 4869005.244131     | 255076.149120 |\n",
        "+-----------+----------+--------------+--------------------+---------------+\n",
        "SUCCESS: Optimal solution found.\n",
        "\n",
        "Linear regression:\n",
        "--------------------------------------------------------\n",
        "Number of examples          : 9761\n",
        "Number of features          : 3\n",
        "Number of unpacked features : 3\n",
        "Number of coefficients    : 4\n",
        "Starting Newton Method\n",
        "--------------------------------------------------------\n",
        "+-----------+----------+--------------+--------------------+---------------+\n",
        "| Iteration | Passes   | Elapsed Time | Training-max_error | Training-rmse |\n",
        "+-----------+----------+--------------+--------------------+---------------+\n",
        "| 1         | 2        | 0.036681     | 3271232.649557     | 249640.623557 |\n",
        "+-----------+----------+--------------+--------------------+---------------+\n",
        "SUCCESS: Optimal solution found.\n",
        "\n",
        "Linear regression:\n",
        "--------------------------------------------------------\n",
        "Number of examples          : 9761\n",
        "Number of features          : 4\n",
        "Number of unpacked features : 4\n",
        "Number of coefficients    : 5\n",
        "Starting Newton Method\n",
        "--------------------------------------------------------\n",
        "+-----------+----------+--------------+--------------------+---------------+\n",
        "| Iteration | Passes   | Elapsed Time | Training-max_error | Training-rmse |\n",
        "+-----------+----------+--------------+--------------------+---------------+\n",
        "| 1         | 2        | 0.048351     | 2676547.198434     | 248689.572032 |\n",
        "+-----------+----------+--------------+--------------------+---------------+\n",
        "SUCCESS: Optimal solution found.\n",
        "\n",
        "Linear regression:\n",
        "--------------------------------------------------------\n",
        "Number of examples          : 9761\n",
        "Number of features          : 5\n",
        "Number of unpacked features : 5\n",
        "Number of coefficients    : 6\n",
        "Starting Newton Method\n",
        "--------------------------------------------------------\n",
        "+-----------+----------+--------------+--------------------+---------------+\n",
        "| Iteration | Passes   | Elapsed Time | Training-max_error | Training-rmse |\n",
        "+-----------+----------+--------------+--------------------+---------------+\n",
        "| 1         | 2        | 0.051012     | 2330678.377343     | 248281.665797 |\n",
        "+-----------+----------+--------------+--------------------+---------------+\n",
        "SUCCESS: Optimal solution found.\n",
        "\n",
        "Linear regression:\n",
        "--------------------------------------------------------\n",
        "Number of examples          : 9761\n",
        "Number of features          : 6\n",
        "Number of unpacked features : 6\n",
        "Number of coefficients    : 7\n",
        "Starting Newton Method\n",
        "--------------------------------------------------------\n",
        "+-----------+----------+--------------+--------------------+---------------+\n",
        "| Iteration | Passes   | Elapsed Time | Training-max_error | Training-rmse |\n",
        "+-----------+----------+--------------+--------------------+---------------+\n",
        "| 1         | 2        | 0.059866     | 2344070.143295     | 247280.891725 |\n",
        "+-----------+----------+--------------+--------------------+---------------+\n",
        "SUCCESS: Optimal solution found.\n",
        "\n",
        "Linear regression:\n",
        "--------------------------------------------------------\n",
        "Number of examples          : 9761\n",
        "Number of features          : 7\n",
        "Number of unpacked features : 7\n",
        "Number of coefficients    : 8\n",
        "Starting Newton Method\n",
        "--------------------------------------------------------\n",
        "+-----------+----------+--------------+--------------------+---------------+\n",
        "| Iteration | Passes   | Elapsed Time | Training-max_error | Training-rmse |\n",
        "+-----------+----------+--------------+--------------------+---------------+\n",
        "| 1         | 2        | 0.056443     | 2452711.310604     | 246772.313122 |\n",
        "+-----------+----------+--------------+--------------------+---------------+\n",
        "SUCCESS: Optimal solution found.\n",
        "\n",
        "Linear regression:\n",
        "--------------------------------------------------------\n",
        "Number of examples          : 9761\n",
        "Number of features          : 8\n",
        "Number of unpacked features : 8\n",
        "Number of coefficients    : 9\n",
        "Starting Newton Method\n",
        "--------------------------------------------------------\n",
        "+-----------+----------+--------------+--------------------+---------------+\n",
        "| Iteration | Passes   | Elapsed Time | Training-max_error | Training-rmse |\n",
        "+-----------+----------+--------------+--------------------+---------------+\n",
        "| 1         | 2        | 0.075608     | 2504989.234013     | 246671.859042 |\n",
        "+-----------+----------+--------------+--------------------+---------------+\n",
        "SUCCESS: Optimal solution found.\n",
        "\n",
        "Linear regression:\n",
        "--------------------------------------------------------\n",
        "Number of examples          : 9761\n",
        "Number of features          : 9\n",
        "Number of unpacked features : 9\n",
        "Number of coefficients    : 10\n",
        "Starting Newton Method\n",
        "--------------------------------------------------------\n",
        "+-----------+----------+--------------+--------------------+---------------+\n",
        "| Iteration | Passes   | Elapsed Time | Training-max_error | Training-rmse |\n",
        "+-----------+----------+--------------+--------------------+---------------+\n",
        "| 1         | 2        | 0.068417     | 2525802.177260     | 246663.399621 |\n",
        "+-----------+----------+--------------+--------------------+---------------+\n",
        "SUCCESS: Optimal solution found.\n",
        "\n",
        "Linear regression:\n",
        "--------------------------------------------------------\n",
        "Number of examples          : 9761\n",
        "Number of features          : 10\n",
        "Number of unpacked features : 10\n",
        "Number of coefficients    : 11\n",
        "Starting Newton Method\n",
        "--------------------------------------------------------\n",
        "+-----------+----------+--------------+--------------------+---------------+\n",
        "| Iteration | Passes   | Elapsed Time | Training-max_error | Training-rmse |\n",
        "+-----------+----------+--------------+--------------------+---------------+\n",
        "| 1         | 2        | 0.070742     | 2532693.511976     | 246670.636994 |\n",
        "+-----------+----------+--------------+--------------------+---------------+\n",
        "SUCCESS: Optimal solution found.\n",
        "\n",
        "Linear regression:\n",
        "--------------------------------------------------------\n",
        "Number of examples          : 9761\n",
        "Number of features          : 11\n",
        "Number of unpacked features : 11\n",
        "Number of coefficients    : 12\n",
        "Starting Newton Method\n",
        "--------------------------------------------------------\n",
        "+-----------+----------+--------------+--------------------+---------------+\n",
        "| Iteration | Passes   | Elapsed Time | Training-max_error | Training-rmse |\n",
        "+-----------+----------+--------------+--------------------+---------------+\n",
        "| 1         | 2        | 0.057746     | 2534201.088398     | 246675.476971 |\n",
        "+-----------+----------+--------------+--------------------+---------------+\n",
        "SUCCESS: Optimal solution found.\n",
        "\n",
        "Linear regression:\n",
        "--------------------------------------------------------\n",
        "Number of examples          : 9761\n",
        "Number of features          : 12\n",
        "Number of unpacked features : 12\n",
        "Number of coefficients    : 13\n",
        "Starting Newton Method\n",
        "--------------------------------------------------------\n",
        "+-----------+----------+--------------+--------------------+---------------+\n",
        "| Iteration | Passes   | Elapsed Time | Training-max_error | Training-rmse |\n",
        "+-----------+----------+--------------+--------------------+---------------+\n",
        "| 1         | 2        | 0.074055     | 2534257.195240     | 246676.033273 |\n",
        "+-----------+----------+--------------+--------------------+---------------+\n",
        "SUCCESS: Optimal solution found.\n",
        "\n",
        "Linear regression:\n",
        "--------------------------------------------------------\n",
        "Number of examples          : 9761\n",
        "Number of features          : 13\n",
        "Number of unpacked features : 13\n",
        "Number of coefficients    : 14\n",
        "Starting Newton Method\n",
        "--------------------------------------------------------\n",
        "+-----------+----------+--------------+--------------------+---------------+\n",
        "| Iteration | Passes   | Elapsed Time | Training-max_error | Training-rmse |\n",
        "+-----------+----------+--------------+--------------------+---------------+\n",
        "| 1         | 2        | 0.081865     | 2534342.869094     | 246674.389430 |\n",
        "+-----------+----------+--------------+--------------------+---------------+\n",
        "SUCCESS: Optimal solution found.\n",
        "\n",
        "Linear regression:\n",
        "--------------------------------------------------------\n",
        "Number of examples          : 9761\n",
        "Number of features          : 14\n",
        "Number of unpacked features : 14\n",
        "Number of coefficients    : 15\n",
        "Starting Newton Method\n",
        "--------------------------------------------------------\n",
        "+-----------+----------+--------------+--------------------+---------------+\n",
        "| Iteration | Passes   | Elapsed Time | Training-max_error | Training-rmse |\n",
        "+-----------+----------+--------------+--------------------+---------------+\n",
        "| 1         | 2        | 0.052506     | 2534786.244127     | 246672.360649 |\n",
        "+-----------+----------+--------------+--------------------+---------------+\n",
        "SUCCESS: Optimal solution found.\n",
        "\n",
        "Linear regression:\n",
        "--------------------------------------------------------\n",
        "Number of examples          : 9761\n",
        "Number of features          : 15\n",
        "Number of unpacked features : 15\n",
        "Number of coefficients    : 16\n",
        "Starting Newton Method\n",
        "--------------------------------------------------------\n",
        "+-----------+----------+--------------+--------------------+---------------+\n",
        "| Iteration | Passes   | Elapsed Time | Training-max_error | Training-rmse |\n",
        "+-----------+----------+--------------+--------------------+---------------+\n",
        "| 1         | 2        | 0.052797     | 2535496.382161     | 246670.782977 |\n",
        "+-----------+----------+--------------+--------------------+---------------+\n",
        "SUCCESS: Optimal solution found.\n",
        "\n",
        "7"
       ]
      },
      {
       "output_type": "stream",
       "stream": "stdout",
       "text": [
        "  min value is  1.24458964534e+14\n"
       ]
      }
     ],
     "prompt_number": 68
    },
    {
     "cell_type": "markdown",
     "metadata": {},
     "source": [
      "**Quiz Question: what is the RSS on TEST data for the model with the degree selected from Validation data?**"
     ]
    },
    {
     "cell_type": "code",
     "collapsed": true,
     "input": [
      "arr2[5]"
     ],
     "language": "python",
     "metadata": {},
     "outputs": [
      {
       "metadata": {},
       "output_type": "pyout",
       "prompt_number": 72,
       "text": [
        "125529337847968.67"
       ]
      }
     ],
     "prompt_number": 72
    }
   ],
   "metadata": {}
  }
 ]
}