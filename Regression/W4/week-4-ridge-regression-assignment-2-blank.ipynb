{
 "metadata": {
  "kernelspec": {
   "display_name": "Python 2",
   "language": "python",
   "name": "python2"
  },
  "language_info": {
   "codemirror_mode": {
    "name": "ipython",
    "version": 2
   },
   "file_extension": ".py",
   "mimetype": "text/x-python",
   "name": "python",
   "nbconvert_exporter": "python",
   "pygments_lexer": "ipython2",
   "version": "2.7.11"
  },
  "name": "",
  "signature": "sha256:784deedcd9afd674bfe66ade98cec37eb9670444aba8ae693217a1c4fec3fe84"
 },
 "nbformat": 3,
 "nbformat_minor": 0,
 "worksheets": [
  {
   "cells": [
    {
     "cell_type": "heading",
     "level": 1,
     "metadata": {},
     "source": [
      "Regression Week 4: Ridge Regression (gradient descent)"
     ]
    },
    {
     "cell_type": "markdown",
     "metadata": {},
     "source": [
      "In this notebook, you will implement ridge regression via gradient descent. You will:\n",
      "* Convert an SFrame into a Numpy array\n",
      "* Write a Numpy function to compute the derivative of the regression weights with respect to a single feature\n",
      "* Write gradient descent function to compute the regression weights given an initial weight vector, step size, tolerance, and L2 penalty"
     ]
    },
    {
     "cell_type": "heading",
     "level": 1,
     "metadata": {},
     "source": [
      "Fire up graphlab create"
     ]
    },
    {
     "cell_type": "markdown",
     "metadata": {},
     "source": [
      "Make sure you have the latest version of GraphLab Create (>= 1.7)"
     ]
    },
    {
     "cell_type": "code",
     "collapsed": false,
     "input": [
      "import graphlab"
     ],
     "language": "python",
     "metadata": {},
     "outputs": [],
     "prompt_number": 1
    },
    {
     "cell_type": "markdown",
     "metadata": {},
     "source": [
      "# Load in house sales data\n",
      "\n",
      "Dataset is from house sales in King County, the region where the city of Seattle, WA is located."
     ]
    },
    {
     "cell_type": "code",
     "collapsed": false,
     "input": [
      "sales = graphlab.SFrame('kc_house_data.gl/')"
     ],
     "language": "python",
     "metadata": {},
     "outputs": [
      {
       "output_type": "stream",
       "stream": "stderr",
       "text": [
        "[WARNING] graphlab.product_key: Unable to write current GraphLab Create license to /home/aditi/.graphlab/config. Ensure that this user account                         has write permission to /home/aditi/.graphlab/config to save the license for offline use.\n"
       ]
      },
      {
       "output_type": "stream",
       "stream": "stderr",
       "text": [
        "WARNING:graphlab.product_key:Unable to write current GraphLab Create license to /home/aditi/.graphlab/config. Ensure that this user account                         has write permission to /home/aditi/.graphlab/config to save the license for offline use.\n"
       ]
      },
      {
       "output_type": "stream",
       "stream": "stderr",
       "text": [
        "[INFO] graphlab.cython.cy_server: GraphLab Create v2.1 started. Logging: /tmp/graphlab_server_1483295475.log\n"
       ]
      },
      {
       "output_type": "stream",
       "stream": "stderr",
       "text": [
        "INFO:graphlab.cython.cy_server:GraphLab Create v2.1 started. Logging: /tmp/graphlab_server_1483295475.log\n"
       ]
      },
      {
       "output_type": "stream",
       "stream": "stdout",
       "text": [
        "This non-commercial license of GraphLab Create for academic use is assigned to aditi.raghuvanshi@iiitb.org and will expire on April 14, 2017.\n"
       ]
      }
     ],
     "prompt_number": 2
    },
    {
     "cell_type": "markdown",
     "metadata": {},
     "source": [
      "If we want to do any \"feature engineering\" like creating new features or adjusting existing ones we should do this directly using the SFrames as seen in the first notebook of Week 2. For this notebook, however, we will work with the existing features."
     ]
    },
    {
     "cell_type": "heading",
     "level": 1,
     "metadata": {},
     "source": [
      "Import useful functions from previous notebook"
     ]
    },
    {
     "cell_type": "markdown",
     "metadata": {},
     "source": [
      "As in Week 2, we convert the SFrame into a 2D Numpy array. Copy and paste `get_numpy_data()` from the second notebook of Week 2."
     ]
    },
    {
     "cell_type": "code",
     "collapsed": true,
     "input": [
      "import numpy as np # note this allows us to refer to numpy as np instead "
     ],
     "language": "python",
     "metadata": {},
     "outputs": [],
     "prompt_number": 3
    },
    {
     "cell_type": "code",
     "collapsed": true,
     "input": [
      "def get_numpy_data(data_sframe, features, output):\n",
      "    data_sframe['constant'] = 1 # this is how you add a constant column to an SFrame\n",
      "    # add the column 'constant' to the front of the features list so that we can extract it along with the others:\n",
      "    features = ['constant'] + features # this is how you combine two lists\n",
      "    # select the columns of data_SFrame given by the features list into the SFrame features_sframe (now including constant):\n",
      "    features_sframe=data_sframe[features]\n",
      "    # the following line will convert the features_SFrame into a numpy matrix:\n",
      "    feature_matrix = features_sframe.to_numpy()\n",
      "    # assign the column of data_sframe associated with the output to the SArray output_sarray\n",
      "    output_sarray=data_sframe[output]\n",
      "    # the following will convert the SArray into a numpy array by first converting it to a list\n",
      "    output_array = output_sarray.to_numpy()\n",
      "    return(feature_matrix, output_array)"
     ],
     "language": "python",
     "metadata": {},
     "outputs": [],
     "prompt_number": 5
    },
    {
     "cell_type": "markdown",
     "metadata": {},
     "source": [
      "Also, copy and paste the `predict_output()` function to compute the predictions for an entire matrix of features given the matrix and the weights:"
     ]
    },
    {
     "cell_type": "code",
     "collapsed": true,
     "input": [
      "def predict_output(feature_matrix, weights):\n",
      "    # assume feature_matrix is a numpy matrix containing the features as columns and weights is a corresponding numpy array\n",
      "    predictions=np.dot(feature_matrix,weights)\n",
      "    # create the predictions vector by using np.dot()\n",
      "    return(predictions)"
     ],
     "language": "python",
     "metadata": {},
     "outputs": [],
     "prompt_number": 6
    },
    {
     "cell_type": "heading",
     "level": 1,
     "metadata": {},
     "source": [
      "Computing the Derivative"
     ]
    },
    {
     "cell_type": "markdown",
     "metadata": {},
     "source": [
      "We are now going to move to computing the derivative of the regression cost function. Recall that the cost function is the sum over the data points of the squared difference between an observed output and a predicted output, plus the L2 penalty term.\n",
      "```\n",
      "Cost(w)\n",
      "= SUM[ (prediction - output)^2 ]\n",
      "+ l2_penalty*(w[0]^2 + w[1]^2 + ... + w[k]^2).\n",
      "```\n",
      "\n",
      "Since the derivative of a sum is the sum of the derivatives, we can take the derivative of the first part (the RSS) as we did in the notebook for the unregularized case in Week 2 and add the derivative of the regularization part.  As we saw, the derivative of the RSS with respect to `w[i]` can be written as: \n",
      "```\n",
      "2*SUM[ error*[feature_i] ].\n",
      "```\n",
      "The derivative of the regularization term with respect to `w[i]` is:\n",
      "```\n",
      "2*l2_penalty*w[i].\n",
      "```\n",
      "Summing both, we get\n",
      "```\n",
      "2*SUM[ error*[feature_i] ] + 2*l2_penalty*w[i].\n",
      "```\n",
      "That is, the derivative for the weight for feature i is the sum (over data points) of 2 times the product of the error and the feature itself, plus `2*l2_penalty*w[i]`. \n",
      "\n",
      "**We will not regularize the constant.**  Thus, in the case of the constant, the derivative is just twice the sum of the errors (without the `2*l2_penalty*w[0]` term).\n",
      "\n",
      "Recall that twice the sum of the product of two vectors is just twice the dot product of the two vectors. Therefore the derivative for the weight for feature_i is just two times the dot product between the values of feature_i and the current errors, plus `2*l2_penalty*w[i]`.\n",
      "\n",
      "With this in mind complete the following derivative function which computes the derivative of the weight given the value of the feature (over all data points) and the errors (over all data points).  To decide when to we are dealing with the constant (so we don't regularize it) we added the extra parameter to the call `feature_is_constant` which you should set to `True` when computing the derivative of the constant and `False` otherwise."
     ]
    },
    {
     "cell_type": "code",
     "collapsed": true,
     "input": [
      "def feature_derivative_ridge(errors, feature, weight, l2_penalty, feature_is_constant):\n",
      "    # If feature_is_constant is True, derivative is twice the dot product of errors and feature\n",
      "    if feature_is_constant:\n",
      "        derivative=2*np.dot(feature,errors)\n",
      "    else:\n",
      "    # Otherwise, derivative is twice the dot product plus 2*l2_penalty*weight\n",
      "        derivative=2*np.dot(feature,errors)+2*l2_penalty*weight\n",
      "    return derivative"
     ],
     "language": "python",
     "metadata": {},
     "outputs": [],
     "prompt_number": 7
    },
    {
     "cell_type": "markdown",
     "metadata": {},
     "source": [
      "To test your feature derivartive run the following:"
     ]
    },
    {
     "cell_type": "code",
     "collapsed": false,
     "input": [
      "(example_features, example_output) = get_numpy_data(sales, ['sqft_living'], 'price') \n",
      "my_weights = np.array([1., 10.])\n",
      "test_predictions = predict_output(example_features, my_weights) \n",
      "errors = test_predictions - example_output # prediction errors\n",
      "\n",
      "# next two lines should print the same values\n",
      "print feature_derivative_ridge(errors, example_features[:,1], my_weights[1], 1, False)\n",
      "print np.sum(errors*example_features[:,1])*2+20.\n",
      "print ''\n",
      "\n",
      "# next two lines should print the same values\n",
      "print feature_derivative_ridge(errors, example_features[:,0], my_weights[0], 1, True)\n",
      "print np.sum(errors)*2."
     ],
     "language": "python",
     "metadata": {},
     "outputs": [
      {
       "output_type": "stream",
       "stream": "stdout",
       "text": [
        "-5.65541667824e+13\n",
        "-5.65541667824e+13\n",
        "\n",
        "-22446749336.0\n",
        "-22446749336.0\n"
       ]
      }
     ],
     "prompt_number": 8
    },
    {
     "cell_type": "heading",
     "level": 1,
     "metadata": {},
     "source": [
      "Gradient Descent"
     ]
    },
    {
     "cell_type": "markdown",
     "metadata": {},
     "source": [
      "Now we will write a function that performs a gradient descent. The basic premise is simple. Given a starting point we update the current weights by moving in the negative gradient direction. Recall that the gradient is the direction of *increase* and therefore the negative gradient is the direction of *decrease* and we're trying to *minimize* a cost function. \n",
      "\n",
      "The amount by which we move in the negative gradient *direction*  is called the 'step size'. We stop when we are 'sufficiently close' to the optimum. Unlike in Week 2, this time we will set a **maximum number of iterations** and take gradient steps until we reach this maximum number. If no maximum number is supplied, the maximum should be set 100 by default. (Use default parameter values in Python.)\n",
      "\n",
      "With this in mind, complete the following gradient descent function below using your derivative function above. For each step in the gradient descent, we update the weight for each feature before computing our stopping criteria."
     ]
    },
    {
     "cell_type": "code",
     "collapsed": false,
     "input": [
      "def ridge_regression_gradient_descent(feature_matrix, output, initial_weights, step_size, l2_penalty, max_iterations=100):\n",
      "    print 'Starting gradient descent with l2_penalty = ' + str(l2_penalty)\n",
      "    \n",
      "    weights = np.array(initial_weights) # make sure it's a numpy array\n",
      "    iteration = 0 # iteration counter\n",
      "    print_frequency = 1  # for adjusting frequency of debugging output\n",
      "    while iteration<max_iterations:\n",
      "    #while not reached maximum number of iterations:\n",
      "        iteration += 1  # increment iteration counter\n",
      "        ### === code section for adjusting frequency of debugging output. ===\n",
      "        if iteration == 10:\n",
      "            print_frequency = 10\n",
      "        if iteration == 100:\n",
      "            print_frequency = 100\n",
      "        if iteration%print_frequency==0:\n",
      "            print('Iteration = ' + str(iteration))\n",
      "        ### === end code section ===\n",
      "        \n",
      "        # compute the predictions based on feature_matrix and weights using your predict_output() function\n",
      "        predictions=predict_output(feature_matrix,weights)\n",
      "\n",
      "        # compute the errors as predictions - output\n",
      "        errors=predictions - output\n",
      "\n",
      "        # from time to time, print the value of the cost function\n",
      "        if iteration%print_frequency==0:\n",
      "            print 'Cost function = ', str(np.dot(errors,errors) + l2_penalty*(np.dot(weights,weights) - weights[0]**2))\n",
      "        \n",
      "        for i in xrange(len(weights)): # loop over each weight\n",
      "            # Recall that feature_matrix[:,i] is the feature column associated with weights[i]\n",
      "            # compute the derivative for weight[i].\n",
      "            if(i==0):\n",
      "                feature_is_constant=True\n",
      "            else:    \n",
      "                feature_is_constant=False\n",
      "            derivative=feature_derivative_ridge(errors, feature_matrix[:,i], weights[i], l2_penalty, feature_is_constant)    \n",
      "            #(Remember: when i=0, you are computing the derivative of the constant!)\n",
      "            # subtract the step size times the derivative from the current weight\n",
      "            weights[i]-=derivative*step_size\n",
      "    print 'Done with gradient descent at iteration ', iteration\n",
      "    print 'Learned weights = ', str(weights)\n",
      "    return weights"
     ],
     "language": "python",
     "metadata": {},
     "outputs": [],
     "prompt_number": 10
    },
    {
     "cell_type": "heading",
     "level": 1,
     "metadata": {},
     "source": [
      "Visualizing effect of L2 penalty"
     ]
    },
    {
     "cell_type": "markdown",
     "metadata": {},
     "source": [
      "The L2 penalty gets its name because it causes weights to have small L2 norms than otherwise. Let's see how large weights get penalized. Let us consider a simple model with 1 feature:"
     ]
    },
    {
     "cell_type": "code",
     "collapsed": true,
     "input": [
      "simple_features = ['sqft_living']\n",
      "my_output = 'price'"
     ],
     "language": "python",
     "metadata": {},
     "outputs": [],
     "prompt_number": 11
    },
    {
     "cell_type": "markdown",
     "metadata": {},
     "source": [
      "Let us split the dataset into training set and test set. Make sure to use `seed=0`:"
     ]
    },
    {
     "cell_type": "code",
     "collapsed": true,
     "input": [
      "train_data,test_data = sales.random_split(.8,seed=0)"
     ],
     "language": "python",
     "metadata": {},
     "outputs": [],
     "prompt_number": 12
    },
    {
     "cell_type": "markdown",
     "metadata": {},
     "source": [
      "In this part, we will only use `'sqft_living'` to predict `'price'`. Use the `get_numpy_data` function to get a Numpy versions of your data with only this feature, for both the `train_data` and the `test_data`. "
     ]
    },
    {
     "cell_type": "code",
     "collapsed": true,
     "input": [
      "(simple_feature_matrix, output) = get_numpy_data(train_data, simple_features, my_output)\n",
      "(simple_test_feature_matrix, test_output) = get_numpy_data(test_data, simple_features, my_output)"
     ],
     "language": "python",
     "metadata": {},
     "outputs": [],
     "prompt_number": 13
    },
    {
     "cell_type": "markdown",
     "metadata": {},
     "source": [
      "Let's set the parameters for our optimization:"
     ]
    },
    {
     "cell_type": "code",
     "collapsed": true,
     "input": [
      "initial_weights = np.array([0., 0.])\n",
      "step_size = 1e-12\n",
      "max_iterations=1000"
     ],
     "language": "python",
     "metadata": {},
     "outputs": [],
     "prompt_number": 14
    },
    {
     "cell_type": "markdown",
     "metadata": {},
     "source": [
      "First, let's consider no regularization.  Set the `l2_penalty` to `0.0` and run your ridge regression algorithm to learn the weights of your model.  Call your weights:\n",
      "\n",
      "`simple_weights_0_penalty`\n",
      "\n",
      "we'll use them later."
     ]
    },
    {
     "cell_type": "code",
     "collapsed": true,
     "input": [
      "l2_penalty=0.0\n",
      "simple_weights_0_penalty=ridge_regression_gradient_descent(simple_feature_matrix, output, \n",
      "                                                           initial_weights, step_size, l2_penalty, max_iterations=100)"
     ],
     "language": "python",
     "metadata": {},
     "outputs": [
      {
       "output_type": "stream",
       "stream": "stdout",
       "text": [
        "Starting gradient descent with l2_penalty = 0.0\n",
        "Iteration = 1\n",
        "Cost function =  7.43305185103e+15\n",
        "Iteration = 2\n",
        "Cost function =  5.39426721314e+15\n",
        "Iteration = 3\n",
        "Cost function =  4.0232377365e+15\n",
        "Iteration = 4\n",
        "Cost function =  3.10125618392e+15\n",
        "Iteration = 5\n",
        "Cost function =  2.48124764451e+15\n",
        "Iteration = 6\n",
        "Cost function =  2.06430807789e+15\n",
        "Iteration = 7\n",
        "Cost function =  1.78392709737e+15\n",
        "Iteration = 8\n",
        "Cost function =  1.59537820315e+15\n",
        "Iteration = 9\n",
        "Cost function =  1.46858399105e+15\n",
        "Iteration = 10\n",
        "Cost function =  1.38331819148e+15\n",
        "Iteration = 20\n",
        "Cost function =  1.2115621405e+15\n",
        "Iteration = 30\n",
        "Cost function =  1.20831376268e+15\n",
        "Iteration = 40\n",
        "Cost function =  1.20825232625e+15\n",
        "Iteration = 50\n",
        "Cost function =  1.20825116361e+15\n",
        "Iteration = 60\n",
        "Cost function =  1.20825114092e+15\n",
        "Iteration = 70\n",
        "Cost function =  1.20825113978e+15\n",
        "Iteration = 80\n",
        "Cost function =  1.20825113905e+15\n",
        "Iteration = 90\n",
        "Cost function =  1.20825113832e+15\n",
        "Iteration = 100\n",
        "Cost function =  1.2082511376e+15\n",
        "Done with gradient descent at iteration  100\n",
        "Learned weights =  [  7.88199720e-02   2.63024271e+02]\n"
       ]
      }
     ],
     "prompt_number": 15
    },
    {
     "cell_type": "markdown",
     "metadata": {},
     "source": [
      "Next, let's consider high regularization.  Set the `l2_penalty` to `1e11` and run your ridge regression algorithm to learn the weights of your model.  Call your weights:\n",
      "\n",
      "`simple_weights_high_penalty`\n",
      "\n",
      "we'll use them later."
     ]
    },
    {
     "cell_type": "code",
     "collapsed": true,
     "input": [
      "l2_penalty=1e11\n",
      "simple_weights_high_penalty=ridge_regression_gradient_descent(simple_feature_matrix, output, \n",
      "                                                           initial_weights, step_size, l2_penalty, max_iterations=100)"
     ],
     "language": "python",
     "metadata": {},
     "outputs": [
      {
       "output_type": "stream",
       "stream": "stdout",
       "text": [
        "Starting gradient descent with l2_penalty = 1e+11\n",
        "Iteration = 1\n",
        "Cost function =  7.43305185103e+15\n",
        "Iteration = 2\n",
        "Cost function =  5.61830389841e+15\n",
        "Iteration = 3\n",
        "Cost function =  4.92061327812e+15\n",
        "Iteration = 4\n",
        "Cost function =  4.65238194261e+15\n",
        "Iteration = 5\n",
        "Cost function =  4.54925876401e+15\n",
        "Iteration = 6\n",
        "Cost function =  4.50961239088e+15\n",
        "Iteration = 7\n",
        "Cost function =  4.49437005028e+15\n",
        "Iteration = 8\n",
        "Cost function =  4.48850998403e+15\n",
        "Iteration = 9\n",
        "Cost function =  4.48625698853e+15\n",
        "Iteration = 10\n",
        "Cost function =  4.48539075267e+15\n",
        "Iteration = 20\n",
        "Cost function =  4.48484886803e+15\n",
        "Iteration = 30\n",
        "Cost function =  4.48484788048e+15\n",
        "Iteration = 40\n",
        "Cost function =  4.48484693108e+15\n",
        "Iteration = 50\n",
        "Cost function =  4.48484598169e+15\n",
        "Iteration = 60\n",
        "Cost function =  4.48484503229e+15\n",
        "Iteration = 70\n",
        "Cost function =  4.4848440829e+15\n",
        "Iteration = 80\n",
        "Cost function =  4.48484313351e+15\n",
        "Iteration = 90\n",
        "Cost function =  4.48484218411e+15\n",
        "Iteration = 100\n",
        "Cost function =  4.48484123472e+15\n",
        "Done with gradient descent at iteration  100\n",
        "Learned weights =  [   0.99807924  124.57384473]\n"
       ]
      }
     ],
     "prompt_number": 16
    },
    {
     "cell_type": "markdown",
     "metadata": {},
     "source": [
      "This code will plot the two learned models.  (The blue line is for the model with no regularization and the red line is for the one with high regularization.)"
     ]
    },
    {
     "cell_type": "code",
     "collapsed": true,
     "input": [
      "import matplotlib.pyplot as plt\n",
      "%matplotlib inline\n",
      "plt.plot(simple_feature_matrix,output,'k.',\n",
      "         simple_feature_matrix,predict_output(simple_feature_matrix, simple_weights_0_penalty),'b-',\n",
      "        simple_feature_matrix,predict_output(simple_feature_matrix, simple_weights_high_penalty),'r-')"
     ],
     "language": "python",
     "metadata": {},
     "outputs": [
      {
       "metadata": {},
       "output_type": "pyout",
       "prompt_number": 17,
       "text": [
        "[<matplotlib.lines.Line2D at 0x7f5e5a5e6790>,\n",
        " <matplotlib.lines.Line2D at 0x7f5e5a5e6890>,\n",
        " <matplotlib.lines.Line2D at 0x7f5e5a5e6a90>,\n",
        " <matplotlib.lines.Line2D at 0x7f5e5a5f7690>,\n",
        " <matplotlib.lines.Line2D at 0x7f5e5a5f77d0>,\n",
        " <matplotlib.lines.Line2D at 0x7f5e5a584350>]"
       ]
      },
      {
       "metadata": {},
       "output_type": "display_data",
       "png": "[encoded data removed]",
       "text": [
        "<matplotlib.figure.Figure at 0x7f5e9fcbddd0>"
       ]
      }
     ],
     "prompt_number": 17
    },
    {
     "cell_type": "markdown",
     "metadata": {},
     "source": [
      "Compute the RSS on the TEST data for the following three sets of weights:\n",
      "1. The initial weights (all zeros)\n",
      "2. The weights learned with no regularization\n",
      "3. The weights learned with high regularization\n",
      "\n",
      "Which weights perform best?"
     ]
    },
    {
     "cell_type": "code",
     "collapsed": true,
     "input": [
      "prediction_init_reg=predict_output(simple_test_feature_matrix,initial_weights)\n",
      "rss_init_reg=sum((prediction_init_reg-test_output)**2)\n",
      "print rss_init_reg"
     ],
     "language": "python",
     "metadata": {},
     "outputs": [
      {
       "output_type": "stream",
       "stream": "stdout",
       "text": [
        "1.78427328252e+15\n"
       ]
      }
     ],
     "prompt_number": 18
    },
    {
     "cell_type": "code",
     "collapsed": false,
     "input": [
      "prediction_0_reg=predict_output(simple_test_feature_matrix,simple_weights_0_penalty)\n",
      "rss_0_reg=sum((prediction_0_reg-test_output)**2)\n",
      "print rss_0_reg"
     ],
     "language": "python",
     "metadata": {},
     "outputs": [
      {
       "output_type": "stream",
       "stream": "stdout",
       "text": [
        "2.75723643935e+14\n"
       ]
      }
     ],
     "prompt_number": 19
    },
    {
     "cell_type": "code",
     "collapsed": true,
     "input": [
      "prediction_high_reg=predict_output(simple_test_feature_matrix,simple_weights_high_penalty)\n",
      "rss_high_reg=sum((prediction_high_reg-test_output)**2)\n",
      "print rss_high_reg"
     ],
     "language": "python",
     "metadata": {},
     "outputs": [
      {
       "output_type": "stream",
       "stream": "stdout",
       "text": [
        "6.94653089852e+14\n"
       ]
      }
     ],
     "prompt_number": 20
    },
    {
     "cell_type": "markdown",
     "metadata": {
      "collapsed": false
     },
     "source": [
      "***QUIZ QUESTIONS***\n",
      "1. What is the value of the coefficient for `sqft_living` that you learned with no regularization, rounded to 1 decimal place?  What about the one with high regularization?\n",
      "2. Comparing the lines you fit with the with no regularization versus high regularization, which one is steeper?\n",
      "3. What are the RSS on the test data for each of the set of weights above (initial, no regularization, high regularization)? \n"
     ]
    },
    {
     "cell_type": "heading",
     "level": 1,
     "metadata": {},
     "source": [
      "Running a multiple regression with L2 penalty"
     ]
    },
    {
     "cell_type": "markdown",
     "metadata": {},
     "source": [
      "Let us now consider a model with 2 features: `['sqft_living', 'sqft_living15']`."
     ]
    },
    {
     "cell_type": "markdown",
     "metadata": {},
     "source": [
      "First, create Numpy versions of your training and test data with these two features. "
     ]
    },
    {
     "cell_type": "code",
     "collapsed": false,
     "input": [
      "train_data['sqft_living15']"
     ],
     "language": "python",
     "metadata": {},
     "outputs": [
      {
       "metadata": {},
       "output_type": "pyout",
       "prompt_number": 22,
       "text": [
        "dtype: float\n",
        "Rows: 17384\n",
        "[1340.0, 1690.0, 2720.0, 1360.0, 1800.0, 4760.0, 2238.0, 1650.0, 1780.0, 2390.0, 2210.0, 1330.0, 1370.0, 1360.0, 1890.0, 1610.0, 1060.0, 1280.0, 1400.0, 4110.0, 2240.0, 1220.0, 2200.0, 1760.0, 1860.0, 1520.0, 2630.0, 1390.0, 1460.0, 2020.0, 1590.0, 2160.0, 1730.0, 1290.0, 2470.0, 3625.0, 1580.0, 1340.0, 3050.0, 1228.0, 2680.0, 970.0, 2680.0, 1190.0, 1990.0, 1410.0, 1480.0, 2730.0, 1950.0, 2690.0, 2960.0, 2270.0, 2570.0, 2500.0, 1580.0, 1440.0, 1440.0, 2750.0, 2221.0, 1010.0, 3390.0, 3530.0, 1640.0, 2420.0, 3240.0, 1680.0, 890.0, 1130.0, 3350.0, 2350.0, 1720.0, 1850.0, 1570.0, 2020.0, 1590.0, 1900.0, 1950.0, 1030.0, 2520.0, 1350.0, 1570.0, 1570.0, 1950.0, 1160.0, 1650.0, 2550.0, 2200.0, 1610.0, 2570.0, 2370.0, 1640.0, 2250.0, 1240.0, 1270.0, 2990.0, 1940.0, 1380.0, 1540.0, 2090.0, 1830.0, ... ]"
       ]
      }
     ],
     "prompt_number": 22
    },
    {
     "cell_type": "code",
     "collapsed": true,
     "input": [
      "model_features = ['sqft_living', 'sqft_living15'] # sqft_living15 is the average squarefeet for the nearest 15 neighbors. \n",
      "my_output = 'price'\n",
      "(feature_matrix, output) = get_numpy_data(train_data, model_features, my_output)\n",
      "(test_feature_matrix, test_output) = get_numpy_data(test_data, model_features, my_output)"
     ],
     "language": "python",
     "metadata": {},
     "outputs": [],
     "prompt_number": 21
    },
    {
     "cell_type": "markdown",
     "metadata": {},
     "source": [
      "We need to re-inialize the weights, since we have one extra parameter. Let us also set the step size and maximum number of iterations."
     ]
    },
    {
     "cell_type": "code",
     "collapsed": true,
     "input": [
      "initial_weights = np.array([0.0,0.0,0.0])\n",
      "step_size = 1e-12\n",
      "max_iterations = 1000"
     ],
     "language": "python",
     "metadata": {},
     "outputs": [],
     "prompt_number": 23
    },
    {
     "cell_type": "markdown",
     "metadata": {},
     "source": [
      "First, let's consider no regularization.  Set the `l2_penalty` to `0.0` and run your ridge regression algorithm to learn the weights of your model.  Call your weights:\n",
      "\n",
      "`multiple_weights_0_penalty`"
     ]
    },
    {
     "cell_type": "code",
     "collapsed": true,
     "input": [
      "l2_penalty=0.0\n",
      "multiple_weights_0_penalty=ridge_regression_gradient_descent(feature_matrix, output, \n",
      "                                                           initial_weights, step_size, l2_penalty, max_iterations)"
     ],
     "language": "python",
     "metadata": {},
     "outputs": [
      {
       "output_type": "stream",
       "stream": "stdout",
       "text": [
        "Starting gradient descent with l2_penalty = 0.0\n",
        "Iteration = 1\n",
        "Cost function =  7.43305185103e+15\n",
        "Iteration = 2\n",
        "Cost function =  4.0567523315e+15\n",
        "Iteration = 3\n",
        "Cost function =  2.52956511433e+15\n",
        "Iteration = 4\n",
        "Cost function =  1.83855669428e+15\n",
        "Iteration = 5\n",
        "Cost function =  1.52567557521e+15\n",
        "Iteration = 6\n",
        "Cost function =  1.38378949867e+15\n",
        "Iteration = 7\n",
        "Cost function =  1.31923260628e+15\n",
        "Iteration = 8\n",
        "Cost function =  1.28964887203e+15\n",
        "Iteration = 9\n",
        "Cost function =  1.27588472408e+15\n",
        "Iteration = 10\n",
        "Cost function =  1.26927880758e+15\n",
        "Iteration = 20\n",
        "Cost function =  1.25781238632e+15\n",
        "Iteration = 30\n",
        "Cost function =  1.25195457127e+15\n",
        "Iteration = 40\n",
        "Cost function =  1.24675542316e+15\n",
        "Iteration = 50\n",
        "Cost function =  1.24213950875e+15\n",
        "Iteration = 60\n",
        "Cost function =  1.23804140114e+15\n",
        "Iteration = 70\n",
        "Cost function =  1.23440301346e+15\n",
        "Iteration = 80\n",
        "Cost function =  1.23117277498e+15\n",
        "Iteration = 90\n",
        "Cost function =  1.22830490006e+15\n",
        "Iteration = 100\n",
        "Cost function =  1.22575873926e+15\n",
        "Iteration = 200"
       ]
      },
      {
       "output_type": "stream",
       "stream": "stdout",
       "text": [
        "\n",
        "Cost function =  1.21173888142e+15\n",
        "Iteration = 300\n",
        "Cost function =  1.20747308096e+15\n",
        "Iteration = 400\n",
        "Cost function =  1.20617512577e+15\n",
        "Iteration = 500"
       ]
      },
      {
       "output_type": "stream",
       "stream": "stdout",
       "text": [
        "\n",
        "Cost function =  1.20578019023e+15\n",
        "Iteration = 600\n",
        "Cost function =  1.20566001447e+15\n",
        "Iteration = 700"
       ]
      },
      {
       "output_type": "stream",
       "stream": "stdout",
       "text": [
        "\n",
        "Cost function =  1.20562343925e+15\n",
        "Iteration = 800\n",
        "Cost function =  1.20561230098e+15\n",
        "Iteration = 900\n",
        "Cost function =  1.20560890236e+15\n",
        "Iteration = 1000"
       ]
      },
      {
       "output_type": "stream",
       "stream": "stdout",
       "text": [
        "\n",
        "Cost function =  1.20560785866e+15\n",
        "Done with gradient descent at iteration  1000\n",
        "Learned weights =  [  -0.35743482  243.0541689    22.41481594]\n"
       ]
      }
     ],
     "prompt_number": 24
    },
    {
     "cell_type": "markdown",
     "metadata": {},
     "source": [
      "Next, let's consider high regularization.  Set the `l2_penalty` to `1e11` and run your ridge regression algorithm to learn the weights of your model.  Call your weights:\n",
      "\n",
      "`multiple_weights_high_penalty`"
     ]
    },
    {
     "cell_type": "code",
     "collapsed": true,
     "input": [
      "l2_penalty=1e11\n",
      "multiple_weights_high_penalty=ridge_regression_gradient_descent(feature_matrix, output, \n",
      "                                                           initial_weights, step_size, l2_penalty, max_iterations)"
     ],
     "language": "python",
     "metadata": {},
     "outputs": [
      {
       "output_type": "stream",
       "stream": "stdout",
       "text": [
        "Starting gradient descent with l2_penalty = 1e+11\n",
        "Iteration = 1\n",
        "Cost function =  7.43305185103e+15\n",
        "Iteration = 2\n",
        "Cost function =  4.46048979029e+15\n",
        "Iteration = 3\n",
        "Cost function =  3.79667446884e+15\n",
        "Iteration = 4\n",
        "Cost function =  3.64831953044e+15\n",
        "Iteration = 5\n",
        "Cost function =  3.61509110322e+15\n",
        "Iteration = 6\n",
        "Cost function =  3.60760274251e+15\n",
        "Iteration = 7\n",
        "Cost function =  3.60588632216e+15\n",
        "Iteration = 8\n",
        "Cost function =  3.60547487453e+15\n",
        "Iteration = 9\n",
        "Cost function =  3.60536516777e+15\n",
        "Iteration = 10\n",
        "Cost function =  3.60532940218e+15\n",
        "Iteration = 20\n",
        "Cost function =  3.60529428102e+15\n",
        "Iteration = 30\n",
        "Cost function =  3.60529353727e+15\n",
        "Iteration = 40\n",
        "Cost function =  3.60529308275e+15\n",
        "Iteration = 50\n",
        "Cost function =  3.60529263111e+15\n",
        "Iteration = 60\n",
        "Cost function =  3.60529217949e+15\n",
        "Iteration = 70\n",
        "Cost function =  3.60529172788e+15\n",
        "Iteration = 80\n",
        "Cost function =  3.60529127626e+15\n",
        "Iteration = 90\n",
        "Cost function =  3.60529082465e+15\n",
        "Iteration = 100\n",
        "Cost function =  3.60529037303e+15\n",
        "Iteration = 200"
       ]
      },
      {
       "output_type": "stream",
       "stream": "stdout",
       "text": [
        "\n",
        "Cost function =  3.6052858569e+15\n",
        "Iteration = 300\n",
        "Cost function =  3.60528134078e+15\n",
        "Iteration = 400\n",
        "Cost function =  3.60527682468e+15\n",
        "Iteration = 500"
       ]
      },
      {
       "output_type": "stream",
       "stream": "stdout",
       "text": [
        "\n",
        "Cost function =  3.60527230859e+15\n",
        "Iteration = 600\n",
        "Cost function =  3.60526779252e+15\n",
        "Iteration = 700"
       ]
      },
      {
       "output_type": "stream",
       "stream": "stdout",
       "text": [
        "\n",
        "Cost function =  3.60526327646e+15\n",
        "Iteration = 800\n",
        "Cost function =  3.60525876041e+15\n",
        "Iteration = 900"
       ]
      },
      {
       "output_type": "stream",
       "stream": "stdout",
       "text": [
        "\n",
        "Cost function =  3.60525424438e+15\n",
        "Iteration = 1000\n",
        "Cost function =  3.60524972836e+15\n",
        "Done with gradient descent at iteration  1000\n",
        "Learned weights =  [  6.7429658   91.48927361  78.43658768]\n"
       ]
      }
     ],
     "prompt_number": 25
    },
    {
     "cell_type": "markdown",
     "metadata": {},
     "source": [
      "Compute the RSS on the TEST data for the following three sets of weights:\n",
      "1. The initial weights (all zeros)\n",
      "2. The weights learned with no regularization\n",
      "3. The weights learned with high regularization\n",
      "\n",
      "Which weights perform best?"
     ]
    },
    {
     "cell_type": "code",
     "collapsed": true,
     "input": [
      "prediction_sq15_init=predict_output(test_feature_matrix,initial_weights)\n",
      "rss_sq15_init=sum((prediction_sq15_init-test_output)**2)\n",
      "print rss_sq15_init\n"
     ],
     "language": "python",
     "metadata": {},
     "outputs": [
      {
       "output_type": "stream",
       "stream": "stdout",
       "text": [
        "1.78427328252e+15\n"
       ]
      }
     ],
     "prompt_number": 27
    },
    {
     "cell_type": "code",
     "collapsed": true,
     "input": [
      "prediction_sq15_0=predict_output(test_feature_matrix,multiple_weights_0_penalty)\n",
      "rss_sq15_0=sum((prediction_sq15_0-test_output)**2)\n",
      "print rss_sq15_0"
     ],
     "language": "python",
     "metadata": {},
     "outputs": [
      {
       "output_type": "stream",
       "stream": "stdout",
       "text": [
        "2.74067618287e+14\n"
       ]
      }
     ],
     "prompt_number": 30
    },
    {
     "cell_type": "code",
     "collapsed": true,
     "input": [
      "prediction_sq15_high=predict_output(test_feature_matrix,multiple_weights_high_penalty)\n",
      "rss_sq15_high=sum((prediction_sq15_high-test_output)**2)\n",
      "print rss_sq15_high"
     ],
     "language": "python",
     "metadata": {},
     "outputs": [
      {
       "output_type": "stream",
       "stream": "stdout",
       "text": [
        "5.0040480058e+14\n"
       ]
      }
     ],
     "prompt_number": 31
    },
    {
     "cell_type": "markdown",
     "metadata": {},
     "source": [
      "Predict the house price for the 1st house in the test set using the no regularization and high regularization models. (Remember that python starts indexing from 0.) How far is the prediction from the actual price?  Which weights perform best for the 1st house?"
     ]
    },
    {
     "cell_type": "code",
     "collapsed": true,
     "input": [
      "import math\n",
      "prediction_mulitple_1=predict_output(test_feature_matrix[0],multiple_weights_0_penalty)\n",
      "err_1=math.fabs(prediction_mulitple_1-test_output[0])\n",
      "print err_1"
     ],
     "language": "python",
     "metadata": {},
     "outputs": [
      {
       "output_type": "stream",
       "stream": "stdout",
       "text": [
        "77465.4764647\n"
       ]
      }
     ],
     "prompt_number": 35
    },
    {
     "cell_type": "code",
     "collapsed": false,
     "input": [
      "prediction_mulitple_1_high=predict_output(test_feature_matrix[0],multiple_weights_high_penalty)\n",
      "err_1_high=math.fabs(prediction_mulitple_1_high-test_output[0])\n",
      "print err_1_high"
     ],
     "language": "python",
     "metadata": {},
     "outputs": [
      {
       "output_type": "stream",
       "stream": "stdout",
       "text": [
        "39546.4696951\n"
       ]
      }
     ],
     "prompt_number": 36
    },
    {
     "cell_type": "markdown",
     "metadata": {
      "collapsed": true
     },
     "source": [
      "***QUIZ QUESTIONS***\n",
      "1. What is the value of the coefficient for `sqft_living` that you learned with no regularization, rounded to 1 decimal place?  What about the one with high regularization?\n",
      "2. What are the RSS on the test data for each of the set of weights above (initial, no regularization, high regularization)? \n",
      "3. We make prediction for the first house in the test set using two sets of weights (no regularization vs high regularization). Which weights make better prediction <u>for that particular house</u>?"
     ]
    },
    {
     "cell_type": "code",
     "collapsed": true,
     "input": [],
     "language": "python",
     "metadata": {},
     "outputs": [],
     "prompt_number": null
    }
   ],
   "metadata": {}
  }
 ]
}