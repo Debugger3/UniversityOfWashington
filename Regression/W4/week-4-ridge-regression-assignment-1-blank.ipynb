{
 "metadata": {
  "kernelspec": {
   "display_name": "Python 2",
   "language": "python",
   "name": "python2"
  },
  "language_info": {
   "codemirror_mode": {
    "name": "ipython",
    "version": 2
   },
   "file_extension": ".py",
   "mimetype": "text/x-python",
   "name": "python",
   "nbconvert_exporter": "python",
   "pygments_lexer": "ipython2",
   "version": "2.7.11"
  },
  "name": "",
  "signature": "sha256:3afd54554932d750d1561b3f244c0a70bcee336c818a501d7177e0c2d3e698b6"
 },
 "nbformat": 3,
 "nbformat_minor": 0,
 "worksheets": [
  {
   "cells": [
    {
     "cell_type": "heading",
     "level": 1,
     "metadata": {},
     "source": [
      "Regression Week 4: Ridge Regression (interpretation)"
     ]
    },
    {
     "cell_type": "markdown",
     "metadata": {},
     "source": [
      "In this notebook, we will run ridge regression multiple times with different L2 penalties to see which one produces the best fit. We will revisit the example of polynomial regression as a means to see the effect of L2 regularization. In particular, we will:\n",
      "* Use a pre-built implementation of regression (GraphLab Create) to run polynomial regression\n",
      "* Use matplotlib to visualize polynomial regressions\n",
      "* Use a pre-built implementation of regression (GraphLab Create) to run polynomial regression, this time with L2 penalty\n",
      "* Use matplotlib to visualize polynomial regressions under L2 regularization\n",
      "* Choose best L2 penalty using cross-validation.\n",
      "* Assess the final fit using test data.\n",
      "\n",
      "We will continue to use the House data from previous notebooks.  (In the next programming assignment for this module, you will implement your own ridge regression learning algorithm using gradient descent.)"
     ]
    },
    {
     "cell_type": "heading",
     "level": 1,
     "metadata": {},
     "source": [
      "Fire up graphlab create"
     ]
    },
    {
     "cell_type": "code",
     "collapsed": false,
     "input": [
      "import graphlab"
     ],
     "language": "python",
     "metadata": {},
     "outputs": [],
     "prompt_number": 1
    },
    {
     "cell_type": "heading",
     "level": 1,
     "metadata": {},
     "source": [
      "Polynomial regression, revisited"
     ]
    },
    {
     "cell_type": "markdown",
     "metadata": {},
     "source": [
      "We build on the material from Week 3, where we wrote the function to produce an SFrame with columns containing the powers of a given input. Copy and paste the function `polynomial_sframe` from Week 3:"
     ]
    },
    {
     "cell_type": "code",
     "collapsed": true,
     "input": [
      "def polynomial_sframe(feature, degree):\n",
      "    poly_sframe = graphlab.SFrame()\n",
      "    poly_sframe['power_1']=feature\n",
      "    if degree > 1:\n",
      "        for power in range(2, degree+1): \n",
      "            name = 'power_' + str(power)\n",
      "            poly_sframe[name]=poly_sframe['power_1'].apply(lambda x: x**power)\n",
      "    return poly_sframe"
     ],
     "language": "python",
     "metadata": {},
     "outputs": [],
     "prompt_number": 2
    },
    {
     "cell_type": "markdown",
     "metadata": {},
     "source": [
      "Let's use matplotlib to visualize what a polynomial regression looks like on the house data."
     ]
    },
    {
     "cell_type": "code",
     "collapsed": false,
     "input": [
      "import matplotlib.pyplot as plt\n",
      "%matplotlib inline"
     ],
     "language": "python",
     "metadata": {},
     "outputs": [
      {
       "output_type": "stream",
       "stream": "stderr",
       "text": [
        "[WARNING] graphlab.product_key: Unable to write current GraphLab Create license to /home/aditi/.graphlab/config. Ensure that this user account                         has write permission to /home/aditi/.graphlab/config to save the license for offline use.\n"
       ]
      },
      {
       "output_type": "stream",
       "stream": "stderr",
       "text": [
        "WARNING:graphlab.product_key:Unable to write current GraphLab Create license to /home/aditi/.graphlab/config. Ensure that this user account                         has write permission to /home/aditi/.graphlab/config to save the license for offline use.\n"
       ]
      },
      {
       "output_type": "stream",
       "stream": "stderr",
       "text": [
        "[INFO] graphlab.cython.cy_server: GraphLab Create v2.1 started. Logging: /tmp/graphlab_server_1483076210.log\n"
       ]
      },
      {
       "output_type": "stream",
       "stream": "stderr",
       "text": [
        "INFO:graphlab.cython.cy_server:GraphLab Create v2.1 started. Logging: /tmp/graphlab_server_1483076210.log\n"
       ]
      },
      {
       "output_type": "stream",
       "stream": "stdout",
       "text": [
        "This non-commercial license of GraphLab Create for academic use is assigned to aditi.raghuvanshi@iiitb.org and will expire on April 14, 2017.\n"
       ]
      }
     ],
     "prompt_number": 3
    },
    {
     "cell_type": "code",
     "collapsed": false,
     "input": [
      "sales = graphlab.SFrame('kc_house_data.gl/')"
     ],
     "language": "python",
     "metadata": {},
     "outputs": [],
     "prompt_number": 4
    },
    {
     "cell_type": "markdown",
     "metadata": {},
     "source": [
      "As in Week 3, we will use the sqft_living variable. For plotting purposes (connecting the dots), you'll need to sort by the values of sqft_living. For houses with identical square footage, we break the tie by their prices."
     ]
    },
    {
     "cell_type": "code",
     "collapsed": false,
     "input": [
      "sales = sales.sort(['sqft_living','price'])"
     ],
     "language": "python",
     "metadata": {},
     "outputs": [],
     "prompt_number": 5
    },
    {
     "cell_type": "markdown",
     "metadata": {},
     "source": [
      "Let us revisit the 15th-order polynomial model using the 'sqft_living' input. Generate polynomial features up to degree 15 using `polynomial_sframe()` and fit a model with these features. When fitting the model, use an L2 penalty of `1e-5`:"
     ]
    },
    {
     "cell_type": "code",
     "collapsed": false,
     "input": [
      "l2_small_penalty = 1e-5\n",
      "poly_sales=polynomial_sframe(sales['sqft_living'],15)\n",
      "my_features15 = poly_sales.column_names()\n",
      "poly_sales['price']=sales['price']"
     ],
     "language": "python",
     "metadata": {},
     "outputs": [],
     "prompt_number": 6
    },
    {
     "cell_type": "code",
     "collapsed": false,
     "input": [
      "model15 = graphlab.linear_regression.create(poly_sales, target = 'price', \n",
      "                                           features =my_features15, l2_penalty=l2_small_penalty,\n",
      "                                           validation_set=None,verbose=False)"
     ],
     "language": "python",
     "metadata": {},
     "outputs": [],
     "prompt_number": 7
    },
    {
     "cell_type": "markdown",
     "metadata": {},
     "source": [
      "Note: When we have so many features and so few data points, the solution can become highly numerically unstable, which can sometimes lead to strange unpredictable results.  Thus, rather than using no regularization, we will introduce a tiny amount of regularization (`l2_penalty=1e-5`) to make the solution numerically stable.  (In lecture, we discussed the fact that regularization can also help with numerical stability, and here we are seeing a practical example.)\n",
      "\n",
      "With the L2 penalty specified above, fit the model and print out the learned weights.\n",
      "\n",
      "Hint: make sure to add 'price' column to the new SFrame before calling `graphlab.linear_regression.create()`. Also, make sure GraphLab Create doesn't create its own validation set by using the option `validation_set=None` in this call."
     ]
    },
    {
     "cell_type": "code",
     "collapsed": false,
     "input": [
      "model15.get(\"coefficients\")"
     ],
     "language": "python",
     "metadata": {},
     "outputs": [
      {
       "html": [
        "<div style=\"max-height:1000px;max-width:1500px;overflow:auto;\"><table frame=\"box\" rules=\"cols\">\n",
        "    <tr>\n",
        "        <th style=\"padding-left: 1em; padding-right: 1em; text-align: center\">name</th>\n",
        "        <th style=\"padding-left: 1em; padding-right: 1em; text-align: center\">index</th>\n",
        "        <th style=\"padding-left: 1em; padding-right: 1em; text-align: center\">value</th>\n",
        "        <th style=\"padding-left: 1em; padding-right: 1em; text-align: center\">stderr</th>\n",
        "    </tr>\n",
        "    <tr>\n",
        "        <td style=\"padding-left: 1em; padding-right: 1em; text-align: center; vertical-align: top\">(intercept)</td>\n",
        "        <td style=\"padding-left: 1em; padding-right: 1em; text-align: center; vertical-align: top\">None</td>\n",
        "        <td style=\"padding-left: 1em; padding-right: 1em; text-align: center; vertical-align: top\">167924.858154</td>\n",
        "        <td style=\"padding-left: 1em; padding-right: 1em; text-align: center; vertical-align: top\">932257.208736</td>\n",
        "    </tr>\n",
        "    <tr>\n",
        "        <td style=\"padding-left: 1em; padding-right: 1em; text-align: center; vertical-align: top\">power_1</td>\n",
        "        <td style=\"padding-left: 1em; padding-right: 1em; text-align: center; vertical-align: top\">None</td>\n",
        "        <td style=\"padding-left: 1em; padding-right: 1em; text-align: center; vertical-align: top\">103.090949754</td>\n",
        "        <td style=\"padding-left: 1em; padding-right: 1em; text-align: center; vertical-align: top\">4735.64047203</td>\n",
        "    </tr>\n",
        "    <tr>\n",
        "        <td style=\"padding-left: 1em; padding-right: 1em; text-align: center; vertical-align: top\">power_2</td>\n",
        "        <td style=\"padding-left: 1em; padding-right: 1em; text-align: center; vertical-align: top\">None</td>\n",
        "        <td style=\"padding-left: 1em; padding-right: 1em; text-align: center; vertical-align: top\">0.134604553044</td>\n",
        "        <td style=\"padding-left: 1em; padding-right: 1em; text-align: center; vertical-align: top\">9.85916611863</td>\n",
        "    </tr>\n",
        "    <tr>\n",
        "        <td style=\"padding-left: 1em; padding-right: 1em; text-align: center; vertical-align: top\">power_3</td>\n",
        "        <td style=\"padding-left: 1em; padding-right: 1em; text-align: center; vertical-align: top\">None</td>\n",
        "        <td style=\"padding-left: 1em; padding-right: 1em; text-align: center; vertical-align: top\">-0.000129071365146</td>\n",
        "        <td style=\"padding-left: 1em; padding-right: 1em; text-align: center; vertical-align: top\">0.0111681953814</td>\n",
        "    </tr>\n",
        "    <tr>\n",
        "        <td style=\"padding-left: 1em; padding-right: 1em; text-align: center; vertical-align: top\">power_4</td>\n",
        "        <td style=\"padding-left: 1em; padding-right: 1em; text-align: center; vertical-align: top\">None</td>\n",
        "        <td style=\"padding-left: 1em; padding-right: 1em; text-align: center; vertical-align: top\">5.18928960684e-08</td>\n",
        "        <td style=\"padding-left: 1em; padding-right: 1em; text-align: center; vertical-align: top\">7.69612934514e-06</td>\n",
        "    </tr>\n",
        "    <tr>\n",
        "        <td style=\"padding-left: 1em; padding-right: 1em; text-align: center; vertical-align: top\">power_5</td>\n",
        "        <td style=\"padding-left: 1em; padding-right: 1em; text-align: center; vertical-align: top\">None</td>\n",
        "        <td style=\"padding-left: 1em; padding-right: 1em; text-align: center; vertical-align: top\">-7.77169308381e-12</td>\n",
        "        <td style=\"padding-left: 1em; padding-right: 1em; text-align: center; vertical-align: top\">3.40375283346e-09</td>\n",
        "    </tr>\n",
        "    <tr>\n",
        "        <td style=\"padding-left: 1em; padding-right: 1em; text-align: center; vertical-align: top\">power_6</td>\n",
        "        <td style=\"padding-left: 1em; padding-right: 1em; text-align: center; vertical-align: top\">None</td>\n",
        "        <td style=\"padding-left: 1em; padding-right: 1em; text-align: center; vertical-align: top\">1.71144848253e-16</td>\n",
        "        <td style=\"padding-left: 1em; padding-right: 1em; text-align: center; vertical-align: top\">9.86487827549e-13</td>\n",
        "    </tr>\n",
        "    <tr>\n",
        "        <td style=\"padding-left: 1em; padding-right: 1em; text-align: center; vertical-align: top\">power_7</td>\n",
        "        <td style=\"padding-left: 1em; padding-right: 1em; text-align: center; vertical-align: top\">None</td>\n",
        "        <td style=\"padding-left: 1em; padding-right: 1em; text-align: center; vertical-align: top\">4.51177961859e-20</td>\n",
        "        <td style=\"padding-left: 1em; padding-right: 1em; text-align: center; vertical-align: top\">1.85595597809e-16</td>\n",
        "    </tr>\n",
        "    <tr>\n",
        "        <td style=\"padding-left: 1em; padding-right: 1em; text-align: center; vertical-align: top\">power_8</td>\n",
        "        <td style=\"padding-left: 1em; padding-right: 1em; text-align: center; vertical-align: top\">None</td>\n",
        "        <td style=\"padding-left: 1em; padding-right: 1em; text-align: center; vertical-align: top\">-4.78839845626e-25</td>\n",
        "        <td style=\"padding-left: 1em; padding-right: 1em; text-align: center; vertical-align: top\">2.13680017115e-20</td>\n",
        "    </tr>\n",
        "    <tr>\n",
        "        <td style=\"padding-left: 1em; padding-right: 1em; text-align: center; vertical-align: top\">power_9</td>\n",
        "        <td style=\"padding-left: 1em; padding-right: 1em; text-align: center; vertical-align: top\">None</td>\n",
        "        <td style=\"padding-left: 1em; padding-right: 1em; text-align: center; vertical-align: top\">-2.33343504241e-28</td>\n",
        "        <td style=\"padding-left: 1em; padding-right: 1em; text-align: center; vertical-align: top\">1.22638027914e-24</td>\n",
        "    </tr>\n",
        "</table>\n",
        "[16 rows x 4 columns]<br/>Note: Only the head of the SFrame is printed.<br/>You can use print_rows(num_rows=m, num_columns=n) to print more rows and columns.\n",
        "</div>"
       ],
       "metadata": {},
       "output_type": "pyout",
       "prompt_number": 8,
       "text": [
        "Columns:\n",
        "\tname\tstr\n",
        "\tindex\tstr\n",
        "\tvalue\tfloat\n",
        "\tstderr\tfloat\n",
        "\n",
        "Rows: 16\n",
        "\n",
        "Data:\n",
        "+-------------+-------+--------------------+-------------------+\n",
        "|     name    | index |       value        |       stderr      |\n",
        "+-------------+-------+--------------------+-------------------+\n",
        "| (intercept) |  None |   167924.858154    |   932257.208736   |\n",
        "|   power_1   |  None |   103.090949754    |   4735.64047203   |\n",
        "|   power_2   |  None |   0.134604553044   |   9.85916611863   |\n",
        "|   power_3   |  None | -0.000129071365146 |  0.0111681953814  |\n",
        "|   power_4   |  None | 5.18928960684e-08  | 7.69612934514e-06 |\n",
        "|   power_5   |  None | -7.77169308381e-12 | 3.40375283346e-09 |\n",
        "|   power_6   |  None | 1.71144848253e-16  | 9.86487827549e-13 |\n",
        "|   power_7   |  None | 4.51177961859e-20  | 1.85595597809e-16 |\n",
        "|   power_8   |  None | -4.78839845626e-25 | 2.13680017115e-20 |\n",
        "|   power_9   |  None | -2.33343504241e-28 | 1.22638027914e-24 |\n",
        "+-------------+-------+--------------------+-------------------+\n",
        "[16 rows x 4 columns]\n",
        "Note: Only the head of the SFrame is printed.\n",
        "You can use print_rows(num_rows=m, num_columns=n) to print more rows and columns."
       ]
      }
     ],
     "prompt_number": 8
    },
    {
     "cell_type": "markdown",
     "metadata": {},
     "source": [
      "***QUIZ QUESTION:  What's the learned value for the coefficient of feature `power_1`?***"
     ]
    },
    {
     "cell_type": "heading",
     "level": 1,
     "metadata": {},
     "source": [
      "Observe overfitting"
     ]
    },
    {
     "cell_type": "markdown",
     "metadata": {},
     "source": [
      "Recall from Week 3 that the polynomial fit of degree 15 changed wildly whenever the data changed. In particular, when we split the sales data into four subsets and fit the model of degree 15, the result came out to be very different for each subset. The model had a *high variance*. We will see in a moment that ridge regression reduces such variance. But first, we must reproduce the experiment we did in Week 3."
     ]
    },
    {
     "cell_type": "markdown",
     "metadata": {},
     "source": [
      "First, split the data into split the sales data into four subsets of roughly equal size and call them `set_1`, `set_2`, `set_3`, and `set_4`. Use `.random_split` function and make sure you set `seed=0`. "
     ]
    },
    {
     "cell_type": "code",
     "collapsed": true,
     "input": [
      "(semi_split1, semi_split2) = sales.random_split(.5,seed=0)\n",
      "(set_1, set_2) = semi_split1.random_split(0.5, seed=0)\n",
      "(set_3, set_4) = semi_split2.random_split(0.5, seed=0)\n",
      "print set_1"
     ],
     "language": "python",
     "metadata": {},
     "outputs": [
      {
       "output_type": "stream",
       "stream": "stdout",
       "text": [
        "+------------+---------------------------+----------+----------+-----------+\n",
        "|     id     |            date           |  price   | bedrooms | bathrooms |\n",
        "+------------+---------------------------+----------+----------+-----------+\n",
        "| 8658300340 | 2014-05-23 00:00:00+00:00 | 80000.0  |   1.0    |    0.75   |\n",
        "| 1352300580 | 2014-11-14 00:00:00+00:00 | 247000.0 |   1.0    |    1.0    |\n",
        "| 1320069249 | 2014-10-20 00:00:00+00:00 | 192500.0 |   1.0    |    1.0    |\n",
        "| 1437500015 | 2014-07-09 00:00:00+00:00 | 150000.0 |   3.0    |    0.75   |\n",
        "| 0859000110 | 2014-10-02 00:00:00+00:00 | 125000.0 |   1.0    |    1.0    |\n",
        "| 1623049041 | 2014-05-08 00:00:00+00:00 | 82500.0  |   2.0    |    1.0    |\n",
        "| 1773101530 | 2014-12-18 00:00:00+00:00 | 275000.0 |   1.0    |    1.0    |\n",
        "| 4391600065 | 2014-08-14 00:00:00+00:00 | 330000.0 |   2.0    |    0.75   |\n",
        "| 6003000851 | 2014-05-22 00:00:00+00:00 | 353000.0 |   1.0    |    1.0    |\n",
        "| 7325600160 | 2014-06-04 00:00:00+00:00 | 299000.0 |   1.0    |    0.75   |\n",
        "+------------+---------------------------+----------+----------+-----------+\n",
        "+-------------+----------+--------+------------+------+-----------+-------+------------+\n",
        "| sqft_living | sqft_lot | floors | waterfront | view | condition | grade | sqft_above |\n",
        "+-------------+----------+--------+------------+------+-----------+-------+------------+\n",
        "|    430.0    |   5050   |   1    |     0      |  0   |     2     |   4   |    430     |\n",
        "|    460.0    |   4120   |   1    |     0      |  0   |     3     |   4   |    460     |\n",
        "|    470.0    |  63737   |   1    |     0      |  2   |     5     |   5   |    470     |\n",
        "|    490.0    |  38500   |  1.5   |     0      |  0   |     4     |   5   |    490     |\n",
        "|    500.0    |   7440   |   1    |     0      |  0   |     1     |   5   |    500     |\n",
        "|    520.0    |  22334   |   1    |     0      |  0   |     2     |   5   |    520     |\n",
        "|    520.0    |   4800   |   1    |     0      |  0   |     3     |   5   |    520     |\n",
        "|    520.0    |   6862   |   1    |     0      |  0   |     4     |   4   |    520     |\n",
        "|    550.0    |   1279   |   2    |     0      |  0   |     3     |   7   |    550     |\n",
        "|    560.0    |  12120   |   1    |     0      |  0   |     3     |   4   |    560     |\n",
        "+-------------+----------+--------+------------+------+-----------+-------+------------+\n",
        "+---------------+----------+--------------+---------+-------------+\n",
        "| sqft_basement | yr_built | yr_renovated | zipcode |     lat     |\n",
        "+---------------+----------+--------------+---------+-------------+\n",
        "|       0       |   1912   |      0       |  98014  | 47.64994341 |\n",
        "|       0       |   1937   |      0       |  98055  | 47.48680378 |\n",
        "|       0       |   1924   |      0       |  98022  | 47.21629531 |\n",
        "|       0       |   1959   |      0       |  98014  | 47.71117636 |\n",
        "|       0       |   1928   |      0       |  98106  | 47.52520587 |\n",
        "|       0       |   1951   |      0       |  98168  | 47.47992713 |\n",
        "|       0       |   1930   |      0       |  98106  | 47.55325754 |\n",
        "|       0       |   1924   |     1980     |  98010  | 47.32601208 |\n",
        "|       0       |   2008   |      0       |  98122  | 47.61600714 |\n",
        "|       0       |   1967   |      0       |  98014  | 47.67504155 |\n",
        "+---------------+----------+--------------+---------+-------------+\n",
        "+---------------+---------------+-----+\n",
        "|      long     | sqft_living15 | ... |\n",
        "+---------------+---------------+-----+\n",
        "| -121.90868353 |     1200.0    | ... |\n",
        "| -122.19899019 |     990.0     | ... |\n",
        "| -121.98411395 |     1350.0    | ... |\n",
        "|  -121.315254  |     800.0     | ... |\n",
        "| -122.36211629 |     1350.0    | ... |\n",
        "|  -122.2963853 |     1572.0    | ... |\n",
        "| -122.36268237 |     800.0     | ... |\n",
        "| -122.03732827 |     1170.0    | ... |\n",
        "| -122.31372767 |     1460.0    | ... |\n",
        "| -121.85435056 |     1300.0    | ... |\n",
        "+---------------+---------------+-----+\n",
        "[? rows x 21 columns]\n",
        "Note: Only the head of the SFrame is printed. This SFrame is lazily evaluated.\n",
        "You can use sf.materialize() to force materialization.\n"
       ]
      }
     ],
     "prompt_number": 9
    },
    {
     "cell_type": "markdown",
     "metadata": {},
     "source": [
      "Next, fit a 15th degree polynomial on `set_1`, `set_2`, `set_3`, and `set_4`, using 'sqft_living' to predict prices. Print the weights and make a plot of the resulting model.\n",
      "\n",
      "Hint: When calling `graphlab.linear_regression.create()`, use the same L2 penalty as before (i.e. `l2_small_penalty`).  Also, make sure GraphLab Create doesn't create its own validation set by using the option `validation_set = None` in this call."
     ]
    },
    {
     "cell_type": "code",
     "collapsed": false,
     "input": [
      "def featurecreation(data,l2_penalty):\n",
      "    poly_feat=polynomial_sframe(data['sqft_living'],15)\n",
      "    my_feat=poly_feat.column_names()\n",
      "    poly_feat['price']=data['price']\n",
      "    model = graphlab.linear_regression.create(poly_feat, target = 'price', \n",
      "                                           features =my_feat, l2_penalty=l2_penalty,\n",
      "                                           validation_set=None,verbose=False)\n",
      "    plt.plot(poly_feat['power_1'],poly_feat['price'],'.',\n",
      "           poly_feat['power_1'], model.predict(poly_feat),'-')\n",
      "    coeff=model.get(\"coefficients\")\n",
      "    print(coeff[coeff['name']=='power_1'])\n"
     ],
     "language": "python",
     "metadata": {},
     "outputs": [],
     "prompt_number": 10
    },
    {
     "cell_type": "code",
     "collapsed": false,
     "input": [
      "featurecreation(set_1,l2_small_penalty)\n"
     ],
     "language": "python",
     "metadata": {
      "scrolled": false
     },
     "outputs": [
      {
       "output_type": "stream",
       "stream": "stdout",
       "text": [
        "+---------+-------+---------------+---------------+\n",
        "|   name  | index |     value     |     stderr    |\n",
        "+---------+-------+---------------+---------------+\n",
        "| power_1 |  None | 585.865823394 | 6003.28876462 |\n",
        "+---------+-------+---------------+---------------+\n",
        "[? rows x 4 columns]\n",
        "Note: Only the head of the SFrame is printed. This SFrame is lazily evaluated.\n",
        "You can use sf.materialize() to force materialization.\n"
       ]
      },
      {
       "metadata": {},
       "output_type": "display_data",
       "png": "[encoded data removed]",
       "text": [
        "<matplotlib.figure.Figure at 0x7fd6b813e150>"
       ]
      }
     ],
     "prompt_number": 11
    },
    {
     "cell_type": "code",
     "collapsed": false,
     "input": [
      "featurecreation(set_2,l2_small_penalty)"
     ],
     "language": "python",
     "metadata": {},
     "outputs": [
      {
       "output_type": "stream",
       "stream": "stdout",
       "text": [
        "+---------+-------+--------------+---------------+\n",
        "|   name  | index |    value     |     stderr    |\n",
        "+---------+-------+--------------+---------------+\n",
        "| power_1 |  None | 783.49380028 | 9293.98471763 |\n",
        "+---------+-------+--------------+---------------+\n",
        "[? rows x 4 columns]\n",
        "Note: Only the head of the SFrame is printed. This SFrame is lazily evaluated.\n",
        "You can use sf.materialize() to force materialization.\n"
       ]
      },
      {
       "metadata": {},
       "output_type": "display_data",
       "png": "[encoded data removed]",
       "text": [
        "<matplotlib.figure.Figure at 0x7fd6f06f8f50>"
       ]
      }
     ],
     "prompt_number": 12
    },
    {
     "cell_type": "code",
     "collapsed": false,
     "input": [
      "featurecreation(set_3,l2_small_penalty)"
     ],
     "language": "python",
     "metadata": {},
     "outputs": [
      {
       "output_type": "stream",
       "stream": "stdout",
       "text": [
        "+---------+-------+----------------+--------+\n",
        "|   name  | index |     value      | stderr |\n",
        "+---------+-------+----------------+--------+\n",
        "| power_1 |  None | -759.251842854 |  nan   |\n",
        "+---------+-------+----------------+--------+\n",
        "[? rows x 4 columns]\n",
        "Note: Only the head of the SFrame is printed. This SFrame is lazily evaluated.\n",
        "You can use sf.materialize() to force materialization.\n"
       ]
      },
      {
       "metadata": {},
       "output_type": "display_data",
       "png": "[encoded data removed]",
       "text": [
        "<matplotlib.figure.Figure at 0x7fd684529510>"
       ]
      }
     ],
     "prompt_number": 13
    },
    {
     "cell_type": "code",
     "collapsed": false,
     "input": [
      "featurecreation(set_4,l2_small_penalty)"
     ],
     "language": "python",
     "metadata": {},
     "outputs": [
      {
       "output_type": "stream",
       "stream": "stdout",
       "text": [
        "+---------+-------+---------------+---------------+\n",
        "|   name  | index |     value     |     stderr    |\n",
        "+---------+-------+---------------+---------------+\n",
        "| power_1 |  None | 1247.59034541 | 9978.42791287 |\n",
        "+---------+-------+---------------+---------------+\n",
        "[? rows x 4 columns]\n",
        "Note: Only the head of the SFrame is printed. This SFrame is lazily evaluated.\n",
        "You can use sf.materialize() to force materialization.\n"
       ]
      },
      {
       "metadata": {},
       "output_type": "display_data",
       "png": "[encoded data removed]",
       "text": [
        "<matplotlib.figure.Figure at 0x7fd684479690>"
       ]
      }
     ],
     "prompt_number": 14
    },
    {
     "cell_type": "markdown",
     "metadata": {},
     "source": [
      "The four curves should differ from one another a lot, as should the coefficients you learned.\n",
      "\n",
      "***QUIZ QUESTION:  For the models learned in each of these training sets, what are the smallest and largest values you learned for the coefficient of feature `power_1`?***  (For the purpose of answering this question, negative numbers are considered \"smaller\" than positive numbers. So -5 is smaller than -3, and -3 is smaller than 5 and so forth.)"
     ]
    },
    {
     "cell_type": "heading",
     "level": 1,
     "metadata": {},
     "source": [
      "Ridge regression comes to rescue"
     ]
    },
    {
     "cell_type": "markdown",
     "metadata": {},
     "source": [
      "Generally, whenever we see weights change so much in response to change in data, we believe the variance of our estimate to be large. Ridge regression aims to address this issue by penalizing \"large\" weights. (Weights of `model15` looked quite small, but they are not that small because 'sqft_living' input is in the order of thousands.)\n",
      "\n",
      "With the argument `l2_penalty=1e5`, fit a 15th-order polynomial model on `set_1`, `set_2`, `set_3`, and `set_4`. Other than the change in the `l2_penalty` parameter, the code should be the same as the experiment above. Also, make sure GraphLab Create doesn't create its own validation set by using the option `validation_set = None` in this call."
     ]
    },
    {
     "cell_type": "code",
     "collapsed": false,
     "input": [
      "l2_penalty=1e5\n",
      "featurecreation(set_1,l2_penalty)"
     ],
     "language": "python",
     "metadata": {
      "scrolled": false
     },
     "outputs": [
      {
       "output_type": "stream",
       "stream": "stdout",
       "text": [
        "+---------+-------+---------------+---------------+\n",
        "|   name  | index |     value     |     stderr    |\n",
        "+---------+-------+---------------+---------------+\n",
        "| power_1 |  None | 2.58738875673 | 9034.21455077 |\n",
        "+---------+-------+---------------+---------------+\n",
        "[? rows x 4 columns]\n",
        "Note: Only the head of the SFrame is printed. This SFrame is lazily evaluated.\n",
        "You can use sf.materialize() to force materialization.\n"
       ]
      },
      {
       "metadata": {},
       "output_type": "display_data",
       "png": "[encoded data removed]",
       "text": [
        "<matplotlib.figure.Figure at 0x7fd684434350>"
       ]
      }
     ],
     "prompt_number": 15
    },
    {
     "cell_type": "code",
     "collapsed": false,
     "input": [
      "featurecreation(set_2,l2_penalty)"
     ],
     "language": "python",
     "metadata": {
      "scrolled": false
     },
     "outputs": [
      {
       "output_type": "stream",
       "stream": "stdout",
       "text": [
        "+---------+-------+---------------+---------------+\n",
        "|   name  | index |     value     |     stderr    |\n",
        "+---------+-------+---------------+---------------+\n",
        "| power_1 |  None | 2.04470474182 | 12809.1515268 |\n",
        "+---------+-------+---------------+---------------+\n",
        "[? rows x 4 columns]\n",
        "Note: Only the head of the SFrame is printed. This SFrame is lazily evaluated.\n",
        "You can use sf.materialize() to force materialization.\n"
       ]
      },
      {
       "metadata": {},
       "output_type": "display_data",
       "png": "[encoded data removed]",
       "text": [
        "<matplotlib.figure.Figure at 0x7fd684302290>"
       ]
      }
     ],
     "prompt_number": 16
    },
    {
     "cell_type": "code",
     "collapsed": false,
     "input": [
      "featurecreation(set_3,l2_penalty)"
     ],
     "language": "python",
     "metadata": {},
     "outputs": [
      {
       "output_type": "stream",
       "stream": "stdout",
       "text": [
        "+---------+-------+---------------+--------+\n",
        "|   name  | index |     value     | stderr |\n",
        "+---------+-------+---------------+--------+\n",
        "| power_1 |  None | 2.26890421877 |  nan   |\n",
        "+---------+-------+---------------+--------+\n",
        "[? rows x 4 columns]\n",
        "Note: Only the head of the SFrame is printed. This SFrame is lazily evaluated.\n",
        "You can use sf.materialize() to force materialization.\n"
       ]
      },
      {
       "metadata": {},
       "output_type": "display_data",
       "png": "[encoded data removed]",
       "text": [
        "<matplotlib.figure.Figure at 0x7fd6841c9a90>"
       ]
      }
     ],
     "prompt_number": 17
    },
    {
     "cell_type": "code",
     "collapsed": false,
     "input": [
      "featurecreation(set_4,l2_penalty)"
     ],
     "language": "python",
     "metadata": {},
     "outputs": [
      {
       "output_type": "stream",
       "stream": "stdout",
       "text": [
        "+---------+-------+---------------+---------------+\n",
        "|   name  | index |     value     |     stderr    |\n",
        "+---------+-------+---------------+---------------+\n",
        "| power_1 |  None | 1.91040938244 | 13195.2548642 |\n",
        "+---------+-------+---------------+---------------+\n",
        "[? rows x 4 columns]\n",
        "Note: Only the head of the SFrame is printed. This SFrame is lazily evaluated.\n",
        "You can use sf.materialize() to force materialization.\n"
       ]
      },
      {
       "metadata": {},
       "output_type": "display_data",
       "png": "[encoded data removed]",
       "text": [
        "<matplotlib.figure.Figure at 0x7fd6841bf790>"
       ]
      }
     ],
     "prompt_number": 18
    },
    {
     "cell_type": "markdown",
     "metadata": {},
     "source": [
      "These curves should vary a lot less, now that you applied a high degree of regularization.\n",
      "\n",
      "***QUIZ QUESTION:  For the models learned with the high level of regularization in each of these training sets, what are the smallest and largest values you learned for the coefficient of feature `power_1`?*** (For the purpose of answering this question, negative numbers are considered \"smaller\" than positive numbers. So -5 is smaller than -3, and -3 is smaller than 5 and so forth.)"
     ]
    },
    {
     "cell_type": "heading",
     "level": 1,
     "metadata": {},
     "source": [
      "Selecting an L2 penalty via cross-validation"
     ]
    },
    {
     "cell_type": "markdown",
     "metadata": {},
     "source": [
      "Just like the polynomial degree, the L2 penalty is a \"magic\" parameter we need to select. We could use the validation set approach as we did in the last module, but that approach has a major disadvantage: it leaves fewer observations available for training. **Cross-validation** seeks to overcome this issue by using all of the training set in a smart way.\n",
      "\n",
      "We will implement a kind of cross-validation called **k-fold cross-validation**. The method gets its name because it involves dividing the training set into k segments of roughtly equal size. Similar to the validation set method, we measure the validation error with one of the segments designated as the validation set. The major difference is that we repeat the process k times as follows:\n",
      "\n",
      "Set aside segment 0 as the validation set, and fit a model on rest of data, and evalutate it on this validation set<br>\n",
      "Set aside segment 1 as the validation set, and fit a model on rest of data, and evalutate it on this validation set<br>\n",
      "...<br>\n",
      "Set aside segment k-1 as the validation set, and fit a model on rest of data, and evalutate it on this validation set\n",
      "\n",
      "After this process, we compute the average of the k validation errors, and use it as an estimate of the generalization error. Notice that  all observations are used for both training and validation, as we iterate over segments of data. \n",
      "\n",
      "To estimate the generalization error well, it is crucial to shuffle the training data before dividing them into segments. GraphLab Create has a utility function for shuffling a given SFrame. We reserve 10% of the data as the test set and shuffle the remainder. (Make sure to use `seed=1` to get consistent answer.)"
     ]
    },
    {
     "cell_type": "code",
     "collapsed": true,
     "input": [
      "(train_valid, test) = sales.random_split(.9, seed=1)\n",
      "train_valid_shuffled = graphlab.toolkits.cross_validation.shuffle(train_valid, random_seed=1)"
     ],
     "language": "python",
     "metadata": {},
     "outputs": [],
     "prompt_number": 19
    },
    {
     "cell_type": "markdown",
     "metadata": {},
     "source": [
      "Once the data is shuffled, we divide it into equal segments. Each segment should receive `n/k` elements, where `n` is the number of observations in the training set and `k` is the number of segments. Since the segment 0 starts at index 0 and contains `n/k` elements, it ends at index `(n/k)-1`. The segment 1 starts where the segment 0 left off, at index `(n/k)`. With `n/k` elements, the segment 1 ends at index `(n*2/k)-1`. Continuing in this fashion, we deduce that the segment `i` starts at index `(n*i/k)` and ends at `(n*(i+1)/k)-1`."
     ]
    },
    {
     "cell_type": "markdown",
     "metadata": {},
     "source": [
      "With this pattern in mind, we write a short loop that prints the starting and ending indices of each segment, just to make sure you are getting the splits right."
     ]
    },
    {
     "cell_type": "code",
     "collapsed": true,
     "input": [
      "n = len(train_valid_shuffled)\n",
      "k = 10 # 10-fold cross-validation\n",
      "\n",
      "for i in xrange(k):\n",
      "    start = (n*i)/k\n",
      "    end = (n*(i+1))/k-1\n",
      "    print i, (start, end)"
     ],
     "language": "python",
     "metadata": {},
     "outputs": [
      {
       "output_type": "stream",
       "stream": "stdout",
       "text": [
        "0 (0, 1938)\n",
        "1 (1939, 3878)\n",
        "2 (3879, 5817)\n",
        "3 (5818, 7757)\n",
        "4 (7758, 9697)\n",
        "5 (9698, 11636)\n",
        "6 (11637, 13576)\n",
        "7 (13577, 15515)\n",
        "8 (15516, 17455)\n",
        "9 (17456, 19395)\n"
       ]
      }
     ],
     "prompt_number": 20
    },
    {
     "cell_type": "markdown",
     "metadata": {
      "collapsed": false
     },
     "source": [
      "Let us familiarize ourselves with array slicing with SFrame. To extract a continuous slice from an SFrame, use colon in square brackets. For instance, the following cell extracts rows 0 to 9 of `train_valid_shuffled`. Notice that the first index (0) is included in the slice but the last index (10) is omitted."
     ]
    },
    {
     "cell_type": "code",
     "collapsed": true,
     "input": [
      "train_valid_shuffled[0:10] # rows 0 to 9"
     ],
     "language": "python",
     "metadata": {},
     "outputs": [
      {
       "html": [
        "<div style=\"max-height:1000px;max-width:1500px;overflow:auto;\"><table frame=\"box\" rules=\"cols\">\n",
        "    <tr>\n",
        "        <th style=\"padding-left: 1em; padding-right: 1em; text-align: center\">id</th>\n",
        "        <th style=\"padding-left: 1em; padding-right: 1em; text-align: center\">date</th>\n",
        "        <th style=\"padding-left: 1em; padding-right: 1em; text-align: center\">price</th>\n",
        "        <th style=\"padding-left: 1em; padding-right: 1em; text-align: center\">bedrooms</th>\n",
        "        <th style=\"padding-left: 1em; padding-right: 1em; text-align: center\">bathrooms</th>\n",
        "        <th style=\"padding-left: 1em; padding-right: 1em; text-align: center\">sqft_living</th>\n",
        "        <th style=\"padding-left: 1em; padding-right: 1em; text-align: center\">sqft_lot</th>\n",
        "        <th style=\"padding-left: 1em; padding-right: 1em; text-align: center\">floors</th>\n",
        "        <th style=\"padding-left: 1em; padding-right: 1em; text-align: center\">waterfront</th>\n",
        "    </tr>\n",
        "    <tr>\n",
        "        <td style=\"padding-left: 1em; padding-right: 1em; text-align: center; vertical-align: top\">2780400035</td>\n",
        "        <td style=\"padding-left: 1em; padding-right: 1em; text-align: center; vertical-align: top\">2014-05-05 00:00:00+00:00</td>\n",
        "        <td style=\"padding-left: 1em; padding-right: 1em; text-align: center; vertical-align: top\">665000.0</td>\n",
        "        <td style=\"padding-left: 1em; padding-right: 1em; text-align: center; vertical-align: top\">4.0</td>\n",
        "        <td style=\"padding-left: 1em; padding-right: 1em; text-align: center; vertical-align: top\">2.5</td>\n",
        "        <td style=\"padding-left: 1em; padding-right: 1em; text-align: center; vertical-align: top\">2800.0</td>\n",
        "        <td style=\"padding-left: 1em; padding-right: 1em; text-align: center; vertical-align: top\">5900</td>\n",
        "        <td style=\"padding-left: 1em; padding-right: 1em; text-align: center; vertical-align: top\">1</td>\n",
        "        <td style=\"padding-left: 1em; padding-right: 1em; text-align: center; vertical-align: top\">0</td>\n",
        "    </tr>\n",
        "    <tr>\n",
        "        <td style=\"padding-left: 1em; padding-right: 1em; text-align: center; vertical-align: top\">1703050500</td>\n",
        "        <td style=\"padding-left: 1em; padding-right: 1em; text-align: center; vertical-align: top\">2015-03-21 00:00:00+00:00</td>\n",
        "        <td style=\"padding-left: 1em; padding-right: 1em; text-align: center; vertical-align: top\">645000.0</td>\n",
        "        <td style=\"padding-left: 1em; padding-right: 1em; text-align: center; vertical-align: top\">3.0</td>\n",
        "        <td style=\"padding-left: 1em; padding-right: 1em; text-align: center; vertical-align: top\">2.5</td>\n",
        "        <td style=\"padding-left: 1em; padding-right: 1em; text-align: center; vertical-align: top\">2490.0</td>\n",
        "        <td style=\"padding-left: 1em; padding-right: 1em; text-align: center; vertical-align: top\">5978</td>\n",
        "        <td style=\"padding-left: 1em; padding-right: 1em; text-align: center; vertical-align: top\">2</td>\n",
        "        <td style=\"padding-left: 1em; padding-right: 1em; text-align: center; vertical-align: top\">0</td>\n",
        "    </tr>\n",
        "    <tr>\n",
        "        <td style=\"padding-left: 1em; padding-right: 1em; text-align: center; vertical-align: top\">5700002325</td>\n",
        "        <td style=\"padding-left: 1em; padding-right: 1em; text-align: center; vertical-align: top\">2014-06-05 00:00:00+00:00</td>\n",
        "        <td style=\"padding-left: 1em; padding-right: 1em; text-align: center; vertical-align: top\">640000.0</td>\n",
        "        <td style=\"padding-left: 1em; padding-right: 1em; text-align: center; vertical-align: top\">3.0</td>\n",
        "        <td style=\"padding-left: 1em; padding-right: 1em; text-align: center; vertical-align: top\">1.75</td>\n",
        "        <td style=\"padding-left: 1em; padding-right: 1em; text-align: center; vertical-align: top\">2340.0</td>\n",
        "        <td style=\"padding-left: 1em; padding-right: 1em; text-align: center; vertical-align: top\">4206</td>\n",
        "        <td style=\"padding-left: 1em; padding-right: 1em; text-align: center; vertical-align: top\">1</td>\n",
        "        <td style=\"padding-left: 1em; padding-right: 1em; text-align: center; vertical-align: top\">0</td>\n",
        "    </tr>\n",
        "    <tr>\n",
        "        <td style=\"padding-left: 1em; padding-right: 1em; text-align: center; vertical-align: top\">0475000510</td>\n",
        "        <td style=\"padding-left: 1em; padding-right: 1em; text-align: center; vertical-align: top\">2014-11-18 00:00:00+00:00</td>\n",
        "        <td style=\"padding-left: 1em; padding-right: 1em; text-align: center; vertical-align: top\">594000.0</td>\n",
        "        <td style=\"padding-left: 1em; padding-right: 1em; text-align: center; vertical-align: top\">3.0</td>\n",
        "        <td style=\"padding-left: 1em; padding-right: 1em; text-align: center; vertical-align: top\">1.0</td>\n",
        "        <td style=\"padding-left: 1em; padding-right: 1em; text-align: center; vertical-align: top\">1320.0</td>\n",
        "        <td style=\"padding-left: 1em; padding-right: 1em; text-align: center; vertical-align: top\">5000</td>\n",
        "        <td style=\"padding-left: 1em; padding-right: 1em; text-align: center; vertical-align: top\">1</td>\n",
        "        <td style=\"padding-left: 1em; padding-right: 1em; text-align: center; vertical-align: top\">0</td>\n",
        "    </tr>\n",
        "    <tr>\n",
        "        <td style=\"padding-left: 1em; padding-right: 1em; text-align: center; vertical-align: top\">0844001052</td>\n",
        "        <td style=\"padding-left: 1em; padding-right: 1em; text-align: center; vertical-align: top\">2015-01-28 00:00:00+00:00</td>\n",
        "        <td style=\"padding-left: 1em; padding-right: 1em; text-align: center; vertical-align: top\">365000.0</td>\n",
        "        <td style=\"padding-left: 1em; padding-right: 1em; text-align: center; vertical-align: top\">4.0</td>\n",
        "        <td style=\"padding-left: 1em; padding-right: 1em; text-align: center; vertical-align: top\">2.5</td>\n",
        "        <td style=\"padding-left: 1em; padding-right: 1em; text-align: center; vertical-align: top\">1904.0</td>\n",
        "        <td style=\"padding-left: 1em; padding-right: 1em; text-align: center; vertical-align: top\">8200</td>\n",
        "        <td style=\"padding-left: 1em; padding-right: 1em; text-align: center; vertical-align: top\">2</td>\n",
        "        <td style=\"padding-left: 1em; padding-right: 1em; text-align: center; vertical-align: top\">0</td>\n",
        "    </tr>\n",
        "    <tr>\n",
        "        <td style=\"padding-left: 1em; padding-right: 1em; text-align: center; vertical-align: top\">2658000373</td>\n",
        "        <td style=\"padding-left: 1em; padding-right: 1em; text-align: center; vertical-align: top\">2015-01-22 00:00:00+00:00</td>\n",
        "        <td style=\"padding-left: 1em; padding-right: 1em; text-align: center; vertical-align: top\">305000.0</td>\n",
        "        <td style=\"padding-left: 1em; padding-right: 1em; text-align: center; vertical-align: top\">4.0</td>\n",
        "        <td style=\"padding-left: 1em; padding-right: 1em; text-align: center; vertical-align: top\">2.0</td>\n",
        "        <td style=\"padding-left: 1em; padding-right: 1em; text-align: center; vertical-align: top\">1610.0</td>\n",
        "        <td style=\"padding-left: 1em; padding-right: 1em; text-align: center; vertical-align: top\">6250</td>\n",
        "        <td style=\"padding-left: 1em; padding-right: 1em; text-align: center; vertical-align: top\">1</td>\n",
        "        <td style=\"padding-left: 1em; padding-right: 1em; text-align: center; vertical-align: top\">0</td>\n",
        "    </tr>\n",
        "    <tr>\n",
        "        <td style=\"padding-left: 1em; padding-right: 1em; text-align: center; vertical-align: top\">3750603471</td>\n",
        "        <td style=\"padding-left: 1em; padding-right: 1em; text-align: center; vertical-align: top\">2015-03-27 00:00:00+00:00</td>\n",
        "        <td style=\"padding-left: 1em; padding-right: 1em; text-align: center; vertical-align: top\">239950.0</td>\n",
        "        <td style=\"padding-left: 1em; padding-right: 1em; text-align: center; vertical-align: top\">3.0</td>\n",
        "        <td style=\"padding-left: 1em; padding-right: 1em; text-align: center; vertical-align: top\">2.5</td>\n",
        "        <td style=\"padding-left: 1em; padding-right: 1em; text-align: center; vertical-align: top\">1560.0</td>\n",
        "        <td style=\"padding-left: 1em; padding-right: 1em; text-align: center; vertical-align: top\">4800</td>\n",
        "        <td style=\"padding-left: 1em; padding-right: 1em; text-align: center; vertical-align: top\">2</td>\n",
        "        <td style=\"padding-left: 1em; padding-right: 1em; text-align: center; vertical-align: top\">0</td>\n",
        "    </tr>\n",
        "    <tr>\n",
        "        <td style=\"padding-left: 1em; padding-right: 1em; text-align: center; vertical-align: top\">2114700540</td>\n",
        "        <td style=\"padding-left: 1em; padding-right: 1em; text-align: center; vertical-align: top\">2014-10-21 00:00:00+00:00</td>\n",
        "        <td style=\"padding-left: 1em; padding-right: 1em; text-align: center; vertical-align: top\">366000.0</td>\n",
        "        <td style=\"padding-left: 1em; padding-right: 1em; text-align: center; vertical-align: top\">3.0</td>\n",
        "        <td style=\"padding-left: 1em; padding-right: 1em; text-align: center; vertical-align: top\">2.5</td>\n",
        "        <td style=\"padding-left: 1em; padding-right: 1em; text-align: center; vertical-align: top\">1320.0</td>\n",
        "        <td style=\"padding-left: 1em; padding-right: 1em; text-align: center; vertical-align: top\">4320</td>\n",
        "        <td style=\"padding-left: 1em; padding-right: 1em; text-align: center; vertical-align: top\">1</td>\n",
        "        <td style=\"padding-left: 1em; padding-right: 1em; text-align: center; vertical-align: top\">0</td>\n",
        "    </tr>\n",
        "    <tr>\n",
        "        <td style=\"padding-left: 1em; padding-right: 1em; text-align: center; vertical-align: top\">2596400050</td>\n",
        "        <td style=\"padding-left: 1em; padding-right: 1em; text-align: center; vertical-align: top\">2014-07-30 00:00:00+00:00</td>\n",
        "        <td style=\"padding-left: 1em; padding-right: 1em; text-align: center; vertical-align: top\">375000.0</td>\n",
        "        <td style=\"padding-left: 1em; padding-right: 1em; text-align: center; vertical-align: top\">3.0</td>\n",
        "        <td style=\"padding-left: 1em; padding-right: 1em; text-align: center; vertical-align: top\">1.0</td>\n",
        "        <td style=\"padding-left: 1em; padding-right: 1em; text-align: center; vertical-align: top\">1960.0</td>\n",
        "        <td style=\"padding-left: 1em; padding-right: 1em; text-align: center; vertical-align: top\">7955</td>\n",
        "        <td style=\"padding-left: 1em; padding-right: 1em; text-align: center; vertical-align: top\">1</td>\n",
        "        <td style=\"padding-left: 1em; padding-right: 1em; text-align: center; vertical-align: top\">0</td>\n",
        "    </tr>\n",
        "    <tr>\n",
        "        <td style=\"padding-left: 1em; padding-right: 1em; text-align: center; vertical-align: top\">4140900050</td>\n",
        "        <td style=\"padding-left: 1em; padding-right: 1em; text-align: center; vertical-align: top\">2015-01-26 00:00:00+00:00</td>\n",
        "        <td style=\"padding-left: 1em; padding-right: 1em; text-align: center; vertical-align: top\">440000.0</td>\n",
        "        <td style=\"padding-left: 1em; padding-right: 1em; text-align: center; vertical-align: top\">4.0</td>\n",
        "        <td style=\"padding-left: 1em; padding-right: 1em; text-align: center; vertical-align: top\">1.75</td>\n",
        "        <td style=\"padding-left: 1em; padding-right: 1em; text-align: center; vertical-align: top\">2180.0</td>\n",
        "        <td style=\"padding-left: 1em; padding-right: 1em; text-align: center; vertical-align: top\">10200</td>\n",
        "        <td style=\"padding-left: 1em; padding-right: 1em; text-align: center; vertical-align: top\">1</td>\n",
        "        <td style=\"padding-left: 1em; padding-right: 1em; text-align: center; vertical-align: top\">0</td>\n",
        "    </tr>\n",
        "</table>\n",
        "<table frame=\"box\" rules=\"cols\">\n",
        "    <tr>\n",
        "        <th style=\"padding-left: 1em; padding-right: 1em; text-align: center\">view</th>\n",
        "        <th style=\"padding-left: 1em; padding-right: 1em; text-align: center\">condition</th>\n",
        "        <th style=\"padding-left: 1em; padding-right: 1em; text-align: center\">grade</th>\n",
        "        <th style=\"padding-left: 1em; padding-right: 1em; text-align: center\">sqft_above</th>\n",
        "        <th style=\"padding-left: 1em; padding-right: 1em; text-align: center\">sqft_basement</th>\n",
        "        <th style=\"padding-left: 1em; padding-right: 1em; text-align: center\">yr_built</th>\n",
        "        <th style=\"padding-left: 1em; padding-right: 1em; text-align: center\">yr_renovated</th>\n",
        "        <th style=\"padding-left: 1em; padding-right: 1em; text-align: center\">zipcode</th>\n",
        "        <th style=\"padding-left: 1em; padding-right: 1em; text-align: center\">lat</th>\n",
        "    </tr>\n",
        "    <tr>\n",
        "        <td style=\"padding-left: 1em; padding-right: 1em; text-align: center; vertical-align: top\">0</td>\n",
        "        <td style=\"padding-left: 1em; padding-right: 1em; text-align: center; vertical-align: top\">3</td>\n",
        "        <td style=\"padding-left: 1em; padding-right: 1em; text-align: center; vertical-align: top\">8</td>\n",
        "        <td style=\"padding-left: 1em; padding-right: 1em; text-align: center; vertical-align: top\">1660</td>\n",
        "        <td style=\"padding-left: 1em; padding-right: 1em; text-align: center; vertical-align: top\">1140</td>\n",
        "        <td style=\"padding-left: 1em; padding-right: 1em; text-align: center; vertical-align: top\">1963</td>\n",
        "        <td style=\"padding-left: 1em; padding-right: 1em; text-align: center; vertical-align: top\">0</td>\n",
        "        <td style=\"padding-left: 1em; padding-right: 1em; text-align: center; vertical-align: top\">98115</td>\n",
        "        <td style=\"padding-left: 1em; padding-right: 1em; text-align: center; vertical-align: top\">47.68093246</td>\n",
        "    </tr>\n",
        "    <tr>\n",
        "        <td style=\"padding-left: 1em; padding-right: 1em; text-align: center; vertical-align: top\">0</td>\n",
        "        <td style=\"padding-left: 1em; padding-right: 1em; text-align: center; vertical-align: top\">3</td>\n",
        "        <td style=\"padding-left: 1em; padding-right: 1em; text-align: center; vertical-align: top\">9</td>\n",
        "        <td style=\"padding-left: 1em; padding-right: 1em; text-align: center; vertical-align: top\">2490</td>\n",
        "        <td style=\"padding-left: 1em; padding-right: 1em; text-align: center; vertical-align: top\">0</td>\n",
        "        <td style=\"padding-left: 1em; padding-right: 1em; text-align: center; vertical-align: top\">2003</td>\n",
        "        <td style=\"padding-left: 1em; padding-right: 1em; text-align: center; vertical-align: top\">0</td>\n",
        "        <td style=\"padding-left: 1em; padding-right: 1em; text-align: center; vertical-align: top\">98074</td>\n",
        "        <td style=\"padding-left: 1em; padding-right: 1em; text-align: center; vertical-align: top\">47.62984888</td>\n",
        "    </tr>\n",
        "    <tr>\n",
        "        <td style=\"padding-left: 1em; padding-right: 1em; text-align: center; vertical-align: top\">0</td>\n",
        "        <td style=\"padding-left: 1em; padding-right: 1em; text-align: center; vertical-align: top\">5</td>\n",
        "        <td style=\"padding-left: 1em; padding-right: 1em; text-align: center; vertical-align: top\">7</td>\n",
        "        <td style=\"padding-left: 1em; padding-right: 1em; text-align: center; vertical-align: top\">1170</td>\n",
        "        <td style=\"padding-left: 1em; padding-right: 1em; text-align: center; vertical-align: top\">1170</td>\n",
        "        <td style=\"padding-left: 1em; padding-right: 1em; text-align: center; vertical-align: top\">1917</td>\n",
        "        <td style=\"padding-left: 1em; padding-right: 1em; text-align: center; vertical-align: top\">0</td>\n",
        "        <td style=\"padding-left: 1em; padding-right: 1em; text-align: center; vertical-align: top\">98144</td>\n",
        "        <td style=\"padding-left: 1em; padding-right: 1em; text-align: center; vertical-align: top\">47.57587004</td>\n",
        "    </tr>\n",
        "    <tr>\n",
        "        <td style=\"padding-left: 1em; padding-right: 1em; text-align: center; vertical-align: top\">0</td>\n",
        "        <td style=\"padding-left: 1em; padding-right: 1em; text-align: center; vertical-align: top\">4</td>\n",
        "        <td style=\"padding-left: 1em; padding-right: 1em; text-align: center; vertical-align: top\">7</td>\n",
        "        <td style=\"padding-left: 1em; padding-right: 1em; text-align: center; vertical-align: top\">1090</td>\n",
        "        <td style=\"padding-left: 1em; padding-right: 1em; text-align: center; vertical-align: top\">230</td>\n",
        "        <td style=\"padding-left: 1em; padding-right: 1em; text-align: center; vertical-align: top\">1920</td>\n",
        "        <td style=\"padding-left: 1em; padding-right: 1em; text-align: center; vertical-align: top\">0</td>\n",
        "        <td style=\"padding-left: 1em; padding-right: 1em; text-align: center; vertical-align: top\">98107</td>\n",
        "        <td style=\"padding-left: 1em; padding-right: 1em; text-align: center; vertical-align: top\">47.66737217</td>\n",
        "    </tr>\n",
        "    <tr>\n",
        "        <td style=\"padding-left: 1em; padding-right: 1em; text-align: center; vertical-align: top\">0</td>\n",
        "        <td style=\"padding-left: 1em; padding-right: 1em; text-align: center; vertical-align: top\">5</td>\n",
        "        <td style=\"padding-left: 1em; padding-right: 1em; text-align: center; vertical-align: top\">7</td>\n",
        "        <td style=\"padding-left: 1em; padding-right: 1em; text-align: center; vertical-align: top\">1904</td>\n",
        "        <td style=\"padding-left: 1em; padding-right: 1em; text-align: center; vertical-align: top\">0</td>\n",
        "        <td style=\"padding-left: 1em; padding-right: 1em; text-align: center; vertical-align: top\">1999</td>\n",
        "        <td style=\"padding-left: 1em; padding-right: 1em; text-align: center; vertical-align: top\">0</td>\n",
        "        <td style=\"padding-left: 1em; padding-right: 1em; text-align: center; vertical-align: top\">98010</td>\n",
        "        <td style=\"padding-left: 1em; padding-right: 1em; text-align: center; vertical-align: top\">47.31068733</td>\n",
        "    </tr>\n",
        "    <tr>\n",
        "        <td style=\"padding-left: 1em; padding-right: 1em; text-align: center; vertical-align: top\">0</td>\n",
        "        <td style=\"padding-left: 1em; padding-right: 1em; text-align: center; vertical-align: top\">4</td>\n",
        "        <td style=\"padding-left: 1em; padding-right: 1em; text-align: center; vertical-align: top\">7</td>\n",
        "        <td style=\"padding-left: 1em; padding-right: 1em; text-align: center; vertical-align: top\">1610</td>\n",
        "        <td style=\"padding-left: 1em; padding-right: 1em; text-align: center; vertical-align: top\">0</td>\n",
        "        <td style=\"padding-left: 1em; padding-right: 1em; text-align: center; vertical-align: top\">1952</td>\n",
        "        <td style=\"padding-left: 1em; padding-right: 1em; text-align: center; vertical-align: top\">0</td>\n",
        "        <td style=\"padding-left: 1em; padding-right: 1em; text-align: center; vertical-align: top\">98118</td>\n",
        "        <td style=\"padding-left: 1em; padding-right: 1em; text-align: center; vertical-align: top\">47.52930128</td>\n",
        "    </tr>\n",
        "    <tr>\n",
        "        <td style=\"padding-left: 1em; padding-right: 1em; text-align: center; vertical-align: top\">0</td>\n",
        "        <td style=\"padding-left: 1em; padding-right: 1em; text-align: center; vertical-align: top\">4</td>\n",
        "        <td style=\"padding-left: 1em; padding-right: 1em; text-align: center; vertical-align: top\">7</td>\n",
        "        <td style=\"padding-left: 1em; padding-right: 1em; text-align: center; vertical-align: top\">1560</td>\n",
        "        <td style=\"padding-left: 1em; padding-right: 1em; text-align: center; vertical-align: top\">0</td>\n",
        "        <td style=\"padding-left: 1em; padding-right: 1em; text-align: center; vertical-align: top\">1974</td>\n",
        "        <td style=\"padding-left: 1em; padding-right: 1em; text-align: center; vertical-align: top\">0</td>\n",
        "        <td style=\"padding-left: 1em; padding-right: 1em; text-align: center; vertical-align: top\">98001</td>\n",
        "        <td style=\"padding-left: 1em; padding-right: 1em; text-align: center; vertical-align: top\">47.26533057</td>\n",
        "    </tr>\n",
        "    <tr>\n",
        "        <td style=\"padding-left: 1em; padding-right: 1em; text-align: center; vertical-align: top\">0</td>\n",
        "        <td style=\"padding-left: 1em; padding-right: 1em; text-align: center; vertical-align: top\">3</td>\n",
        "        <td style=\"padding-left: 1em; padding-right: 1em; text-align: center; vertical-align: top\">6</td>\n",
        "        <td style=\"padding-left: 1em; padding-right: 1em; text-align: center; vertical-align: top\">660</td>\n",
        "        <td style=\"padding-left: 1em; padding-right: 1em; text-align: center; vertical-align: top\">660</td>\n",
        "        <td style=\"padding-left: 1em; padding-right: 1em; text-align: center; vertical-align: top\">1918</td>\n",
        "        <td style=\"padding-left: 1em; padding-right: 1em; text-align: center; vertical-align: top\">0</td>\n",
        "        <td style=\"padding-left: 1em; padding-right: 1em; text-align: center; vertical-align: top\">98106</td>\n",
        "        <td style=\"padding-left: 1em; padding-right: 1em; text-align: center; vertical-align: top\">47.53271982</td>\n",
        "    </tr>\n",
        "    <tr>\n",
        "        <td style=\"padding-left: 1em; padding-right: 1em; text-align: center; vertical-align: top\">0</td>\n",
        "        <td style=\"padding-left: 1em; padding-right: 1em; text-align: center; vertical-align: top\">4</td>\n",
        "        <td style=\"padding-left: 1em; padding-right: 1em; text-align: center; vertical-align: top\">7</td>\n",
        "        <td style=\"padding-left: 1em; padding-right: 1em; text-align: center; vertical-align: top\">1260</td>\n",
        "        <td style=\"padding-left: 1em; padding-right: 1em; text-align: center; vertical-align: top\">700</td>\n",
        "        <td style=\"padding-left: 1em; padding-right: 1em; text-align: center; vertical-align: top\">1963</td>\n",
        "        <td style=\"padding-left: 1em; padding-right: 1em; text-align: center; vertical-align: top\">0</td>\n",
        "        <td style=\"padding-left: 1em; padding-right: 1em; text-align: center; vertical-align: top\">98177</td>\n",
        "        <td style=\"padding-left: 1em; padding-right: 1em; text-align: center; vertical-align: top\">47.76407345</td>\n",
        "    </tr>\n",
        "    <tr>\n",
        "        <td style=\"padding-left: 1em; padding-right: 1em; text-align: center; vertical-align: top\">2</td>\n",
        "        <td style=\"padding-left: 1em; padding-right: 1em; text-align: center; vertical-align: top\">3</td>\n",
        "        <td style=\"padding-left: 1em; padding-right: 1em; text-align: center; vertical-align: top\">8</td>\n",
        "        <td style=\"padding-left: 1em; padding-right: 1em; text-align: center; vertical-align: top\">2000</td>\n",
        "        <td style=\"padding-left: 1em; padding-right: 1em; text-align: center; vertical-align: top\">180</td>\n",
        "        <td style=\"padding-left: 1em; padding-right: 1em; text-align: center; vertical-align: top\">1966</td>\n",
        "        <td style=\"padding-left: 1em; padding-right: 1em; text-align: center; vertical-align: top\">0</td>\n",
        "        <td style=\"padding-left: 1em; padding-right: 1em; text-align: center; vertical-align: top\">98028</td>\n",
        "        <td style=\"padding-left: 1em; padding-right: 1em; text-align: center; vertical-align: top\">47.76382378</td>\n",
        "    </tr>\n",
        "</table>\n",
        "<table frame=\"box\" rules=\"cols\">\n",
        "    <tr>\n",
        "        <th style=\"padding-left: 1em; padding-right: 1em; text-align: center\">long</th>\n",
        "        <th style=\"padding-left: 1em; padding-right: 1em; text-align: center\">sqft_living15</th>\n",
        "        <th style=\"padding-left: 1em; padding-right: 1em; text-align: center\">sqft_lot15</th>\n",
        "    </tr>\n",
        "    <tr>\n",
        "        <td style=\"padding-left: 1em; padding-right: 1em; text-align: center; vertical-align: top\">-122.28583258</td>\n",
        "        <td style=\"padding-left: 1em; padding-right: 1em; text-align: center; vertical-align: top\">2580.0</td>\n",
        "        <td style=\"padding-left: 1em; padding-right: 1em; text-align: center; vertical-align: top\">5900.0</td>\n",
        "    </tr>\n",
        "    <tr>\n",
        "        <td style=\"padding-left: 1em; padding-right: 1em; text-align: center; vertical-align: top\">-122.02177564</td>\n",
        "        <td style=\"padding-left: 1em; padding-right: 1em; text-align: center; vertical-align: top\">2710.0</td>\n",
        "        <td style=\"padding-left: 1em; padding-right: 1em; text-align: center; vertical-align: top\">6629.0</td>\n",
        "    </tr>\n",
        "    <tr>\n",
        "        <td style=\"padding-left: 1em; padding-right: 1em; text-align: center; vertical-align: top\">-122.28796</td>\n",
        "        <td style=\"padding-left: 1em; padding-right: 1em; text-align: center; vertical-align: top\">1360.0</td>\n",
        "        <td style=\"padding-left: 1em; padding-right: 1em; text-align: center; vertical-align: top\">4725.0</td>\n",
        "    </tr>\n",
        "    <tr>\n",
        "        <td style=\"padding-left: 1em; padding-right: 1em; text-align: center; vertical-align: top\">-122.36472902</td>\n",
        "        <td style=\"padding-left: 1em; padding-right: 1em; text-align: center; vertical-align: top\">1700.0</td>\n",
        "        <td style=\"padding-left: 1em; padding-right: 1em; text-align: center; vertical-align: top\">5000.0</td>\n",
        "    </tr>\n",
        "    <tr>\n",
        "        <td style=\"padding-left: 1em; padding-right: 1em; text-align: center; vertical-align: top\">-122.0012452</td>\n",
        "        <td style=\"padding-left: 1em; padding-right: 1em; text-align: center; vertical-align: top\">1560.0</td>\n",
        "        <td style=\"padding-left: 1em; padding-right: 1em; text-align: center; vertical-align: top\">12426.0</td>\n",
        "    </tr>\n",
        "    <tr>\n",
        "        <td style=\"padding-left: 1em; padding-right: 1em; text-align: center; vertical-align: top\">-122.27097145</td>\n",
        "        <td style=\"padding-left: 1em; padding-right: 1em; text-align: center; vertical-align: top\">1310.0</td>\n",
        "        <td style=\"padding-left: 1em; padding-right: 1em; text-align: center; vertical-align: top\">6000.0</td>\n",
        "    </tr>\n",
        "    <tr>\n",
        "        <td style=\"padding-left: 1em; padding-right: 1em; text-align: center; vertical-align: top\">-122.28506088</td>\n",
        "        <td style=\"padding-left: 1em; padding-right: 1em; text-align: center; vertical-align: top\">1510.0</td>\n",
        "        <td style=\"padding-left: 1em; padding-right: 1em; text-align: center; vertical-align: top\">12240.0</td>\n",
        "    </tr>\n",
        "    <tr>\n",
        "        <td style=\"padding-left: 1em; padding-right: 1em; text-align: center; vertical-align: top\">-122.34716948</td>\n",
        "        <td style=\"padding-left: 1em; padding-right: 1em; text-align: center; vertical-align: top\">1190.0</td>\n",
        "        <td style=\"padding-left: 1em; padding-right: 1em; text-align: center; vertical-align: top\">4200.0</td>\n",
        "    </tr>\n",
        "    <tr>\n",
        "        <td style=\"padding-left: 1em; padding-right: 1em; text-align: center; vertical-align: top\">-122.36361517</td>\n",
        "        <td style=\"padding-left: 1em; padding-right: 1em; text-align: center; vertical-align: top\">1850.0</td>\n",
        "        <td style=\"padding-left: 1em; padding-right: 1em; text-align: center; vertical-align: top\">8219.0</td>\n",
        "    </tr>\n",
        "    <tr>\n",
        "        <td style=\"padding-left: 1em; padding-right: 1em; text-align: center; vertical-align: top\">-122.27022456</td>\n",
        "        <td style=\"padding-left: 1em; padding-right: 1em; text-align: center; vertical-align: top\">2590.0</td>\n",
        "        <td style=\"padding-left: 1em; padding-right: 1em; text-align: center; vertical-align: top\">10445.0</td>\n",
        "    </tr>\n",
        "</table>\n",
        "[10 rows x 21 columns]<br/>\n",
        "</div>"
       ],
       "metadata": {},
       "output_type": "pyout",
       "prompt_number": 21,
       "text": [
        "Columns:\n",
        "\tid\tstr\n",
        "\tdate\tdatetime\n",
        "\tprice\tfloat\n",
        "\tbedrooms\tfloat\n",
        "\tbathrooms\tfloat\n",
        "\tsqft_living\tfloat\n",
        "\tsqft_lot\tint\n",
        "\tfloors\tstr\n",
        "\twaterfront\tint\n",
        "\tview\tint\n",
        "\tcondition\tint\n",
        "\tgrade\tint\n",
        "\tsqft_above\tint\n",
        "\tsqft_basement\tint\n",
        "\tyr_built\tint\n",
        "\tyr_renovated\tint\n",
        "\tzipcode\tstr\n",
        "\tlat\tfloat\n",
        "\tlong\tfloat\n",
        "\tsqft_living15\tfloat\n",
        "\tsqft_lot15\tfloat\n",
        "\n",
        "Rows: 10\n",
        "\n",
        "Data:\n",
        "+------------+---------------------------+----------+----------+-----------+\n",
        "|     id     |            date           |  price   | bedrooms | bathrooms |\n",
        "+------------+---------------------------+----------+----------+-----------+\n",
        "| 2780400035 | 2014-05-05 00:00:00+00:00 | 665000.0 |   4.0    |    2.5    |\n",
        "| 1703050500 | 2015-03-21 00:00:00+00:00 | 645000.0 |   3.0    |    2.5    |\n",
        "| 5700002325 | 2014-06-05 00:00:00+00:00 | 640000.0 |   3.0    |    1.75   |\n",
        "| 0475000510 | 2014-11-18 00:00:00+00:00 | 594000.0 |   3.0    |    1.0    |\n",
        "| 0844001052 | 2015-01-28 00:00:00+00:00 | 365000.0 |   4.0    |    2.5    |\n",
        "| 2658000373 | 2015-01-22 00:00:00+00:00 | 305000.0 |   4.0    |    2.0    |\n",
        "| 3750603471 | 2015-03-27 00:00:00+00:00 | 239950.0 |   3.0    |    2.5    |\n",
        "| 2114700540 | 2014-10-21 00:00:00+00:00 | 366000.0 |   3.0    |    2.5    |\n",
        "| 2596400050 | 2014-07-30 00:00:00+00:00 | 375000.0 |   3.0    |    1.0    |\n",
        "| 4140900050 | 2015-01-26 00:00:00+00:00 | 440000.0 |   4.0    |    1.75   |\n",
        "+------------+---------------------------+----------+----------+-----------+\n",
        "+-------------+----------+--------+------------+------+-----------+-------+------------+\n",
        "| sqft_living | sqft_lot | floors | waterfront | view | condition | grade | sqft_above |\n",
        "+-------------+----------+--------+------------+------+-----------+-------+------------+\n",
        "|    2800.0   |   5900   |   1    |     0      |  0   |     3     |   8   |    1660    |\n",
        "|    2490.0   |   5978   |   2    |     0      |  0   |     3     |   9   |    2490    |\n",
        "|    2340.0   |   4206   |   1    |     0      |  0   |     5     |   7   |    1170    |\n",
        "|    1320.0   |   5000   |   1    |     0      |  0   |     4     |   7   |    1090    |\n",
        "|    1904.0   |   8200   |   2    |     0      |  0   |     5     |   7   |    1904    |\n",
        "|    1610.0   |   6250   |   1    |     0      |  0   |     4     |   7   |    1610    |\n",
        "|    1560.0   |   4800   |   2    |     0      |  0   |     4     |   7   |    1560    |\n",
        "|    1320.0   |   4320   |   1    |     0      |  0   |     3     |   6   |    660     |\n",
        "|    1960.0   |   7955   |   1    |     0      |  0   |     4     |   7   |    1260    |\n",
        "|    2180.0   |  10200   |   1    |     0      |  2   |     3     |   8   |    2000    |\n",
        "+-------------+----------+--------+------------+------+-----------+-------+------------+\n",
        "+---------------+----------+--------------+---------+-------------+\n",
        "| sqft_basement | yr_built | yr_renovated | zipcode |     lat     |\n",
        "+---------------+----------+--------------+---------+-------------+\n",
        "|      1140     |   1963   |      0       |  98115  | 47.68093246 |\n",
        "|       0       |   2003   |      0       |  98074  | 47.62984888 |\n",
        "|      1170     |   1917   |      0       |  98144  | 47.57587004 |\n",
        "|      230      |   1920   |      0       |  98107  | 47.66737217 |\n",
        "|       0       |   1999   |      0       |  98010  | 47.31068733 |\n",
        "|       0       |   1952   |      0       |  98118  | 47.52930128 |\n",
        "|       0       |   1974   |      0       |  98001  | 47.26533057 |\n",
        "|      660      |   1918   |      0       |  98106  | 47.53271982 |\n",
        "|      700      |   1963   |      0       |  98177  | 47.76407345 |\n",
        "|      180      |   1966   |      0       |  98028  | 47.76382378 |\n",
        "+---------------+----------+--------------+---------+-------------+\n",
        "+---------------+---------------+-----+\n",
        "|      long     | sqft_living15 | ... |\n",
        "+---------------+---------------+-----+\n",
        "| -122.28583258 |     2580.0    | ... |\n",
        "| -122.02177564 |     2710.0    | ... |\n",
        "|   -122.28796  |     1360.0    | ... |\n",
        "| -122.36472902 |     1700.0    | ... |\n",
        "|  -122.0012452 |     1560.0    | ... |\n",
        "| -122.27097145 |     1310.0    | ... |\n",
        "| -122.28506088 |     1510.0    | ... |\n",
        "| -122.34716948 |     1190.0    | ... |\n",
        "| -122.36361517 |     1850.0    | ... |\n",
        "| -122.27022456 |     2590.0    | ... |\n",
        "+---------------+---------------+-----+\n",
        "[10 rows x 21 columns]"
       ]
      }
     ],
     "prompt_number": 21
    },
    {
     "cell_type": "markdown",
     "metadata": {},
     "source": [
      "Now let us extract individual segments with array slicing. Consider the scenario where we group the houses in the `train_valid_shuffled` dataframe into k=10 segments of roughly equal size, with starting and ending indices computed as above.\n",
      "Extract the fourth segment (segment 3) and assign it to a variable called `validation4`."
     ]
    },
    {
     "cell_type": "code",
     "collapsed": true,
     "input": [
      "validation4=train_valid_shuffled[(n*4)/k:(n*(5))/k-1]"
     ],
     "language": "python",
     "metadata": {},
     "outputs": [],
     "prompt_number": 22
    },
    {
     "cell_type": "markdown",
     "metadata": {},
     "source": [
      "To verify that we have the right elements extracted, run the following cell, which computes the average price of the fourth segment. When rounded to nearest whole number, the average should be $536,234."
     ]
    },
    {
     "cell_type": "code",
     "collapsed": true,
     "input": [
      "print int(round(validation4['price'].mean(), 0))"
     ],
     "language": "python",
     "metadata": {},
     "outputs": [
      {
       "output_type": "stream",
       "stream": "stdout",
       "text": [
        "544586\n"
       ]
      }
     ],
     "prompt_number": 23
    },
    {
     "cell_type": "markdown",
     "metadata": {},
     "source": [
      "After designating one of the k segments as the validation set, we train a model using the rest of the data. To choose the remainder, we slice (0:start) and (end+1:n) of the data and paste them together. SFrame has `append()` method that pastes together two disjoint sets of rows originating from a common dataset. For instance, the following cell pastes together the first and last two rows of the `train_valid_shuffled` dataframe."
     ]
    },
    {
     "cell_type": "code",
     "collapsed": true,
     "input": [
      "n = len(train_valid_shuffled)\n",
      "first_two = train_valid_shuffled[0:2]\n",
      "last_two = train_valid_shuffled[n-2:n]\n",
      "print first_two.append(last_two)"
     ],
     "language": "python",
     "metadata": {},
     "outputs": [
      {
       "output_type": "stream",
       "stream": "stdout",
       "text": [
        "+------------+---------------------------+-----------+----------+-----------+\n",
        "|     id     |            date           |   price   | bedrooms | bathrooms |\n",
        "+------------+---------------------------+-----------+----------+-----------+\n",
        "| 2780400035 | 2014-05-05 00:00:00+00:00 |  665000.0 |   4.0    |    2.5    |\n",
        "| 1703050500 | 2015-03-21 00:00:00+00:00 |  645000.0 |   3.0    |    2.5    |\n",
        "| 4139480190 | 2014-09-16 00:00:00+00:00 | 1153000.0 |   3.0    |    3.25   |\n",
        "| 7237300290 | 2015-03-26 00:00:00+00:00 |  338000.0 |   5.0    |    2.5    |\n",
        "+------------+---------------------------+-----------+----------+-----------+\n",
        "+-------------+----------+--------+------------+------+-----------+-------+------------+\n",
        "| sqft_living | sqft_lot | floors | waterfront | view | condition | grade | sqft_above |\n",
        "+-------------+----------+--------+------------+------+-----------+-------+------------+\n",
        "|    2800.0   |   5900   |   1    |     0      |  0   |     3     |   8   |    1660    |\n",
        "|    2490.0   |   5978   |   2    |     0      |  0   |     3     |   9   |    2490    |\n",
        "|    3780.0   |  10623   |   1    |     0      |  1   |     3     |   11  |    2650    |\n",
        "|    2400.0   |   4496   |   2    |     0      |  0   |     3     |   7   |    2400    |\n",
        "+-------------+----------+--------+------------+------+-----------+-------+------------+\n",
        "+---------------+----------+--------------+---------+-------------+\n",
        "| sqft_basement | yr_built | yr_renovated | zipcode |     lat     |\n",
        "+---------------+----------+--------------+---------+-------------+\n",
        "|      1140     |   1963   |      0       |  98115  | 47.68093246 |\n",
        "|       0       |   2003   |      0       |  98074  | 47.62984888 |\n",
        "|      1130     |   1999   |      0       |  98006  | 47.55061236 |\n",
        "|       0       |   2004   |      0       |  98042  | 47.36923712 |\n",
        "+---------------+----------+--------------+---------+-------------+\n",
        "+---------------+---------------+-----+\n",
        "|      long     | sqft_living15 | ... |\n",
        "+---------------+---------------+-----+\n",
        "| -122.28583258 |     2580.0    | ... |\n",
        "| -122.02177564 |     2710.0    | ... |\n",
        "| -122.10144844 |     3850.0    | ... |\n",
        "| -122.12606473 |     1880.0    | ... |\n",
        "+---------------+---------------+-----+\n",
        "[4 rows x 21 columns]\n",
        "\n"
       ]
      }
     ],
     "prompt_number": 24
    },
    {
     "cell_type": "markdown",
     "metadata": {},
     "source": [
      "Extract the remainder of the data after *excluding* fourth segment (segment 3) and assign the subset to `train4`."
     ]
    },
    {
     "cell_type": "code",
     "collapsed": true,
     "input": [
      "first4=train_valid_shuffled[0:5817]\n",
      "last4=train_valid_shuffled[7758:]\n",
      "train4=first4.append(last4)"
     ],
     "language": "python",
     "metadata": {},
     "outputs": [],
     "prompt_number": 25
    },
    {
     "cell_type": "markdown",
     "metadata": {},
     "source": [
      "To verify that we have the right elements extracted, run the following cell, which computes the average price of the data with fourth segment excluded. When rounded to nearest whole number, the average should be $539,450."
     ]
    },
    {
     "cell_type": "code",
     "collapsed": true,
     "input": [
      "print int(round(train4['price'].mean(), 0))"
     ],
     "language": "python",
     "metadata": {},
     "outputs": [
      {
       "output_type": "stream",
       "stream": "stdout",
       "text": [
        "539458\n"
       ]
      }
     ],
     "prompt_number": 26
    },
    {
     "cell_type": "markdown",
     "metadata": {},
     "source": [
      "Now we are ready to implement k-fold cross-validation. Write a function that computes k validation errors by designating each of the k segments as the validation set. It accepts as parameters (i) `k`, (ii) `l2_penalty`, (iii) dataframe, (iv) name of output column (e.g. `price`) and (v) list of feature names. The function returns the average validation error using k segments as validation sets.\n",
      "\n",
      "* For each i in [0, 1, ..., k-1]:\n",
      "  * Compute starting and ending indices of segment i and call 'start' and 'end'\n",
      "  * Form validation set by taking a slice (start:end+1) from the data.\n",
      "  * Form training set by appending slice (end+1:n) to the end of slice (0:start).\n",
      "  * Train a linear model using training set just formed, with a given l2_penalty\n",
      "  * Compute validation error using validation set just formed"
     ]
    },
    {
     "cell_type": "code",
     "collapsed": false,
     "input": [
      "def k_fold_cross_validation(k, l2_penalty, data, output_name, features_list):\n",
      "    rss=0\n",
      "    rss_sum=0\n",
      "    for i in xrange(k):\n",
      "        start = (n*i)/k\n",
      "        end = (n*(i+1))/k-1\n",
      "        validationset=data[start:end+1]\n",
      "        #print validationset\n",
      "        train_data=data[0:start].append(data[end+1:])\n",
      "        model= graphlab.linear_regression.create(train_data, target = output_name, \n",
      "                                           features =features_list, l2_penalty=l2_penalty,\n",
      "                                           validation_set=None,verbose=False)\n",
      "        prediction=model.predict(validationset)      \n",
      "        err=validationset[output_name]-prediction\n",
      "        rss=sum(err**2)\n",
      "        rss_sum+=rss\n",
      "    validation_error = rss_sum/ k    \n",
      "    return validation_error"
     ],
     "language": "python",
     "metadata": {},
     "outputs": [],
     "prompt_number": 44
    },
    {
     "cell_type": "markdown",
     "metadata": {},
     "source": [
      "Once we have a function to compute the average validation error for a model, we can write a loop to find the model that minimizes the average validation error. Write a loop that does the following:\n",
      "* We will again be aiming to fit a 15th-order polynomial model using the `sqft_living` input\n",
      "* For `l2_penalty` in [10^1, 10^1.5, 10^2, 10^2.5, ..., 10^7] (to get this in Python, you can use this Numpy function: `np.logspace(1, 7, num=13)`.)\n",
      "    * Run 10-fold cross-validation with `l2_penalty`\n",
      "* Report which L2 penalty produced the lowest average validation error.\n",
      "\n",
      "Note: since the degree of the polynomial is now fixed to 15, to make things faster, you should generate polynomial features in advance and re-use them throughout the loop. Make sure to use `train_valid_shuffled` when generating polynomial features!"
     ]
    },
    {
     "cell_type": "code",
     "collapsed": true,
     "input": [
      "import numpy as np\n",
      "poly_train_val=polynomial_sframe(train_valid_shuffled['sqft_living'],15)\n",
      "my_poly_train_val = poly_train_val.column_names()\n",
      "poly_train_val['price']=train_valid_shuffled['price']\n",
      "#val_err_dict = {}\n",
      "feature_list={'sqft_living'}\n",
      "validation_err=[]\n",
      "for l2_penalty in np.logspace(1,7,num=13):\n",
      "    err=k_fold_cross_validation(10,l2_penalty,poly_train_val,'price',my_poly_train_val)\n",
      "    validation_err.append(err)\n",
      "    #val_err_dict[l2_penalty] = err\n",
      "    #print (err)\n",
      "index=validation_err.index(min(validation_err))\n",
      "#import pprint \n",
      "#pprint.pprint(val_err_dict)\n",
      "#print min(val_err_dict.items(), key=lambda x: x[1]) \n",
      "print np.logspace(1,7,num=13)[index] #this is giving wrong ans"
     ],
     "language": "python",
     "metadata": {},
     "outputs": [
      {
       "output_type": "stream",
       "stream": "stdout",
       "text": [
        "1000.0\n"
       ]
      }
     ],
     "prompt_number": 49
    },
    {
     "cell_type": "code",
     "collapsed": false,
     "input": [
      "value=np.logspace(1,7,num=13)\n",
      "print index\n",
      "print min(validation_err)\n",
      "print value[index]\n",
      "#min_val = min(val_err_dict.itervalues())\n",
      "#print min_val\n",
      "#print min(val_err_dict, key=val_err_dict.get)"
     ],
     "language": "python",
     "metadata": {},
     "outputs": [
      {
       "output_type": "stream",
       "stream": "stdout",
       "text": [
        "4\n",
        "1.21192264451e+14\n",
        "1000.0\n"
       ]
      }
     ],
     "prompt_number": 50
    },
    {
     "cell_type": "markdown",
     "metadata": {},
     "source": [
      "***QUIZ QUESTIONS:  What is the best value for the L2 penalty according to 10-fold validation?***"
     ]
    },
    {
     "cell_type": "markdown",
     "metadata": {},
     "source": [
      "You may find it useful to plot the k-fold cross-validation errors you have obtained to better understand the behavior of the method.  "
     ]
    },
    {
     "cell_type": "code",
     "collapsed": true,
     "input": [
      "# Plot the l2_penalty values in the x axis and the cross-validation error in the y axis.\n",
      "plt.plot(value,validation_err,'k.')\n",
      "plt.xscale('log')\n",
      "# Using plt.xscale('log') will make your plot more intuitive."
     ],
     "language": "python",
     "metadata": {},
     "outputs": [
      {
       "metadata": {},
       "output_type": "display_data",
       "png": "[encoded data removed]",
       "text": [
        "<matplotlib.figure.Figure at 0x7fd6845c01d0>"
       ]
      }
     ],
     "prompt_number": 51
    },
    {
     "cell_type": "markdown",
     "metadata": {},
     "source": [
      "Once you found the best value for the L2 penalty using cross-validation, it is important to retrain a final model on all of the training data using this value of `l2_penalty`. This way, your final model will be trained on the entire dataset."
     ]
    },
    {
     "cell_type": "code",
     "collapsed": true,
     "input": [
      "l2_penalty=value[index]\n",
      "#poly_train_val=polynomial_sframe(train_valid_shuffled['sqft_living'],15)\n",
      "#my_poly_train_val = poly_train_val.column_names()\n",
      "#poly_train_val['price']=train_valid_shuffled['price']\n",
      "final_model=graphlab.linear_regression.create(poly_train_val, target = 'price', \n",
      "                                           features =my_poly_train_val, l2_penalty=l2_penalty,\n",
      "                                           validation_set=None,verbose=False)"
     ],
     "language": "python",
     "metadata": {},
     "outputs": [],
     "prompt_number": 52
    },
    {
     "cell_type": "markdown",
     "metadata": {},
     "source": [
      "***QUIZ QUESTION: Using the best L2 penalty found above, train a model using all training data. What is the RSS on the TEST data of the model you learn with this L2 penalty? ***"
     ]
    },
    {
     "cell_type": "code",
     "collapsed": true,
     "input": [
      "poly_test_val=polynomial_sframe(test['sqft_living'],15)\n",
      "my_poly_test_val = poly_train_val.column_names()\n",
      "#poly_test_val['price']=test['price']\n",
      "prediction_test=final_model.predict(poly_test_val)\n",
      "rss_test=0\n",
      "rss_test=sum((prediction_test-test['price'])**2)\n",
      "print rss_test"
     ],
     "language": "python",
     "metadata": {},
     "outputs": [
      {
       "output_type": "stream",
       "stream": "stdout",
       "text": [
        "1.28780855058e+14\n"
       ]
      }
     ],
     "prompt_number": 53
    }
   ],
   "metadata": {}
  }
 ]
}