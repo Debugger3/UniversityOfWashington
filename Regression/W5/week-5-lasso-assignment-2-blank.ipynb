{
 "metadata": {
  "kernelspec": {
   "display_name": "Python 2",
   "language": "python",
   "name": "python2"
  },
  "language_info": {
   "codemirror_mode": {
    "name": "ipython",
    "version": 2
   },
   "file_extension": ".py",
   "mimetype": "text/x-python",
   "name": "python",
   "nbconvert_exporter": "python",
   "pygments_lexer": "ipython2",
   "version": "2.7.11"
  },
  "name": "",
  "signature": "sha256:0817cef6315e0ae999765edd44e8b223b3995890e14373f1ecef816db268a471"
 },
 "nbformat": 3,
 "nbformat_minor": 0,
 "worksheets": [
  {
   "cells": [
    {
     "cell_type": "heading",
     "level": 1,
     "metadata": {},
     "source": [
      "Regression Week 5: LASSO (coordinate descent)"
     ]
    },
    {
     "cell_type": "markdown",
     "metadata": {},
     "source": [
      "In this notebook, you will implement your very own LASSO solver via coordinate descent. You will:\n",
      "* Write a function to normalize features\n",
      "* Implement coordinate descent for LASSO\n",
      "* Explore effects of L1 penalty"
     ]
    },
    {
     "cell_type": "heading",
     "level": 1,
     "metadata": {},
     "source": [
      "Fire up graphlab create"
     ]
    },
    {
     "cell_type": "markdown",
     "metadata": {},
     "source": [
      "Make sure you have the latest version of graphlab (>= 1.7)"
     ]
    },
    {
     "cell_type": "code",
     "collapsed": false,
     "input": [
      "import graphlab"
     ],
     "language": "python",
     "metadata": {},
     "outputs": [],
     "prompt_number": 12
    },
    {
     "cell_type": "markdown",
     "metadata": {},
     "source": [
      "# Load in house sales data\n",
      "\n",
      "Dataset is from house sales in King County, the region where the city of Seattle, WA is located."
     ]
    },
    {
     "cell_type": "code",
     "collapsed": false,
     "input": [
      "sales = graphlab.SFrame('kc_house_data.gl/')\n",
      "# In the dataset, 'floors' was defined with type string, \n",
      "# so we'll convert them to int, before using it below\n",
      "sales['floors'] = sales['floors'].astype(int) "
     ],
     "language": "python",
     "metadata": {},
     "outputs": [],
     "prompt_number": 13
    },
    {
     "cell_type": "markdown",
     "metadata": {},
     "source": [
      "If we want to do any \"feature engineering\" like creating new features or adjusting existing ones we should do this directly using the SFrames as seen in the first notebook of Week 2. For this notebook, however, we will work with the existing features."
     ]
    },
    {
     "cell_type": "heading",
     "level": 1,
     "metadata": {},
     "source": [
      "Import useful functions from previous notebook"
     ]
    },
    {
     "cell_type": "markdown",
     "metadata": {},
     "source": [
      "As in Week 2, we convert the SFrame into a 2D Numpy array. Copy and paste `get_num_data()` from the second notebook of Week 2."
     ]
    },
    {
     "cell_type": "code",
     "collapsed": true,
     "input": [
      "import numpy as np # note this allows us to refer to numpy as np instead "
     ],
     "language": "python",
     "metadata": {},
     "outputs": [],
     "prompt_number": 14
    },
    {
     "cell_type": "code",
     "collapsed": true,
     "input": [
      "def get_num_data(data_sframe, features, output):\n",
      "    data_sframe['constant'] = 1 # this is how you add a constant column to an SFrame\n",
      "    # add the column 'constant' to the front of the features list so that we can extract it along with the others:\n",
      "    features = ['constant'] + features # this is how you combine two lists\n",
      "    # select the columns of data_SFrame given by the features list into the SFrame features_sframe (now including constant):\n",
      "    features_sframe=data_sframe[features]\n",
      "    # the following line will convert the features_SFrame into a numpy matrix:\n",
      "    feature_matrix = features_sframe.to_numpy()\n",
      "    # assign the column of data_sframe associated with the output to the SArray output_sarray\n",
      "    output_sarray=data_sframe[output]\n",
      "    # the following will convert the SArray into a numpy array by first converting it to a list\n",
      "    output_array = output_sarray.to_numpy()\n",
      "    return(feature_matrix, output_array)"
     ],
     "language": "python",
     "metadata": {},
     "outputs": [],
     "prompt_number": 15
    },
    {
     "cell_type": "markdown",
     "metadata": {},
     "source": [
      "Also, copy and paste the `predict_output()` function to compute the predictions for an entire matrix of features given the matrix and the weights:"
     ]
    },
    {
     "cell_type": "code",
     "collapsed": true,
     "input": [
      "def predict_output(feature_matrix, weights):\n",
      "    \n",
      "    # assume feature_matrix is a numpy matrix containing the features as columns and weights is a corresponding numpy array\n",
      "    predictions=np.dot(feature_matrix,weights)\n",
      "    # create the predictions vector by using np.dot()\n",
      "\n",
      "    return(predictions)"
     ],
     "language": "python",
     "metadata": {},
     "outputs": [],
     "prompt_number": 42
    },
    {
     "cell_type": "markdown",
     "metadata": {},
     "source": [
      "# Normalize features\n",
      "In the house dataset, features vary wildly in their relative magnitude: `sqft_living` is very large overall compared to `bedrooms`, for instance. As a result, weight for `sqft_living` would be much smaller than weight for `bedrooms`. This is problematic because \"small\" weights are dropped first as `l1_penalty` goes up. \n",
      "\n",
      "To give equal considerations for all features, we need to **normalize features** as discussed in the lectures: we divide each feature by its 2-norm so that the transformed feature has norm 1.\n",
      "\n",
      "Let's see how we can do this normalization easily with Numpy: let us first consider a small matrix."
     ]
    },
    {
     "cell_type": "code",
     "collapsed": true,
     "input": [
      "X = np.array([[3.,5.,8.],[4.,12.,15.]])\n",
      "print X"
     ],
     "language": "python",
     "metadata": {},
     "outputs": [
      {
       "output_type": "stream",
       "stream": "stdout",
       "text": [
        "[[  3.   5.   8.]\n",
        " [  4.  12.  15.]]\n"
       ]
      }
     ],
     "prompt_number": 17
    },
    {
     "cell_type": "markdown",
     "metadata": {},
     "source": [
      "Numpy provides a shorthand for computing 2-norms of each column:"
     ]
    },
    {
     "cell_type": "code",
     "collapsed": true,
     "input": [
      "norms = np.linalg.norm(X, axis=0) # gives [norm(X[:,0]), norm(X[:,1]), norm(X[:,2])]\n",
      "print norms"
     ],
     "language": "python",
     "metadata": {},
     "outputs": [
      {
       "output_type": "stream",
       "stream": "stdout",
       "text": [
        "[  5.  13.  17.]\n"
       ]
      }
     ],
     "prompt_number": 18
    },
    {
     "cell_type": "markdown",
     "metadata": {},
     "source": [
      "To normalize, apply element-wise division:"
     ]
    },
    {
     "cell_type": "code",
     "collapsed": true,
     "input": [
      "print X / norms # gives [X[:,0]/norm(X[:,0]), X[:,1]/norm(X[:,1]), X[:,2]/norm(X[:,2])]"
     ],
     "language": "python",
     "metadata": {},
     "outputs": [
      {
       "output_type": "stream",
       "stream": "stdout",
       "text": [
        "[[ 0.6         0.38461538  0.47058824]\n",
        " [ 0.8         0.92307692  0.88235294]]\n"
       ]
      }
     ],
     "prompt_number": 19
    },
    {
     "cell_type": "markdown",
     "metadata": {},
     "source": [
      "Using the shorthand we just covered, write a short function called `normalize_features(feature_matrix)`, which normalizes columns of a given feature matrix. The function should return a pair `(normalized_features, norms)`, where the second item contains the norms of original features. As discussed in the lectures, we will use these norms to normalize the test data in the same way as we normalized the training data. "
     ]
    },
    {
     "cell_type": "code",
     "collapsed": true,
     "input": [
      "def normalize_features(feature_matrix):\n",
      "    norms=np.linalg.norm(feature_matrix,axis=0)\n",
      "    normalized_feature=feature_matrix / norms\n",
      "    return (normalized_feature,norms)"
     ],
     "language": "python",
     "metadata": {},
     "outputs": [],
     "prompt_number": 20
    },
    {
     "cell_type": "markdown",
     "metadata": {},
     "source": [
      "To test the function, run the following:"
     ]
    },
    {
     "cell_type": "code",
     "collapsed": true,
     "input": [
      "features, norms = normalize_features(np.array([[3.,6.,9.],[4.,8.,12.]]))\n",
      "print features\n",
      "# should print\n",
      "# [[ 0.6  0.6  0.6]\n",
      "#  [ 0.8  0.8  0.8]]\n",
      "print norms\n",
      "# should print\n",
      "# [5.  10.  15.]"
     ],
     "language": "python",
     "metadata": {},
     "outputs": [
      {
       "output_type": "stream",
       "stream": "stdout",
       "text": [
        "[[ 0.6  0.6  0.6]\n",
        " [ 0.8  0.8  0.8]]\n",
        "[  5.  10.  15.]\n"
       ]
      }
     ],
     "prompt_number": 21
    },
    {
     "cell_type": "heading",
     "level": 1,
     "metadata": {},
     "source": [
      "Implementing Coordinate Descent with normalized features"
     ]
    },
    {
     "cell_type": "markdown",
     "metadata": {},
     "source": [
      "We seek to obtain a sparse set of weights by minimizing the LASSO cost function\n",
      "```\n",
      "SUM[ (prediction - output)^2 ] + lambda*( |w[1]| + ... + |w[k]|).\n",
      "```\n",
      "(By convention, we do not include `w[0]` in the L1 penalty term. We never want to push the intercept to zero.)\n",
      "\n",
      "The absolute value sign makes the cost function non-differentiable, so simple gradient descent is not viable (you would need to implement a method called subgradient descent). Instead, we will use **coordinate descent**: at each iteration, we will fix all weights but weight `i` and find the value of weight `i` that minimizes the objective. That is, we look for\n",
      "```\n",
      "argmin_{w[i]} [ SUM[ (prediction - output)^2 ] + lambda*( |w[1]| + ... + |w[k]|) ]\n",
      "```\n",
      "where all weights other than `w[i]` are held to be constant. We will optimize one `w[i]` at a time, circling through the weights multiple times.  \n",
      "  1. Pick a coordinate `i`\n",
      "  2. Compute `w[i]` that minimizes the cost function `SUM[ (prediction - output)^2 ] + lambda*( |w[1]| + ... + |w[k]|)`\n",
      "  3. Repeat Steps 1 and 2 for all coordinates, multiple times"
     ]
    },
    {
     "cell_type": "markdown",
     "metadata": {},
     "source": [
      "For this notebook, we use **cyclical coordinate descent with normalized features**, where we cycle through coordinates 0 to (d-1) in order, and assume the features were normalized as discussed above. The formula for optimizing each coordinate is as follows:\n",
      "```\n",
      "       \u250c (ro[i] + lambda/2)     if ro[i] < -lambda/2\n",
      "w[i] = \u251c 0                      if -lambda/2 <= ro[i] <= lambda/2\n",
      "       \u2514 (ro[i] - lambda/2)     if ro[i] > lambda/2\n",
      "```\n",
      "where\n",
      "```\n",
      "ro[i] = SUM[ [feature_i]*(output - prediction + w[i]*[feature_i]) ].\n",
      "```\n",
      "\n",
      "Note that we do not regularize the weight of the constant feature (intercept) `w[0]`, so, for this weight, the update is simply:\n",
      "```\n",
      "w[0] = ro[i]\n",
      "```"
     ]
    },
    {
     "cell_type": "heading",
     "level": 2,
     "metadata": {},
     "source": [
      "Effect of L1 penalty"
     ]
    },
    {
     "cell_type": "markdown",
     "metadata": {},
     "source": [
      "Let us consider a simple model with 2 features:"
     ]
    },
    {
     "cell_type": "code",
     "collapsed": true,
     "input": [
      "simple_features = ['sqft_living', 'bedrooms']\n",
      "my_output = 'price'\n",
      "(simple_feature_matrix, output) = get_num_data(sales, simple_features, my_output)"
     ],
     "language": "python",
     "metadata": {},
     "outputs": [],
     "prompt_number": 23
    },
    {
     "cell_type": "markdown",
     "metadata": {},
     "source": [
      "Don't forget to normalize features:"
     ]
    },
    {
     "cell_type": "code",
     "collapsed": true,
     "input": [
      "simple_feature_matrix, norms = normalize_features(simple_feature_matrix)"
     ],
     "language": "python",
     "metadata": {},
     "outputs": [],
     "prompt_number": 24
    },
    {
     "cell_type": "markdown",
     "metadata": {},
     "source": [
      "We assign some random set of initial weights and inspect the values of `ro[i]`:"
     ]
    },
    {
     "cell_type": "code",
     "collapsed": false,
     "input": [
      "weights = np.array([1., 4., 1.])"
     ],
     "language": "python",
     "metadata": {},
     "outputs": [],
     "prompt_number": 25
    },
    {
     "cell_type": "markdown",
     "metadata": {},
     "source": [
      "Use `predict_output()` to make predictions on this data."
     ]
    },
    {
     "cell_type": "code",
     "collapsed": false,
     "input": [
      "prediction = predict_output(simple_feature_matrix,weights)"
     ],
     "language": "python",
     "metadata": {},
     "outputs": [],
     "prompt_number": 26
    },
    {
     "cell_type": "markdown",
     "metadata": {},
     "source": [
      "Compute the values of `ro[i]` for each feature in this simple model, using the formula given above, using the formula:\n",
      "```\n",
      "ro[i] = SUM[ [feature_i]*(output - prediction + w[i]*[feature_i]) ]\n",
      "```\n",
      "\n",
      "*Hint: You can get a Numpy vector for feature_i using:*\n",
      "```\n",
      "simple_feature_matrix[:,i]\n",
      "```"
     ]
    },
    {
     "cell_type": "code",
     "collapsed": false,
     "input": [
      "ro = [0 for i in range((simple_feature_matrix.shape)[1])]\n",
      "for loop in range((simple_feature_matrix.shape)[1]):\n",
      "    ro[loop]=(simple_feature_matrix[:,loop]*(output-prediction+weights[loop]*simple_feature_matrix[:,loop])).sum()\n",
      "    #print loop   "
     ],
     "language": "python",
     "metadata": {},
     "outputs": [],
     "prompt_number": 27
    },
    {
     "cell_type": "code",
     "collapsed": false,
     "input": [
      "print ro"
     ],
     "language": "python",
     "metadata": {},
     "outputs": [
      {
       "output_type": "stream",
       "stream": "stdout",
       "text": [
        "[79400300.034929156, 87939470.772991076, 80966698.675965652]\n"
       ]
      }
     ],
     "prompt_number": 28
    },
    {
     "cell_type": "markdown",
     "metadata": {},
     "source": [
      "***QUIZ QUESTION***\n",
      "\n",
      "Recall that, whenever `ro[i]` falls between `-l1_penalty/2` and `l1_penalty/2`, the corresponding weight `w[i]` is sent to zero. Now suppose we were to take one step of coordinate descent on either feature 1 or feature 2. What range of values of `l1_penalty` **would not** set `w[1]` zero, but **would** set `w[2]` to zero, if we were to take a step in that coordinate? "
     ]
    },
    {
     "cell_type": "code",
     "collapsed": false,
     "input": [
      "'''for loop in range((simple_feature_matrix.shape)[1]):\n",
      "    if(ro[loop]>=-l1_penalty/2 and ro[loop]<=l1_penalty/2):\n",
      "        weights[loop]=0\n",
      "print weights'''\n",
      "# Return True if value is within the threshold ranges otherwise False\n",
      "# Looking for range -l1_penalty/2 <= ro <= l1_penalty/2\n",
      "def in_l1range(value, penalty):\n",
      "    return ( (value >= -penalty/2.) and (value <= penalty/2.) )\n",
      "for l1_penalty in [1.4e8, 1.64e8, 1.73e8, 1.9e8, 2.3e8]:\n",
      "    print in_l1range(ro[1], l1_penalty), in_l1range(ro[2], l1_penalty)"
     ],
     "language": "python",
     "metadata": {},
     "outputs": [
      {
       "output_type": "stream",
       "stream": "stdout",
       "text": [
        "False False\n",
        "False True\n",
        "False True\n",
        "True True\n",
        "True True\n"
       ]
      }
     ],
     "prompt_number": 30
    },
    {
     "cell_type": "markdown",
     "metadata": {},
     "source": [
      "***QUIZ QUESTION***\n",
      "\n",
      "What range of values of `l1_penalty` would set **both** `w[1]` and `w[2]` to zero, if we were to take a step in that coordinate? "
     ]
    },
    {
     "cell_type": "code",
     "collapsed": false,
     "input": [],
     "language": "python",
     "metadata": {},
     "outputs": [],
     "prompt_number": null
    },
    {
     "cell_type": "markdown",
     "metadata": {},
     "source": [
      "So we can say that `ro[i]` quantifies the significance of the i-th feature: the larger `ro[i]` is, the more likely it is for the i-th feature to be retained."
     ]
    },
    {
     "cell_type": "heading",
     "level": 2,
     "metadata": {},
     "source": [
      "Single Coordinate Descent Step"
     ]
    },
    {
     "cell_type": "markdown",
     "metadata": {},
     "source": [
      "Using the formula above, implement coordinate descent that minimizes the cost function over a single feature i. Note that the intercept (weight 0) is not regularized. The function should accept feature matrix, output, current weights, l1 penalty, and index of feature to optimize over. The function should return new weight for feature i."
     ]
    },
    {
     "cell_type": "code",
     "collapsed": true,
     "input": [
      "def lasso_coordinate_descent_step(i, feature_matrix, output, weights, l1_penalty):\n",
      "    # compute prediction\n",
      "    prediction = predict_output(feature_matrix,weights)\n",
      "    # compute ro[i] = SUM[ [feature_i]*(output - prediction + weight[i]*[feature_i]) ]\n",
      "    ro_i=(feature_matrix[:,i] * (output - prediction + (weights[i] * feature_matrix[:,i]))).sum()\n",
      "    #ro_i = (feature_matrix[:,i]*(output-prediction+weights[i]*feature_matrix[:,i])).sum()\n",
      "\n",
      "    if i == 0: # intercept -- do not regularize\n",
      "        new_weight_i = ro_i \n",
      "    elif ro_i < -l1_penalty/2.:\n",
      "        new_weight_i = (ro_i + l1_penalty/2.)\n",
      "    elif ro_i > l1_penalty/2.:\n",
      "        new_weight_i = (ro_i - l1_penalty/2.)\n",
      "    else:\n",
      "        new_weight_i = 0.\n",
      "    \n",
      "    return new_weight_i"
     ],
     "language": "python",
     "metadata": {},
     "outputs": [],
     "prompt_number": 44
    },
    {
     "cell_type": "markdown",
     "metadata": {},
     "source": [
      "To test the function, run the following cell:"
     ]
    },
    {
     "cell_type": "code",
     "collapsed": true,
     "input": [
      "# should print 0.425558846691\n",
      "import math\n",
      "print lasso_coordinate_descent_step(1, np.array([[3./math.sqrt(13),1./math.sqrt(10)],[2./math.sqrt(13),3./math.sqrt(10)]]), \n",
      "                                   np.array([1., 1.]), np.array([1., 4.]), 0.1)"
     ],
     "language": "python",
     "metadata": {},
     "outputs": [
      {
       "output_type": "stream",
       "stream": "stdout",
       "text": [
        "0.425558846691\n"
       ]
      }
     ],
     "prompt_number": 45
    },
    {
     "cell_type": "heading",
     "level": 2,
     "metadata": {
      "collapsed": true
     },
     "source": [
      "Cyclical coordinate descent "
     ]
    },
    {
     "cell_type": "markdown",
     "metadata": {},
     "source": [
      "Now that we have a function that optimizes the cost function over a single coordinate, let us implement cyclical coordinate descent where we optimize coordinates 0, 1, ..., (d-1) in order and repeat.\n",
      "\n",
      "When do we know to stop? Each time we scan all the coordinates (features) once, we measure the change in weight for each coordinate. If no coordinate changes by more than a specified threshold, we stop."
     ]
    },
    {
     "cell_type": "markdown",
     "metadata": {},
     "source": [
      "For each iteration:\n",
      "1. As you loop over features in order and perform coordinate descent, measure how much each coordinate changes.\n",
      "2. After the loop, if the maximum change across all coordinates is falls below the tolerance, stop. Otherwise, go back to step 1.\n",
      "\n",
      "Return weights\n",
      "\n",
      "**IMPORTANT: when computing a new weight for coordinate i, make sure to incorporate the new weights for coordinates 0, 1, ..., i-1. One good way is to update your weights variable in-place. See following pseudocode for illustration.**\n",
      "```\n",
      "for i in range(len(weights)):\n",
      "    old_weights_i = weights[i] # remember old value of weight[i], as it will be overwritten\n",
      "    # the following line uses new values for weight[0], weight[1], ..., weight[i-1]\n",
      "    #     and old values for weight[i], ..., weight[d-1]\n",
      "    weights[i] = lasso_coordinate_descent_step(i, feature_matrix, output, weights, l1_penalty)\n",
      "    \n",
      "    # use old_weights_i to compute change in coordinate\n",
      "    ...\n",
      "```"
     ]
    },
    {
     "cell_type": "code",
     "collapsed": false,
     "input": [
      "\n",
      "\n",
      "def lasso_cyclical_coordinate_descent(feature_matrix, output, initial_weights, l1_penalty, tolerance):\n",
      "    D = feature_matrix.shape[1]\n",
      "    weights = np.array(initial_weights)\n",
      "    change = np.array(initial_weights) * 0.0\n",
      "    converged = False\n",
      "\n",
      "    while not converged:\n",
      "\n",
      "    # Evaluate over all features\n",
      "        for idx in range(D):\n",
      "#             print 'Feature: ' + str(idx)\n",
      "            # new weight for feature\n",
      "            new_weight = lasso_coordinate_descent_step(idx, feature_matrix,\n",
      "                                                       output, weights,\n",
      "                                                       l1_penalty)\n",
      "            # compute change in weight for feature\n",
      "            change[idx] = np.abs(new_weight - weights[idx])\n",
      "#             print '  -> old weight: ' + str(weights[idx]) + ', new weight: ' + str(new_weight)\n",
      "#             print '  -> abs change (new - old): ' + str(change[idx])\n",
      "#             print '  >> old weights: ', weights\n",
      "\n",
      "            # assign new weight\n",
      "            weights[idx] = new_weight\n",
      "#             print '  >> new weights: ', weights\n",
      "        # maximum change in weight, after all changes have been computed\n",
      "        max_change = max(change)\n",
      "#         print '  ** max change: ' + str(max_change)\n",
      "#         print '--------------------------------------------------'\n",
      "        if max_change < tolerance:\n",
      "            converged = True\n",
      "    return weights\n",
      "\n"
     ],
     "language": "python",
     "metadata": {},
     "outputs": [],
     "prompt_number": 93
    },
    {
     "cell_type": "markdown",
     "metadata": {},
     "source": [
      "Using the following parameters, learn the weights on the sales dataset. "
     ]
    },
    {
     "cell_type": "code",
     "collapsed": false,
     "input": [
      "simple_features = ['sqft_living', 'bedrooms']\n",
      "my_output = 'price'\n",
      "initial_weights = np.zeros(3)\n",
      "l1_penalty = 1e7\n",
      "tolerance = 1.0"
     ],
     "language": "python",
     "metadata": {},
     "outputs": [],
     "prompt_number": 48
    },
    {
     "cell_type": "markdown",
     "metadata": {},
     "source": [
      "First create a normalized version of the feature matrix, `normalized_simple_feature_matrix`."
     ]
    },
    {
     "cell_type": "code",
     "collapsed": true,
     "input": [
      "(simple_feature_matrix, output) = get_num_data(sales, simple_features, my_output)\n",
      "(normalized_simple_feature_matrix, simple_norms) = normalize_features(simple_feature_matrix) # normalize features"
     ],
     "language": "python",
     "metadata": {},
     "outputs": [],
     "prompt_number": 50
    },
    {
     "cell_type": "markdown",
     "metadata": {},
     "source": [
      "Then, run your implementation of LASSO coordinate descent:"
     ]
    },
    {
     "cell_type": "code",
     "collapsed": true,
     "input": [
      "weights = lasso_cyclical_coordinate_descent(normalized_simple_feature_matrix, output,\n",
      "                                            initial_weights, l1_penalty, tolerance)"
     ],
     "language": "python",
     "metadata": {},
     "outputs": [],
     "prompt_number": 87
    },
    {
     "cell_type": "markdown",
     "metadata": {},
     "source": [
      "***QUIZ QUESTIONS***\n",
      "1. What is the RSS of the learned model on the normalized dataset? (Hint: use the normalized feature matrix when you make predictions.)\n",
      "2. Which features had weight zero at convergence?"
     ]
    },
    {
     "cell_type": "heading",
     "level": 1,
     "metadata": {},
     "source": [
      "Evaluating LASSO fit with more features"
     ]
    },
    {
     "cell_type": "markdown",
     "metadata": {},
     "source": [
      "Let us split the sales dataset into training and test sets."
     ]
    },
    {
     "cell_type": "code",
     "collapsed": true,
     "input": [
      "train_data,test_data = sales.random_split(.8,seed=0)"
     ],
     "language": "python",
     "metadata": {},
     "outputs": [],
     "prompt_number": 88
    },
    {
     "cell_type": "markdown",
     "metadata": {},
     "source": [
      "Let us consider the following set of features."
     ]
    },
    {
     "cell_type": "code",
     "collapsed": true,
     "input": [
      "all_features = ['bedrooms',\n",
      "                'bathrooms',\n",
      "                'sqft_living',\n",
      "                'sqft_lot',\n",
      "                'floors',\n",
      "                'waterfront', \n",
      "                'view', \n",
      "                'condition', \n",
      "                'grade',\n",
      "                'sqft_above',\n",
      "                'sqft_basement',\n",
      "                'yr_built', \n",
      "                'yr_renovated']\n",
      "my_output = 'price'\n",
      "#initial_weights = np.zeros(3)\n",
      "#l1_penalty = 1e7\n",
      "#tolerance = 1.0"
     ],
     "language": "python",
     "metadata": {},
     "outputs": [],
     "prompt_number": 89
    },
    {
     "cell_type": "markdown",
     "metadata": {},
     "source": [
      "First, create a normalized feature matrix from the TRAINING data with these features.  (Make you store the norms for the normalization, since we'll use them later)"
     ]
    },
    {
     "cell_type": "code",
     "collapsed": true,
     "input": [
      "(feature_matrix, output) = get_num_data(train_data, all_features, my_output)\n",
      "normalized_feature_matrix, norms = normalize_features(feature_matrix)"
     ],
     "language": "python",
     "metadata": {},
     "outputs": [],
     "prompt_number": 90
    },
    {
     "cell_type": "markdown",
     "metadata": {},
     "source": [
      "First, learn the weights with `l1_penalty=1e7`, on the training data. Initialize weights to all zeros, and set the `tolerance=1`.  Call resulting weights `weights1e7`, you will need them later."
     ]
    },
    {
     "cell_type": "code",
     "collapsed": true,
     "input": [
      "initial_weights = np.zeros(len(all_features) + 1)\n",
      "l1_penalty = 1e7\n",
      "tolerance = 1.0\n",
      "weights1e7=lasso_cyclical_coordinate_descent(normalized_feature_matrix, output,\n",
      "                                               initial_weights, l1_penalty, tolerance)"
     ],
     "language": "python",
     "metadata": {},
     "outputs": [],
     "prompt_number": 94
    },
    {
     "cell_type": "code",
     "collapsed": false,
     "input": [
      "print weights1e7"
     ],
     "language": "python",
     "metadata": {},
     "outputs": [
      {
       "output_type": "stream",
       "stream": "stdout",
       "text": [
        "[ 24429600.60933314         0.                 0.          48389174.35227978\n",
        "         0.                 0.           3317511.16271981   7329961.9848964\n",
        "         0.                 0.                 0.                 0.\n",
        "         0.                 0.        ]\n"
       ]
      }
     ],
     "prompt_number": 95
    },
    {
     "cell_type": "code",
     "collapsed": false,
     "input": [
      "prediction =  predict_output(normalized_simple_feature_matrix, weights)\n",
      "RSS = np.dot(output-prediction, output-prediction)\n",
      "print 'RSS for normalized dataset = ', RSS"
     ],
     "language": "python",
     "metadata": {},
     "outputs": []
    },
    {
     "cell_type": "code",
     "collapsed": false,
     "input": [
      "feature_list = ['constant'] + all_features\n",
      "print feature_list\n",
      "feature_weight=dict(zip(feature_list,weights1e7))\n",
      "for k,v in feature_weight.iteritems():\n",
      "    if(v!=0):\n",
      "        print k"
     ],
     "language": "python",
     "metadata": {},
     "outputs": [
      {
       "output_type": "stream",
       "stream": "stdout",
       "text": [
        "['constant', 'bedrooms', 'bathrooms', 'sqft_living', 'sqft_lot', 'floors', 'waterfront', 'view', 'condition', 'grade', 'sqft_above', 'sqft_basement', 'yr_built', 'yr_renovated']\n",
        "sqft_living\n",
        "waterfront\n",
        "constant\n",
        "view\n"
       ]
      }
     ],
     "prompt_number": 103
    },
    {
     "cell_type": "markdown",
     "metadata": {},
     "source": [
      "***QUIZ QUESTION***\n",
      "\n",
      "What features had non-zero weight in this case?"
     ]
    },
    {
     "cell_type": "markdown",
     "metadata": {
      "collapsed": true
     },
     "source": [
      "Next, learn the weights with `l1_penalty=1e8`, on the training data. Initialize weights to all zeros, and set the `tolerance=1`.  Call resulting weights `weights1e8`, you will need them later."
     ]
    },
    {
     "cell_type": "code",
     "collapsed": true,
     "input": [
      "#print weights1e7\n",
      "l1_penalty=1e8\n",
      "weights1e8=lasso_cyclical_coordinate_descent(normalized_feature_matrix, output,\n",
      "                                               initial_weights, l1_penalty, tolerance)"
     ],
     "language": "python",
     "metadata": {},
     "outputs": [],
     "prompt_number": 104
    },
    {
     "cell_type": "code",
     "collapsed": false,
     "input": [
      "#feature_list = ['constant'] + all_features\n",
      "#print feature_list\n",
      "feature_weight1e8=dict(zip(feature_list,weights1e8))\n",
      "for k,v in feature_weight1e8.iteritems():\n",
      "    if(v!=0):\n",
      "        print k"
     ],
     "language": "python",
     "metadata": {},
     "outputs": [
      {
       "output_type": "stream",
       "stream": "stdout",
       "text": [
        "constant\n"
       ]
      }
     ],
     "prompt_number": 106
    },
    {
     "cell_type": "code",
     "collapsed": false,
     "input": [
      "print weights1e8"
     ],
     "language": "python",
     "metadata": {},
     "outputs": [
      {
       "output_type": "stream",
       "stream": "stdout",
       "text": [
        "[ 71114625.75280938         0.                 0.                 0.\n",
        "         0.                 0.                 0.                 0.\n",
        "         0.                 0.                 0.                 0.\n",
        "         0.                 0.        ]\n"
       ]
      }
     ],
     "prompt_number": 105
    },
    {
     "cell_type": "markdown",
     "metadata": {},
     "source": [
      "***QUIZ QUESTION***\n",
      "\n",
      "What features had non-zero weight in this case?"
     ]
    },
    {
     "cell_type": "markdown",
     "metadata": {},
     "source": [
      "Finally, learn the weights with `l1_penalty=1e4`, on the training data. Initialize weights to all zeros, and set the `tolerance=5e5`.  Call resulting weights `weights1e4`, you will need them later.  (This case will take quite a bit longer to converge than the others above.)"
     ]
    },
    {
     "cell_type": "code",
     "collapsed": true,
     "input": [
      "l1_penalty=1e4\n",
      "weights1e4=lasso_cyclical_coordinate_descent(normalized_feature_matrix, output,\n",
      "                                               initial_weights, l1_penalty, tolerance)"
     ],
     "language": "python",
     "metadata": {},
     "outputs": [],
     "prompt_number": 107
    },
    {
     "cell_type": "code",
     "collapsed": false,
     "input": [
      "feature_weight1e4=dict(zip(feature_list,weights1e4))\n",
      "for k,v in feature_weight1e4.iteritems():\n",
      "    if(v!=0):\n",
      "        print k"
     ],
     "language": "python",
     "metadata": {},
     "outputs": [
      {
       "output_type": "stream",
       "stream": "stdout",
       "text": [
        "bathrooms\n",
        "grade\n",
        "yr_renovated\n",
        "bedrooms\n",
        "sqft_living\n",
        "floors\n",
        "condition\n",
        "waterfront\n",
        "constant\n",
        "sqft_basement\n",
        "yr_built\n",
        "sqft_lot\n",
        "view\n"
       ]
      }
     ],
     "prompt_number": 108
    },
    {
     "cell_type": "markdown",
     "metadata": {},
     "source": [
      "***QUIZ QUESTION***\n",
      "\n",
      "What features had non-zero weight in this case?"
     ]
    },
    {
     "cell_type": "heading",
     "level": 2,
     "metadata": {},
     "source": [
      "Rescaling learned weights"
     ]
    },
    {
     "cell_type": "markdown",
     "metadata": {},
     "source": [
      "Recall that we normalized our feature matrix, before learning the weights.  To use these weights on a test set, we must normalize the test data in the same way.\n",
      "\n",
      "Alternatively, we can rescale the learned weights to include the normalization, so we never have to worry about normalizing the test data: \n",
      "\n",
      "In this case, we must scale the resulting weights so that we can make predictions with *original* features:\n",
      " 1. Store the norms of the original features to a vector called `norms`:\n",
      "```\n",
      "features, norms = normalize_features(features)\n",
      "```\n",
      " 2. Run Lasso on the normalized features and obtain a `weights` vector\n",
      " 3. Compute the weights for the original features by performing element-wise division, i.e.\n",
      "```\n",
      "weights_normalized = weights / norms\n",
      "```\n",
      "Now, we can apply `weights_normalized` to the test data, without normalizing it!"
     ]
    },
    {
     "cell_type": "markdown",
     "metadata": {},
     "source": [
      "Create a normalized version of each of the weights learned above. (`weights1e4`, `weights1e7`, `weights1e8`)."
     ]
    },
    {
     "cell_type": "code",
     "collapsed": true,
     "input": [
      "my_output = 'price'\n",
      "(feature_matrix, output) = get_num_data(train_data, all_features, my_output)\n",
      "normalized_feature_matrix, norms = normalize_features(feature_matrix)"
     ],
     "language": "python",
     "metadata": {},
     "outputs": [],
     "prompt_number": 110
    },
    {
     "cell_type": "code",
     "collapsed": false,
     "input": [
      "normalized_weights1e7 = weights1e7 / norms\n",
      "normalized_weights1e8 = weights1e8 / norms\n",
      "normalized_weights1e4 = weights1e4 / norms\n",
      "print normalized_weights1e7[3]"
     ],
     "language": "python",
     "metadata": {},
     "outputs": [
      {
       "output_type": "stream",
       "stream": "stdout",
       "text": [
        "161.317456248\n"
       ]
      }
     ],
     "prompt_number": 111
    },
    {
     "cell_type": "code",
     "collapsed": false,
     "input": [],
     "language": "python",
     "metadata": {},
     "outputs": []
    },
    {
     "cell_type": "markdown",
     "metadata": {},
     "source": [
      "To check your results, if you call `normalized_weights1e7` the normalized version of `weights1e7`, then:\n",
      "```\n",
      "print normalized_weights1e7[3]\n",
      "```\n",
      "should return 161.31745624837794."
     ]
    },
    {
     "cell_type": "heading",
     "level": 2,
     "metadata": {},
     "source": [
      "Evaluating each of the learned models on the test data"
     ]
    },
    {
     "cell_type": "markdown",
     "metadata": {},
     "source": [
      "Let's now evaluate the three models on the test data:"
     ]
    },
    {
     "cell_type": "code",
     "collapsed": true,
     "input": [
      "(test_feature_matrix, test_output) = get_num_data(test_data, all_features, 'price')"
     ],
     "language": "python",
     "metadata": {},
     "outputs": [],
     "prompt_number": 112
    },
    {
     "cell_type": "markdown",
     "metadata": {},
     "source": [
      "Compute the RSS of each of the three normalized weights on the (unnormalized) `test_feature_matrix`:"
     ]
    },
    {
     "cell_type": "code",
     "collapsed": true,
     "input": [
      "prediction =  predict_output(test_feature_matrix, normalized_weights1e7)\n",
      "RSS = np.dot(test_output-prediction, test_output-prediction)\n",
      "print 'RSS for model with weights1e7 = ', RSS"
     ],
     "language": "python",
     "metadata": {},
     "outputs": [
      {
       "output_type": "stream",
       "stream": "stdout",
       "text": [
        "RSS for model with weights1e7 =  2.75962079909e+14\n"
       ]
      }
     ],
     "prompt_number": 113
    },
    {
     "cell_type": "code",
     "collapsed": true,
     "input": [
      "prediction =  predict_output(test_feature_matrix, normalized_weights1e8)\n",
      "RSS = np.dot(test_output-prediction, test_output-prediction)\n",
      "print 'RSS for model with weights1e8 = ', RSS"
     ],
     "language": "python",
     "metadata": {},
     "outputs": [
      {
       "output_type": "stream",
       "stream": "stdout",
       "text": [
        "RSS for model with weights1e8 =  5.37166150034e+14\n"
       ]
      }
     ],
     "prompt_number": 114
    },
    {
     "cell_type": "code",
     "collapsed": true,
     "input": [
      "prediction =  predict_output(test_feature_matrix, normalized_weights1e4)\n",
      "RSS = np.dot(test_output-prediction, test_output-prediction)\n",
      "print 'RSS for model with weights1e4 = ', RSS"
     ],
     "language": "python",
     "metadata": {},
     "outputs": [
      {
       "output_type": "stream",
       "stream": "stdout",
       "text": [
        "RSS for model with weights1e4 =  1.94495188688e+14\n"
       ]
      }
     ],
     "prompt_number": 115
    },
    {
     "cell_type": "markdown",
     "metadata": {},
     "source": [
      "***QUIZ QUESTION***\n",
      "\n",
      "Which model performed best on the test data?"
     ]
    }
   ],
   "metadata": {}
  }
 ]
}